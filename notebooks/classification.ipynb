{
 "cells": [
  {
   "cell_type": "markdown",
   "id": "c13b2d05",
   "metadata": {},
   "source": [
    "To do:\n",
    "\n",
    "- Try wilcoxon test to compare two distributions\n",
    "- ~~Feature selection One-vs-many seems to give good seperation~~ This may not be the case -- implemented ``majority``, but the accuracy is not high\n",
    "- Try to find the best scoring function\n",
    "\n",
    "### Load Context"
   ]
  },
  {
   "cell_type": "code",
   "execution_count": 1,
   "id": "2eeb0a4c",
   "metadata": {},
   "outputs": [
    {
     "name": "stdout",
     "output_type": "stream",
     "text": [
      "2022-05-12 11:19:19,461 - kedro.io.data_catalog - INFO - Loading data from `parameters` (MemoryDataSet)...\n",
      "2022-05-12 11:19:19,463 - kedro.io.data_catalog - INFO - Loading data from `data_proc` (CSVDataSet)...\n",
      "2022-05-12 11:19:19,664 - kedro.io.data_catalog - INFO - Loading data from `vocabulary` (CSVDataSet)...\n"
     ]
    }
   ],
   "source": [
    "import os\n",
    "import sys\n",
    "import scipy\n",
    "import pandas as pd\n",
    "import numpy as np\n",
    "from matplotlib import pyplot as plt\n",
    "from tqdm import tqdm\n",
    "os.chdir(\"/Users/kipnisal/DS/BiblicalScripts/bib-scripts/\")\n",
    "sys.path.append(\"/Users/kipnisal/DS/BiblicalScripts/bib-scripts/src\")\n",
    "\n",
    "params = catalog.load('parameters')\n",
    "\n",
    "data = catalog.load(\"data_proc\")\n",
    "vocab = catalog.load(\"vocabulary\")\n",
    "\n",
    "known_authors = params['known_authors']"
   ]
  },
  {
   "cell_type": "code",
   "execution_count": 46,
   "id": "62434a52",
   "metadata": {},
   "outputs": [],
   "source": [
    "import numpy as np\n",
    "from scipy.stats import f as fdist\n",
    "from scipy.stats import t as tdist\n",
    "from scipy.stats import norm\n",
    "from scipy.stats import ttest_ind as ttest\n",
    "from scipy.stats import levene\n",
    "from scipy.stats import bartlett\n",
    "\n",
    "def discrepancy(cnt1, cnt2, **kwargs):\n",
    "    \n",
    "    disc_type = kwargs.get('test', 'HC')\n",
    "    gamma = kwargs.get('gamma', .2)\n",
    "    \n",
    "    pvals = bin_allocation_test(cnt1, cnt2)\n",
    "    mt = MultiTest(pvals)\n",
    "    if disc_type == 'HC':\n",
    "        hc,_ = mt.hc_star(gamma = gamma)\n",
    "        return hc\n",
    "    if disc_type == 'Fisher':\n",
    "        return np.mean(-np.log(pvals))\n",
    "    \n",
    "    raise ValueError(\"Only HC-discrepancy is supported\")\n",
    "\n",
    "def merge_list_of_dataframes(lo_df):\n",
    "    dfr = pd.DataFrame()\n",
    "    for df in lo_df:\n",
    "        dfr = dfr.append(df, ignore_index=True)\n",
    "    return dfr\n",
    "        \n",
    "class CompareDocsRelativeResponse(object):\n",
    "    \"\"\"\n",
    "    Upon call, this object need to return \n",
    "    HC discrepancy of two points\n",
    "    \n",
    "    Can use CompareDocs model but does not have to\n",
    "    The issue is how to decide on a vocabulary\n",
    "    \n",
    "    \"\"\"\n",
    "    def __init__(self, compare_docs_model, discrepancy_type='HC'):\n",
    "        self.cd_model = compare_docs_model\n",
    "        self.disc_type = discrepancy_type\n",
    "        \n",
    "\n",
    "    def __call__(self, X1, X2):\n",
    "        cnt1 = self.cd_model.count_words(merge_list_of_dataframes(X1)).n\n",
    "        cnt2 = self.cd_model.count_words(merge_list_of_dataframes(X2)).n\n",
    "        return discrepancy(cnt1, cnt2, disc_type=self.disc_type)\n",
    "    \n",
    "\n",
    "def test_f(scores0, scores1):\n",
    "    def _sum_of_squares(scores):\n",
    "            return np.sum((scores - np.mean(scores)) ** 2)\n",
    "        \n",
    "    ss0 = _sum_of_squares(scores0)\n",
    "    ss1 = _sum_of_squares(scores1)\n",
    "    fstat = ss1 / ss0\n",
    "    return fstat, fdist.sf(ss1 / ss0, dfn=len(scores1)-1,dfd=len(scores0)-1)\n",
    "\n",
    "\n",
    "def test_bartlett(scores0, scores1):\n",
    "    return bartlett(scores0, scores1)\n",
    "\n",
    "\n",
    "def test_t_2smp(scores0, scores1):\n",
    "    return ttest(scores0, scores1)\n",
    "\n",
    "\n",
    "def test_t(scores0, scores1):\n",
    "    mu = np.mean(scores1[:-1])\n",
    "    s = np.std(scores1[:-1], ddof=1)\n",
    "    t = (scores1[-1] - mu) / ( s * np.sqrt(1 + 1/len(scores1[:-1]) ) )\n",
    "    return t, tdist.sf(t, df=len(scores1) - 2) # one-sided\n",
    "\n",
    "\n",
    "def test_wilcoxon(scores0, scores1):\n",
    "    return scipy.stats.ranksums(scores0, scores1)\n",
    "\n",
    "\n",
    "def test_perm(scores0, scores1):\n",
    "    \"\"\"\n",
    "    Two-sample permutation test\n",
    "    \"\"\"\n",
    "    return ttest(scores0, scores1, permutations=5000)\n",
    "\n",
    "\n",
    "def test_linear(scores0, scores1):\n",
    "    mu = np.mean(scores0)\n",
    "    t = (scores1[-1] - mu) / np.std(scores0, ddof=1)\n",
    "    return t, tdist.sf(t, df=len(scores0) - 1) # one-sided\n",
    "\n",
    "\n",
    "def test_levene(scores0, scores1):\n",
    "    return levene(scores0, scores1)"
   ]
  },
  {
   "cell_type": "code",
   "execution_count": 67,
   "id": "d265613b",
   "metadata": {},
   "outputs": [],
   "source": [
    "from twosample import bin_allocation_test\n",
    "from multitest import MultiTest\n",
    "from typing import List\n",
    "\n",
    "        \n",
    "class DivisibleClassClassifier(object):\n",
    "    \"\"\"\n",
    "    ANOVA-based classification using a base\n",
    "    response model. The relative response function is provided \n",
    "    in the fitting stage\n",
    "    \"\"\"\n",
    "    \n",
    "    def __init__(self):\n",
    "        self._data = {}\n",
    "        self.rr_func = None\n",
    "        self.classes_ = []\n",
    "        self.no_samples = {}\n",
    "    \n",
    "    def fit(self, relative_response_func, X: List, y: List):\n",
    "        \"\"\"\n",
    "        \n",
    "        Params:\n",
    "            :relative_response_model: a model with method 'predict' \n",
    "            that returns the relative response of two datasets\n",
    "            \n",
    "            :X:   data\n",
    "            :y:   labels\n",
    "            \n",
    "        \"\"\"\n",
    "        self.rr_func = relative_response_func\n",
    "        self.no_samples = {}\n",
    "        self._data = {}\n",
    "        self.classes_ = list(np.unique(y))\n",
    "        self.scores_ = {}\n",
    "        for cls in self.classes_:\n",
    "            X_cls = [X[i] for i,label in enumerate(y) if label == cls]\n",
    "            self._data[cls] = X_cls\n",
    "            self.scores_[cls] = self._within_corpus_disc(X_cls)\n",
    "            self.no_samples[cls] = len(X_cls)\n",
    "            \n",
    "    def predict(self, x):\n",
    "        probs = self.predict_proba(x)\n",
    "        res = {}\n",
    "        for k in probs:\n",
    "            res[k] = -np.log(probs[k])\n",
    "        return res\n",
    "        \n",
    "    def predict_table(self, x):\n",
    "        df = pd.DataFrame()\n",
    "        for cls in self.classes_:\n",
    "            X_extended = self._data[cls] + [x]\n",
    "            scores1 = self._within_corpus_disc(X_extended)\n",
    "            scores0 = self.scores_[cls]\n",
    "            stat, pval = self.test(scores0, scores1)\n",
    "            df = df.append({'cls' : cls,\n",
    "                            'scores1' : scores1,\n",
    "                            'scores0' : scores0,\n",
    "                            'n1' : len(scores0),\n",
    "                            'n2' : len(scores1),\n",
    "                            'stat' : stat, \n",
    "                            'pval' : pval\n",
    "                           }, ignore_index=True)\n",
    "        return df\n",
    "        \n",
    "    def predict_many(self, x):\n",
    "        df = pd.DataFrame()\n",
    "        for cls in self.classes_:\n",
    "            X_extended = self._data[cls] + [x]\n",
    "            scores1 = self._within_corpus_disc(X_extended)\n",
    "            scores0 = self.scores_[cls]\n",
    "            res = self.many_tests(scores0, scores1)\n",
    "            dfr = dict({'cls' : cls,\n",
    "                   'n1' : len(scores0),\n",
    "                   'n2' : len(scores1),\n",
    "                    **res})\n",
    "            df = df.append(dfr, ignore_index=True)\n",
    "        return df\n",
    "            \n",
    "    def predict_proba(self, x):\n",
    "        \"\"\"\n",
    "        Returns class probabilities\n",
    "        \n",
    "        Probabilites are obtained via f-test:\n",
    "        SS of each class with x included versue SS without x\n",
    "        \"\"\"\n",
    "        df = self.predict_table(x)\n",
    "        probs = dict(zip(df.cls, df.pval))\n",
    "        return probs\n",
    "    \n",
    "    \n",
    "    def test(self, scores0, scores1):\n",
    "        return test_t(scores0, scores1)\n",
    "    \n",
    "    \n",
    "    def many_tests(self, scores0, scores1):\n",
    "        return dict(\n",
    "        raw = scores1[-1], \n",
    "        pval_t = test_t(scores0, scores1)[1],\n",
    "        pval_f = test_f(scores0, scores1)[1],\n",
    "        pval_bartlett = test_bartlett(scores0, scores1)[1],\n",
    "        pval_2smp = test_t_2smp(scores0, scores1)[1],\n",
    "        pval_tLDA = test_linear(scores0, scores1)[1],\n",
    "        pval_levene = test_levene(scores0, scores1)[1],\n",
    "        pval_wilcox = test_wilcoxon(scores0, scores1).pvalue,\n",
    "        pval_2smp_perm = test_perm(scores0, scores1)[1]\n",
    "        )\n",
    "        \n",
    "        \n",
    "    def _within_corpus_disc(self, X: List):\n",
    "        \"\"\"\n",
    "        Find relative response of each element in X compared to the other elements.\n",
    "        \n",
    "        Params:\n",
    "            :X:  data\n",
    "        \n",
    "        Returns:\n",
    "            :scores:     relative response\n",
    "        \"\"\"\n",
    "        scores = np.zeros(len(X))\n",
    "        for i,x in enumerate(X):\n",
    "            scores[i] = self.rr_func([x], [X[j] for j,_ in enumerate(X) if j != i])\n",
    "        return scores\n",
    "        "
   ]
  },
  {
   "cell_type": "code",
   "execution_count": 68,
   "id": "b4591196",
   "metadata": {},
   "outputs": [],
   "source": [
    "from biblical_scripts.pipelines.sim.nodes import (\n",
    "    build_model, model_predict, _prepare_data)\n",
    "from sklearn.model_selection import KFold"
   ]
  },
  {
   "cell_type": "code",
   "execution_count": 69,
   "id": "49e338c7",
   "metadata": {},
   "outputs": [],
   "source": [
    "data = _prepare_data(data[data.to_report])\n",
    "data_known = data[data.author.isin(known_authors)]\n",
    "lo_docs = data_known.doc_id.unique()"
   ]
  },
  {
   "cell_type": "code",
   "execution_count": 70,
   "id": "24a8afe6",
   "metadata": {},
   "outputs": [
    {
     "name": "stderr",
     "output_type": "stream",
     "text": [
      "0it [00:00, ?it/s]"
     ]
    },
    {
     "name": "stdout",
     "output_type": "stream",
     "text": [
      "2022-05-12 15:22:42,075 - root - INFO - Building CompareDocs model using 45 documents. \n"
     ]
    },
    {
     "name": "stderr",
     "output_type": "stream",
     "text": [
      "1it [00:09,  9.70s/it]"
     ]
    },
    {
     "name": "stdout",
     "output_type": "stream",
     "text": [
      "2022-05-12 15:22:51,763 - root - INFO - Building CompareDocs model using 45 documents. \n"
     ]
    },
    {
     "name": "stderr",
     "output_type": "stream",
     "text": [
      "2it [00:18,  9.42s/it]"
     ]
    },
    {
     "name": "stdout",
     "output_type": "stream",
     "text": [
      "2022-05-12 15:23:00,979 - root - INFO - Building CompareDocs model using 45 documents. \n"
     ]
    },
    {
     "name": "stderr",
     "output_type": "stream",
     "text": [
      "3it [00:28,  9.55s/it]"
     ]
    },
    {
     "name": "stdout",
     "output_type": "stream",
     "text": [
      "2022-05-12 15:23:10,681 - root - INFO - Building CompareDocs model using 45 documents. \n"
     ]
    },
    {
     "name": "stderr",
     "output_type": "stream",
     "text": [
      "4it [00:38,  9.83s/it]"
     ]
    },
    {
     "name": "stdout",
     "output_type": "stream",
     "text": [
      "2022-05-12 15:23:20,960 - root - INFO - Building CompareDocs model using 45 documents. \n"
     ]
    },
    {
     "name": "stderr",
     "output_type": "stream",
     "text": [
      "5it [00:50, 10.35s/it]"
     ]
    },
    {
     "name": "stdout",
     "output_type": "stream",
     "text": [
      "2022-05-12 15:23:32,243 - root - INFO - Building CompareDocs model using 45 documents. \n"
     ]
    },
    {
     "name": "stderr",
     "output_type": "stream",
     "text": [
      "6it [00:59, 10.13s/it]"
     ]
    },
    {
     "name": "stdout",
     "output_type": "stream",
     "text": [
      "2022-05-12 15:23:41,928 - root - INFO - Building CompareDocs model using 45 documents. \n"
     ]
    },
    {
     "name": "stderr",
     "output_type": "stream",
     "text": [
      "7it [01:10, 10.19s/it]"
     ]
    },
    {
     "name": "stdout",
     "output_type": "stream",
     "text": [
      "2022-05-12 15:23:52,236 - root - INFO - Building CompareDocs model using 45 documents. \n"
     ]
    },
    {
     "name": "stderr",
     "output_type": "stream",
     "text": [
      "8it [01:20, 10.14s/it]"
     ]
    },
    {
     "name": "stdout",
     "output_type": "stream",
     "text": [
      "2022-05-12 15:24:02,275 - root - INFO - Building CompareDocs model using 45 documents. \n"
     ]
    },
    {
     "name": "stderr",
     "output_type": "stream",
     "text": [
      "9it [01:29,  9.98s/it]"
     ]
    },
    {
     "name": "stdout",
     "output_type": "stream",
     "text": [
      "2022-05-12 15:24:11,897 - root - INFO - Building CompareDocs model using 45 documents. \n"
     ]
    },
    {
     "name": "stderr",
     "output_type": "stream",
     "text": [
      "10it [01:39,  9.94s/it]\n"
     ]
    }
   ],
   "source": [
    "def arrange_training_data(data):\n",
    "    X = []\n",
    "    y = []\n",
    "    lo_authors = data.author.unique()\n",
    "    for auth in lo_authors:\n",
    "        ds_auth = data[data.author == auth]\n",
    "        lo_docs = ds_auth.doc_id.unique()\n",
    "        Xauth = [c[1] for c in ds_auth.groupby('doc_id')]\n",
    "        X += Xauth\n",
    "        y += [auth] * len(Xauth)\n",
    "    return X, y\n",
    "\n",
    "\n",
    "n_splits = 10\n",
    "shuffle = True\n",
    "\n",
    "\n",
    "df_res = pd.DataFrame()\n",
    "train_doc_names = data_known.filter(['doc_id', 'author']).drop_duplicates()\n",
    "kf = KFold(n_splits=10, shuffle=shuffle)\n",
    "for train_index, test_index in tqdm(kf.split(train_doc_names)):\n",
    "    test_docs = train_doc_names.iloc[test_index]['doc_id']\n",
    "    ds1 = data_known[data_known.doc_id.isin(test_docs)] # test docs data\n",
    "    data_train = data_known.drop(ds1.index) # drop whatever is in test\n",
    "    \n",
    "    md, vocab = build_model(data_train, vocab, params['model'])\n",
    "    cdrr = CompareDocsRelativeResponse(md)\n",
    "    \n",
    "    X, y = arrange_training_data(data_train)\n",
    "    anova_cls = DivisibleClassClassifier()\n",
    "    anova_cls.fit(cdrr, X, y)\n",
    "    \n",
    "    for doc in test_docs:\n",
    "        ds11 = data_known[data_known.doc_id == doc]\n",
    "        res = anova_cls.predict_many(ds11)\n",
    "        res['doc_tested'] = doc\n",
    "        res['len'] = len(ds11)\n",
    "        df_res = df_res.append(res, ignore_index=True)"
   ]
  },
  {
   "cell_type": "code",
   "execution_count": 64,
   "id": "60869ef0",
   "metadata": {},
   "outputs": [
    {
     "name": "stdout",
     "output_type": "stream",
     "text": [
      "Accuracy with pval_2smp = 0.56\n",
      "Accuracy with pval_2smp_perm = 0.58\n",
      "Accuracy with pval_bartlett = 0.52\n",
      "Accuracy with pval_f = 0.66\n",
      "Accuracy with pval_levene = 0.42\n",
      "Accuracy with pval_t = 0.8\n",
      "Accuracy with pval_tLDA = 0.8\n",
      "Accuracy with pval_wilcox = 0.68\n"
     ]
    }
   ],
   "source": [
    "df_res.loc[: ,'true_class'] = df_res.doc_tested.apply(lambda x : x.split('|')[0])\n",
    "#df_res.loc[:, 'neg_raw'] = -df_res['raw']\n",
    "\n",
    "for value in df_res.columns[df_res.columns.str.contains(r'pval|neg_raw|avg')]:        \n",
    "    idx = df_res.groupby('doc_tested')[value].idxmax(axis=1)\n",
    "    acc = np.mean(df_res.loc[idx, 'cls'] == df_res.loc[idx, 'true_class'])\n",
    "    print(f\"Accuracy with {value} = {acc}\")\n",
    "    #df_res['predicted_class'] = df_res[['Dtr', 'DtrH', 'P']].idxmin(axis=1)\n",
    "    #print(\"Accuracy: \", np.mean(df_res.predicted_class == df_res.true_class))"
   ]
  },
  {
   "cell_type": "code",
   "execution_count": 66,
   "id": "0d334da6",
   "metadata": {},
   "outputs": [
    {
     "data": {
      "image/png": "[encoded data removed]",
      "text/plain": [
       "<Figure size 432x288 with 1 Axes>"
      ]
     },
     "metadata": {
      "needs_background": "light"
     },
     "output_type": "display_data"
    },
    {
     "name": "stderr",
     "output_type": "stream",
     "text": [
      "<ipython-input-66-9d991b5a82ca>:13: UserWarning: Boolean Series key will be reindexed to match DataFrame index.\n",
      "<ipython-input-66-9d991b5a82ca>:13: UserWarning: Boolean Series key will be reindexed to match DataFrame index.\n"
     ]
    },
    {
     "data": {
      "text/html": [
       "<div>\n",
       "<style scoped>\n",
       "    .dataframe tbody tr th:only-of-type {\n",
       "        vertical-align: middle;\n",
       "    }\n",
       "\n",
       "    .dataframe tbody tr th {\n",
       "        vertical-align: top;\n",
       "    }\n",
       "\n",
       "    .dataframe thead th {\n",
       "        text-align: right;\n",
       "    }\n",
       "</style>\n",
       "<table border=\"1\" class=\"dataframe\">\n",
       "  <thead>\n",
       "    <tr style=\"text-align: right;\">\n",
       "      <th></th>\n",
       "      <th>cls</th>\n",
       "      <th>n1</th>\n",
       "      <th>n2</th>\n",
       "      <th>doc_tested</th>\n",
       "      <th>raw</th>\n",
       "      <th>true_class</th>\n",
       "      <th>pval_tLDA</th>\n",
       "      <th>pval_t</th>\n",
       "      <th>t-score</th>\n",
       "      <th>t_test</th>\n",
       "      <th>('value', 'mean')</th>\n",
       "      <th>('value', 'count')</th>\n",
       "    </tr>\n",
       "  </thead>\n",
       "  <tbody>\n",
       "    <tr>\n",
       "      <th>15</th>\n",
       "      <td>Dtr</td>\n",
       "      <td>8.0</td>\n",
       "      <td>9.0</td>\n",
       "      <td>Dtr|Deut.19</td>\n",
       "      <td>2.169542</td>\n",
       "      <td>Dtr</td>\n",
       "      <td>0.263881</td>\n",
       "      <td>0.201162</td>\n",
       "      <td>0.077118</td>\n",
       "      <td>0.470344</td>\n",
       "      <td>1.169069</td>\n",
       "      <td>8</td>\n",
       "    </tr>\n",
       "    <tr>\n",
       "      <th>90</th>\n",
       "      <td>Dtr</td>\n",
       "      <td>7.0</td>\n",
       "      <td>8.0</td>\n",
       "      <td>Dtr|Deut.15</td>\n",
       "      <td>2.744395</td>\n",
       "      <td>Dtr</td>\n",
       "      <td>0.046568</td>\n",
       "      <td>0.080018</td>\n",
       "      <td>0.891548</td>\n",
       "      <td>0.201120</td>\n",
       "      <td>1.078535</td>\n",
       "      <td>8</td>\n",
       "    </tr>\n",
       "    <tr>\n",
       "      <th>93</th>\n",
       "      <td>Dtr</td>\n",
       "      <td>7.0</td>\n",
       "      <td>8.0</td>\n",
       "      <td>Dtr|Deut.16</td>\n",
       "      <td>1.958934</td>\n",
       "      <td>Dtr</td>\n",
       "      <td>0.157389</td>\n",
       "      <td>0.146356</td>\n",
       "      <td>0.287108</td>\n",
       "      <td>0.391171</td>\n",
       "      <td>1.192409</td>\n",
       "      <td>8</td>\n",
       "    </tr>\n",
       "  </tbody>\n",
       "</table>\n",
       "</div>"
      ],
      "text/plain": [
       "    cls   n1   n2   doc_tested       raw true_class  pval_tLDA    pval_t  \\\n",
       "15  Dtr  8.0  9.0  Dtr|Deut.19  2.169542        Dtr   0.263881  0.201162   \n",
       "90  Dtr  7.0  8.0  Dtr|Deut.15  2.744395        Dtr   0.046568  0.080018   \n",
       "93  Dtr  7.0  8.0  Dtr|Deut.16  1.958934        Dtr   0.157389  0.146356   \n",
       "\n",
       "     t-score    t_test  ('value', 'mean')  ('value', 'count')  \n",
       "15  0.077118  0.470344           1.169069                   8  \n",
       "90  0.891548  0.201120           1.078535                   8  \n",
       "93  0.287108  0.391171           1.192409                   8  "
      ]
     },
     "execution_count": 66,
     "metadata": {},
     "output_type": "execute_result"
    }
   ],
   "source": [
    "# compare with previous evaluation\n",
    "\n",
    "df = df_res.merge(probs.rename(columns={'corpus' : 'cls'}), on=['doc_tested', 'cls'])\n",
    "df['t_test'] = np.exp(-df['t_test'])\n",
    "df1 = df.filter(['cls', 'n1', 'n2', 'doc_tested', 'raw', 'len', 'true_class', 'pval_tLDA', 'pval_t', 't-score', 't_test', \"('value', 'mean')\", \"('value', 'count')\"])\n",
    "\n",
    "color_dic = {'Dtr' : 'red', 'DtrH' : 'green', 'P' : 'blue'}\n",
    "colors = [color_dic[a] for a in df1['cls'].values]\n",
    "\n",
    "df1.plot.scatter(x='pval_t', y='t_test', color=colors)\n",
    "plt.show()\n",
    "\n",
    "df1[df1.cls == 'Dtr'][df1.true_class == 'Dtr'][df1.t_test/df1.pval_t > 1.1]"
   ]
  },
  {
   "cell_type": "code",
   "execution_count": 15,
   "id": "30f77c41",
   "metadata": {},
   "outputs": [],
   "source": [
    "dfr = df_res.filter(regex=r'(pval_|raw|cls|doc_tested|true_class|avg)').pivot(columns = 'cls', index='doc_tested')"
   ]
  },
  {
   "cell_type": "code",
   "execution_count": 16,
   "id": "5b837114",
   "metadata": {},
   "outputs": [],
   "source": [
    "color_dic = {'Dtr' : 'red', 'DtrH' : 'green', 'P' : 'blue'}\n",
    "colors = [color_dic[a] for a in dfr['true_class']['P'].values]"
   ]
  },
  {
   "cell_type": "code",
   "execution_count": 17,
   "id": "074a2cbe",
   "metadata": {},
   "outputs": [
    {
     "data": {
      "image/png": "[encoded data removed]",
      "text/plain": [
       "<Figure size 432x288 with 1 Axes>"
      ]
     },
     "metadata": {
      "needs_background": "light"
     },
     "output_type": "display_data"
    },
    {
     "data": {
      "image/png": "[encoded data removed]",
      "text/plain": [
       "<Figure size 432x288 with 1 Axes>"
      ]
     },
     "metadata": {
      "needs_background": "light"
     },
     "output_type": "display_data"
    },
    {
     "data": {
      "image/png": "[encoded data removed]",
      "text/plain": [
       "<Figure size 432x288 with 1 Axes>"
      ]
     },
     "metadata": {
      "needs_background": "light"
     },
     "output_type": "display_data"
    }
   ],
   "source": [
    "value = 'pval_tLDA'\n",
    "\n",
    "for cls1 in ['Dtr', 'DtrH', 'P'] :\n",
    "    for cls2 in ['Dtr', 'DtrH', 'P']:\n",
    "        if cls1 < cls2:\n",
    "            dfr.plot.scatter(x=(value, cls1), y=(value, cls2),\n",
    "                             color=colors)\n",
    "            #plt.xlim((0,0.1))\n",
    "            #plt.ylim((0,0.1))\n",
    "            plt.xlabel(cls1)\n",
    "            plt.ylabel(cls2)\n",
    "            plt.show()"
   ]
  },
  {
   "cell_type": "code",
   "execution_count": 28,
   "id": "faa3ae68",
   "metadata": {},
   "outputs": [
    {
     "data": {
      "text/plain": [
       "array([ True,  True,  True,  True,  True,  True,  True,  True,  True,\n",
       "        True,  True,  True,  True,  True,  True,  True,  True,  True,\n",
       "        True,  True,  True,  True,  True,  True,  True,  True,  True,\n",
       "       False, False, False, False, False, False, False, False, False,\n",
       "       False, False, False, False, False, False, False, False, False,\n",
       "       False, False, False, False])"
      ]
     },
     "execution_count": 28,
     "metadata": {},
     "output_type": "execute_result"
    }
   ],
   "source": []
  },
  {
   "cell_type": "code",
   "execution_count": null,
   "id": "61c70a19",
   "metadata": {},
   "outputs": [],
   "source": []
  }
 ],
 "metadata": {
  "kernelspec": {
   "display_name": "BiblicalScripts",
   "language": "python",
   "name": "python3"
  },
  "language_info": {
   "codemirror_mode": {
    "name": "ipython",
    "version": 3
   },
   "file_extension": ".py",
   "mimetype": "text/x-python",
   "name": "python",
   "nbconvert_exporter": "python",
   "pygments_lexer": "ipython3",
   "version": "3.8.5"
  }
 },
 "nbformat": 4,
 "nbformat_minor": 5
}
