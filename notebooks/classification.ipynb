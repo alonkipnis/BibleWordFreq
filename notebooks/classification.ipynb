{
 "cells": [
  {
   "cell_type": "markdown",
   "id": "f0c47793",
   "metadata": {},
   "source": [
    "To do:\n",
    "\n",
    "- Try wilcoxon test to compare two distributions\n",
    "- ~~Feature selection One-vs-many seems to give good seperation~~ This may not be the case -- implemented ``majority``, but the accuracy is not high\n",
    "- Try to find the best scoring function\n",
    "\n",
    "### Load Context"
   ]
  },
  {
   "cell_type": "code",
   "execution_count": 1,
   "id": "0a6f7728",
   "metadata": {},
   "outputs": [
    {
     "name": "stdout",
     "output_type": "stream",
     "text": [
      "2022-03-30 09:04:58,675 - kedro.io.data_catalog - INFO - Loading data from `parameters` (MemoryDataSet)...\n",
      "2022-03-30 09:04:58,676 - kedro.io.data_catalog - INFO - Loading data from `data_proc` (CSVDataSet)...\n",
      "2022-03-30 09:04:58,825 - kedro.io.data_catalog - INFO - Loading data from `vocabulary` (CSVDataSet)...\n"
     ]
    }
   ],
   "source": [
    "import os\n",
    "import sys\n",
    "import scipy\n",
    "import pandas as pd\n",
    "import numpy as np\n",
    "from matplotlib import pyplot as plt\n",
    "from tqdm import tqdm\n",
    "os.chdir(\"/Users/kipnisal/DS/BiblicalScripts/bib-scripts/\")\n",
    "sys.path.append(\"/Users/kipnisal/DS/BiblicalScripts/bib-scripts/src\")\n",
    "\n",
    "params = catalog.load('parameters')\n",
    "\n",
    "data = catalog.load(\"data_proc\")\n",
    "vocab = catalog.load(\"vocabulary\")\n",
    "\n",
    "known_authors = params['known_authors']"
   ]
  },
  {
   "cell_type": "code",
   "execution_count": 2,
   "id": "ce358b79",
   "metadata": {},
   "outputs": [],
   "source": [
    "import numpy as np\n",
    "from scipy.stats import f as fdist\n",
    "from scipy.stats import t as tdist\n",
    "from scipy.stats import norm\n",
    "from scipy.stats import ttest_ind as ttest\n",
    "from scipy.stats import levene\n",
    "from scipy.stats import bartlett\n",
    "\n",
    "def discrepancy(cnt1, cnt2, **kwargs):\n",
    "    \n",
    "    disc_type = kwargs.get('test', 'HC')\n",
    "    gamma = kwargs.get('gamma', .2)\n",
    "    \n",
    "    pvals = bin_allocation_test(cnt1, cnt2)\n",
    "    mt = MultiTest(pvals)\n",
    "    if disc_type == 'HC':\n",
    "        hc,_ = mt.hc_star(gamma = gamma)\n",
    "        return hc\n",
    "    if disc_type == 'Fisher':\n",
    "        return np.mean(-np.log(pvals))\n",
    "    \n",
    "    raise ValueError(\"Only HC-discrepancy is supported\")\n",
    "\n",
    "def merge_list_of_dataframes(lo_df):\n",
    "    dfr = pd.DataFrame()\n",
    "    for df in lo_df:\n",
    "        dfr = dfr.append(df, ignore_index=True)\n",
    "    return dfr\n",
    "        \n",
    "class CompareDocsRelativeResponse(object):\n",
    "    \"\"\"\n",
    "    Upon call, this object need to return \n",
    "    HC discrepancy of two points\n",
    "    \n",
    "    Can use CompareDocs model but does not have to\n",
    "    The issue is how to decide on a vocabulary\n",
    "    \n",
    "    \"\"\"\n",
    "    def __init__(self, compare_docs_model, discrepancy_type='HC'):\n",
    "        self.cd_model = compare_docs_model\n",
    "        self.disc_type = discrepancy_type\n",
    "        \n",
    "\n",
    "    def __call__(self, X1, X2):\n",
    "        cnt1 = self.cd_model.count_words(merge_list_of_dataframes(X1)).n\n",
    "        cnt2 = self.cd_model.count_words(merge_list_of_dataframes(X2)).n\n",
    "        return discrepancy(cnt1, cnt2, disc_type=self.disc_type)\n",
    "    \n",
    "\n",
    "def test_f(scores0, scores1):\n",
    "    def _sum_of_squares(scores):\n",
    "            return np.sum((scores - np.mean(scores)) ** 2)\n",
    "        \n",
    "    ss0 = _sum_of_squares(scores0)\n",
    "    ss1 = _sum_of_squares(scores1)\n",
    "    fstat = ss1 / ss0\n",
    "    return fstat, fdist.sf(ss1 / ss0, dfn=len(scores1)-1,dfd=len(scores0)-1)\n",
    "\n",
    "\n",
    "def test_bartlett(scores0, scores1):\n",
    "    return bartlett(scores0, scores1)\n",
    "\n",
    "\n",
    "def test_t_2smp(scores0, scores1):\n",
    "    return ttest(scores0, scores1)\n",
    "\n",
    "\n",
    "def test_t(scores0, scores1):\n",
    "    mu = np.mean(scores1[:-1])\n",
    "    t = (scores1[-1] - mu) / np.std(scores1[:-1], ddof=1)\n",
    "    return t, tdist.sf(t, df=len(scores1) - 2) # one-sided\n",
    "\n",
    "\n",
    "def test_wilcoxon(scores0, scores1):\n",
    "    return scipy.stats.ranksums(scores0, scores1)\n",
    "\n",
    "def test_perm(scores0, scores1):\n",
    "    \"\"\"\n",
    "    Two-sample permutation test\n",
    "    \"\"\"\n",
    "    return ttest(scores0, scores1, permutations=5000)\n",
    "\n",
    "def test_linear(scores0, scores1):\n",
    "    mu = np.mean(scores0)\n",
    "    t = (scores1[-1] - mu) / np.std(scores0, ddof=1)\n",
    "    return t, tdist.sf(t, df=len(scores0) - 1) # one-sided\n",
    "\n",
    "\n",
    "def test_levene(scores0, scores1):\n",
    "    return levene(scores0, scores1)"
   ]
  },
  {
   "cell_type": "code",
   "execution_count": 3,
   "id": "67f504cc",
   "metadata": {},
   "outputs": [],
   "source": [
    "from twosample import bin_allocation_test\n",
    "from multitest import MultiTest\n",
    "from typing import List\n",
    "\n",
    "        \n",
    "class AnovaClassifier(object):\n",
    "    \"\"\"\n",
    "    ANOVA-based classification using a base\n",
    "    response model. The relative response function is provided \n",
    "    in the fitting stage\n",
    "    \"\"\"\n",
    "    \n",
    "    def __init__(self):\n",
    "        self._data = {}\n",
    "        self.rr_func = None\n",
    "        self.classes_ = []\n",
    "        self.no_samples = {}\n",
    "    \n",
    "    def fit(self, relative_response_func, X: List, y: List):\n",
    "        \"\"\"\n",
    "        \n",
    "        Params:\n",
    "            :relative_response_model: a model with method 'predict' \n",
    "            that returns the relative response of two datasets\n",
    "            \n",
    "            :X:   data\n",
    "            :y:   labels\n",
    "            \n",
    "        \"\"\"\n",
    "        self.rr_func = relative_response_func\n",
    "        self.no_samples = {}\n",
    "        self._data = {}\n",
    "        self.classes_ = list(np.unique(y))\n",
    "        self.scores_ = {}\n",
    "        for cls in self.classes_:\n",
    "            X_cls = [X[i] for i,label in enumerate(y) if label == cls]\n",
    "            self._data[cls] = X_cls\n",
    "            self.scores_[cls] = self._within_corpus_disc(X_cls)\n",
    "            self.no_samples[cls] = len(X_cls)\n",
    "            \n",
    "    def predict(self, x):\n",
    "        probs = self.predict_proba(x)\n",
    "        res = {}\n",
    "        for k in probs:\n",
    "            res[k] = -np.log(probs[k])\n",
    "        return res\n",
    "        \n",
    "    def predict_table(self, x):\n",
    "        df = pd.DataFrame()\n",
    "        for cls in self.classes_:\n",
    "            X_extended = self._data[cls] + [x]\n",
    "            scores1 = self._within_corpus_disc(X_extended)\n",
    "            scores0 = self.scores_[cls]\n",
    "            stat, pval = self.test(scores0, scores1)\n",
    "            df = df.append({'cls' : cls,\n",
    "                            'scores1' : scores1,\n",
    "                            'scores0' : scores0,\n",
    "                            'n1' : len(scores0),\n",
    "                            'n2' : len(scores1),\n",
    "                            'stat' : stat, \n",
    "                            'pval' : pval\n",
    "                           }, ignore_index=True)\n",
    "        return df\n",
    "        \n",
    "    def predict_many(self, x):\n",
    "        df = pd.DataFrame()\n",
    "        for cls in self.classes_:\n",
    "            X_extended = self._data[cls] + [x]\n",
    "            scores1 = self._within_corpus_disc(X_extended)\n",
    "            scores0 = self.scores_[cls]\n",
    "            res = self.many_tests(scores0, scores1)\n",
    "            dfr = dict({'cls' : cls,\n",
    "                   'n1' : len(scores0),\n",
    "                   'n2' : len(scores1),\n",
    "                    **res})\n",
    "            df = df.append(dfr, ignore_index=True)\n",
    "        return df\n",
    "            \n",
    "    def predict_proba(self, x):\n",
    "        \"\"\"\n",
    "        Returns class probabilities\n",
    "        \n",
    "        Probabilites are obtained via f-test:\n",
    "        SS of each class with x included versue SS without x\n",
    "        \"\"\"\n",
    "        df = self.predict_table(x)\n",
    "        probs = dict(zip(df.cls, df.pval))\n",
    "        return probs\n",
    "    \n",
    "    \n",
    "    def test(self, scores0, scores1):\n",
    "        return test_t(scores0, scores1)\n",
    "    \n",
    "    \n",
    "    def many_tests(self, scores0, scores1):\n",
    "        return dict(\n",
    "        raw = scores1[-1], \n",
    "        pval_t = test_t(scores0, scores1)[1],\n",
    "        pval_f = test_f(scores0, scores1)[1],\n",
    "        pval_bartlett = test_bartlett(scores0, scores1)[1],\n",
    "        pval_2smp = test_t_2smp(scores0, scores1)[1],\n",
    "        pval_tLDA = test_linear(scores0, scores1)[1],\n",
    "        pval_levene = test_levene(scores0, scores1)[1],\n",
    "        pval_wilcox = test_wilcoxon(scores0, scores1).pvalue,\n",
    "        pval_2smp_perm = test_perm(scores0, scores1)[1]\n",
    "        )\n",
    "        \n",
    "        \n",
    "    def _within_corpus_disc(self, X: List):\n",
    "        \"\"\"\n",
    "        Find relative response of each element in X compared to the other elements.\n",
    "        \n",
    "        Params:\n",
    "            :X:  data\n",
    "        \n",
    "        Returns:\n",
    "            :scores:     relative response\n",
    "        \"\"\"\n",
    "        scores = np.zeros(len(X))\n",
    "        for i,x in enumerate(X):\n",
    "            scores[i] = self.rr_func([x], [X[j] for j,_ in enumerate(X) if j != i])\n",
    "        return scores\n",
    "        "
   ]
  },
  {
   "cell_type": "code",
   "execution_count": 4,
   "id": "b2ee5b8f",
   "metadata": {},
   "outputs": [],
   "source": [
    "class OneVsMany(object):\n",
    "    def __init__(self):\n",
    "        pass\n",
    "    \n",
    "    def fit(self, X: List, y: List):\n",
    "        self.classes_ = list(np.unique(y))\n",
    "        pass\n",
    "    \n",
    "    def fit_MultiDoc(self, md):\n",
    "        self.classes_ = md.cls_names\n",
    "        self.md = md\n",
    "        df = md.HCT_vs_many()\n",
    "        cls_df = {}\n",
    "        cls_scores = {}\n",
    "        for cls_name in self.classes_:\n",
    "            cls_df[cls_name] = df[df[f'{cls_name}:affinity'] != 0]\n",
    "        self.cls_df = cls_df\n",
    "        \n",
    "    def fit_class_means(self, md, train_data):\n",
    "        \"\"\"\n",
    "        Evaluate distribution over training data for improved\n",
    "        prediction. \n",
    "        \n",
    "        :md:  MultiDoc model\n",
    "        \"\"\"\n",
    "        \n",
    "        lo_docs = train_data.doc_id.unique()\n",
    "        res = {}\n",
    "        for cls_name in self.classes_:\n",
    "            res[cls_name] = []\n",
    "        for doc in lo_docs:\n",
    "            ds1 = train_data[train_data.doc_id == doc]\n",
    "            class_of_doc = ds1.author.unique()[0]\n",
    "            r = self.md.test_doc_mask(ds1, of_cls=class_of_doc)\n",
    "            df = r[class_of_doc]['df']\n",
    "            df0 = df.filter(like=rf'{class_of_doc}:')\n",
    "            df0 = pd.concat([df0, df.filter(like=rf'tested:')], axis=1)\n",
    "            df0['n'] = df['n']\n",
    "            df0['T'] = df['T']\n",
    "            df0 = df0.rename(columns={f'{class_of_doc}:affinity' : 'class:affinity'})\n",
    "            s = two_df_response(df0, df)\n",
    "            res[class_of_doc].append(s)\n",
    "        self.cls_scores = res\n",
    "        return res\n",
    "        \n",
    "    def predict_response(self, x):\n",
    "        res = {}\n",
    "        for cls_name in self.classes_:\n",
    "            df0 = self.cls_df[cls_name].rename(columns={f'{cls_name}:affinity' : 'class:affinity'})\n",
    "            res[cls_name] = two_df_response(df0, self.md.test_doc(x))\n",
    "        return res\n",
    "    \n",
    "    def predict_proba(self, x):\n",
    "        res = self.predict_response(x)\n",
    "        prob = {}\n",
    "        for cls in self.classes_:\n",
    "            v = self.cls_scores[cls]\n",
    "            z = (res[cls] - np.mean(v)) / np.std(v)\n",
    "            prob[cls] = 1 / np.abs(z)\n",
    "        return prob\n",
    "\n",
    "def two_df_response(df0, df1):\n",
    "    \"\"\"\n",
    "    Evaluate the response of df1 wrt df0 \n",
    "    where df0 and df1 are dataframes obtained\n",
    "    from MultiDoc testing functions\n",
    "    \n",
    "    For df0, we use 'class:affinity' column\n",
    "    \"\"\"\n",
    "    dft = df0.join(df1, how='left', rsuffix='_t')\n",
    "    #dft['tested:s'] = (2*(dft['tested:n'] / dft['tested:T'] > dft['n'] / dft['T']) - 1) * dft[f'class:affinity']\n",
    "    #dft['tested:s'] =  (dft['tested:n'] / dft['tested:T'] > dft['n'] / dft['T']) & (dft[f'class:affinity'] > 0)\n",
    "    dft['tested:s'] = dft['tested:n'] / dft['tested:T'] * dft[f'class:affinity']\n",
    "    return dft['tested:s'].mean()\n"
   ]
  },
  {
   "cell_type": "code",
   "execution_count": null,
   "id": "b4fa3629",
   "metadata": {},
   "outputs": [],
   "source": []
  },
  {
   "cell_type": "code",
   "execution_count": 5,
   "id": "d85eb79d",
   "metadata": {},
   "outputs": [],
   "source": [
    "from biblical_scripts.pipelines.sim.nodes import (\n",
    "    build_model, model_predict, _prepare_data)\n",
    "from sklearn.model_selection import KFold"
   ]
  },
  {
   "cell_type": "code",
   "execution_count": 6,
   "id": "3fd32d1b",
   "metadata": {},
   "outputs": [
    {
     "name": "stdout",
     "output_type": "stream",
     "text": [
      "2022-03-30 09:05:06,519 - numexpr.utils - INFO - NumExpr defaulting to 8 threads.\n"
     ]
    }
   ],
   "source": [
    "data = _prepare_data(data[data.to_report])\n",
    "data_known = data[data.author.isin(known_authors)]\n",
    "lo_docs = data_known.doc_id.unique()"
   ]
  },
  {
   "cell_type": "code",
   "execution_count": 9,
   "id": "7c625ca9",
   "metadata": {},
   "outputs": [
    {
     "name": "stderr",
     "output_type": "stream",
     "text": [
      "  0%|          | 0/49 [00:00<?, ?it/s]"
     ]
    },
    {
     "name": "stdout",
     "output_type": "stream",
     "text": [
      "2022-03-22 09:56:05,985 - root - INFO - Building CompareDocs model using 48 documents. \n"
     ]
    },
    {
     "name": "stderr",
     "output_type": "stream",
     "text": [
      "  2%|▏         | 1/49 [00:01<01:02,  1.30s/it]"
     ]
    },
    {
     "name": "stdout",
     "output_type": "stream",
     "text": [
      "2022-03-22 09:56:07,281 - root - INFO - Building CompareDocs model using 48 documents. \n"
     ]
    },
    {
     "name": "stderr",
     "output_type": "stream",
     "text": [
      "  4%|▍         | 2/49 [00:02<00:59,  1.26s/it]"
     ]
    },
    {
     "name": "stdout",
     "output_type": "stream",
     "text": [
      "2022-03-22 09:56:08,516 - root - INFO - Building CompareDocs model using 48 documents. \n"
     ]
    },
    {
     "name": "stderr",
     "output_type": "stream",
     "text": [
      "  6%|▌         | 3/49 [00:03<00:57,  1.25s/it]"
     ]
    },
    {
     "name": "stdout",
     "output_type": "stream",
     "text": [
      "2022-03-22 09:56:09,750 - root - INFO - Building CompareDocs model using 48 documents. \n"
     ]
    },
    {
     "name": "stderr",
     "output_type": "stream",
     "text": [
      "  6%|▌         | 3/49 [00:04<01:04,  1.40s/it]\n"
     ]
    },
    {
     "ename": "KeyboardInterrupt",
     "evalue": "",
     "output_type": "error",
     "traceback": [
      "\u001b[0;31m---------------------------------------------------------------------------\u001b[0m",
      "\u001b[0;31mKeyboardInterrupt\u001b[0m                         Traceback (most recent call last)",
      "\u001b[0;32m<ipython-input-9-646c1d0b82eb>\u001b[0m in \u001b[0;36m<module>\u001b[0;34m\u001b[0m\n\u001b[1;32m      6\u001b[0m     \u001b[0mom\u001b[0m \u001b[0;34m=\u001b[0m \u001b[0mOneVsMany\u001b[0m\u001b[0;34m(\u001b[0m\u001b[0;34m)\u001b[0m\u001b[0;34m\u001b[0m\u001b[0;34m\u001b[0m\u001b[0m\n\u001b[1;32m      7\u001b[0m     \u001b[0mom\u001b[0m\u001b[0;34m.\u001b[0m\u001b[0mfit_MultiDoc\u001b[0m\u001b[0;34m(\u001b[0m\u001b[0mmd\u001b[0m\u001b[0;34m)\u001b[0m\u001b[0;34m\u001b[0m\u001b[0;34m\u001b[0m\u001b[0m\n\u001b[0;32m----> 8\u001b[0;31m     \u001b[0mom\u001b[0m\u001b[0;34m.\u001b[0m\u001b[0mfit_class_means\u001b[0m\u001b[0;34m(\u001b[0m\u001b[0mmd\u001b[0m\u001b[0;34m,\u001b[0m \u001b[0mdata_train\u001b[0m\u001b[0;34m)\u001b[0m\u001b[0;34m\u001b[0m\u001b[0;34m\u001b[0m\u001b[0m\n\u001b[0m\u001b[1;32m      9\u001b[0m     \u001b[0mr\u001b[0m \u001b[0;34m=\u001b[0m \u001b[0mom\u001b[0m\u001b[0;34m.\u001b[0m\u001b[0mpredict_proba\u001b[0m\u001b[0;34m(\u001b[0m\u001b[0mds1\u001b[0m\u001b[0;34m)\u001b[0m\u001b[0;34m\u001b[0m\u001b[0;34m\u001b[0m\u001b[0m\n\u001b[1;32m     10\u001b[0m     \u001b[0;31m#r = om.predict_response(ds1)\u001b[0m\u001b[0;34m\u001b[0m\u001b[0;34m\u001b[0m\u001b[0;34m\u001b[0m\u001b[0m\n",
      "\u001b[0;32m<ipython-input-6-fed716a91c69>\u001b[0m in \u001b[0;36mfit_class_means\u001b[0;34m(self, md, train_data)\u001b[0m\n\u001b[1;32m     32\u001b[0m             \u001b[0mds1\u001b[0m \u001b[0;34m=\u001b[0m \u001b[0mtrain_data\u001b[0m\u001b[0;34m[\u001b[0m\u001b[0mtrain_data\u001b[0m\u001b[0;34m.\u001b[0m\u001b[0mdoc_id\u001b[0m \u001b[0;34m==\u001b[0m \u001b[0mdoc\u001b[0m\u001b[0;34m]\u001b[0m\u001b[0;34m\u001b[0m\u001b[0;34m\u001b[0m\u001b[0m\n\u001b[1;32m     33\u001b[0m             \u001b[0mclass_of_doc\u001b[0m \u001b[0;34m=\u001b[0m \u001b[0mds1\u001b[0m\u001b[0;34m.\u001b[0m\u001b[0mauthor\u001b[0m\u001b[0;34m.\u001b[0m\u001b[0munique\u001b[0m\u001b[0;34m(\u001b[0m\u001b[0;34m)\u001b[0m\u001b[0;34m[\u001b[0m\u001b[0;36m0\u001b[0m\u001b[0;34m]\u001b[0m\u001b[0;34m\u001b[0m\u001b[0;34m\u001b[0m\u001b[0m\n\u001b[0;32m---> 34\u001b[0;31m             \u001b[0mr\u001b[0m \u001b[0;34m=\u001b[0m \u001b[0mself\u001b[0m\u001b[0;34m.\u001b[0m\u001b[0mmd\u001b[0m\u001b[0;34m.\u001b[0m\u001b[0mtest_doc_mask\u001b[0m\u001b[0;34m(\u001b[0m\u001b[0mds1\u001b[0m\u001b[0;34m,\u001b[0m \u001b[0mof_cls\u001b[0m\u001b[0;34m=\u001b[0m\u001b[0mclass_of_doc\u001b[0m\u001b[0;34m)\u001b[0m\u001b[0;34m\u001b[0m\u001b[0;34m\u001b[0m\u001b[0m\n\u001b[0m\u001b[1;32m     35\u001b[0m             \u001b[0mdf\u001b[0m \u001b[0;34m=\u001b[0m \u001b[0mr\u001b[0m\u001b[0;34m[\u001b[0m\u001b[0mclass_of_doc\u001b[0m\u001b[0;34m]\u001b[0m\u001b[0;34m[\u001b[0m\u001b[0;34m'df'\u001b[0m\u001b[0;34m]\u001b[0m\u001b[0;34m\u001b[0m\u001b[0;34m\u001b[0m\u001b[0m\n\u001b[1;32m     36\u001b[0m             \u001b[0mdf0\u001b[0m \u001b[0;34m=\u001b[0m \u001b[0mdf\u001b[0m\u001b[0;34m.\u001b[0m\u001b[0mfilter\u001b[0m\u001b[0;34m(\u001b[0m\u001b[0mlike\u001b[0m\u001b[0;34m=\u001b[0m\u001b[0;34mrf'{class_of_doc}:'\u001b[0m\u001b[0;34m)\u001b[0m\u001b[0;34m\u001b[0m\u001b[0;34m\u001b[0m\u001b[0m\n",
      "\u001b[0;32m~/DS/BiblicalScripts/bib-scripts/src/biblical_scripts/extras/AuthAttLib/MultiDoc.py\u001b[0m in \u001b[0;36mtest_doc_mask\u001b[0;34m(self, doc, of_cls, **kwargs)\u001b[0m\n\u001b[1;32m    345\u001b[0m \u001b[0;34m\u001b[0m\u001b[0m\n\u001b[1;32m    346\u001b[0m             \u001b[0;32mif\u001b[0m \u001b[0mcnt1\u001b[0m\u001b[0;34m.\u001b[0m\u001b[0msum\u001b[0m\u001b[0;34m(\u001b[0m\u001b[0;34m)\u001b[0m \u001b[0;34m+\u001b[0m \u001b[0mcnt2\u001b[0m\u001b[0;34m.\u001b[0m\u001b[0msum\u001b[0m\u001b[0;34m(\u001b[0m\u001b[0;34m)\u001b[0m \u001b[0;34m>\u001b[0m \u001b[0;36m0\u001b[0m\u001b[0;34m:\u001b[0m\u001b[0;34m\u001b[0m\u001b[0;34m\u001b[0m\u001b[0m\n\u001b[0;32m--> 347\u001b[0;31m                 \u001b[0mpv\u001b[0m\u001b[0;34m,\u001b[0m \u001b[0mp\u001b[0m \u001b[0;34m=\u001b[0m \u001b[0mtwo_sample_pvals\u001b[0m\u001b[0;34m(\u001b[0m\u001b[0mcnt1\u001b[0m\u001b[0;34m,\u001b[0m \u001b[0mcnt2\u001b[0m\u001b[0;34m,\u001b[0m \u001b[0mret_p\u001b[0m\u001b[0;34m=\u001b[0m\u001b[0;32mTrue\u001b[0m\u001b[0;34m)\u001b[0m\u001b[0;34m\u001b[0m\u001b[0;34m\u001b[0m\u001b[0m\n\u001b[0m\u001b[1;32m    348\u001b[0m             \u001b[0;32melse\u001b[0m\u001b[0;34m:\u001b[0m\u001b[0;34m\u001b[0m\u001b[0;34m\u001b[0m\u001b[0m\n\u001b[1;32m    349\u001b[0m                 \u001b[0mpv\u001b[0m\u001b[0;34m,\u001b[0m \u001b[0mp\u001b[0m \u001b[0;34m=\u001b[0m \u001b[0mcnt1\u001b[0m \u001b[0;34m*\u001b[0m \u001b[0mnp\u001b[0m\u001b[0;34m.\u001b[0m\u001b[0mnan\u001b[0m\u001b[0;34m,\u001b[0m \u001b[0mcnt1\u001b[0m \u001b[0;34m*\u001b[0m \u001b[0mnp\u001b[0m\u001b[0;34m.\u001b[0m\u001b[0mnan\u001b[0m\u001b[0;34m\u001b[0m\u001b[0;34m\u001b[0m\u001b[0m\n",
      "\u001b[0;32m/usr/local/lib/python3.8/site-packages/TwoSampleHC/TwoSampleHC.py\u001b[0m in \u001b[0;36mtwo_sample_pvals\u001b[0;34m(c1, c2, randomize, sym, alt, ret_p)\u001b[0m\n\u001b[1;32m    455\u001b[0m     \u001b[0mT2\u001b[0m \u001b[0;34m=\u001b[0m \u001b[0mc2\u001b[0m\u001b[0;34m.\u001b[0m\u001b[0msum\u001b[0m\u001b[0;34m(\u001b[0m\u001b[0;34m)\u001b[0m\u001b[0;34m\u001b[0m\u001b[0;34m\u001b[0m\u001b[0m\n\u001b[1;32m    456\u001b[0m \u001b[0;34m\u001b[0m\u001b[0m\n\u001b[0;32m--> 457\u001b[0;31m     \u001b[0mden\u001b[0m \u001b[0;34m=\u001b[0m \u001b[0;34m(\u001b[0m\u001b[0mT1\u001b[0m \u001b[0;34m+\u001b[0m \u001b[0mT2\u001b[0m \u001b[0;34m-\u001b[0m \u001b[0mc1\u001b[0m \u001b[0;34m-\u001b[0m \u001b[0mc2\u001b[0m\u001b[0;34m)\u001b[0m\u001b[0;34m\u001b[0m\u001b[0;34m\u001b[0m\u001b[0m\n\u001b[0m\u001b[1;32m    458\u001b[0m     \u001b[0;32mif\u001b[0m \u001b[0mden\u001b[0m\u001b[0;34m.\u001b[0m\u001b[0msum\u001b[0m\u001b[0;34m(\u001b[0m\u001b[0;34m)\u001b[0m \u001b[0;34m==\u001b[0m \u001b[0;36m0\u001b[0m \u001b[0;34m:\u001b[0m\u001b[0;34m\u001b[0m\u001b[0;34m\u001b[0m\u001b[0m\n\u001b[1;32m    459\u001b[0m         \u001b[0;32mreturn\u001b[0m \u001b[0mc1\u001b[0m \u001b[0;34m*\u001b[0m \u001b[0mnp\u001b[0m\u001b[0;34m.\u001b[0m\u001b[0mnan\u001b[0m\u001b[0;34m\u001b[0m\u001b[0;34m\u001b[0m\u001b[0m\n",
      "\u001b[0;32m/usr/local/lib/python3.8/site-packages/pandas/core/ops/common.py\u001b[0m in \u001b[0;36mnew_method\u001b[0;34m(self, other)\u001b[0m\n\u001b[1;32m     63\u001b[0m         \u001b[0mother\u001b[0m \u001b[0;34m=\u001b[0m \u001b[0mitem_from_zerodim\u001b[0m\u001b[0;34m(\u001b[0m\u001b[0mother\u001b[0m\u001b[0;34m)\u001b[0m\u001b[0;34m\u001b[0m\u001b[0;34m\u001b[0m\u001b[0m\n\u001b[1;32m     64\u001b[0m \u001b[0;34m\u001b[0m\u001b[0m\n\u001b[0;32m---> 65\u001b[0;31m         \u001b[0;32mreturn\u001b[0m \u001b[0mmethod\u001b[0m\u001b[0;34m(\u001b[0m\u001b[0mself\u001b[0m\u001b[0;34m,\u001b[0m \u001b[0mother\u001b[0m\u001b[0;34m)\u001b[0m\u001b[0;34m\u001b[0m\u001b[0;34m\u001b[0m\u001b[0m\n\u001b[0m\u001b[1;32m     66\u001b[0m \u001b[0;34m\u001b[0m\u001b[0m\n\u001b[1;32m     67\u001b[0m     \u001b[0;32mreturn\u001b[0m \u001b[0mnew_method\u001b[0m\u001b[0;34m\u001b[0m\u001b[0;34m\u001b[0m\u001b[0m\n",
      "\u001b[0;32m/usr/local/lib/python3.8/site-packages/pandas/core/arraylike.py\u001b[0m in \u001b[0;36m__sub__\u001b[0;34m(self, other)\u001b[0m\n\u001b[1;32m     95\u001b[0m     \u001b[0;34m@\u001b[0m\u001b[0munpack_zerodim_and_defer\u001b[0m\u001b[0;34m(\u001b[0m\u001b[0;34m\"__sub__\"\u001b[0m\u001b[0;34m)\u001b[0m\u001b[0;34m\u001b[0m\u001b[0;34m\u001b[0m\u001b[0m\n\u001b[1;32m     96\u001b[0m     \u001b[0;32mdef\u001b[0m \u001b[0m__sub__\u001b[0m\u001b[0;34m(\u001b[0m\u001b[0mself\u001b[0m\u001b[0;34m,\u001b[0m \u001b[0mother\u001b[0m\u001b[0;34m)\u001b[0m\u001b[0;34m:\u001b[0m\u001b[0;34m\u001b[0m\u001b[0;34m\u001b[0m\u001b[0m\n\u001b[0;32m---> 97\u001b[0;31m         \u001b[0;32mreturn\u001b[0m \u001b[0mself\u001b[0m\u001b[0;34m.\u001b[0m\u001b[0m_arith_method\u001b[0m\u001b[0;34m(\u001b[0m\u001b[0mother\u001b[0m\u001b[0;34m,\u001b[0m \u001b[0moperator\u001b[0m\u001b[0;34m.\u001b[0m\u001b[0msub\u001b[0m\u001b[0;34m)\u001b[0m\u001b[0;34m\u001b[0m\u001b[0;34m\u001b[0m\u001b[0m\n\u001b[0m\u001b[1;32m     98\u001b[0m \u001b[0;34m\u001b[0m\u001b[0m\n\u001b[1;32m     99\u001b[0m     \u001b[0;34m@\u001b[0m\u001b[0munpack_zerodim_and_defer\u001b[0m\u001b[0;34m(\u001b[0m\u001b[0;34m\"__rsub__\"\u001b[0m\u001b[0;34m)\u001b[0m\u001b[0;34m\u001b[0m\u001b[0;34m\u001b[0m\u001b[0m\n",
      "\u001b[0;32m/usr/local/lib/python3.8/site-packages/pandas/core/series.py\u001b[0m in \u001b[0;36m_arith_method\u001b[0;34m(self, other, op)\u001b[0m\n\u001b[1;32m   4998\u001b[0m         \u001b[0mresult\u001b[0m \u001b[0;34m=\u001b[0m \u001b[0mops\u001b[0m\u001b[0;34m.\u001b[0m\u001b[0marithmetic_op\u001b[0m\u001b[0;34m(\u001b[0m\u001b[0mlvalues\u001b[0m\u001b[0;34m,\u001b[0m \u001b[0mrvalues\u001b[0m\u001b[0;34m,\u001b[0m \u001b[0mop\u001b[0m\u001b[0;34m)\u001b[0m\u001b[0;34m\u001b[0m\u001b[0;34m\u001b[0m\u001b[0m\n\u001b[1;32m   4999\u001b[0m \u001b[0;34m\u001b[0m\u001b[0m\n\u001b[0;32m-> 5000\u001b[0;31m         \u001b[0;32mreturn\u001b[0m \u001b[0mself\u001b[0m\u001b[0;34m.\u001b[0m\u001b[0m_construct_result\u001b[0m\u001b[0;34m(\u001b[0m\u001b[0mresult\u001b[0m\u001b[0;34m,\u001b[0m \u001b[0mname\u001b[0m\u001b[0;34m=\u001b[0m\u001b[0mres_name\u001b[0m\u001b[0;34m)\u001b[0m\u001b[0;34m\u001b[0m\u001b[0;34m\u001b[0m\u001b[0m\n\u001b[0m\u001b[1;32m   5001\u001b[0m \u001b[0;34m\u001b[0m\u001b[0m\n\u001b[1;32m   5002\u001b[0m \u001b[0;34m\u001b[0m\u001b[0m\n",
      "\u001b[0;32m/usr/local/lib/python3.8/site-packages/pandas/core/series.py\u001b[0m in \u001b[0;36m_construct_result\u001b[0;34m(self, result, name)\u001b[0m\n\u001b[1;32m   2761\u001b[0m         \u001b[0;31m# We do not pass dtype to ensure that the Series constructor\u001b[0m\u001b[0;34m\u001b[0m\u001b[0;34m\u001b[0m\u001b[0;34m\u001b[0m\u001b[0m\n\u001b[1;32m   2762\u001b[0m         \u001b[0;31m#  does inference in the case where `result` has object-dtype.\u001b[0m\u001b[0;34m\u001b[0m\u001b[0;34m\u001b[0m\u001b[0;34m\u001b[0m\u001b[0m\n\u001b[0;32m-> 2763\u001b[0;31m         \u001b[0mout\u001b[0m \u001b[0;34m=\u001b[0m \u001b[0mself\u001b[0m\u001b[0;34m.\u001b[0m\u001b[0m_constructor\u001b[0m\u001b[0;34m(\u001b[0m\u001b[0mresult\u001b[0m\u001b[0;34m,\u001b[0m \u001b[0mindex\u001b[0m\u001b[0;34m=\u001b[0m\u001b[0mself\u001b[0m\u001b[0;34m.\u001b[0m\u001b[0mindex\u001b[0m\u001b[0;34m)\u001b[0m\u001b[0;34m\u001b[0m\u001b[0;34m\u001b[0m\u001b[0m\n\u001b[0m\u001b[1;32m   2764\u001b[0m         \u001b[0mout\u001b[0m \u001b[0;34m=\u001b[0m \u001b[0mout\u001b[0m\u001b[0;34m.\u001b[0m\u001b[0m__finalize__\u001b[0m\u001b[0;34m(\u001b[0m\u001b[0mself\u001b[0m\u001b[0;34m)\u001b[0m\u001b[0;34m\u001b[0m\u001b[0;34m\u001b[0m\u001b[0m\n\u001b[1;32m   2765\u001b[0m \u001b[0;34m\u001b[0m\u001b[0m\n",
      "\u001b[0;32m/usr/local/lib/python3.8/site-packages/pandas/core/series.py\u001b[0m in \u001b[0;36m__init__\u001b[0;34m(self, data, index, dtype, name, copy, fastpath)\u001b[0m\n\u001b[1;32m    362\u001b[0m                     \u001b[0mdata\u001b[0m \u001b[0;34m=\u001b[0m \u001b[0mdata\u001b[0m\u001b[0;34m.\u001b[0m\u001b[0mcopy\u001b[0m\u001b[0;34m(\u001b[0m\u001b[0;34m)\u001b[0m\u001b[0;34m\u001b[0m\u001b[0;34m\u001b[0m\u001b[0m\n\u001b[1;32m    363\u001b[0m             \u001b[0;32melse\u001b[0m\u001b[0;34m:\u001b[0m\u001b[0;34m\u001b[0m\u001b[0;34m\u001b[0m\u001b[0m\n\u001b[0;32m--> 364\u001b[0;31m                 \u001b[0mdata\u001b[0m \u001b[0;34m=\u001b[0m \u001b[0msanitize_array\u001b[0m\u001b[0;34m(\u001b[0m\u001b[0mdata\u001b[0m\u001b[0;34m,\u001b[0m \u001b[0mindex\u001b[0m\u001b[0;34m,\u001b[0m \u001b[0mdtype\u001b[0m\u001b[0;34m,\u001b[0m \u001b[0mcopy\u001b[0m\u001b[0;34m,\u001b[0m \u001b[0mraise_cast_failure\u001b[0m\u001b[0;34m=\u001b[0m\u001b[0;32mTrue\u001b[0m\u001b[0;34m)\u001b[0m\u001b[0;34m\u001b[0m\u001b[0;34m\u001b[0m\u001b[0m\n\u001b[0m\u001b[1;32m    365\u001b[0m \u001b[0;34m\u001b[0m\u001b[0m\n\u001b[1;32m    366\u001b[0m                 \u001b[0mdata\u001b[0m \u001b[0;34m=\u001b[0m \u001b[0mSingleBlockManager\u001b[0m\u001b[0;34m.\u001b[0m\u001b[0mfrom_array\u001b[0m\u001b[0;34m(\u001b[0m\u001b[0mdata\u001b[0m\u001b[0;34m,\u001b[0m \u001b[0mindex\u001b[0m\u001b[0;34m)\u001b[0m\u001b[0;34m\u001b[0m\u001b[0;34m\u001b[0m\u001b[0m\n",
      "\u001b[0;32m/usr/local/lib/python3.8/site-packages/pandas/core/construction.py\u001b[0m in \u001b[0;36msanitize_array\u001b[0;34m(data, index, dtype, copy, raise_cast_failure)\u001b[0m\n\u001b[1;32m    543\u001b[0m                 \u001b[0msubarr\u001b[0m \u001b[0;34m=\u001b[0m \u001b[0mnp\u001b[0m\u001b[0;34m.\u001b[0m\u001b[0marray\u001b[0m\u001b[0;34m(\u001b[0m\u001b[0mdata\u001b[0m\u001b[0;34m,\u001b[0m \u001b[0mdtype\u001b[0m\u001b[0;34m=\u001b[0m\u001b[0mobject\u001b[0m\u001b[0;34m,\u001b[0m \u001b[0mcopy\u001b[0m\u001b[0;34m=\u001b[0m\u001b[0mcopy\u001b[0m\u001b[0;34m)\u001b[0m\u001b[0;34m\u001b[0m\u001b[0;34m\u001b[0m\u001b[0m\n\u001b[1;32m    544\u001b[0m \u001b[0;34m\u001b[0m\u001b[0m\n\u001b[0;32m--> 545\u001b[0;31m         \u001b[0mis_object_or_str_dtype\u001b[0m \u001b[0;34m=\u001b[0m \u001b[0mis_object_dtype\u001b[0m\u001b[0;34m(\u001b[0m\u001b[0mdtype\u001b[0m\u001b[0;34m)\u001b[0m \u001b[0;32mor\u001b[0m \u001b[0mis_string_dtype\u001b[0m\u001b[0;34m(\u001b[0m\u001b[0mdtype\u001b[0m\u001b[0;34m)\u001b[0m\u001b[0;34m\u001b[0m\u001b[0;34m\u001b[0m\u001b[0m\n\u001b[0m\u001b[1;32m    546\u001b[0m         \u001b[0;32mif\u001b[0m \u001b[0mis_object_dtype\u001b[0m\u001b[0;34m(\u001b[0m\u001b[0msubarr\u001b[0m\u001b[0;34m.\u001b[0m\u001b[0mdtype\u001b[0m\u001b[0;34m)\u001b[0m \u001b[0;32mand\u001b[0m \u001b[0;32mnot\u001b[0m \u001b[0mis_object_or_str_dtype\u001b[0m\u001b[0;34m:\u001b[0m\u001b[0;34m\u001b[0m\u001b[0;34m\u001b[0m\u001b[0m\n\u001b[1;32m    547\u001b[0m             \u001b[0minferred\u001b[0m \u001b[0;34m=\u001b[0m \u001b[0mlib\u001b[0m\u001b[0;34m.\u001b[0m\u001b[0minfer_dtype\u001b[0m\u001b[0;34m(\u001b[0m\u001b[0msubarr\u001b[0m\u001b[0;34m,\u001b[0m \u001b[0mskipna\u001b[0m\u001b[0;34m=\u001b[0m\u001b[0;32mFalse\u001b[0m\u001b[0;34m)\u001b[0m\u001b[0;34m\u001b[0m\u001b[0;34m\u001b[0m\u001b[0m\n",
      "\u001b[0;32m/usr/local/lib/python3.8/site-packages/pandas/core/dtypes/common.py\u001b[0m in \u001b[0;36mis_string_dtype\u001b[0;34m(arr_or_dtype)\u001b[0m\n\u001b[1;32m    610\u001b[0m         \u001b[0;32mreturn\u001b[0m \u001b[0many\u001b[0m\u001b[0;34m(\u001b[0m\u001b[0mis_excluded\u001b[0m\u001b[0;34m(\u001b[0m\u001b[0mdtype\u001b[0m\u001b[0;34m)\u001b[0m \u001b[0;32mfor\u001b[0m \u001b[0mis_excluded\u001b[0m \u001b[0;32min\u001b[0m \u001b[0mis_excluded_checks\u001b[0m\u001b[0;34m)\u001b[0m\u001b[0;34m\u001b[0m\u001b[0;34m\u001b[0m\u001b[0m\n\u001b[1;32m    611\u001b[0m \u001b[0;34m\u001b[0m\u001b[0m\n\u001b[0;32m--> 612\u001b[0;31m     \u001b[0;32mreturn\u001b[0m \u001b[0m_is_dtype\u001b[0m\u001b[0;34m(\u001b[0m\u001b[0marr_or_dtype\u001b[0m\u001b[0;34m,\u001b[0m \u001b[0mcondition\u001b[0m\u001b[0;34m)\u001b[0m\u001b[0;34m\u001b[0m\u001b[0;34m\u001b[0m\u001b[0m\n\u001b[0m\u001b[1;32m    613\u001b[0m \u001b[0;34m\u001b[0m\u001b[0m\n\u001b[1;32m    614\u001b[0m \u001b[0;34m\u001b[0m\u001b[0m\n",
      "\u001b[0;32m/usr/local/lib/python3.8/site-packages/pandas/core/dtypes/common.py\u001b[0m in \u001b[0;36m_is_dtype\u001b[0;34m(arr_or_dtype, condition)\u001b[0m\n\u001b[1;32m   1549\u001b[0m \u001b[0;34m\u001b[0m\u001b[0m\n\u001b[1;32m   1550\u001b[0m \u001b[0;34m\u001b[0m\u001b[0m\n\u001b[0;32m-> 1551\u001b[0;31m \u001b[0;32mdef\u001b[0m \u001b[0m_is_dtype\u001b[0m\u001b[0;34m(\u001b[0m\u001b[0marr_or_dtype\u001b[0m\u001b[0;34m,\u001b[0m \u001b[0mcondition\u001b[0m\u001b[0;34m)\u001b[0m \u001b[0;34m->\u001b[0m \u001b[0mbool\u001b[0m\u001b[0;34m:\u001b[0m\u001b[0;34m\u001b[0m\u001b[0;34m\u001b[0m\u001b[0m\n\u001b[0m\u001b[1;32m   1552\u001b[0m     \"\"\"\n\u001b[1;32m   1553\u001b[0m     \u001b[0mReturn\u001b[0m \u001b[0ma\u001b[0m \u001b[0mboolean\u001b[0m \u001b[0;32mif\u001b[0m \u001b[0mthe\u001b[0m \u001b[0mcondition\u001b[0m \u001b[0;32mis\u001b[0m \u001b[0msatisfied\u001b[0m \u001b[0;32mfor\u001b[0m \u001b[0mthe\u001b[0m \u001b[0marr_or_dtype\u001b[0m\u001b[0;34m.\u001b[0m\u001b[0;34m\u001b[0m\u001b[0;34m\u001b[0m\u001b[0m\n",
      "\u001b[0;31mKeyboardInterrupt\u001b[0m: "
     ]
    }
   ],
   "source": [
    "df_res = pd.DataFrame()\n",
    "for doc in tqdm(lo_docs): # leave-one-out\n",
    "    ds1 = data_known[data_known.doc_id == doc]\n",
    "    data_train = data_known.drop(ds1.index) # leave-one-out\n",
    "    md, vocab = build_model(data_train, vocab, params['model'])\n",
    "    om = OneVsMany()\n",
    "    om.fit_MultiDoc(md)\n",
    "    om.fit_class_means(md, data_train)\n",
    "    r = om.predict_proba(ds1)\n",
    "    #r = om.predict_response(ds1)\n",
    "    res = pd.DataFrame(r, index = ['avg']).T.reset_index().rename(columns={'index' : 'cls'})\n",
    "    res['doc_tested'] = doc\n",
    "    res['len'] = len(ds1)\n",
    "    df_res = df_res.append(res, ignore_index=True)"
   ]
  },
  {
   "cell_type": "code",
   "execution_count": 7,
   "id": "616943bc",
   "metadata": {},
   "outputs": [
    {
     "name": "stderr",
     "output_type": "stream",
     "text": [
      "  0%|          | 0/50 [00:00<?, ?it/s]"
     ]
    },
    {
     "name": "stdout",
     "output_type": "stream",
     "text": [
      "2022-03-30 09:05:10,292 - root - INFO - Building CompareDocs model using 49 documents. \n"
     ]
    },
    {
     "name": "stderr",
     "output_type": "stream",
     "text": [
      "  2%|▏         | 1/50 [00:03<03:04,  3.76s/it]"
     ]
    },
    {
     "name": "stdout",
     "output_type": "stream",
     "text": [
      "2022-03-30 09:05:14,047 - root - INFO - Building CompareDocs model using 49 documents. \n"
     ]
    },
    {
     "name": "stderr",
     "output_type": "stream",
     "text": [
      "  4%|▍         | 2/50 [00:07<02:58,  3.72s/it]"
     ]
    },
    {
     "name": "stdout",
     "output_type": "stream",
     "text": [
      "2022-03-30 09:05:17,731 - root - INFO - Building CompareDocs model using 49 documents. \n"
     ]
    },
    {
     "name": "stderr",
     "output_type": "stream",
     "text": [
      "  6%|▌         | 3/50 [00:11<02:53,  3.70s/it]"
     ]
    },
    {
     "name": "stdout",
     "output_type": "stream",
     "text": [
      "2022-03-30 09:05:21,407 - root - INFO - Building CompareDocs model using 49 documents. \n"
     ]
    },
    {
     "name": "stderr",
     "output_type": "stream",
     "text": [
      "  8%|▊         | 4/50 [00:14<02:50,  3.71s/it]"
     ]
    },
    {
     "name": "stdout",
     "output_type": "stream",
     "text": [
      "2022-03-30 09:05:25,144 - root - INFO - Building CompareDocs model using 49 documents. \n"
     ]
    },
    {
     "name": "stderr",
     "output_type": "stream",
     "text": [
      " 10%|█         | 5/50 [00:18<02:46,  3.70s/it]"
     ]
    },
    {
     "name": "stdout",
     "output_type": "stream",
     "text": [
      "2022-03-30 09:05:28,828 - root - INFO - Building CompareDocs model using 49 documents. \n"
     ]
    },
    {
     "name": "stderr",
     "output_type": "stream",
     "text": [
      " 12%|█▏        | 6/50 [00:22<02:42,  3.69s/it]"
     ]
    },
    {
     "name": "stdout",
     "output_type": "stream",
     "text": [
      "2022-03-30 09:05:32,503 - root - INFO - Building CompareDocs model using 49 documents. \n"
     ]
    },
    {
     "name": "stderr",
     "output_type": "stream",
     "text": [
      " 14%|█▍        | 7/50 [00:25<02:38,  3.69s/it]"
     ]
    },
    {
     "name": "stdout",
     "output_type": "stream",
     "text": [
      "2022-03-30 09:05:36,186 - root - INFO - Building CompareDocs model using 49 documents. \n"
     ]
    },
    {
     "name": "stderr",
     "output_type": "stream",
     "text": [
      " 16%|█▌        | 8/50 [00:29<02:35,  3.70s/it]"
     ]
    },
    {
     "name": "stdout",
     "output_type": "stream",
     "text": [
      "2022-03-30 09:05:39,921 - root - INFO - Building CompareDocs model using 49 documents. \n"
     ]
    },
    {
     "name": "stderr",
     "output_type": "stream",
     "text": [
      " 18%|█▊        | 9/50 [00:33<02:32,  3.71s/it]"
     ]
    },
    {
     "name": "stdout",
     "output_type": "stream",
     "text": [
      "2022-03-30 09:05:43,635 - root - INFO - Building CompareDocs model using 49 documents. \n"
     ]
    },
    {
     "name": "stderr",
     "output_type": "stream",
     "text": [
      " 20%|██        | 10/50 [00:36<02:26,  3.66s/it]"
     ]
    },
    {
     "name": "stdout",
     "output_type": "stream",
     "text": [
      "2022-03-30 09:05:47,180 - root - INFO - Building CompareDocs model using 49 documents. \n"
     ]
    },
    {
     "name": "stderr",
     "output_type": "stream",
     "text": [
      " 22%|██▏       | 11/50 [00:40<02:21,  3.64s/it]"
     ]
    },
    {
     "name": "stdout",
     "output_type": "stream",
     "text": [
      "2022-03-30 09:05:50,782 - root - INFO - Building CompareDocs model using 49 documents. \n"
     ]
    },
    {
     "name": "stderr",
     "output_type": "stream",
     "text": [
      " 24%|██▍       | 12/50 [00:44<02:21,  3.71s/it]"
     ]
    },
    {
     "name": "stdout",
     "output_type": "stream",
     "text": [
      "2022-03-30 09:05:54,667 - root - INFO - Building CompareDocs model using 49 documents. \n"
     ]
    },
    {
     "name": "stderr",
     "output_type": "stream",
     "text": [
      " 26%|██▌       | 13/50 [00:48<02:19,  3.77s/it]"
     ]
    },
    {
     "name": "stdout",
     "output_type": "stream",
     "text": [
      "2022-03-30 09:05:58,568 - root - INFO - Building CompareDocs model using 49 documents. \n"
     ]
    },
    {
     "name": "stderr",
     "output_type": "stream",
     "text": [
      " 28%|██▊       | 14/50 [00:52<02:21,  3.93s/it]"
     ]
    },
    {
     "name": "stdout",
     "output_type": "stream",
     "text": [
      "2022-03-30 09:06:02,877 - root - INFO - Building CompareDocs model using 49 documents. \n"
     ]
    },
    {
     "name": "stderr",
     "output_type": "stream",
     "text": [
      " 30%|███       | 15/50 [00:56<02:19,  4.00s/it]"
     ]
    },
    {
     "name": "stdout",
     "output_type": "stream",
     "text": [
      "2022-03-30 09:06:07,028 - root - INFO - Building CompareDocs model using 49 documents. \n"
     ]
    },
    {
     "name": "stderr",
     "output_type": "stream",
     "text": [
      " 32%|███▏      | 16/50 [01:00<02:12,  3.89s/it]"
     ]
    },
    {
     "name": "stdout",
     "output_type": "stream",
     "text": [
      "2022-03-30 09:06:10,664 - root - INFO - Building CompareDocs model using 49 documents. \n"
     ]
    },
    {
     "name": "stderr",
     "output_type": "stream",
     "text": [
      " 34%|███▍      | 17/50 [01:03<02:05,  3.80s/it]"
     ]
    },
    {
     "name": "stdout",
     "output_type": "stream",
     "text": [
      "2022-03-30 09:06:14,259 - root - INFO - Building CompareDocs model using 49 documents. \n"
     ]
    },
    {
     "name": "stderr",
     "output_type": "stream",
     "text": [
      " 36%|███▌      | 18/50 [01:07<01:59,  3.74s/it]"
     ]
    },
    {
     "name": "stdout",
     "output_type": "stream",
     "text": [
      "2022-03-30 09:06:17,860 - root - INFO - Building CompareDocs model using 49 documents. \n"
     ]
    },
    {
     "name": "stderr",
     "output_type": "stream",
     "text": [
      " 38%|███▊      | 19/50 [01:11<01:55,  3.72s/it]"
     ]
    },
    {
     "name": "stdout",
     "output_type": "stream",
     "text": [
      "2022-03-30 09:06:21,536 - root - INFO - Building CompareDocs model using 49 documents. \n"
     ]
    },
    {
     "name": "stderr",
     "output_type": "stream",
     "text": [
      " 40%|████      | 20/50 [01:15<01:52,  3.74s/it]"
     ]
    },
    {
     "name": "stdout",
     "output_type": "stream",
     "text": [
      "2022-03-30 09:06:25,324 - root - INFO - Building CompareDocs model using 49 documents. \n"
     ]
    },
    {
     "name": "stderr",
     "output_type": "stream",
     "text": [
      " 42%|████▏     | 21/50 [01:18<01:47,  3.70s/it]"
     ]
    },
    {
     "name": "stdout",
     "output_type": "stream",
     "text": [
      "2022-03-30 09:06:28,939 - root - INFO - Building CompareDocs model using 49 documents. \n"
     ]
    },
    {
     "name": "stderr",
     "output_type": "stream",
     "text": [
      " 44%|████▍     | 22/50 [01:22<01:43,  3.69s/it]"
     ]
    },
    {
     "name": "stdout",
     "output_type": "stream",
     "text": [
      "2022-03-30 09:06:32,601 - root - INFO - Building CompareDocs model using 49 documents. \n"
     ]
    },
    {
     "name": "stderr",
     "output_type": "stream",
     "text": [
      " 46%|████▌     | 23/50 [01:25<01:39,  3.67s/it]"
     ]
    },
    {
     "name": "stdout",
     "output_type": "stream",
     "text": [
      "2022-03-30 09:06:36,235 - root - INFO - Building CompareDocs model using 49 documents. \n"
     ]
    },
    {
     "name": "stderr",
     "output_type": "stream",
     "text": [
      " 48%|████▊     | 24/50 [01:29<01:35,  3.69s/it]"
     ]
    },
    {
     "name": "stdout",
     "output_type": "stream",
     "text": [
      "2022-03-30 09:06:39,964 - root - INFO - Building CompareDocs model using 49 documents. \n"
     ]
    },
    {
     "name": "stderr",
     "output_type": "stream",
     "text": [
      " 50%|█████     | 25/50 [01:33<01:33,  3.73s/it]"
     ]
    },
    {
     "name": "stdout",
     "output_type": "stream",
     "text": [
      "2022-03-30 09:06:43,774 - root - INFO - Building CompareDocs model using 49 documents. \n"
     ]
    },
    {
     "name": "stderr",
     "output_type": "stream",
     "text": [
      " 52%|█████▏    | 26/50 [01:37<01:28,  3.70s/it]"
     ]
    },
    {
     "name": "stdout",
     "output_type": "stream",
     "text": [
      "2022-03-30 09:06:47,419 - root - INFO - Building CompareDocs model using 49 documents. \n"
     ]
    },
    {
     "name": "stderr",
     "output_type": "stream",
     "text": [
      " 54%|█████▍    | 27/50 [01:40<01:25,  3.70s/it]"
     ]
    },
    {
     "name": "stdout",
     "output_type": "stream",
     "text": [
      "2022-03-30 09:06:51,112 - root - INFO - Building CompareDocs model using 49 documents. \n"
     ]
    },
    {
     "name": "stderr",
     "output_type": "stream",
     "text": [
      " 56%|█████▌    | 28/50 [01:44<01:21,  3.73s/it]"
     ]
    },
    {
     "name": "stdout",
     "output_type": "stream",
     "text": [
      "2022-03-30 09:06:54,900 - root - INFO - Building CompareDocs model using 49 documents. \n"
     ]
    },
    {
     "name": "stderr",
     "output_type": "stream",
     "text": [
      " 58%|█████▊    | 29/50 [01:48<01:17,  3.71s/it]"
     ]
    },
    {
     "name": "stdout",
     "output_type": "stream",
     "text": [
      "2022-03-30 09:06:58,580 - root - INFO - Building CompareDocs model using 49 documents. \n"
     ]
    },
    {
     "name": "stderr",
     "output_type": "stream",
     "text": [
      " 60%|██████    | 30/50 [01:51<01:13,  3.67s/it]"
     ]
    },
    {
     "name": "stdout",
     "output_type": "stream",
     "text": [
      "2022-03-30 09:07:02,157 - root - INFO - Building CompareDocs model using 49 documents. \n"
     ]
    },
    {
     "name": "stderr",
     "output_type": "stream",
     "text": [
      " 62%|██████▏   | 31/50 [01:55<01:09,  3.64s/it]"
     ]
    },
    {
     "name": "stdout",
     "output_type": "stream",
     "text": [
      "2022-03-30 09:07:05,727 - root - INFO - Building CompareDocs model using 49 documents. \n"
     ]
    },
    {
     "name": "stderr",
     "output_type": "stream",
     "text": [
      " 64%|██████▍   | 32/50 [01:59<01:05,  3.64s/it]"
     ]
    },
    {
     "name": "stdout",
     "output_type": "stream",
     "text": [
      "2022-03-30 09:07:09,356 - root - INFO - Building CompareDocs model using 49 documents. \n"
     ]
    },
    {
     "name": "stderr",
     "output_type": "stream",
     "text": [
      " 66%|██████▌   | 33/50 [02:02<01:01,  3.64s/it]"
     ]
    },
    {
     "name": "stdout",
     "output_type": "stream",
     "text": [
      "2022-03-30 09:07:12,992 - root - INFO - Building CompareDocs model using 49 documents. \n"
     ]
    },
    {
     "name": "stderr",
     "output_type": "stream",
     "text": [
      " 68%|██████▊   | 34/50 [02:06<00:58,  3.63s/it]"
     ]
    },
    {
     "name": "stdout",
     "output_type": "stream",
     "text": [
      "2022-03-30 09:07:16,599 - root - INFO - Building CompareDocs model using 49 documents. \n"
     ]
    },
    {
     "name": "stderr",
     "output_type": "stream",
     "text": [
      " 70%|███████   | 35/50 [02:09<00:54,  3.62s/it]"
     ]
    },
    {
     "name": "stdout",
     "output_type": "stream",
     "text": [
      "2022-03-30 09:07:20,185 - root - INFO - Building CompareDocs model using 49 documents. \n"
     ]
    },
    {
     "name": "stderr",
     "output_type": "stream",
     "text": [
      " 72%|███████▏  | 36/50 [02:13<00:50,  3.62s/it]"
     ]
    },
    {
     "name": "stdout",
     "output_type": "stream",
     "text": [
      "2022-03-30 09:07:23,805 - root - INFO - Building CompareDocs model using 49 documents. \n"
     ]
    },
    {
     "name": "stderr",
     "output_type": "stream",
     "text": [
      " 74%|███████▍  | 37/50 [02:17<00:46,  3.61s/it]"
     ]
    },
    {
     "name": "stdout",
     "output_type": "stream",
     "text": [
      "2022-03-30 09:07:27,411 - root - INFO - Building CompareDocs model using 49 documents. \n"
     ]
    },
    {
     "name": "stderr",
     "output_type": "stream",
     "text": [
      " 76%|███████▌  | 38/50 [02:20<00:43,  3.64s/it]"
     ]
    },
    {
     "name": "stdout",
     "output_type": "stream",
     "text": [
      "2022-03-30 09:07:31,128 - root - INFO - Building CompareDocs model using 49 documents. \n"
     ]
    },
    {
     "name": "stderr",
     "output_type": "stream",
     "text": [
      " 78%|███████▊  | 39/50 [02:24<00:40,  3.68s/it]"
     ]
    },
    {
     "name": "stdout",
     "output_type": "stream",
     "text": [
      "2022-03-30 09:07:34,900 - root - INFO - Building CompareDocs model using 49 documents. \n"
     ]
    },
    {
     "name": "stderr",
     "output_type": "stream",
     "text": [
      " 80%|████████  | 40/50 [02:28<00:37,  3.75s/it]"
     ]
    },
    {
     "name": "stdout",
     "output_type": "stream",
     "text": [
      "2022-03-30 09:07:38,810 - root - INFO - Building CompareDocs model using 49 documents. \n"
     ]
    },
    {
     "name": "stderr",
     "output_type": "stream",
     "text": [
      " 82%|████████▏ | 41/50 [02:32<00:33,  3.70s/it]"
     ]
    },
    {
     "name": "stdout",
     "output_type": "stream",
     "text": [
      "2022-03-30 09:07:42,404 - root - INFO - Building CompareDocs model using 49 documents. \n"
     ]
    },
    {
     "name": "stderr",
     "output_type": "stream",
     "text": [
      " 84%|████████▍ | 42/50 [02:35<00:29,  3.71s/it]"
     ]
    },
    {
     "name": "stdout",
     "output_type": "stream",
     "text": [
      "2022-03-30 09:07:46,126 - root - INFO - Building CompareDocs model using 49 documents. \n"
     ]
    },
    {
     "name": "stderr",
     "output_type": "stream",
     "text": [
      " 86%|████████▌ | 43/50 [02:39<00:26,  3.73s/it]"
     ]
    },
    {
     "name": "stdout",
     "output_type": "stream",
     "text": [
      "2022-03-30 09:07:49,909 - root - INFO - Building CompareDocs model using 49 documents. \n"
     ]
    },
    {
     "name": "stderr",
     "output_type": "stream",
     "text": [
      " 88%|████████▊ | 44/50 [02:43<00:22,  3.75s/it]"
     ]
    },
    {
     "name": "stdout",
     "output_type": "stream",
     "text": [
      "2022-03-30 09:07:53,708 - root - INFO - Building CompareDocs model using 49 documents. \n"
     ]
    },
    {
     "name": "stderr",
     "output_type": "stream",
     "text": [
      " 90%|█████████ | 45/50 [02:47<00:18,  3.70s/it]"
     ]
    },
    {
     "name": "stdout",
     "output_type": "stream",
     "text": [
      "2022-03-30 09:07:57,285 - root - INFO - Building CompareDocs model using 49 documents. \n"
     ]
    },
    {
     "name": "stderr",
     "output_type": "stream",
     "text": [
      " 92%|█████████▏| 46/50 [02:50<00:14,  3.68s/it]"
     ]
    },
    {
     "name": "stdout",
     "output_type": "stream",
     "text": [
      "2022-03-30 09:08:00,924 - root - INFO - Building CompareDocs model using 49 documents. \n"
     ]
    },
    {
     "name": "stderr",
     "output_type": "stream",
     "text": [
      " 94%|█████████▍| 47/50 [02:54<00:11,  3.72s/it]"
     ]
    },
    {
     "name": "stdout",
     "output_type": "stream",
     "text": [
      "2022-03-30 09:08:04,735 - root - INFO - Building CompareDocs model using 49 documents. \n"
     ]
    },
    {
     "name": "stderr",
     "output_type": "stream",
     "text": [
      " 96%|█████████▌| 48/50 [02:58<00:07,  3.77s/it]"
     ]
    },
    {
     "name": "stdout",
     "output_type": "stream",
     "text": [
      "2022-03-30 09:08:08,619 - root - INFO - Building CompareDocs model using 49 documents. \n"
     ]
    },
    {
     "name": "stderr",
     "output_type": "stream",
     "text": [
      " 98%|█████████▊| 49/50 [03:02<00:03,  3.80s/it]"
     ]
    },
    {
     "name": "stdout",
     "output_type": "stream",
     "text": [
      "2022-03-30 09:08:12,501 - root - INFO - Building CompareDocs model using 49 documents. \n"
     ]
    },
    {
     "name": "stderr",
     "output_type": "stream",
     "text": [
      "100%|██████████| 50/50 [03:05<00:00,  3.72s/it]\n"
     ]
    }
   ],
   "source": [
    "def arrange_training_data(data):\n",
    "    X = []\n",
    "    y = []\n",
    "    lo_authors = data.author.unique()\n",
    "    for auth in lo_authors:\n",
    "        ds_auth = data[data.author == auth]\n",
    "        lo_docs = ds_auth.doc_id.unique()\n",
    "        Xauth = [c[1] for c in ds_auth.groupby('doc_id')]\n",
    "        X += Xauth\n",
    "        y += [auth] * len(Xauth)\n",
    "    return X, y\n",
    "\n",
    "df_res = pd.DataFrame()\n",
    "for doc in tqdm(lo_docs): # leave-one-out\n",
    "    ds1 = data_known[data_known.doc_id == doc]\n",
    "    data_train = data_known.drop(ds1.index) # leave-one-out\n",
    "    md, vocab = build_model(data_train, vocab, params['model'])\n",
    "    cdrr = CompareDocsRelativeResponse(md)\n",
    "    \n",
    "    X, y = arrange_training_data(data_train)\n",
    "    anova_cls = AnovaClassifier()\n",
    "    anova_cls.fit(cdrr, X, y)\n",
    "    \n",
    "    res = anova_cls.predict_many(ds1)\n",
    "    res['doc_tested'] = doc\n",
    "    res['len'] = len(ds1)\n",
    "    df_res = df_res.append(res, ignore_index=True)"
   ]
  },
  {
   "cell_type": "code",
   "execution_count": 8,
   "id": "625618d0",
   "metadata": {},
   "outputs": [],
   "source": [
    "scores0 = anova_cls.scores_['Dtr']\n",
    "scores1 = anova_cls.scores_['P']"
   ]
  },
  {
   "cell_type": "code",
   "execution_count": 12,
   "id": "6313a02a",
   "metadata": {},
   "outputs": [
    {
     "name": "stdout",
     "output_type": "stream",
     "text": [
      "Accuracy with pval_2smp = 0.56\n",
      "Accuracy with pval_2smp_perm = 0.56\n",
      "Accuracy with pval_bartlett = 0.48\n",
      "Accuracy with pval_f = 0.76\n",
      "Accuracy with pval_levene = 0.36\n",
      "Accuracy with pval_t = 0.84\n",
      "Accuracy with pval_tLDA = 0.84\n",
      "Accuracy with pval_wilcox = 0.54\n"
     ]
    }
   ],
   "source": [
    "df_res.loc[: ,'true_class'] = df_res.doc_tested.apply(lambda x : x.split('|')[0])\n",
    "#df_res.loc[:, 'neg_raw'] = -df_res['raw']\n",
    "\n",
    "for value in df_res.columns[df_res.columns.str.contains(r'pval|neg_raw|avg')]:        \n",
    "    idx = df_res.groupby('doc_tested')[value].idxmax(axis=1)\n",
    "    acc = np.mean(df_res.loc[idx, 'cls'] == df_res.loc[idx, 'true_class'])\n",
    "    print(f\"Accuracy with {value} = {acc}\")\n",
    "    #df_res['predicted_class'] = df_res[['Dtr', 'DtrH', 'P']].idxmin(axis=1)\n",
    "    #print(\"Accuracy: \", np.mean(df_res.predicted_class == df_res.true_class))"
   ]
  },
  {
   "cell_type": "code",
   "execution_count": 13,
   "id": "c3896064",
   "metadata": {},
   "outputs": [
    {
     "name": "stdout",
     "output_type": "stream",
     "text": [
      "2022-03-30 09:13:16,254 - kedro.io.data_catalog - INFO - Loading data from `probs` (CSVDataSet)...\n"
     ]
    },
    {
     "data": {
      "text/html": [
       "<div>\n",
       "<style scoped>\n",
       "    .dataframe tbody tr th:only-of-type {\n",
       "        vertical-align: middle;\n",
       "    }\n",
       "\n",
       "    .dataframe tbody tr th {\n",
       "        vertical-align: top;\n",
       "    }\n",
       "\n",
       "    .dataframe thead th {\n",
       "        text-align: right;\n",
       "    }\n",
       "</style>\n",
       "<table border=\"1\" class=\"dataframe\">\n",
       "  <thead>\n",
       "    <tr style=\"text-align: right;\">\n",
       "      <th></th>\n",
       "      <th>cls</th>\n",
       "      <th>n1</th>\n",
       "      <th>n2</th>\n",
       "      <th>doc_tested</th>\n",
       "      <th>raw</th>\n",
       "      <th>len</th>\n",
       "      <th>true_class</th>\n",
       "      <th>pval_tLDA</th>\n",
       "      <th>pval_t</th>\n",
       "    </tr>\n",
       "  </thead>\n",
       "  <tbody>\n",
       "    <tr>\n",
       "      <th>0</th>\n",
       "      <td>Dtr</td>\n",
       "      <td>8.0</td>\n",
       "      <td>9.0</td>\n",
       "      <td>Dtr|Deut.6</td>\n",
       "      <td>-0.341942</td>\n",
       "      <td>540</td>\n",
       "      <td>Dtr</td>\n",
       "      <td>0.977765</td>\n",
       "      <td>0.962355</td>\n",
       "    </tr>\n",
       "    <tr>\n",
       "      <th>1</th>\n",
       "      <td>DtrH</td>\n",
       "      <td>19.0</td>\n",
       "      <td>20.0</td>\n",
       "      <td>Dtr|Deut.6</td>\n",
       "      <td>1.073515</td>\n",
       "      <td>540</td>\n",
       "      <td>Dtr</td>\n",
       "      <td>0.912597</td>\n",
       "      <td>0.911454</td>\n",
       "    </tr>\n",
       "    <tr>\n",
       "      <th>2</th>\n",
       "      <td>P</td>\n",
       "      <td>22.0</td>\n",
       "      <td>23.0</td>\n",
       "      <td>Dtr|Deut.6</td>\n",
       "      <td>4.275162</td>\n",
       "      <td>540</td>\n",
       "      <td>Dtr</td>\n",
       "      <td>0.219474</td>\n",
       "      <td>0.231545</td>\n",
       "    </tr>\n",
       "    <tr>\n",
       "      <th>3</th>\n",
       "      <td>Dtr</td>\n",
       "      <td>8.0</td>\n",
       "      <td>9.0</td>\n",
       "      <td>Dtr|Deut.12</td>\n",
       "      <td>1.409820</td>\n",
       "      <td>855</td>\n",
       "      <td>Dtr</td>\n",
       "      <td>0.465212</td>\n",
       "      <td>0.454522</td>\n",
       "    </tr>\n",
       "    <tr>\n",
       "      <th>4</th>\n",
       "      <td>DtrH</td>\n",
       "      <td>19.0</td>\n",
       "      <td>20.0</td>\n",
       "      <td>Dtr|Deut.12</td>\n",
       "      <td>4.376707</td>\n",
       "      <td>855</td>\n",
       "      <td>Dtr</td>\n",
       "      <td>0.022752</td>\n",
       "      <td>0.016175</td>\n",
       "    </tr>\n",
       "    <tr>\n",
       "      <th>...</th>\n",
       "      <td>...</td>\n",
       "      <td>...</td>\n",
       "      <td>...</td>\n",
       "      <td>...</td>\n",
       "      <td>...</td>\n",
       "      <td>...</td>\n",
       "      <td>...</td>\n",
       "      <td>...</td>\n",
       "      <td>...</td>\n",
       "    </tr>\n",
       "    <tr>\n",
       "      <th>145</th>\n",
       "      <td>DtrH</td>\n",
       "      <td>19.0</td>\n",
       "      <td>20.0</td>\n",
       "      <td>P|Lev.8</td>\n",
       "      <td>6.508046</td>\n",
       "      <td>902</td>\n",
       "      <td>P</td>\n",
       "      <td>0.000156</td>\n",
       "      <td>0.000238</td>\n",
       "    </tr>\n",
       "    <tr>\n",
       "      <th>146</th>\n",
       "      <td>P</td>\n",
       "      <td>21.0</td>\n",
       "      <td>22.0</td>\n",
       "      <td>P|Lev.8</td>\n",
       "      <td>2.641063</td>\n",
       "      <td>902</td>\n",
       "      <td>P</td>\n",
       "      <td>0.838826</td>\n",
       "      <td>0.831466</td>\n",
       "    </tr>\n",
       "    <tr>\n",
       "      <th>147</th>\n",
       "      <td>Dtr</td>\n",
       "      <td>9.0</td>\n",
       "      <td>10.0</td>\n",
       "      <td>P|Lev.9</td>\n",
       "      <td>3.769937</td>\n",
       "      <td>527</td>\n",
       "      <td>P</td>\n",
       "      <td>0.021319</td>\n",
       "      <td>0.033225</td>\n",
       "    </tr>\n",
       "    <tr>\n",
       "      <th>148</th>\n",
       "      <td>DtrH</td>\n",
       "      <td>19.0</td>\n",
       "      <td>20.0</td>\n",
       "      <td>P|Lev.9</td>\n",
       "      <td>4.379119</td>\n",
       "      <td>527</td>\n",
       "      <td>P</td>\n",
       "      <td>0.022635</td>\n",
       "      <td>0.019885</td>\n",
       "    </tr>\n",
       "    <tr>\n",
       "      <th>149</th>\n",
       "      <td>P</td>\n",
       "      <td>21.0</td>\n",
       "      <td>22.0</td>\n",
       "      <td>P|Lev.9</td>\n",
       "      <td>2.690671</td>\n",
       "      <td>527</td>\n",
       "      <td>P</td>\n",
       "      <td>0.802247</td>\n",
       "      <td>0.817349</td>\n",
       "    </tr>\n",
       "  </tbody>\n",
       "</table>\n",
       "<p>150 rows × 9 columns</p>\n",
       "</div>"
      ],
      "text/plain": [
       "      cls    n1    n2   doc_tested       raw  len true_class  pval_tLDA  \\\n",
       "0     Dtr   8.0   9.0   Dtr|Deut.6 -0.341942  540        Dtr   0.977765   \n",
       "1    DtrH  19.0  20.0   Dtr|Deut.6  1.073515  540        Dtr   0.912597   \n",
       "2       P  22.0  23.0   Dtr|Deut.6  4.275162  540        Dtr   0.219474   \n",
       "3     Dtr   8.0   9.0  Dtr|Deut.12  1.409820  855        Dtr   0.465212   \n",
       "4    DtrH  19.0  20.0  Dtr|Deut.12  4.376707  855        Dtr   0.022752   \n",
       "..    ...   ...   ...          ...       ...  ...        ...        ...   \n",
       "145  DtrH  19.0  20.0      P|Lev.8  6.508046  902          P   0.000156   \n",
       "146     P  21.0  22.0      P|Lev.8  2.641063  902          P   0.838826   \n",
       "147   Dtr   9.0  10.0      P|Lev.9  3.769937  527          P   0.021319   \n",
       "148  DtrH  19.0  20.0      P|Lev.9  4.379119  527          P   0.022635   \n",
       "149     P  21.0  22.0      P|Lev.9  2.690671  527          P   0.802247   \n",
       "\n",
       "       pval_t  \n",
       "0    0.962355  \n",
       "1    0.911454  \n",
       "2    0.231545  \n",
       "3    0.454522  \n",
       "4    0.016175  \n",
       "..        ...  \n",
       "145  0.000238  \n",
       "146  0.831466  \n",
       "147  0.033225  \n",
       "148  0.019885  \n",
       "149  0.817349  \n",
       "\n",
       "[150 rows x 9 columns]"
      ]
     },
     "execution_count": 13,
     "metadata": {},
     "output_type": "execute_result"
    }
   ],
   "source": [
    "probs = catalog.load('probs')\n",
    "df_res.filter(['cls', 'n1', 'n2', 'doc_tested', 'raw', 'len', 'true_class', 'pval_tLDA', 'pval_t'])"
   ]
  },
  {
   "cell_type": "code",
   "execution_count": 14,
   "id": "40820120",
   "metadata": {},
   "outputs": [
    {
     "data": {
      "image/png": "[encoded data removed]",
      "text/plain": [
       "<Figure size 432x288 with 1 Axes>"
      ]
     },
     "metadata": {
      "needs_background": "light"
     },
     "output_type": "display_data"
    },
    {
     "name": "stderr",
     "output_type": "stream",
     "text": [
      "<ipython-input-14-78affc20f15e>:12: UserWarning: Boolean Series key will be reindexed to match DataFrame index.\n",
      "<ipython-input-14-78affc20f15e>:12: UserWarning: Boolean Series key will be reindexed to match DataFrame index.\n"
     ]
    },
    {
     "data": {
      "text/html": [
       "<div>\n",
       "<style scoped>\n",
       "    .dataframe tbody tr th:only-of-type {\n",
       "        vertical-align: middle;\n",
       "    }\n",
       "\n",
       "    .dataframe tbody tr th {\n",
       "        vertical-align: top;\n",
       "    }\n",
       "\n",
       "    .dataframe thead th {\n",
       "        text-align: right;\n",
       "    }\n",
       "</style>\n",
       "<table border=\"1\" class=\"dataframe\">\n",
       "  <thead>\n",
       "    <tr style=\"text-align: right;\">\n",
       "      <th></th>\n",
       "      <th>cls</th>\n",
       "      <th>n1</th>\n",
       "      <th>n2</th>\n",
       "      <th>doc_tested</th>\n",
       "      <th>raw</th>\n",
       "      <th>true_class</th>\n",
       "      <th>pval_tLDA</th>\n",
       "      <th>pval_t</th>\n",
       "      <th>t-score</th>\n",
       "      <th>t_test</th>\n",
       "      <th>('value', 'mean')</th>\n",
       "      <th>('value', 'count')</th>\n",
       "    </tr>\n",
       "  </thead>\n",
       "  <tbody>\n",
       "  </tbody>\n",
       "</table>\n",
       "</div>"
      ],
      "text/plain": [
       "Empty DataFrame\n",
       "Columns: [cls, n1, n2, doc_tested, raw, true_class, pval_tLDA, pval_t, t-score, t_test, ('value', 'mean'), ('value', 'count')]\n",
       "Index: []"
      ]
     },
     "execution_count": 14,
     "metadata": {},
     "output_type": "execute_result"
    }
   ],
   "source": [
    "df = df_res.merge(probs.rename(columns={'corpus' : 'cls'}), on=['doc_tested', 'cls'])\n",
    "df['t_test'] = np.exp(-df['t_test'])\n",
    "df1 = df.filter(['cls', 'n1', 'n2', 'doc_tested', 'raw', 'len', 'true_class', 'pval_tLDA', 'pval_t', 't-score', 't_test', \"('value', 'mean')\", \"('value', 'count')\"])\n",
    "\n",
    "\n",
    "color_dic = {'Dtr' : 'red', 'DtrH' : 'green', 'P' : 'blue'}\n",
    "colors = [color_dic[a] for a in df1['cls'].values]\n",
    "\n",
    "df1.plot.scatter(x='pval_t', y='t_test', color=colors)\n",
    "plt.show()\n",
    "\n",
    "df1[df1.cls == 'Dtr'][df1.true_class == 'Dtr'][df1.t_test/df1.pval_t > 1.1]"
   ]
  },
  {
   "cell_type": "code",
   "execution_count": 15,
   "id": "a5cc610f",
   "metadata": {},
   "outputs": [],
   "source": [
    "dfr = df_res.filter(regex=r'(pval_|raw|cls|doc_tested|true_class|avg)').pivot(columns = 'cls', index='doc_tested')"
   ]
  },
  {
   "cell_type": "code",
   "execution_count": 16,
   "id": "3a2d9f60",
   "metadata": {},
   "outputs": [],
   "source": [
    "color_dic = {'Dtr' : 'red', 'DtrH' : 'green', 'P' : 'blue'}\n",
    "colors = [color_dic[a] for a in dfr['true_class']['P'].values]"
   ]
  },
  {
   "cell_type": "code",
   "execution_count": 17,
   "id": "a7285041",
   "metadata": {},
   "outputs": [
    {
     "data": {
      "image/png": "[encoded data removed]",
      "text/plain": [
       "<Figure size 432x288 with 1 Axes>"
      ]
     },
     "metadata": {
      "needs_background": "light"
     },
     "output_type": "display_data"
    },
    {
     "data": {
      "image/png": "[encoded data removed]",
      "text/plain": [
       "<Figure size 432x288 with 1 Axes>"
      ]
     },
     "metadata": {
      "needs_background": "light"
     },
     "output_type": "display_data"
    },
    {
     "data": {
      "image/png": "[encoded data removed]",
      "text/plain": [
       "<Figure size 432x288 with 1 Axes>"
      ]
     },
     "metadata": {
      "needs_background": "light"
     },
     "output_type": "display_data"
    }
   ],
   "source": [
    "value = 'pval_tLDA'\n",
    "\n",
    "for cls1 in ['Dtr', 'DtrH', 'P'] :\n",
    "    for cls2 in ['Dtr', 'DtrH', 'P']:\n",
    "        if cls1 < cls2:\n",
    "            dfr.plot.scatter(x=(value, cls1), y=(value, cls2),\n",
    "                             color=colors)\n",
    "            #plt.xlim((0,0.1))\n",
    "            #plt.ylim((0,0.1))\n",
    "            plt.xlabel(cls1)\n",
    "            plt.ylabel(cls2)\n",
    "            plt.show()"
   ]
  },
  {
   "cell_type": "code",
   "execution_count": 28,
   "id": "10aedc37",
   "metadata": {},
   "outputs": [
    {
     "data": {
      "text/plain": [
       "array([ True,  True,  True,  True,  True,  True,  True,  True,  True,\n",
       "        True,  True,  True,  True,  True,  True,  True,  True,  True,\n",
       "        True,  True,  True,  True,  True,  True,  True,  True,  True,\n",
       "       False, False, False, False, False, False, False, False, False,\n",
       "       False, False, False, False, False, False, False, False, False,\n",
       "       False, False, False, False])"
      ]
     },
     "execution_count": 28,
     "metadata": {},
     "output_type": "execute_result"
    }
   ],
   "source": []
  },
  {
   "cell_type": "code",
   "execution_count": null,
   "id": "3fe2fb5a",
   "metadata": {},
   "outputs": [],
   "source": []
  }
 ],
 "metadata": {
  "kernelspec": {
   "display_name": "BiblicalScripts",
   "language": "python",
   "name": "python3"
  },
  "language_info": {
   "codemirror_mode": {
    "name": "ipython",
    "version": 3
   },
   "file_extension": ".py",
   "mimetype": "text/x-python",
   "name": "python",
   "nbconvert_exporter": "python",
   "pygments_lexer": "ipython3",
   "version": "3.8.5"
  }
 },
 "nbformat": 4,
 "nbformat_minor": 5
}
