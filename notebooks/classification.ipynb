{
 "cells": [
  {
   "cell_type": "markdown",
   "id": "944333b7",
   "metadata": {},
   "source": [
    "To do:\n",
    "\n",
    "- Try wilcoxon test to compare two distributions\n",
    "- ~~Feature selection One-vs-many seems to give good seperation~~ This may not be the case -- implemented ``majority``, but the accuracy is not high\n",
    "- Try to find the best scoring function\n",
    "\n",
    "### Load Context"
   ]
  },
  {
   "cell_type": "code",
   "execution_count": 69,
   "id": "39270fef",
   "metadata": {},
   "outputs": [
    {
     "name": "stdout",
     "output_type": "stream",
     "text": [
      "2022-05-24 21:58:03,585 - kedro.io.data_catalog - INFO - Loading data from `parameters` (MemoryDataSet)...\n",
      "2022-05-24 21:58:03,599 - kedro.io.data_catalog - INFO - Loading data from `data_proc` (CSVDataSet)...\n",
      "2022-05-24 21:58:03,793 - kedro.io.data_catalog - INFO - Loading data from `vocabulary` (CSVDataSet)...\n"
     ]
    }
   ],
   "source": [
    "import os\n",
    "import sys\n",
    "import scipy\n",
    "import pandas as pd\n",
    "import numpy as np\n",
    "from matplotlib import pyplot as plt\n",
    "from tqdm import tqdm\n",
    "os.chdir(\"/Users/kipnisal/DS/BiblicalScripts/bib-scripts/\")\n",
    "sys.path.append(\"/Users/kipnisal/DS/BiblicalScripts/bib-scripts/src\")\n",
    "\n",
    "params = catalog.load('parameters')\n",
    "\n",
    "data = catalog.load(\"data_proc\")\n",
    "vocab = catalog.load(\"vocabulary\")\n",
    "\n",
    "known_authors = params['known_authors']"
   ]
  },
  {
   "cell_type": "code",
   "execution_count": 73,
   "id": "84ea4e01",
   "metadata": {},
   "outputs": [
    {
     "data": {
      "text/plain": [
       "86"
      ]
     },
     "execution_count": 73,
     "metadata": {},
     "output_type": "execute_result"
    }
   ],
   "source": [
    "data[data.author.isin(known_authors)].chapter.nunique()"
   ]
  },
  {
   "cell_type": "code",
   "execution_count": 83,
   "id": "9544295f",
   "metadata": {},
   "outputs": [
    {
     "data": {
      "text/plain": [
       "True"
      ]
     },
     "execution_count": 83,
     "metadata": {},
     "output_type": "execute_result"
    }
   ],
   "source": [
    "df1 = pd.read_csv(\"/Users/kipnisal/DS/BiblicalScripts/bib-scripts/data/01_raw/reference_data_no_outliers.csv\")\n",
    "df2 = pd.read_csv(\"/Users/kipnisal/DS/BiblicalScripts/bib-scripts/data/01_raw/reference_data_no_outliers.csv\")"
   ]
  },
  {
   "cell_type": "code",
   "execution_count": 3,
   "id": "f26782fa",
   "metadata": {},
   "outputs": [],
   "source": [
    "import numpy as np\n",
    "from scipy.stats import f as fdist\n",
    "from scipy.stats import t as tdist\n",
    "from scipy.stats import norm\n",
    "from scipy.stats import ttest_ind as ttest\n",
    "from scipy.stats import levene\n",
    "from scipy.stats import bartlett\n",
    "\n",
    "def discrepancy(cnt1, cnt2, **kwargs):\n",
    "    \n",
    "    disc_type = kwargs.get('test', 'HC')\n",
    "    gamma = kwargs.get('gamma', .2)\n",
    "    \n",
    "    pvals = bin_allocation_test(cnt1, cnt2)\n",
    "    mt = MultiTest(pvals)\n",
    "    if disc_type == 'HC':\n",
    "        hc,_ = mt.hc_star(gamma = gamma)\n",
    "        return hc\n",
    "    if disc_type == 'Fisher':\n",
    "        return np.mean(-np.log(pvals))\n",
    "    \n",
    "    raise ValueError(\"Only HC-discrepancy is supported\")\n",
    "\n",
    "def merge_list_of_dataframes(lo_df):\n",
    "    dfr = pd.DataFrame()\n",
    "    for df in lo_df:\n",
    "        dfr = dfr.append(df, ignore_index=True)\n",
    "    return dfr\n",
    "        \n",
    "class CompareDocsRelativeResponse(object):\n",
    "    \"\"\"\n",
    "    Upon call, this object need to return \n",
    "    HC discrepancy of two points\n",
    "    \n",
    "    Can use CompareDocs model but does not have to\n",
    "    The issue is how to decide on a vocabulary\n",
    "    \n",
    "    \"\"\"\n",
    "    def __init__(self, compare_docs_model, discrepancy_type='HC'):\n",
    "        self.cd_model = compare_docs_model\n",
    "        self.disc_type = discrepancy_type\n",
    "        \n",
    "\n",
    "    def __call__(self, X1, X2):\n",
    "        cnt1 = self.cd_model.count_words(merge_list_of_dataframes(X1)).n\n",
    "        cnt2 = self.cd_model.count_words(merge_list_of_dataframes(X2)).n\n",
    "        return discrepancy(cnt1, cnt2, disc_type=self.disc_type)\n",
    "    \n",
    "\n",
    "def test_f(scores0, scores1):\n",
    "    def _sum_of_squares(scores):\n",
    "            return np.sum((scores - np.mean(scores)) ** 2)\n",
    "        \n",
    "    ss0 = _sum_of_squares(scores0)\n",
    "    ss1 = _sum_of_squares(scores1)\n",
    "    fstat = ss1 / ss0\n",
    "    return fstat, fdist.sf(ss1 / ss0, dfn=len(scores1)-1,dfd=len(scores0)-1)\n",
    "\n",
    "\n",
    "def test_bartlett(scores0, scores1):\n",
    "    return bartlett(scores0, scores1)\n",
    "\n",
    "\n",
    "def test_t_2smp(scores0, scores1):\n",
    "    return ttest(scores0, scores1)\n",
    "\n",
    "\n",
    "def test_t(scores0, scores1):\n",
    "    mu = np.mean(scores1[:-1])\n",
    "    s = np.std(scores1[:-1], ddof=1)\n",
    "    t = (scores1[-1] - mu) / ( s * np.sqrt(1 + 1/len(scores1[:-1]) ) )\n",
    "    return t, tdist.sf(t, df=len(scores1) - 2) # one-sided\n",
    "\n",
    "\n",
    "def test_wilcoxon(scores0, scores1):\n",
    "    return scipy.stats.ranksums(scores0, scores1)\n",
    "\n",
    "\n",
    "def test_perm(scores0, scores1):\n",
    "    \"\"\"\n",
    "    Two-sample permutation test\n",
    "    \"\"\"\n",
    "    return ttest(scores0, scores1, permutations=5000)\n",
    "\n",
    "\n",
    "def test_linear(scores0, scores1):\n",
    "    mu = np.mean(scores0)\n",
    "    t = (scores1[-1] - mu) / np.std(scores0, ddof=1)\n",
    "    return t, tdist.sf(t, df=len(scores0) - 1) # one-sided\n",
    "\n",
    "\n",
    "def test_levene(scores0, scores1):\n",
    "    return levene(scores0, scores1)"
   ]
  },
  {
   "cell_type": "code",
   "execution_count": 4,
   "id": "8aad4a53",
   "metadata": {},
   "outputs": [],
   "source": [
    "from twosample import bin_allocation_test\n",
    "from multitest import MultiTest\n",
    "from typing import List\n",
    "\n",
    "        \n",
    "class DivisibleClassClassifier(object):\n",
    "    \"\"\"\n",
    "    ANOVA-based classification using a base\n",
    "    response model. The relative response function is provided \n",
    "    in the fitting stage\n",
    "    \"\"\"\n",
    "    \n",
    "    def __init__(self):\n",
    "        self._data = {}\n",
    "        self.rr_func = None\n",
    "        self.classes_ = []\n",
    "        self.no_samples = {}\n",
    "    \n",
    "    def fit(self, relative_response_func, X: List, y: List):\n",
    "        \"\"\"\n",
    "        \n",
    "        Params:\n",
    "            :relative_response_model: a model with method 'predict' \n",
    "            that returns the relative response of two datasets\n",
    "            \n",
    "            :X:   data\n",
    "            :y:   labels\n",
    "            \n",
    "        \"\"\"\n",
    "        self.rr_func = relative_response_func\n",
    "        self.no_samples = {}\n",
    "        self._data = {}\n",
    "        self.classes_ = list(np.unique(y))\n",
    "        self.scores_ = {}\n",
    "        for cls in self.classes_:\n",
    "            X_cls = [X[i] for i,label in enumerate(y) if label == cls]\n",
    "            self._data[cls] = X_cls\n",
    "            self.scores_[cls] = self._within_corpus_disc(X_cls)\n",
    "            self.no_samples[cls] = len(X_cls)\n",
    "            \n",
    "    def predict(self, x):\n",
    "        probs = self.predict_proba(x)\n",
    "        res = {}\n",
    "        for k in probs:\n",
    "            res[k] = -np.log(probs[k])\n",
    "        return res\n",
    "        \n",
    "    def predict_table(self, x):\n",
    "        df = pd.DataFrame()\n",
    "        for cls in self.classes_:\n",
    "            X_extended = self._data[cls] + [x]\n",
    "            scores1 = self._within_corpus_disc(X_extended)\n",
    "            scores0 = self.scores_[cls]\n",
    "            stat, pval = self.test(scores0, scores1)\n",
    "            df = df.append({'cls' : cls,\n",
    "                            'scores1' : scores1,\n",
    "                            'scores0' : scores0,\n",
    "                            'n1' : len(scores0),\n",
    "                            'n2' : len(scores1),\n",
    "                            'stat' : stat, \n",
    "                            'pval' : pval\n",
    "                           }, ignore_index=True)\n",
    "        return df\n",
    "        \n",
    "    def predict_many(self, x):\n",
    "        df = pd.DataFrame()\n",
    "        for cls in self.classes_:\n",
    "            X_extended = self._data[cls] + [x]\n",
    "            scores1 = self._within_corpus_disc(X_extended)\n",
    "            scores0 = self.scores_[cls]\n",
    "            res = self.many_tests(scores0, scores1)\n",
    "            dfr = dict({'cls' : cls,\n",
    "                   'n1' : len(scores0),\n",
    "                   'n2' : len(scores1),\n",
    "                    **res})\n",
    "            df = df.append(dfr, ignore_index=True)\n",
    "        return df\n",
    "            \n",
    "    def predict_proba(self, x):\n",
    "        \"\"\"\n",
    "        Returns class probabilities\n",
    "        \n",
    "        Probabilites are obtained via f-test:\n",
    "        SS of each class with x included versue SS without x\n",
    "        \"\"\"\n",
    "        df = self.predict_table(x)\n",
    "        probs = dict(zip(df.cls, df.pval))\n",
    "        return probs\n",
    "    \n",
    "    \n",
    "    def test(self, scores0, scores1):\n",
    "        return test_t(scores0, scores1)\n",
    "    \n",
    "    \n",
    "    def many_tests(self, scores0, scores1):\n",
    "        return dict(\n",
    "        raw = scores1[-1], \n",
    "        pval_t = test_t(scores0, scores1)[1],\n",
    "        pval_f = test_f(scores0, scores1)[1],\n",
    "        pval_bartlett = test_bartlett(scores0, scores1)[1],\n",
    "        pval_2smp = test_t_2smp(scores0, scores1)[1],\n",
    "        pval_tLDA = test_linear(scores0, scores1)[1],\n",
    "        pval_levene = test_levene(scores0, scores1)[1],\n",
    "        pval_wilcox = test_wilcoxon(scores0, scores1).pvalue,\n",
    "        pval_2smp_perm = test_perm(scores0, scores1)[1]\n",
    "        )\n",
    "        \n",
    "        \n",
    "    def _within_corpus_disc(self, X: List):\n",
    "        \"\"\"\n",
    "        Find relative response of each element in X compared to the other elements.\n",
    "        \n",
    "        Params:\n",
    "            :X:  data\n",
    "        \n",
    "        Returns:\n",
    "            :scores:     relative response\n",
    "        \"\"\"\n",
    "        scores = np.zeros(len(X))\n",
    "        for i,x in enumerate(X):\n",
    "            scores[i] = self.rr_func([x], [X[j] for j,_ in enumerate(X) if j != i])\n",
    "        return scores\n",
    "        "
   ]
  },
  {
   "cell_type": "code",
   "execution_count": 27,
   "id": "1ca8f279",
   "metadata": {},
   "outputs": [],
   "source": [
    "from biblical_scripts.pipelines.sim.nodes import (\n",
    "    build_model, model_predict, _prepare_data)\n",
    "from sklearn.model_selection import KFold\n",
    "from sklearn.model_selection import RepeatedKFold, RepeatedStratifiedKFold"
   ]
  },
  {
   "cell_type": "code",
   "execution_count": 6,
   "id": "c27069eb",
   "metadata": {},
   "outputs": [
    {
     "name": "stdout",
     "output_type": "stream",
     "text": [
      "2022-05-23 08:18:28,481 - numexpr.utils - INFO - NumExpr defaulting to 8 threads.\n"
     ]
    }
   ],
   "source": [
    "data = _prepare_data(data[data.to_report])\n",
    "data_known = data[data.author.isin(known_authors)]\n",
    "lo_docs = data_known.doc_id.unique()"
   ]
  },
  {
   "cell_type": "code",
   "execution_count": 37,
   "id": "a7e043f0",
   "metadata": {},
   "outputs": [
    {
     "name": "stderr",
     "output_type": "stream",
     "text": [
      "0it [00:00, ?it/s]"
     ]
    },
    {
     "name": "stdout",
     "output_type": "stream",
     "text": [
      "2022-05-23 09:50:08,154 - root - INFO - Building CompareDocs model using 46 documents. \n"
     ]
    },
    {
     "name": "stderr",
     "output_type": "stream",
     "text": [
      "1it [00:08,  8.41s/it]"
     ]
    },
    {
     "name": "stdout",
     "output_type": "stream",
     "text": [
      "2022-05-23 09:50:16,558 - root - INFO - Building CompareDocs model using 46 documents. \n"
     ]
    },
    {
     "name": "stderr",
     "output_type": "stream",
     "text": [
      "2it [00:16,  8.21s/it]"
     ]
    },
    {
     "name": "stdout",
     "output_type": "stream",
     "text": [
      "2022-05-23 09:50:24,636 - root - INFO - Building CompareDocs model using 46 documents. \n"
     ]
    },
    {
     "name": "stderr",
     "output_type": "stream",
     "text": [
      "3it [00:24,  8.27s/it]"
     ]
    },
    {
     "name": "stdout",
     "output_type": "stream",
     "text": [
      "2022-05-23 09:50:32,975 - root - INFO - Building CompareDocs model using 46 documents. \n"
     ]
    },
    {
     "name": "stderr",
     "output_type": "stream",
     "text": [
      "4it [00:33,  8.29s/it]"
     ]
    },
    {
     "name": "stdout",
     "output_type": "stream",
     "text": [
      "2022-05-23 09:50:41,282 - root - INFO - Building CompareDocs model using 46 documents. \n"
     ]
    },
    {
     "name": "stderr",
     "output_type": "stream",
     "text": [
      "5it [00:41,  8.25s/it]"
     ]
    },
    {
     "name": "stdout",
     "output_type": "stream",
     "text": [
      "2022-05-23 09:50:49,477 - root - INFO - Building CompareDocs model using 46 documents. \n"
     ]
    },
    {
     "name": "stderr",
     "output_type": "stream",
     "text": [
      "6it [00:49,  8.35s/it]"
     ]
    },
    {
     "name": "stdout",
     "output_type": "stream",
     "text": [
      "2022-05-23 09:50:58,013 - root - INFO - Building CompareDocs model using 46 documents. \n"
     ]
    },
    {
     "name": "stderr",
     "output_type": "stream",
     "text": [
      "7it [00:57,  8.26s/it]"
     ]
    },
    {
     "name": "stdout",
     "output_type": "stream",
     "text": [
      "2022-05-23 09:51:06,080 - root - INFO - Building CompareDocs model using 46 documents. \n"
     ]
    },
    {
     "name": "stderr",
     "output_type": "stream",
     "text": [
      "8it [01:05,  8.19s/it]"
     ]
    },
    {
     "name": "stdout",
     "output_type": "stream",
     "text": [
      "2022-05-23 09:51:14,133 - root - INFO - Building CompareDocs model using 46 documents. \n"
     ]
    },
    {
     "name": "stderr",
     "output_type": "stream",
     "text": [
      "9it [01:14,  8.19s/it]"
     ]
    },
    {
     "name": "stdout",
     "output_type": "stream",
     "text": [
      "2022-05-23 09:51:22,305 - root - INFO - Building CompareDocs model using 46 documents. \n"
     ]
    },
    {
     "name": "stderr",
     "output_type": "stream",
     "text": [
      "10it [01:22,  8.18s/it]"
     ]
    },
    {
     "name": "stdout",
     "output_type": "stream",
     "text": [
      "2022-05-23 09:51:30,474 - root - INFO - Building CompareDocs model using 46 documents. \n"
     ]
    },
    {
     "name": "stderr",
     "output_type": "stream",
     "text": [
      "11it [01:30,  8.23s/it]"
     ]
    },
    {
     "name": "stdout",
     "output_type": "stream",
     "text": [
      "2022-05-23 09:51:38,823 - root - INFO - Building CompareDocs model using 47 documents. \n"
     ]
    },
    {
     "name": "stderr",
     "output_type": "stream",
     "text": [
      "12it [01:37,  7.95s/it]"
     ]
    },
    {
     "name": "stdout",
     "output_type": "stream",
     "text": [
      "2022-05-23 09:51:46,124 - root - INFO - Building CompareDocs model using 47 documents. \n"
     ]
    },
    {
     "name": "stderr",
     "output_type": "stream",
     "text": [
      "13it [01:44,  7.64s/it]"
     ]
    },
    {
     "name": "stdout",
     "output_type": "stream",
     "text": [
      "2022-05-23 09:51:53,056 - root - INFO - Building CompareDocs model using 46 documents. \n"
     ]
    },
    {
     "name": "stderr",
     "output_type": "stream",
     "text": [
      "14it [01:53,  7.85s/it]"
     ]
    },
    {
     "name": "stdout",
     "output_type": "stream",
     "text": [
      "2022-05-23 09:52:01,392 - root - INFO - Building CompareDocs model using 46 documents. \n"
     ]
    },
    {
     "name": "stderr",
     "output_type": "stream",
     "text": [
      "15it [02:01,  7.94s/it]"
     ]
    },
    {
     "name": "stdout",
     "output_type": "stream",
     "text": [
      "2022-05-23 09:52:09,533 - root - INFO - Building CompareDocs model using 46 documents. \n"
     ]
    },
    {
     "name": "stderr",
     "output_type": "stream",
     "text": [
      "16it [02:09,  8.01s/it]"
     ]
    },
    {
     "name": "stdout",
     "output_type": "stream",
     "text": [
      "2022-05-23 09:52:17,709 - root - INFO - Building CompareDocs model using 46 documents. \n"
     ]
    },
    {
     "name": "stderr",
     "output_type": "stream",
     "text": [
      "17it [02:17,  8.05s/it]"
     ]
    },
    {
     "name": "stdout",
     "output_type": "stream",
     "text": [
      "2022-05-23 09:52:25,865 - root - INFO - Building CompareDocs model using 46 documents. \n"
     ]
    },
    {
     "name": "stderr",
     "output_type": "stream",
     "text": [
      "18it [02:25,  8.11s/it]"
     ]
    },
    {
     "name": "stdout",
     "output_type": "stream",
     "text": [
      "2022-05-23 09:52:34,108 - root - INFO - Building CompareDocs model using 46 documents. \n"
     ]
    },
    {
     "name": "stderr",
     "output_type": "stream",
     "text": [
      "19it [02:34,  8.23s/it]"
     ]
    },
    {
     "name": "stdout",
     "output_type": "stream",
     "text": [
      "2022-05-23 09:52:42,600 - root - INFO - Building CompareDocs model using 46 documents. \n"
     ]
    },
    {
     "name": "stderr",
     "output_type": "stream",
     "text": [
      "20it [02:42,  8.24s/it]"
     ]
    },
    {
     "name": "stdout",
     "output_type": "stream",
     "text": [
      "2022-05-23 09:52:50,860 - root - INFO - Building CompareDocs model using 46 documents. \n"
     ]
    },
    {
     "name": "stderr",
     "output_type": "stream",
     "text": [
      "21it [02:51,  8.36s/it]"
     ]
    },
    {
     "name": "stdout",
     "output_type": "stream",
     "text": [
      "2022-05-23 09:52:59,525 - root - INFO - Building CompareDocs model using 46 documents. \n"
     ]
    },
    {
     "name": "stderr",
     "output_type": "stream",
     "text": [
      "22it [02:59,  8.39s/it]"
     ]
    },
    {
     "name": "stdout",
     "output_type": "stream",
     "text": [
      "2022-05-23 09:53:07,976 - root - INFO - Building CompareDocs model using 46 documents. \n"
     ]
    },
    {
     "name": "stderr",
     "output_type": "stream",
     "text": [
      "23it [03:08,  8.45s/it]"
     ]
    },
    {
     "name": "stdout",
     "output_type": "stream",
     "text": [
      "2022-05-23 09:53:16,566 - root - INFO - Building CompareDocs model using 46 documents. \n"
     ]
    },
    {
     "name": "stderr",
     "output_type": "stream",
     "text": [
      "24it [03:16,  8.45s/it]"
     ]
    },
    {
     "name": "stdout",
     "output_type": "stream",
     "text": [
      "2022-05-23 09:53:25,024 - root - INFO - Building CompareDocs model using 47 documents. \n"
     ]
    },
    {
     "name": "stderr",
     "output_type": "stream",
     "text": [
      "25it [03:23,  7.95s/it]"
     ]
    },
    {
     "name": "stdout",
     "output_type": "stream",
     "text": [
      "2022-05-23 09:53:31,808 - root - INFO - Building CompareDocs model using 47 documents. \n"
     ]
    },
    {
     "name": "stderr",
     "output_type": "stream",
     "text": [
      "26it [03:30,  7.68s/it]"
     ]
    },
    {
     "name": "stdout",
     "output_type": "stream",
     "text": [
      "2022-05-23 09:53:38,841 - root - INFO - Building CompareDocs model using 46 documents. \n"
     ]
    },
    {
     "name": "stderr",
     "output_type": "stream",
     "text": [
      "27it [03:38,  7.83s/it]"
     ]
    },
    {
     "name": "stdout",
     "output_type": "stream",
     "text": [
      "2022-05-23 09:53:47,041 - root - INFO - Building CompareDocs model using 46 documents. \n"
     ]
    },
    {
     "name": "stderr",
     "output_type": "stream",
     "text": [
      "28it [03:47,  7.98s/it]"
     ]
    },
    {
     "name": "stdout",
     "output_type": "stream",
     "text": [
      "2022-05-23 09:53:55,369 - root - INFO - Building CompareDocs model using 46 documents. \n"
     ]
    },
    {
     "name": "stderr",
     "output_type": "stream",
     "text": [
      "29it [03:55,  8.19s/it]"
     ]
    },
    {
     "name": "stdout",
     "output_type": "stream",
     "text": [
      "2022-05-23 09:54:04,029 - root - INFO - Building CompareDocs model using 46 documents. \n"
     ]
    },
    {
     "name": "stderr",
     "output_type": "stream",
     "text": [
      "30it [04:04,  8.24s/it]"
     ]
    },
    {
     "name": "stdout",
     "output_type": "stream",
     "text": [
      "2022-05-23 09:54:12,401 - root - INFO - Building CompareDocs model using 46 documents. \n"
     ]
    },
    {
     "name": "stderr",
     "output_type": "stream",
     "text": [
      "31it [04:12,  8.18s/it]"
     ]
    },
    {
     "name": "stdout",
     "output_type": "stream",
     "text": [
      "2022-05-23 09:54:20,430 - root - INFO - Building CompareDocs model using 46 documents. \n"
     ]
    },
    {
     "name": "stderr",
     "output_type": "stream",
     "text": [
      "32it [04:20,  8.22s/it]"
     ]
    },
    {
     "name": "stdout",
     "output_type": "stream",
     "text": [
      "2022-05-23 09:54:28,747 - root - INFO - Building CompareDocs model using 46 documents. \n"
     ]
    },
    {
     "name": "stderr",
     "output_type": "stream",
     "text": [
      "33it [04:29,  8.37s/it]"
     ]
    },
    {
     "name": "stdout",
     "output_type": "stream",
     "text": [
      "2022-05-23 09:54:37,457 - root - INFO - Building CompareDocs model using 46 documents. \n"
     ]
    },
    {
     "name": "stderr",
     "output_type": "stream",
     "text": [
      "34it [04:37,  8.33s/it]"
     ]
    },
    {
     "name": "stdout",
     "output_type": "stream",
     "text": [
      "2022-05-23 09:54:45,693 - root - INFO - Building CompareDocs model using 46 documents. \n"
     ]
    },
    {
     "name": "stderr",
     "output_type": "stream",
     "text": [
      "35it [04:45,  8.30s/it]"
     ]
    },
    {
     "name": "stdout",
     "output_type": "stream",
     "text": [
      "2022-05-23 09:54:53,923 - root - INFO - Building CompareDocs model using 46 documents. \n"
     ]
    },
    {
     "name": "stderr",
     "output_type": "stream",
     "text": [
      "36it [04:54,  8.44s/it]"
     ]
    },
    {
     "name": "stdout",
     "output_type": "stream",
     "text": [
      "2022-05-23 09:55:02,684 - root - INFO - Building CompareDocs model using 46 documents. \n"
     ]
    },
    {
     "name": "stderr",
     "output_type": "stream",
     "text": [
      "37it [05:03,  8.52s/it]"
     ]
    },
    {
     "name": "stdout",
     "output_type": "stream",
     "text": [
      "2022-05-23 09:55:11,402 - root - INFO - Building CompareDocs model using 47 documents. \n"
     ]
    },
    {
     "name": "stderr",
     "output_type": "stream",
     "text": [
      "38it [05:10,  8.19s/it]"
     ]
    },
    {
     "name": "stdout",
     "output_type": "stream",
     "text": [
      "2022-05-23 09:55:18,809 - root - INFO - Building CompareDocs model using 47 documents. \n"
     ]
    },
    {
     "name": "stderr",
     "output_type": "stream",
     "text": [
      "39it [05:17,  7.88s/it]"
     ]
    },
    {
     "name": "stdout",
     "output_type": "stream",
     "text": [
      "2022-05-23 09:55:25,982 - root - INFO - Building CompareDocs model using 46 documents. \n"
     ]
    },
    {
     "name": "stderr",
     "output_type": "stream",
     "text": [
      "40it [05:26,  8.05s/it]"
     ]
    },
    {
     "name": "stdout",
     "output_type": "stream",
     "text": [
      "2022-05-23 09:55:34,437 - root - INFO - Building CompareDocs model using 46 documents. \n"
     ]
    },
    {
     "name": "stderr",
     "output_type": "stream",
     "text": [
      "41it [05:35,  8.28s/it]"
     ]
    },
    {
     "name": "stdout",
     "output_type": "stream",
     "text": [
      "2022-05-23 09:55:43,239 - root - INFO - Building CompareDocs model using 46 documents. \n"
     ]
    },
    {
     "name": "stderr",
     "output_type": "stream",
     "text": [
      "42it [05:44,  8.47s/it]"
     ]
    },
    {
     "name": "stdout",
     "output_type": "stream",
     "text": [
      "2022-05-23 09:55:52,151 - root - INFO - Building CompareDocs model using 46 documents. \n"
     ]
    },
    {
     "name": "stderr",
     "output_type": "stream",
     "text": [
      "43it [05:52,  8.62s/it]"
     ]
    },
    {
     "name": "stdout",
     "output_type": "stream",
     "text": [
      "2022-05-23 09:56:01,137 - root - INFO - Building CompareDocs model using 46 documents. \n"
     ]
    },
    {
     "name": "stderr",
     "output_type": "stream",
     "text": [
      "44it [06:01,  8.60s/it]"
     ]
    },
    {
     "name": "stdout",
     "output_type": "stream",
     "text": [
      "2022-05-23 09:56:09,670 - root - INFO - Building CompareDocs model using 46 documents. \n"
     ]
    },
    {
     "name": "stderr",
     "output_type": "stream",
     "text": [
      "45it [06:10,  8.70s/it]"
     ]
    },
    {
     "name": "stdout",
     "output_type": "stream",
     "text": [
      "2022-05-23 09:56:18,603 - root - INFO - Building CompareDocs model using 46 documents. \n"
     ]
    },
    {
     "name": "stderr",
     "output_type": "stream",
     "text": [
      "46it [06:18,  8.61s/it]"
     ]
    },
    {
     "name": "stdout",
     "output_type": "stream",
     "text": [
      "2022-05-23 09:56:27,006 - root - INFO - Building CompareDocs model using 46 documents. \n"
     ]
    },
    {
     "name": "stderr",
     "output_type": "stream",
     "text": [
      "47it [06:27,  8.61s/it]"
     ]
    },
    {
     "name": "stdout",
     "output_type": "stream",
     "text": [
      "2022-05-23 09:56:35,624 - root - INFO - Building CompareDocs model using 46 documents. \n"
     ]
    },
    {
     "name": "stderr",
     "output_type": "stream",
     "text": [
      "48it [06:36,  8.62s/it]"
     ]
    },
    {
     "name": "stdout",
     "output_type": "stream",
     "text": [
      "2022-05-23 09:56:44,247 - root - INFO - Building CompareDocs model using 46 documents. \n"
     ]
    },
    {
     "name": "stderr",
     "output_type": "stream",
     "text": [
      "49it [06:44,  8.65s/it]"
     ]
    },
    {
     "name": "stdout",
     "output_type": "stream",
     "text": [
      "2022-05-23 09:56:52,993 - root - INFO - Building CompareDocs model using 46 documents. \n"
     ]
    },
    {
     "name": "stderr",
     "output_type": "stream",
     "text": [
      "50it [06:53,  8.55s/it]"
     ]
    },
    {
     "name": "stdout",
     "output_type": "stream",
     "text": [
      "2022-05-23 09:57:01,288 - root - INFO - Building CompareDocs model using 47 documents. \n"
     ]
    },
    {
     "name": "stderr",
     "output_type": "stream",
     "text": [
      "51it [07:00,  8.12s/it]"
     ]
    },
    {
     "name": "stdout",
     "output_type": "stream",
     "text": [
      "2022-05-23 09:57:08,421 - root - INFO - Building CompareDocs model using 47 documents. \n"
     ]
    },
    {
     "name": "stderr",
     "output_type": "stream",
     "text": [
      "52it [07:07,  7.88s/it]"
     ]
    },
    {
     "name": "stdout",
     "output_type": "stream",
     "text": [
      "2022-05-23 09:57:15,739 - root - INFO - Building CompareDocs model using 46 documents. \n"
     ]
    },
    {
     "name": "stderr",
     "output_type": "stream",
     "text": [
      "53it [07:16,  8.11s/it]"
     ]
    },
    {
     "name": "stdout",
     "output_type": "stream",
     "text": [
      "2022-05-23 09:57:24,384 - root - INFO - Building CompareDocs model using 46 documents. \n"
     ]
    },
    {
     "name": "stderr",
     "output_type": "stream",
     "text": [
      "54it [07:24,  8.21s/it]"
     ]
    },
    {
     "name": "stdout",
     "output_type": "stream",
     "text": [
      "2022-05-23 09:57:32,827 - root - INFO - Building CompareDocs model using 46 documents. \n"
     ]
    },
    {
     "name": "stderr",
     "output_type": "stream",
     "text": [
      "55it [07:33,  8.27s/it]"
     ]
    },
    {
     "name": "stdout",
     "output_type": "stream",
     "text": [
      "2022-05-23 09:57:41,251 - root - INFO - Building CompareDocs model using 46 documents. \n"
     ]
    },
    {
     "name": "stderr",
     "output_type": "stream",
     "text": [
      "56it [07:41,  8.30s/it]"
     ]
    },
    {
     "name": "stdout",
     "output_type": "stream",
     "text": [
      "2022-05-23 09:57:49,595 - root - INFO - Building CompareDocs model using 46 documents. \n"
     ]
    },
    {
     "name": "stderr",
     "output_type": "stream",
     "text": [
      "57it [07:49,  8.36s/it]"
     ]
    },
    {
     "name": "stdout",
     "output_type": "stream",
     "text": [
      "2022-05-23 09:57:58,100 - root - INFO - Building CompareDocs model using 46 documents. \n"
     ]
    },
    {
     "name": "stderr",
     "output_type": "stream",
     "text": [
      "58it [07:58,  8.41s/it]"
     ]
    },
    {
     "name": "stdout",
     "output_type": "stream",
     "text": [
      "2022-05-23 09:58:06,621 - root - INFO - Building CompareDocs model using 46 documents. \n"
     ]
    },
    {
     "name": "stderr",
     "output_type": "stream",
     "text": [
      "59it [08:06,  8.41s/it]"
     ]
    },
    {
     "name": "stdout",
     "output_type": "stream",
     "text": [
      "2022-05-23 09:58:15,023 - root - INFO - Building CompareDocs model using 46 documents. \n"
     ]
    },
    {
     "name": "stderr",
     "output_type": "stream",
     "text": [
      "60it [08:15,  8.41s/it]"
     ]
    },
    {
     "name": "stdout",
     "output_type": "stream",
     "text": [
      "2022-05-23 09:58:23,430 - root - INFO - Building CompareDocs model using 46 documents. \n"
     ]
    },
    {
     "name": "stderr",
     "output_type": "stream",
     "text": [
      "61it [08:23,  8.34s/it]"
     ]
    },
    {
     "name": "stdout",
     "output_type": "stream",
     "text": [
      "2022-05-23 09:58:31,620 - root - INFO - Building CompareDocs model using 46 documents. \n"
     ]
    },
    {
     "name": "stderr",
     "output_type": "stream",
     "text": [
      "62it [08:31,  8.27s/it]"
     ]
    },
    {
     "name": "stdout",
     "output_type": "stream",
     "text": [
      "2022-05-23 09:58:39,718 - root - INFO - Building CompareDocs model using 46 documents. \n"
     ]
    },
    {
     "name": "stderr",
     "output_type": "stream",
     "text": [
      "63it [08:40,  8.49s/it]"
     ]
    },
    {
     "name": "stdout",
     "output_type": "stream",
     "text": [
      "2022-05-23 09:58:48,712 - root - INFO - Building CompareDocs model using 47 documents. \n"
     ]
    },
    {
     "name": "stderr",
     "output_type": "stream",
     "text": [
      "64it [08:47,  7.99s/it]"
     ]
    },
    {
     "name": "stdout",
     "output_type": "stream",
     "text": [
      "2022-05-23 09:58:55,548 - root - INFO - Building CompareDocs model using 47 documents. \n"
     ]
    },
    {
     "name": "stderr",
     "output_type": "stream",
     "text": [
      "65it [08:54,  7.70s/it]"
     ]
    },
    {
     "name": "stdout",
     "output_type": "stream",
     "text": [
      "2022-05-23 09:59:02,580 - root - INFO - Building CompareDocs model using 46 documents. \n"
     ]
    },
    {
     "name": "stderr",
     "output_type": "stream",
     "text": [
      "66it [09:02,  7.83s/it]"
     ]
    },
    {
     "name": "stdout",
     "output_type": "stream",
     "text": [
      "2022-05-23 09:59:10,719 - root - INFO - Building CompareDocs model using 46 documents. \n"
     ]
    },
    {
     "name": "stderr",
     "output_type": "stream",
     "text": [
      "67it [09:10,  7.93s/it]"
     ]
    },
    {
     "name": "stdout",
     "output_type": "stream",
     "text": [
      "2022-05-23 09:59:18,889 - root - INFO - Building CompareDocs model using 46 documents. \n"
     ]
    },
    {
     "name": "stderr",
     "output_type": "stream",
     "text": [
      "68it [09:19,  8.05s/it]"
     ]
    },
    {
     "name": "stdout",
     "output_type": "stream",
     "text": [
      "2022-05-23 09:59:27,193 - root - INFO - Building CompareDocs model using 46 documents. \n"
     ]
    },
    {
     "name": "stderr",
     "output_type": "stream",
     "text": [
      "69it [09:27,  8.27s/it]"
     ]
    },
    {
     "name": "stdout",
     "output_type": "stream",
     "text": [
      "2022-05-23 09:59:35,981 - root - INFO - Building CompareDocs model using 46 documents. \n"
     ]
    },
    {
     "name": "stderr",
     "output_type": "stream",
     "text": [
      "70it [09:36,  8.37s/it]"
     ]
    },
    {
     "name": "stdout",
     "output_type": "stream",
     "text": [
      "2022-05-23 09:59:44,572 - root - INFO - Building CompareDocs model using 46 documents. \n"
     ]
    },
    {
     "name": "stderr",
     "output_type": "stream",
     "text": [
      "71it [09:44,  8.34s/it]"
     ]
    },
    {
     "name": "stdout",
     "output_type": "stream",
     "text": [
      "2022-05-23 09:59:52,867 - root - INFO - Building CompareDocs model using 46 documents. \n"
     ]
    },
    {
     "name": "stderr",
     "output_type": "stream",
     "text": [
      "72it [09:53,  8.42s/it]"
     ]
    },
    {
     "name": "stdout",
     "output_type": "stream",
     "text": [
      "2022-05-23 10:00:01,449 - root - INFO - Building CompareDocs model using 46 documents. \n"
     ]
    },
    {
     "name": "stderr",
     "output_type": "stream",
     "text": [
      "73it [10:01,  8.46s/it]"
     ]
    },
    {
     "name": "stdout",
     "output_type": "stream",
     "text": [
      "2022-05-23 10:00:10,025 - root - INFO - Building CompareDocs model using 46 documents. \n"
     ]
    },
    {
     "name": "stderr",
     "output_type": "stream",
     "text": [
      "74it [10:10,  8.48s/it]"
     ]
    },
    {
     "name": "stdout",
     "output_type": "stream",
     "text": [
      "2022-05-23 10:00:18,531 - root - INFO - Building CompareDocs model using 46 documents. \n"
     ]
    },
    {
     "name": "stderr",
     "output_type": "stream",
     "text": [
      "75it [10:18,  8.48s/it]"
     ]
    },
    {
     "name": "stdout",
     "output_type": "stream",
     "text": [
      "2022-05-23 10:00:27,012 - root - INFO - Building CompareDocs model using 46 documents. \n"
     ]
    },
    {
     "name": "stderr",
     "output_type": "stream",
     "text": [
      "76it [10:27,  8.61s/it]"
     ]
    },
    {
     "name": "stdout",
     "output_type": "stream",
     "text": [
      "2022-05-23 10:00:35,922 - root - INFO - Building CompareDocs model using 47 documents. \n"
     ]
    },
    {
     "name": "stderr",
     "output_type": "stream",
     "text": [
      "77it [10:34,  8.13s/it]"
     ]
    },
    {
     "name": "stdout",
     "output_type": "stream",
     "text": [
      "2022-05-23 10:00:42,929 - root - INFO - Building CompareDocs model using 47 documents. \n"
     ]
    },
    {
     "name": "stderr",
     "output_type": "stream",
     "text": [
      "78it [10:41,  7.81s/it]"
     ]
    },
    {
     "name": "stdout",
     "output_type": "stream",
     "text": [
      "2022-05-23 10:00:49,998 - root - INFO - Building CompareDocs model using 46 documents. \n"
     ]
    },
    {
     "name": "stderr",
     "output_type": "stream",
     "text": [
      "79it [10:50,  8.10s/it]"
     ]
    },
    {
     "name": "stdout",
     "output_type": "stream",
     "text": [
      "2022-05-23 10:00:58,760 - root - INFO - Building CompareDocs model using 46 documents. \n"
     ]
    },
    {
     "name": "stderr",
     "output_type": "stream",
     "text": [
      "80it [10:59,  8.31s/it]"
     ]
    },
    {
     "name": "stdout",
     "output_type": "stream",
     "text": [
      "2022-05-23 10:01:07,555 - root - INFO - Building CompareDocs model using 46 documents. \n"
     ]
    },
    {
     "name": "stderr",
     "output_type": "stream",
     "text": [
      "81it [11:08,  8.41s/it]"
     ]
    },
    {
     "name": "stdout",
     "output_type": "stream",
     "text": [
      "2022-05-23 10:01:16,217 - root - INFO - Building CompareDocs model using 46 documents. \n"
     ]
    },
    {
     "name": "stderr",
     "output_type": "stream",
     "text": [
      "82it [11:16,  8.51s/it]"
     ]
    },
    {
     "name": "stdout",
     "output_type": "stream",
     "text": [
      "2022-05-23 10:01:24,969 - root - INFO - Building CompareDocs model using 46 documents. \n"
     ]
    },
    {
     "name": "stderr",
     "output_type": "stream",
     "text": [
      "83it [11:25,  8.50s/it]"
     ]
    },
    {
     "name": "stdout",
     "output_type": "stream",
     "text": [
      "2022-05-23 10:01:33,441 - root - INFO - Building CompareDocs model using 46 documents. \n"
     ]
    },
    {
     "name": "stderr",
     "output_type": "stream",
     "text": [
      "84it [11:34,  8.60s/it]"
     ]
    },
    {
     "name": "stdout",
     "output_type": "stream",
     "text": [
      "2022-05-23 10:01:42,258 - root - INFO - Building CompareDocs model using 46 documents. \n"
     ]
    },
    {
     "name": "stderr",
     "output_type": "stream",
     "text": [
      "85it [11:42,  8.61s/it]"
     ]
    },
    {
     "name": "stdout",
     "output_type": "stream",
     "text": [
      "2022-05-23 10:01:50,897 - root - INFO - Building CompareDocs model using 46 documents. \n"
     ]
    },
    {
     "name": "stderr",
     "output_type": "stream",
     "text": [
      "86it [11:51,  8.55s/it]"
     ]
    },
    {
     "name": "stdout",
     "output_type": "stream",
     "text": [
      "2022-05-23 10:01:59,310 - root - INFO - Building CompareDocs model using 46 documents. \n"
     ]
    },
    {
     "name": "stderr",
     "output_type": "stream",
     "text": [
      "87it [11:59,  8.59s/it]"
     ]
    },
    {
     "name": "stdout",
     "output_type": "stream",
     "text": [
      "2022-05-23 10:02:08,000 - root - INFO - Building CompareDocs model using 46 documents. \n"
     ]
    },
    {
     "name": "stderr",
     "output_type": "stream",
     "text": [
      "88it [12:08,  8.66s/it]"
     ]
    },
    {
     "name": "stdout",
     "output_type": "stream",
     "text": [
      "2022-05-23 10:02:16,823 - root - INFO - Building CompareDocs model using 46 documents. \n"
     ]
    },
    {
     "name": "stderr",
     "output_type": "stream",
     "text": [
      "89it [12:17,  8.65s/it]"
     ]
    },
    {
     "name": "stdout",
     "output_type": "stream",
     "text": [
      "2022-05-23 10:02:25,454 - root - INFO - Building CompareDocs model using 47 documents. \n"
     ]
    },
    {
     "name": "stderr",
     "output_type": "stream",
     "text": [
      "90it [12:24,  8.25s/it]"
     ]
    },
    {
     "name": "stdout",
     "output_type": "stream",
     "text": [
      "2022-05-23 10:02:32,752 - root - INFO - Building CompareDocs model using 47 documents. \n"
     ]
    },
    {
     "name": "stderr",
     "output_type": "stream",
     "text": [
      "91it [12:31,  7.94s/it]"
     ]
    },
    {
     "name": "stdout",
     "output_type": "stream",
     "text": [
      "2022-05-23 10:02:39,966 - root - INFO - Building CompareDocs model using 46 documents. \n"
     ]
    },
    {
     "name": "stderr",
     "output_type": "stream",
     "text": [
      "92it [12:40,  8.10s/it]"
     ]
    },
    {
     "name": "stdout",
     "output_type": "stream",
     "text": [
      "2022-05-23 10:02:48,433 - root - INFO - Building CompareDocs model using 46 documents. \n"
     ]
    },
    {
     "name": "stderr",
     "output_type": "stream",
     "text": [
      "93it [12:48,  8.26s/it]"
     ]
    },
    {
     "name": "stdout",
     "output_type": "stream",
     "text": [
      "2022-05-23 10:02:57,065 - root - INFO - Building CompareDocs model using 46 documents. \n"
     ]
    },
    {
     "name": "stderr",
     "output_type": "stream",
     "text": [
      "94it [12:57,  8.33s/it]"
     ]
    },
    {
     "name": "stdout",
     "output_type": "stream",
     "text": [
      "2022-05-23 10:03:05,553 - root - INFO - Building CompareDocs model using 46 documents. \n"
     ]
    },
    {
     "name": "stderr",
     "output_type": "stream",
     "text": [
      "95it [13:05,  8.37s/it]"
     ]
    },
    {
     "name": "stdout",
     "output_type": "stream",
     "text": [
      "2022-05-23 10:03:14,037 - root - INFO - Building CompareDocs model using 46 documents. \n"
     ]
    },
    {
     "name": "stderr",
     "output_type": "stream",
     "text": [
      "96it [13:14,  8.40s/it]"
     ]
    },
    {
     "name": "stdout",
     "output_type": "stream",
     "text": [
      "2022-05-23 10:03:22,498 - root - INFO - Building CompareDocs model using 46 documents. \n"
     ]
    },
    {
     "name": "stderr",
     "output_type": "stream",
     "text": [
      "97it [13:22,  8.37s/it]"
     ]
    },
    {
     "name": "stdout",
     "output_type": "stream",
     "text": [
      "2022-05-23 10:03:30,787 - root - INFO - Building CompareDocs model using 46 documents. \n"
     ]
    },
    {
     "name": "stderr",
     "output_type": "stream",
     "text": [
      "98it [13:31,  8.40s/it]"
     ]
    },
    {
     "name": "stdout",
     "output_type": "stream",
     "text": [
      "2022-05-23 10:03:39,274 - root - INFO - Building CompareDocs model using 46 documents. \n"
     ]
    },
    {
     "name": "stderr",
     "output_type": "stream",
     "text": [
      "99it [13:39,  8.49s/it]"
     ]
    },
    {
     "name": "stdout",
     "output_type": "stream",
     "text": [
      "2022-05-23 10:03:47,957 - root - INFO - Building CompareDocs model using 46 documents. \n"
     ]
    },
    {
     "name": "stderr",
     "output_type": "stream",
     "text": [
      "100it [13:48,  8.49s/it]"
     ]
    },
    {
     "name": "stdout",
     "output_type": "stream",
     "text": [
      "2022-05-23 10:03:56,442 - root - INFO - Building CompareDocs model using 46 documents. \n"
     ]
    },
    {
     "name": "stderr",
     "output_type": "stream",
     "text": [
      "101it [13:56,  8.45s/it]"
     ]
    },
    {
     "name": "stdout",
     "output_type": "stream",
     "text": [
      "2022-05-23 10:04:04,812 - root - INFO - Building CompareDocs model using 46 documents. \n"
     ]
    },
    {
     "name": "stderr",
     "output_type": "stream",
     "text": [
      "102it [14:04,  8.37s/it]"
     ]
    },
    {
     "name": "stdout",
     "output_type": "stream",
     "text": [
      "2022-05-23 10:04:12,978 - root - INFO - Building CompareDocs model using 47 documents. \n"
     ]
    },
    {
     "name": "stderr",
     "output_type": "stream",
     "text": [
      "103it [14:11,  7.97s/it]"
     ]
    },
    {
     "name": "stdout",
     "output_type": "stream",
     "text": [
      "2022-05-23 10:04:20,014 - root - INFO - Building CompareDocs model using 47 documents. \n"
     ]
    },
    {
     "name": "stderr",
     "output_type": "stream",
     "text": [
      "104it [14:18,  7.62s/it]"
     ]
    },
    {
     "name": "stdout",
     "output_type": "stream",
     "text": [
      "2022-05-23 10:04:26,815 - root - INFO - Building CompareDocs model using 46 documents. \n"
     ]
    },
    {
     "name": "stderr",
     "output_type": "stream",
     "text": [
      "105it [14:27,  7.87s/it]"
     ]
    },
    {
     "name": "stdout",
     "output_type": "stream",
     "text": [
      "2022-05-23 10:04:35,288 - root - INFO - Building CompareDocs model using 46 documents. \n"
     ]
    },
    {
     "name": "stderr",
     "output_type": "stream",
     "text": [
      "106it [14:35,  8.06s/it]"
     ]
    },
    {
     "name": "stdout",
     "output_type": "stream",
     "text": [
      "2022-05-23 10:04:43,792 - root - INFO - Building CompareDocs model using 46 documents. \n"
     ]
    },
    {
     "name": "stderr",
     "output_type": "stream",
     "text": [
      "107it [14:43,  8.10s/it]"
     ]
    },
    {
     "name": "stdout",
     "output_type": "stream",
     "text": [
      "2022-05-23 10:04:51,970 - root - INFO - Building CompareDocs model using 46 documents. \n"
     ]
    },
    {
     "name": "stderr",
     "output_type": "stream",
     "text": [
      "108it [14:52,  8.26s/it]"
     ]
    },
    {
     "name": "stdout",
     "output_type": "stream",
     "text": [
      "2022-05-23 10:05:00,621 - root - INFO - Building CompareDocs model using 46 documents. \n"
     ]
    },
    {
     "name": "stderr",
     "output_type": "stream",
     "text": [
      "109it [15:00,  8.31s/it]"
     ]
    },
    {
     "name": "stdout",
     "output_type": "stream",
     "text": [
      "2022-05-23 10:05:09,027 - root - INFO - Building CompareDocs model using 46 documents. \n"
     ]
    },
    {
     "name": "stderr",
     "output_type": "stream",
     "text": [
      "110it [15:09,  8.40s/it]"
     ]
    },
    {
     "name": "stdout",
     "output_type": "stream",
     "text": [
      "2022-05-23 10:05:17,651 - root - INFO - Building CompareDocs model using 46 documents. \n"
     ]
    },
    {
     "name": "stderr",
     "output_type": "stream",
     "text": [
      "111it [15:17,  8.42s/it]"
     ]
    },
    {
     "name": "stdout",
     "output_type": "stream",
     "text": [
      "2022-05-23 10:05:26,126 - root - INFO - Building CompareDocs model using 46 documents. \n"
     ]
    },
    {
     "name": "stderr",
     "output_type": "stream",
     "text": [
      "112it [15:26,  8.38s/it]"
     ]
    },
    {
     "name": "stdout",
     "output_type": "stream",
     "text": [
      "2022-05-23 10:05:34,419 - root - INFO - Building CompareDocs model using 46 documents. \n"
     ]
    },
    {
     "name": "stderr",
     "output_type": "stream",
     "text": [
      "113it [15:34,  8.35s/it]"
     ]
    },
    {
     "name": "stdout",
     "output_type": "stream",
     "text": [
      "2022-05-23 10:05:42,701 - root - INFO - Building CompareDocs model using 46 documents. \n"
     ]
    },
    {
     "name": "stderr",
     "output_type": "stream",
     "text": [
      "114it [15:43,  8.41s/it]"
     ]
    },
    {
     "name": "stdout",
     "output_type": "stream",
     "text": [
      "2022-05-23 10:05:51,247 - root - INFO - Building CompareDocs model using 46 documents. \n"
     ]
    },
    {
     "name": "stderr",
     "output_type": "stream",
     "text": [
      "115it [15:51,  8.37s/it]"
     ]
    },
    {
     "name": "stdout",
     "output_type": "stream",
     "text": [
      "2022-05-23 10:05:59,528 - root - INFO - Building CompareDocs model using 47 documents. \n"
     ]
    },
    {
     "name": "stderr",
     "output_type": "stream",
     "text": [
      "116it [15:58,  8.02s/it]"
     ]
    },
    {
     "name": "stdout",
     "output_type": "stream",
     "text": [
      "2022-05-23 10:06:06,711 - root - INFO - Building CompareDocs model using 47 documents. \n"
     ]
    },
    {
     "name": "stderr",
     "output_type": "stream",
     "text": [
      "117it [16:05,  7.68s/it]"
     ]
    },
    {
     "name": "stdout",
     "output_type": "stream",
     "text": [
      "2022-05-23 10:06:13,607 - root - INFO - Building CompareDocs model using 46 documents. \n"
     ]
    },
    {
     "name": "stderr",
     "output_type": "stream",
     "text": [
      "118it [16:13,  7.89s/it]"
     ]
    },
    {
     "name": "stdout",
     "output_type": "stream",
     "text": [
      "2022-05-23 10:06:21,972 - root - INFO - Building CompareDocs model using 46 documents. \n"
     ]
    },
    {
     "name": "stderr",
     "output_type": "stream",
     "text": [
      "119it [16:22,  8.01s/it]"
     ]
    },
    {
     "name": "stdout",
     "output_type": "stream",
     "text": [
      "2022-05-23 10:06:30,280 - root - INFO - Building CompareDocs model using 46 documents. \n"
     ]
    },
    {
     "name": "stderr",
     "output_type": "stream",
     "text": [
      "120it [16:30,  8.17s/it]"
     ]
    },
    {
     "name": "stdout",
     "output_type": "stream",
     "text": [
      "2022-05-23 10:06:38,834 - root - INFO - Building CompareDocs model using 46 documents. \n"
     ]
    },
    {
     "name": "stderr",
     "output_type": "stream",
     "text": [
      "121it [16:39,  8.31s/it]"
     ]
    },
    {
     "name": "stdout",
     "output_type": "stream",
     "text": [
      "2022-05-23 10:06:47,464 - root - INFO - Building CompareDocs model using 46 documents. \n"
     ]
    },
    {
     "name": "stderr",
     "output_type": "stream",
     "text": [
      "122it [16:47,  8.32s/it]"
     ]
    },
    {
     "name": "stdout",
     "output_type": "stream",
     "text": [
      "2022-05-23 10:06:55,798 - root - INFO - Building CompareDocs model using 46 documents. \n"
     ]
    },
    {
     "name": "stderr",
     "output_type": "stream",
     "text": [
      "123it [16:56,  8.34s/it]"
     ]
    },
    {
     "name": "stdout",
     "output_type": "stream",
     "text": [
      "2022-05-23 10:07:04,197 - root - INFO - Building CompareDocs model using 46 documents. \n"
     ]
    },
    {
     "name": "stderr",
     "output_type": "stream",
     "text": [
      "124it [17:04,  8.46s/it]"
     ]
    },
    {
     "name": "stdout",
     "output_type": "stream",
     "text": [
      "2022-05-23 10:07:12,933 - root - INFO - Building CompareDocs model using 46 documents. \n"
     ]
    },
    {
     "name": "stderr",
     "output_type": "stream",
     "text": [
      "125it [17:13,  8.49s/it]"
     ]
    },
    {
     "name": "stdout",
     "output_type": "stream",
     "text": [
      "2022-05-23 10:07:21,492 - root - INFO - Building CompareDocs model using 46 documents. \n"
     ]
    },
    {
     "name": "stderr",
     "output_type": "stream",
     "text": [
      "126it [17:21,  8.47s/it]"
     ]
    },
    {
     "name": "stdout",
     "output_type": "stream",
     "text": [
      "2022-05-23 10:07:29,923 - root - INFO - Building CompareDocs model using 46 documents. \n"
     ]
    },
    {
     "name": "stderr",
     "output_type": "stream",
     "text": [
      "127it [17:30,  8.46s/it]"
     ]
    },
    {
     "name": "stdout",
     "output_type": "stream",
     "text": [
      "2022-05-23 10:07:38,342 - root - INFO - Building CompareDocs model using 46 documents. \n"
     ]
    },
    {
     "name": "stderr",
     "output_type": "stream",
     "text": [
      "128it [17:38,  8.46s/it]"
     ]
    },
    {
     "name": "stdout",
     "output_type": "stream",
     "text": [
      "2022-05-23 10:07:46,805 - root - INFO - Building CompareDocs model using 47 documents. \n"
     ]
    },
    {
     "name": "stderr",
     "output_type": "stream",
     "text": [
      "129it [17:45,  7.97s/it]"
     ]
    },
    {
     "name": "stdout",
     "output_type": "stream",
     "text": [
      "2022-05-23 10:07:53,637 - root - INFO - Building CompareDocs model using 47 documents. \n"
     ]
    },
    {
     "name": "stderr",
     "output_type": "stream",
     "text": [
      "130it [17:52,  8.25s/it]\n"
     ]
    }
   ],
   "source": [
    "def arrange_training_data(data):\n",
    "    X = []\n",
    "    y = []\n",
    "    lo_authors = data.author.unique()\n",
    "    for auth in lo_authors:\n",
    "        ds_auth = data[data.author == auth]\n",
    "        lo_docs = ds_auth.doc_id.unique()\n",
    "        Xauth = [c[1] for c in ds_auth.groupby('doc_id')]\n",
    "        X += Xauth\n",
    "        y += [auth] * len(Xauth)\n",
    "    return X, y\n",
    "\n",
    "\n",
    "n_splits = 13\n",
    "shuffle = True\n",
    "n_repeats = 10\n",
    "\n",
    "\n",
    "train_doc_names = data_known.filter(['doc_id', 'author']).drop_duplicates().doc_id\n",
    "train_doc_authors = data_known.filter(['doc_id', 'author']).drop_duplicates().author\n",
    "#kf = RepeatedStratifiedKFold(n_splits=n_splits, n_repeats=n_repeats)\n",
    "kf = RepeatedKFold(n_splits=n_splits, n_repeats=n_repeats)\n",
    "\n",
    "df_res = pd.DataFrame()\n",
    "\n",
    "acc = 0\n",
    "for train_index, test_index in tqdm(kf.split(train_doc_names, train_doc_authors)):\n",
    "    acc += 1\n",
    "    test_docs = train_doc_names.iloc[test_index]\n",
    "    ds1 = data_known[data_known.doc_id.isin(test_docs)] # test docs data\n",
    "    data_train = data_known.drop(ds1.index) # drop whatever is in test\n",
    "    \n",
    "    md, vocab = build_model(data_train, vocab, params['model'])\n",
    "    cdrr = CompareDocsRelativeResponse(md)\n",
    "    \n",
    "    X, y = arrange_training_data(data_train)\n",
    "    anova_cls = DivisibleClassClassifier()\n",
    "    anova_cls.fit(cdrr, X, y)\n",
    "    \n",
    "    for doc in test_docs:\n",
    "        ds11 = data_known[data_known.doc_id == doc]\n",
    "        res = anova_cls.predict_many(ds11)\n",
    "        res['doc_tested'] = doc\n",
    "        res['len'] = len(ds11)\n",
    "        res['repeat'] = acc // n_splits\n",
    "        df_res = df_res.append(res, ignore_index=True)\n"
   ]
  },
  {
   "cell_type": "code",
   "execution_count": 68,
   "id": "513793d3",
   "metadata": {},
   "outputs": [
    {
     "name": "stdout",
     "output_type": "stream",
     "text": [
      "Accuracy with pval_2smp = 0.64\n",
      "Accuracy with pval_2smp_perm = 0.64\n",
      "Accuracy with pval_bartlett = 0.48\n",
      "Accuracy with pval_f = 0.66\n",
      "Accuracy with pval_levene = 0.5\n",
      "Accuracy with pval_t = 0.86\n",
      "Accuracy with pval_tLDA = 0.84\n",
      "Accuracy with pval_wilcox = 0.78\n"
     ]
    }
   ],
   "source": [
    "df_res.loc[: ,'true_class'] = df_res.doc_tested.apply(lambda x : x.split('|')[0])\n",
    "#df_res.loc[:, 'neg_raw'] = -df_res['raw']\n",
    "\n",
    "for value in df_res.columns[df_res.columns.str.contains(r'pval|neg_raw|avg')]:        \n",
    "    idx = df_res.groupby('doc_tested')[value].idxmax(axis=1)\n",
    "    acc = np.mean(df_res.loc[idx, 'cls'] == df_res.loc[idx, 'true_class']) \n",
    "    print(f\"Accuracy with {value} = {acc}\")\n",
    "    #std = np.std(df_res.loc[idx, 'cls'] == df_res.loc[idx, 'true_class']) \n",
    "    #print(f\"Std with {value} = {std}\")\n",
    "    #df_res['predicted_class'] = df_res[['Dtr', 'DtrH', 'P']].idxmin(axis=1)\n",
    "    #print(\"Accuracy: \", np.mean(df_res.predicted_class == df_res.true_class))"
   ]
  },
  {
   "cell_type": "code",
   "execution_count": 63,
   "id": "f62cf30a",
   "metadata": {},
   "outputs": [
    {
     "name": "stdout",
     "output_type": "stream",
     "text": [
      "Mean =  0.8578739522888459\n",
      "Std =  0.052353878111379995\n"
     ]
    }
   ],
   "source": [
    "df_res.loc[: ,'true_class'] = df_res.doc_tested.apply(lambda x : x.split('|')[0])\n",
    "#df_res.loc[:, 'neg_raw'] = -df_res['raw']\n",
    "\n",
    "df_res_cv = pd.DataFrame()\n",
    "for c in df_res.groupby('repeat'):\n",
    "    for value in c[1].columns[c[1].columns.str.contains(r'pval|neg_raw|avg')]:        \n",
    "        idx = c[1].groupby('doc_tested')[value].idxmax(axis=1)\n",
    "        acc = np.mean(c[1].loc[idx, 'cls'] == c[1].loc[idx, 'true_class']) \n",
    "        #print(f\"Accuracy with {value} = {acc}\")\n",
    "        df_res_cv = df_res_cv.append(\n",
    "            {'value': value,\n",
    "             'acc': acc,\n",
    "             'repeat': c[0]\n",
    "        }, ignore_index=True)\n",
    "        #df_res['predicted_class'] = df_res[['Dtr', 'DtrH', 'P']].idxmin(axis=1)\n",
    "        #print(\"Accuracy: \", np.mean(df_res.predicted_class == df_res.true_class))\n",
    "value = 'pval_t'\n",
    "print(\"Mean = \", df_res_cv[df_res_cv['value'] == value].acc.mean())\n",
    "print(\"Std = \", df_res_cv[df_res_cv['value'] == value].acc.std())"
   ]
  },
  {
   "cell_type": "code",
   "execution_count": 62,
   "id": "791d8e53",
   "metadata": {},
   "outputs": [
    {
     "name": "stdout",
     "output_type": "stream",
     "text": [
      "0.07324759196498103\n",
      "0.04144164135848568\n",
      "\n",
      "\n",
      "0.07324611595841671\n",
      "0.042103990215439896\n",
      "\n",
      "\n",
      "0.07499804368139859\n",
      "0.15863078611095574\n",
      "\n",
      "\n",
      "0.06815828152767664\n",
      "0.10541747351022016\n",
      "\n",
      "\n",
      "0.07497945559702364\n",
      "0.11348466864218883\n",
      "\n",
      "\n",
      "0.05264077107086744\n",
      "0.052353878111379995\n",
      "\n",
      "\n",
      "0.05293798222957187\n",
      "0.05298422977831183\n",
      "\n",
      "\n",
      "0.07056875642928004\n",
      "0.059513938492178585\n",
      "\n",
      "\n"
     ]
    }
   ],
   "source": [
    "for value in df_res.columns[df_res.columns.str.contains(r'pval|neg_raw|avg')]:\n",
    "    mean = df_res_cv[df_res_cv['value'] == value].acc.mean()\n",
    "    std = df_res_cv[df_res_cv['value'] == value].acc.std()\n",
    "    print(np.sqrt((1-mean) * mean / len(df_res_cv[df_res_cv['value'] == value])) / 2)\n",
    "    print(std)\n",
    "    print('\\n')\n"
   ]
  },
  {
   "cell_type": "code",
   "execution_count": 66,
   "id": "86da27ab",
   "metadata": {},
   "outputs": [
    {
     "data": {
      "image/png": "[encoded data removed]",
      "text/plain": [
       "<Figure size 432x288 with 1 Axes>"
      ]
     },
     "metadata": {
      "needs_background": "light"
     },
     "output_type": "display_data"
    },
    {
     "name": "stderr",
     "output_type": "stream",
     "text": [
      "<ipython-input-66-9d991b5a82ca>:13: UserWarning: Boolean Series key will be reindexed to match DataFrame index.\n",
      "<ipython-input-66-9d991b5a82ca>:13: UserWarning: Boolean Series key will be reindexed to match DataFrame index.\n"
     ]
    },
    {
     "data": {
      "text/html": [
       "<div>\n",
       "<style scoped>\n",
       "    .dataframe tbody tr th:only-of-type {\n",
       "        vertical-align: middle;\n",
       "    }\n",
       "\n",
       "    .dataframe tbody tr th {\n",
       "        vertical-align: top;\n",
       "    }\n",
       "\n",
       "    .dataframe thead th {\n",
       "        text-align: right;\n",
       "    }\n",
       "</style>\n",
       "<table border=\"1\" class=\"dataframe\">\n",
       "  <thead>\n",
       "    <tr style=\"text-align: right;\">\n",
       "      <th></th>\n",
       "      <th>cls</th>\n",
       "      <th>n1</th>\n",
       "      <th>n2</th>\n",
       "      <th>doc_tested</th>\n",
       "      <th>raw</th>\n",
       "      <th>true_class</th>\n",
       "      <th>pval_tLDA</th>\n",
       "      <th>pval_t</th>\n",
       "      <th>t-score</th>\n",
       "      <th>t_test</th>\n",
       "      <th>('value', 'mean')</th>\n",
       "      <th>('value', 'count')</th>\n",
       "    </tr>\n",
       "  </thead>\n",
       "  <tbody>\n",
       "    <tr>\n",
       "      <th>15</th>\n",
       "      <td>Dtr</td>\n",
       "      <td>8.0</td>\n",
       "      <td>9.0</td>\n",
       "      <td>Dtr|Deut.19</td>\n",
       "      <td>2.169542</td>\n",
       "      <td>Dtr</td>\n",
       "      <td>0.263881</td>\n",
       "      <td>0.201162</td>\n",
       "      <td>0.077118</td>\n",
       "      <td>0.470344</td>\n",
       "      <td>1.169069</td>\n",
       "      <td>8</td>\n",
       "    </tr>\n",
       "    <tr>\n",
       "      <th>90</th>\n",
       "      <td>Dtr</td>\n",
       "      <td>7.0</td>\n",
       "      <td>8.0</td>\n",
       "      <td>Dtr|Deut.15</td>\n",
       "      <td>2.744395</td>\n",
       "      <td>Dtr</td>\n",
       "      <td>0.046568</td>\n",
       "      <td>0.080018</td>\n",
       "      <td>0.891548</td>\n",
       "      <td>0.201120</td>\n",
       "      <td>1.078535</td>\n",
       "      <td>8</td>\n",
       "    </tr>\n",
       "    <tr>\n",
       "      <th>93</th>\n",
       "      <td>Dtr</td>\n",
       "      <td>7.0</td>\n",
       "      <td>8.0</td>\n",
       "      <td>Dtr|Deut.16</td>\n",
       "      <td>1.958934</td>\n",
       "      <td>Dtr</td>\n",
       "      <td>0.157389</td>\n",
       "      <td>0.146356</td>\n",
       "      <td>0.287108</td>\n",
       "      <td>0.391171</td>\n",
       "      <td>1.192409</td>\n",
       "      <td>8</td>\n",
       "    </tr>\n",
       "  </tbody>\n",
       "</table>\n",
       "</div>"
      ],
      "text/plain": [
       "    cls   n1   n2   doc_tested       raw true_class  pval_tLDA    pval_t  \\\n",
       "15  Dtr  8.0  9.0  Dtr|Deut.19  2.169542        Dtr   0.263881  0.201162   \n",
       "90  Dtr  7.0  8.0  Dtr|Deut.15  2.744395        Dtr   0.046568  0.080018   \n",
       "93  Dtr  7.0  8.0  Dtr|Deut.16  1.958934        Dtr   0.157389  0.146356   \n",
       "\n",
       "     t-score    t_test  ('value', 'mean')  ('value', 'count')  \n",
       "15  0.077118  0.470344           1.169069                   8  \n",
       "90  0.891548  0.201120           1.078535                   8  \n",
       "93  0.287108  0.391171           1.192409                   8  "
      ]
     },
     "execution_count": 66,
     "metadata": {},
     "output_type": "execute_result"
    }
   ],
   "source": [
    "# compare with previous evaluation\n",
    "\n",
    "df = df_res.merge(probs.rename(columns={'corpus' : 'cls'}), on=['doc_tested', 'cls'])\n",
    "df['t_test'] = np.exp(-df['t_test'])\n",
    "df1 = df.filter(['cls', 'n1', 'n2', 'doc_tested', 'raw', 'len', 'true_class', 'pval_tLDA', 'pval_t', 't-score', 't_test', \"('value', 'mean')\", \"('value', 'count')\"])\n",
    "\n",
    "color_dic = {'Dtr' : 'red', 'DtrH' : 'green', 'P' : 'blue'}\n",
    "colors = [color_dic[a] for a in df1['cls'].values]\n",
    "\n",
    "df1.plot.scatter(x='pval_t', y='t_test', color=colors)\n",
    "plt.show()\n",
    "\n",
    "df1[df1.cls == 'Dtr'][df1.true_class == 'Dtr'][df1.t_test/df1.pval_t > 1.1]"
   ]
  },
  {
   "cell_type": "code",
   "execution_count": 15,
   "id": "cbc2f686",
   "metadata": {},
   "outputs": [],
   "source": [
    "dfr = df_res.filter(regex=r'(pval_|raw|cls|doc_tested|true_class|avg)').pivot(columns = 'cls', index='doc_tested')"
   ]
  },
  {
   "cell_type": "code",
   "execution_count": 16,
   "id": "245db613",
   "metadata": {},
   "outputs": [],
   "source": [
    "color_dic = {'Dtr' : 'red', 'DtrH' : 'green', 'P' : 'blue'}\n",
    "colors = [color_dic[a] for a in dfr['true_class']['P'].values]"
   ]
  },
  {
   "cell_type": "code",
   "execution_count": 17,
   "id": "d6d5c531",
   "metadata": {},
   "outputs": [
    {
     "data": {
      "image/png": "[encoded data removed]",
      "text/plain": [
       "<Figure size 432x288 with 1 Axes>"
      ]
     },
     "metadata": {
      "needs_background": "light"
     },
     "output_type": "display_data"
    },
    {
     "data": {
      "image/png": "[encoded data removed]",
      "text/plain": [
       "<Figure size 432x288 with 1 Axes>"
      ]
     },
     "metadata": {
      "needs_background": "light"
     },
     "output_type": "display_data"
    },
    {
     "data": {
      "image/png": "[encoded data removed]",
      "text/plain": [
       "<Figure size 432x288 with 1 Axes>"
      ]
     },
     "metadata": {
      "needs_background": "light"
     },
     "output_type": "display_data"
    }
   ],
   "source": [
    "value = 'pval_tLDA'\n",
    "\n",
    "for cls1 in ['Dtr', 'DtrH', 'P'] :\n",
    "    for cls2 in ['Dtr', 'DtrH', 'P']:\n",
    "        if cls1 < cls2:\n",
    "            dfr.plot.scatter(x=(value, cls1), y=(value, cls2),\n",
    "                             color=colors)\n",
    "            #plt.xlim((0,0.1))\n",
    "            #plt.ylim((0,0.1))\n",
    "            plt.xlabel(cls1)\n",
    "            plt.ylabel(cls2)\n",
    "            plt.show()"
   ]
  },
  {
   "cell_type": "code",
   "execution_count": 21,
   "id": "bba8b736",
   "metadata": {},
   "outputs": [],
   "source": []
  },
  {
   "cell_type": "code",
   "execution_count": 26,
   "id": "869ab919",
   "metadata": {},
   "outputs": [
    {
     "name": "stderr",
     "output_type": "stream",
     "text": [
      "0it [00:00, ?it/s]/usr/local/lib/python3.8/site-packages/sklearn/model_selection/_split.py:666: UserWarning: The least populated class in y has only 9 members, which is less than n_splits=13.\n",
      "/usr/local/lib/python3.8/site-packages/sklearn/model_selection/_split.py:666: UserWarning: The least populated class in y has only 9 members, which is less than n_splits=13.\n",
      "26it [00:00, 4842.66it/s]"
     ]
    },
    {
     "name": "stdout",
     "output_type": "stream",
     "text": [
      "[ 0 20 27 45]\n",
      "[ 8  9 23 36]\n",
      "[ 1 16 30 31]\n",
      "[ 2 26 39 48]\n",
      "[ 3 18 32 35]\n",
      "[ 5 22 44 49]\n",
      "[ 4 11 37 43]\n",
      "[ 6 21 42 47]\n",
      "[ 7 24 28 46]\n",
      "[10 19 33 38]\n",
      "[12 15 34 40]\n",
      "[13 17 29]\n",
      "[14 25 41]\n",
      "[ 1 13 18 29]\n",
      "[ 4 11 21 43]\n",
      "[ 6 23 28 38]\n",
      "[ 3 25 33 48]\n",
      "[ 5 16 30 35]\n",
      "[ 2 15 42 44]\n",
      "[ 7  9 46 49]\n",
      "[ 0 20 31 41]\n",
      "[ 8 12 34 36]\n",
      "[19 24 37 40]\n",
      "[14 26 32 39]\n",
      "[10 27 45]\n",
      "[17 22 47]\n"
     ]
    },
    {
     "name": "stderr",
     "output_type": "stream",
     "text": [
      "\n"
     ]
    }
   ],
   "source": [
    "train_doc_names = data_known.filter(['doc_id', 'author']).drop_duplicates()\n",
    "train_doc_authors = data_known.filter(['doc_id', 'author']).drop_duplicates().author\n",
    "kf = RepeatedStratifiedKFold(n_splits=13, n_repeats=2)\n",
    "for train_index, test_index in tqdm(kf.split(train_doc_names, train_doc_authors)):\n",
    "    print(test_index)"
   ]
  },
  {
   "cell_type": "code",
   "execution_count": 185,
   "id": "971081b7",
   "metadata": {},
   "outputs": [
    {
     "data": {
      "text/plain": [
       "[<matplotlib.lines.Line2D at 0x15b336490>]"
      ]
     },
     "execution_count": 185,
     "metadata": {},
     "output_type": "execute_result"
    },
    {
     "data": {
      "image/png": "[encoded data removed]",
      "text/plain": [
       "<Figure size 432x288 with 1 Axes>"
      ]
     },
     "metadata": {
      "needs_background": "light"
     },
     "output_type": "display_data"
    }
   ],
   "source": [
    "plt.plot(y_preds)\n",
    "plt.plot(y_true)"
   ]
  },
  {
   "cell_type": "code",
   "execution_count": null,
   "id": "6fd87974",
   "metadata": {},
   "outputs": [],
   "source": []
  }
 ],
 "metadata": {
  "kernelspec": {
   "display_name": "BiblicalScripts",
   "language": "python",
   "name": "python3"
  },
  "language_info": {
   "codemirror_mode": {
    "name": "ipython",
    "version": 3
   },
   "file_extension": ".py",
   "mimetype": "text/x-python",
   "name": "python",
   "nbconvert_exporter": "python",
   "pygments_lexer": "ipython3",
   "version": "3.8.5"
  }
 },
 "nbformat": 4,
 "nbformat_minor": 5
}
