{
 "cells": [
  {
   "cell_type": "markdown",
   "id": "7d4b8367",
   "metadata": {},
   "source": [
    "### Load Context"
   ]
  },
  {
   "cell_type": "code",
   "execution_count": 1,
   "id": "e7d36ef2",
   "metadata": {},
   "outputs": [
    {
     "name": "stdout",
     "output_type": "stream",
     "text": [
      "2022-03-03 09:55:44,459 - kedro.io.data_catalog - INFO - Loading data from `parameters` (MemoryDataSet)...\n",
      "2022-03-03 09:55:44,459 - kedro.io.data_catalog - INFO - Loading data from `data_proc` (CSVDataSet)...\n",
      "2022-03-03 09:55:44,612 - kedro.io.data_catalog - INFO - Loading data from `vocabulary` (CSVDataSet)...\n"
     ]
    }
   ],
   "source": [
    "import os\n",
    "import sys\n",
    "import pandas as pd\n",
    "import numpy as np\n",
    "from matplotlib import pyplot as plt\n",
    "from tqdm import tqdm\n",
    "os.chdir(\"/Users/kipnisal/DS/BiblicalScripts/bib-scripts/\")\n",
    "sys.path.append(\"/Users/kipnisal/DS/BiblicalScripts/bib-scripts/src\")\n",
    "\n",
    "params = catalog.load('parameters')\n",
    "\n",
    "data = catalog.load(\"data_proc\")\n",
    "vocab = catalog.load(\"vocabulary\")\n",
    "\n",
    "known_authors = params['known_authors']"
   ]
  },
  {
   "cell_type": "code",
   "execution_count": 2,
   "id": "5a829b3a",
   "metadata": {},
   "outputs": [
    {
     "data": {
      "text/plain": [
       "{'feat_reduction_method': 'none',\n",
       " 'gamma': 0.15,\n",
       " 'stbl': True,\n",
       " 'measures': ['HC', 'Fisher']}"
      ]
     },
     "execution_count": 2,
     "metadata": {},
     "output_type": "execute_result"
    }
   ],
   "source": [
    "params['model']"
   ]
  },
  {
   "cell_type": "markdown",
   "id": "ce3c5f39",
   "metadata": {},
   "source": [
    "# Classification using ANOVA\n",
    "\n",
    "We have corpora and documents we would like to test their attribution. For a corpus $\\mathcal C$, define the corpus self-discrepancies as\n",
    "$$\n",
    "G_0(\\mathcal C) := \\{ d_{HC}(D',\\mathcal C\\setminus\\{D'\\})\\}_{D' \\in \\mathcal C} \n",
    "$$\n",
    "\n",
    "For a corpus $\\mathcal C$ and a document $D$ not represented in $\\mathcal C$, denote $\\mathcal C(D) := \\mathcal C \\cup \\{D\\}$ (the corpus obtained by adding $D$ to $\\mathcal C$). Define their set of combined discrepncies as\n",
    "$$\n",
    "G_1(D,\\mathcal C) := \\{d_{HC}(D',\\mathcal C(D) \\setminus \\{D'\\} )\\}_{D' \\in  \\mathcal C^{(i)}}\n",
    "$$\n",
    "\n",
    "We compute two sum-of-squares:\n",
    "$$\n",
    "SS_0 = \\sum_{x \\in G_0(\\mathcal C)} (x- \\mathrm Avg\\{G_0(\\mathcal C)\\} )^2\n",
    "$$\n",
    "$$\n",
    "SS_1 = \\sum_{x \\in G_1(D,\\mathcal C)} (x- \\mathrm Avg\\{G_1(D,\\mathcal C)\\} )^2\n",
    "$$\n",
    "\n",
    "Under some assumptions, it makes sense to use\n",
    "$$\n",
    "f = \\frac{SS_1}{SS_0}\n",
    "$$\n",
    "and test against \n",
    "$$\n",
    "H_0\\,:\\, f \\sim F_{|\\mathcal C|-1,|\\mathcal C|-2}\n",
    "$$\n"
   ]
  },
  {
   "cell_type": "code",
   "execution_count": 3,
   "id": "d73c8b1d",
   "metadata": {},
   "outputs": [],
   "source": [
    "import numpy as np\n",
    "from scipy.stats import f as fdist\n",
    "from scipy.stats import t as tdist\n",
    "from scipy.stats import norm\n",
    "from scipy.stats import ttest_ind as ttest\n",
    "from scipy.stats import levene\n",
    "from scipy.stats import bartlett\n",
    "\n",
    "def discrepancy(cnt1, cnt2, **kwargs):\n",
    "    \n",
    "    disc_type = kwargs.get('test', 'HC')\n",
    "    gamma = kwargs.get('gamma', .2)\n",
    "    \n",
    "    pvals = bin_allocation_test(cnt1, cnt2)\n",
    "    mt = MultiTest(pvals)\n",
    "    if disc_type == 'HC':\n",
    "        hc,_ = mt.hc_star(gamma = gamma)\n",
    "        return hc\n",
    "    if disc_type == 'Fisher':\n",
    "        return np.mean(-np.log(pvals))\n",
    "    \n",
    "    raise ValueError(\"Only HC-discrepancy is supported\")\n",
    "\n",
    "def merge_list_of_dataframes(lo_df):\n",
    "    dfr = pd.DataFrame()\n",
    "    for df in lo_df:\n",
    "        dfr = dfr.append(df, ignore_index=True)\n",
    "    return dfr\n",
    "        \n",
    "class CompareDocsRelativeResponse(object):\n",
    "    \"\"\"\n",
    "    Upon call, this object need to return \n",
    "    HC discrepancy of two points\n",
    "    \n",
    "    Can use CompareDocs model but does not have to\n",
    "    The issue is how to decide on a vocabulary\n",
    "    \n",
    "    \"\"\"\n",
    "    def __init__(self, compare_docs_model, discrepancy_type='HC'):\n",
    "        self.cd_model = compare_docs_model\n",
    "        self.disc_type = discrepancy_type\n",
    "    \n",
    "\n",
    "    def __call__(self, X1, X2):\n",
    "        cnt1 = self.cd_model.count_words(merge_list_of_dataframes(X1)).n\n",
    "        cnt2 = self.cd_model.count_words(merge_list_of_dataframes(X2)).n\n",
    "        return discrepancy(cnt1, cnt2, disc_type=self.disc_type)\n",
    "    \n",
    "\n",
    "def test_f(scores0, scores1):\n",
    "    def _sum_of_squares(scores):\n",
    "            return np.sum((scores - np.mean(scores)) ** 2)\n",
    "        \n",
    "    ss0 = _sum_of_squares(scores0)\n",
    "    ss1 = _sum_of_squares(scores1)\n",
    "    fstat = ss1 / ss0\n",
    "    return fstat, fdist.sf(ss1 / ss0, dfn=len(scores1)-1,dfd=len(scores0)-1)\n",
    "\n",
    "\n",
    "def test_bartlett(scores0, scores1):\n",
    "    return bartlett(scores0, scores1)\n",
    "\n",
    "\n",
    "def test_t_2smp(scores0, scores1):\n",
    "    return ttest(scores0, scores1)\n",
    "\n",
    "def test_t(scores0, scores1):\n",
    "    mu = np.mean(scores1[:-1])\n",
    "    t = (scores1[-1] - mu) / np.std(scores1[:-1])\n",
    "    return t, tdist.sf(t, df=len(scores1) - 2) # one-sided\n",
    "\n",
    "\n",
    "def test_linear(scores0, scores1):\n",
    "    mu = np.mean(scores0)\n",
    "    t = (scores1[-1] - mu) / np.std(scores0)\n",
    "    return t, tdist.sf(t, df=len(scores0) - 1) # one-sided\n",
    "\n",
    "\n",
    "def test_levene(scores0, scores1):\n",
    "    return levene(scores0, scores1)"
   ]
  },
  {
   "cell_type": "code",
   "execution_count": 4,
   "id": "7897ce56",
   "metadata": {},
   "outputs": [],
   "source": [
    "from twosample import bin_allocation_test\n",
    "from multitest import MultiTest\n",
    "from typing import List\n",
    "\n",
    "\n",
    "class AnovaClassifier(object):\n",
    "    \"\"\"\n",
    "    ANOVA-based classification using a base\n",
    "    response model.\n",
    "    \n",
    "    \"\"\"\n",
    "    \n",
    "    def __init__(self):\n",
    "        self._data = {}\n",
    "        self.rr_func = None\n",
    "        self.classes_ = []\n",
    "        self.no_samples = {}\n",
    "    \n",
    "    def fit(self, relative_response_func, X: List, y: List):\n",
    "        \"\"\"\n",
    "        \n",
    "        Params:\n",
    "            :relative_response_model: a model with method 'predict' \n",
    "            that returns the relative response of two datasets\n",
    "            \n",
    "            :X:   data\n",
    "            :y:   labels\n",
    "            \n",
    "        \"\"\"\n",
    "        self.rr_func = relative_response_func\n",
    "        self.no_samples = {}\n",
    "        self._data = {}\n",
    "        self.classes_ = list(np.unique(y))\n",
    "        self.scores_ = {}\n",
    "        for cls in self.classes_:\n",
    "            X_cls = [X[i] for i,label in enumerate(y) if label == cls]\n",
    "            self._data[cls] = X_cls\n",
    "            self.scores_[cls] = self._within_corpus_disc(X_cls)\n",
    "            self.no_samples[cls] = len(X_cls)\n",
    "            \n",
    "    def predict(self, x):\n",
    "        probs = self.predict_proba(x)\n",
    "        res = {}\n",
    "        for k in probs:\n",
    "            res[k] = -np.log(probs[k])\n",
    "        return res\n",
    "        \n",
    "    def predict_table(self, x):\n",
    "        df = pd.DataFrame()\n",
    "        for cls in self.classes_:\n",
    "            X_extended = self._data[cls] + [x]\n",
    "            scores1 = self._within_corpus_disc(X_extended)\n",
    "            scores0 = self.scores_[cls]\n",
    "            stat, pval = self.test(scores0, scores1)\n",
    "            df = df.append({'cls' : cls,\n",
    "                            'scores1' : scores1,\n",
    "                            'scores0' : scores0,\n",
    "                            'n1' : len(scores0),\n",
    "                            'n2' : len(scores1),\n",
    "                            'stat' : stat, \n",
    "                            'pval' : pval\n",
    "                           }, ignore_index=True)\n",
    "        return df\n",
    "        \n",
    "    def predict_many(self, x):\n",
    "        df = pd.DataFrame()\n",
    "        for cls in self.classes_:\n",
    "            X_extended = self._data[cls] + [x]\n",
    "            scores1 = self._within_corpus_disc(X_extended)\n",
    "            scores0 = self.scores_[cls]\n",
    "            res = self.many_tests(scores0, scores1)\n",
    "            dfr = dict({'cls' : cls,\n",
    "                   'n1' : len(scores0),\n",
    "                   'n2' : len(scores1),\n",
    "                    **res})\n",
    "            df = df.append(dfr, ignore_index=True)\n",
    "        return df\n",
    "            \n",
    "    def predict_proba(self, x):\n",
    "        \"\"\"\n",
    "        Returns class probabilities\n",
    "        \n",
    "        Probabilites are obtained via f-test:\n",
    "        SS of each class with x included versue SS without x\n",
    "        \"\"\"\n",
    "        df = self.predict_table(x)\n",
    "        probs = dict(zip(df.cls, df.pval))\n",
    "#         probs = {}\n",
    "#         for cls in self.classes_:\n",
    "#             X_extended = self._data[cls] + [x]\n",
    "#             scores1 = self._within_corpus_disc(X_extended)\n",
    "#             scores0 = self.scores_[cls]\n",
    "#             stat, pval = self.test(scores0, scores1)\n",
    "#             probs[cls] = pval\n",
    "        return probs\n",
    "    \n",
    "    \n",
    "    def test(self, scores0, scores1):\n",
    "        return test_t(scores0, scores1)\n",
    "    \n",
    "    def many_tests(self, scores0, scores1):\n",
    "        return dict(\n",
    "        raw = scores1[-1], \n",
    "        pval_t = test_t(scores0, scores1)[1],\n",
    "        pval_f = test_f(scores0, scores1)[1],\n",
    "        pval_bartlett = test_bartlett(scores0, scores1)[1],\n",
    "        pval_2smp = test_t_2smp(scores0, scores1)[1],\n",
    "        pval_tLDA = test_linear(scores0, scores1)[1],\n",
    "        pval_levene = test_levene(scores0, scores1)[1])\n",
    "        \n",
    "        \n",
    "    def _within_corpus_disc(self, X: List):\n",
    "        \"\"\"\n",
    "        \n",
    "        Params:\n",
    "            :X:  data\n",
    "        \n",
    "        Returns:\n",
    "            :sum_of_squares:\n",
    "            :degrees of freedom: \n",
    "        \"\"\"\n",
    "        scores = np.zeros(len(X))\n",
    "        for i,x in enumerate(X):\n",
    "            mask = i != np.arange(len(X))\n",
    "            scores[i] = self.rr_func([x], [X[j] for j,_ in enumerate(X) if j != i])\n",
    "        return scores\n",
    "        "
   ]
  },
  {
   "cell_type": "code",
   "execution_count": 5,
   "id": "4c3f255b",
   "metadata": {},
   "outputs": [],
   "source": [
    "from biblical_scripts.pipelines.sim.nodes import (\n",
    "    build_model, model_predict, _prepare_data)\n",
    "from sklearn.model_selection import KFold"
   ]
  },
  {
   "cell_type": "code",
   "execution_count": 6,
   "id": "8bc878ec",
   "metadata": {},
   "outputs": [
    {
     "name": "stdout",
     "output_type": "stream",
     "text": [
      "2022-03-03 09:55:44,714 - numexpr.utils - INFO - NumExpr defaulting to 8 threads.\n"
     ]
    }
   ],
   "source": [
    "data = _prepare_data(data[data.to_report])\n",
    "data_known = data[data.author.isin(known_authors)]\n",
    "lo_docs = data_known.doc_id.unique()"
   ]
  },
  {
   "cell_type": "code",
   "execution_count": 7,
   "id": "f6b947b8",
   "metadata": {},
   "outputs": [],
   "source": [
    "params['model']['feat_reduction_method'] = 'none'\n",
    "params['discrepancy_type'] = 'HC'"
   ]
  },
  {
   "cell_type": "code",
   "execution_count": 8,
   "id": "2979f8bf",
   "metadata": {},
   "outputs": [
    {
     "name": "stderr",
     "output_type": "stream",
     "text": [
      "  0%|          | 0/49 [00:00<?, ?it/s]"
     ]
    },
    {
     "name": "stdout",
     "output_type": "stream",
     "text": [
      "2022-03-03 09:55:45,677 - root - INFO - Building CompareDocs model using 48 documents. \n"
     ]
    },
    {
     "name": "stderr",
     "output_type": "stream",
     "text": [
      "  2%|▏         | 1/49 [00:03<03:00,  3.75s/it]"
     ]
    },
    {
     "name": "stdout",
     "output_type": "stream",
     "text": [
      "2022-03-03 09:55:49,421 - root - INFO - Building CompareDocs model using 48 documents. \n"
     ]
    },
    {
     "name": "stderr",
     "output_type": "stream",
     "text": [
      "  4%|▍         | 2/49 [00:07<02:54,  3.71s/it]"
     ]
    },
    {
     "name": "stdout",
     "output_type": "stream",
     "text": [
      "2022-03-03 09:55:53,106 - root - INFO - Building CompareDocs model using 48 documents. \n"
     ]
    },
    {
     "name": "stderr",
     "output_type": "stream",
     "text": [
      "  6%|▌         | 3/49 [00:11<02:52,  3.74s/it]"
     ]
    },
    {
     "name": "stdout",
     "output_type": "stream",
     "text": [
      "2022-03-03 09:55:56,889 - root - INFO - Building CompareDocs model using 48 documents. \n"
     ]
    },
    {
     "name": "stderr",
     "output_type": "stream",
     "text": [
      "  8%|▊         | 4/49 [00:15<02:50,  3.79s/it]"
     ]
    },
    {
     "name": "stdout",
     "output_type": "stream",
     "text": [
      "2022-03-03 09:56:00,753 - root - INFO - Building CompareDocs model using 48 documents. \n"
     ]
    },
    {
     "name": "stderr",
     "output_type": "stream",
     "text": [
      " 10%|█         | 5/49 [00:18<02:47,  3.81s/it]"
     ]
    },
    {
     "name": "stdout",
     "output_type": "stream",
     "text": [
      "2022-03-03 09:56:04,591 - root - INFO - Building CompareDocs model using 48 documents. \n"
     ]
    },
    {
     "name": "stderr",
     "output_type": "stream",
     "text": [
      " 12%|█▏        | 6/49 [00:22<02:41,  3.76s/it]"
     ]
    },
    {
     "name": "stdout",
     "output_type": "stream",
     "text": [
      "2022-03-03 09:56:08,262 - root - INFO - Building CompareDocs model using 48 documents. \n"
     ]
    },
    {
     "name": "stderr",
     "output_type": "stream",
     "text": [
      " 14%|█▍        | 7/49 [00:26<02:36,  3.72s/it]"
     ]
    },
    {
     "name": "stdout",
     "output_type": "stream",
     "text": [
      "2022-03-03 09:56:11,902 - root - INFO - Building CompareDocs model using 48 documents. \n"
     ]
    },
    {
     "name": "stderr",
     "output_type": "stream",
     "text": [
      " 16%|█▋        | 8/49 [00:29<02:32,  3.71s/it]"
     ]
    },
    {
     "name": "stdout",
     "output_type": "stream",
     "text": [
      "2022-03-03 09:56:15,598 - root - INFO - Building CompareDocs model using 48 documents. \n"
     ]
    },
    {
     "name": "stderr",
     "output_type": "stream",
     "text": [
      " 18%|█▊        | 9/49 [00:33<02:25,  3.65s/it]"
     ]
    },
    {
     "name": "stdout",
     "output_type": "stream",
     "text": [
      "2022-03-03 09:56:19,094 - root - INFO - Building CompareDocs model using 48 documents. \n"
     ]
    },
    {
     "name": "stderr",
     "output_type": "stream",
     "text": [
      " 20%|██        | 10/49 [00:36<02:20,  3.61s/it]"
     ]
    },
    {
     "name": "stdout",
     "output_type": "stream",
     "text": [
      "2022-03-03 09:56:22,636 - root - INFO - Building CompareDocs model using 48 documents. \n"
     ]
    },
    {
     "name": "stderr",
     "output_type": "stream",
     "text": [
      " 22%|██▏       | 11/49 [00:40<02:17,  3.61s/it]"
     ]
    },
    {
     "name": "stdout",
     "output_type": "stream",
     "text": [
      "2022-03-03 09:56:26,242 - root - INFO - Building CompareDocs model using 48 documents. \n"
     ]
    },
    {
     "name": "stderr",
     "output_type": "stream",
     "text": [
      " 24%|██▍       | 12/49 [00:44<02:14,  3.64s/it]"
     ]
    },
    {
     "name": "stdout",
     "output_type": "stream",
     "text": [
      "2022-03-03 09:56:29,943 - root - INFO - Building CompareDocs model using 48 documents. \n"
     ]
    },
    {
     "name": "stderr",
     "output_type": "stream",
     "text": [
      " 27%|██▋       | 13/49 [00:47<02:10,  3.63s/it]"
     ]
    },
    {
     "name": "stdout",
     "output_type": "stream",
     "text": [
      "2022-03-03 09:56:33,563 - root - INFO - Building CompareDocs model using 48 documents. \n"
     ]
    },
    {
     "name": "stderr",
     "output_type": "stream",
     "text": [
      " 29%|██▊       | 14/49 [00:51<02:06,  3.61s/it]"
     ]
    },
    {
     "name": "stdout",
     "output_type": "stream",
     "text": [
      "2022-03-03 09:56:37,117 - root - INFO - Building CompareDocs model using 48 documents. \n"
     ]
    },
    {
     "name": "stderr",
     "output_type": "stream",
     "text": [
      " 31%|███       | 15/49 [00:54<02:01,  3.58s/it]"
     ]
    },
    {
     "name": "stdout",
     "output_type": "stream",
     "text": [
      "2022-03-03 09:56:40,646 - root - INFO - Building CompareDocs model using 48 documents. \n"
     ]
    },
    {
     "name": "stderr",
     "output_type": "stream",
     "text": [
      " 33%|███▎      | 16/49 [00:58<01:58,  3.59s/it]"
     ]
    },
    {
     "name": "stdout",
     "output_type": "stream",
     "text": [
      "2022-03-03 09:56:44,245 - root - INFO - Building CompareDocs model using 48 documents. \n"
     ]
    },
    {
     "name": "stderr",
     "output_type": "stream",
     "text": [
      " 35%|███▍      | 17/49 [01:02<01:55,  3.61s/it]"
     ]
    },
    {
     "name": "stdout",
     "output_type": "stream",
     "text": [
      "2022-03-03 09:56:47,919 - root - INFO - Building CompareDocs model using 48 documents. \n"
     ]
    },
    {
     "name": "stderr",
     "output_type": "stream",
     "text": [
      " 37%|███▋      | 18/49 [01:05<01:51,  3.60s/it]"
     ]
    },
    {
     "name": "stdout",
     "output_type": "stream",
     "text": [
      "2022-03-03 09:56:51,498 - root - INFO - Building CompareDocs model using 48 documents. \n"
     ]
    },
    {
     "name": "stderr",
     "output_type": "stream",
     "text": [
      " 39%|███▉      | 19/49 [01:09<01:47,  3.59s/it]"
     ]
    },
    {
     "name": "stdout",
     "output_type": "stream",
     "text": [
      "2022-03-03 09:56:55,042 - root - INFO - Building CompareDocs model using 48 documents. \n"
     ]
    },
    {
     "name": "stderr",
     "output_type": "stream",
     "text": [
      " 41%|████      | 20/49 [01:13<01:45,  3.62s/it]"
     ]
    },
    {
     "name": "stdout",
     "output_type": "stream",
     "text": [
      "2022-03-03 09:56:58,752 - root - INFO - Building CompareDocs model using 48 documents. \n"
     ]
    },
    {
     "name": "stderr",
     "output_type": "stream",
     "text": [
      " 43%|████▎     | 21/49 [01:16<01:40,  3.60s/it]"
     ]
    },
    {
     "name": "stdout",
     "output_type": "stream",
     "text": [
      "2022-03-03 09:57:02,290 - root - INFO - Building CompareDocs model using 48 documents. \n"
     ]
    },
    {
     "name": "stderr",
     "output_type": "stream",
     "text": [
      " 45%|████▍     | 22/49 [01:20<01:36,  3.58s/it]"
     ]
    },
    {
     "name": "stdout",
     "output_type": "stream",
     "text": [
      "2022-03-03 09:57:05,828 - root - INFO - Building CompareDocs model using 48 documents. \n"
     ]
    },
    {
     "name": "stderr",
     "output_type": "stream",
     "text": [
      " 47%|████▋     | 23/49 [01:23<01:33,  3.58s/it]"
     ]
    },
    {
     "name": "stdout",
     "output_type": "stream",
     "text": [
      "2022-03-03 09:57:09,402 - root - INFO - Building CompareDocs model using 48 documents. \n"
     ]
    },
    {
     "name": "stderr",
     "output_type": "stream",
     "text": [
      " 49%|████▉     | 24/49 [01:27<01:29,  3.59s/it]"
     ]
    },
    {
     "name": "stdout",
     "output_type": "stream",
     "text": [
      "2022-03-03 09:57:13,025 - root - INFO - Building CompareDocs model using 48 documents. \n"
     ]
    },
    {
     "name": "stderr",
     "output_type": "stream",
     "text": [
      " 51%|█████     | 25/49 [01:30<01:25,  3.58s/it]"
     ]
    },
    {
     "name": "stdout",
     "output_type": "stream",
     "text": [
      "2022-03-03 09:57:16,579 - root - INFO - Building CompareDocs model using 48 documents. \n"
     ]
    },
    {
     "name": "stderr",
     "output_type": "stream",
     "text": [
      " 53%|█████▎    | 26/49 [01:34<01:22,  3.58s/it]"
     ]
    },
    {
     "name": "stdout",
     "output_type": "stream",
     "text": [
      "2022-03-03 09:57:20,158 - root - INFO - Building CompareDocs model using 48 documents. \n"
     ]
    },
    {
     "name": "stderr",
     "output_type": "stream",
     "text": [
      " 55%|█████▌    | 27/49 [01:38<01:18,  3.58s/it]"
     ]
    },
    {
     "name": "stdout",
     "output_type": "stream",
     "text": [
      "2022-03-03 09:57:23,752 - root - INFO - Building CompareDocs model using 48 documents. \n"
     ]
    },
    {
     "name": "stderr",
     "output_type": "stream",
     "text": [
      " 57%|█████▋    | 28/49 [01:41<01:15,  3.62s/it]"
     ]
    },
    {
     "name": "stdout",
     "output_type": "stream",
     "text": [
      "2022-03-03 09:57:27,447 - root - INFO - Building CompareDocs model using 48 documents. \n"
     ]
    },
    {
     "name": "stderr",
     "output_type": "stream",
     "text": [
      " 59%|█████▉    | 29/49 [01:45<01:12,  3.65s/it]"
     ]
    },
    {
     "name": "stdout",
     "output_type": "stream",
     "text": [
      "2022-03-03 09:57:31,167 - root - INFO - Building CompareDocs model using 48 documents. \n"
     ]
    },
    {
     "name": "stderr",
     "output_type": "stream",
     "text": [
      " 61%|██████    | 30/49 [01:49<01:09,  3.67s/it]"
     ]
    },
    {
     "name": "stdout",
     "output_type": "stream",
     "text": [
      "2022-03-03 09:57:34,903 - root - INFO - Building CompareDocs model using 48 documents. \n"
     ]
    },
    {
     "name": "stderr",
     "output_type": "stream",
     "text": [
      " 63%|██████▎   | 31/49 [01:52<01:05,  3.67s/it]"
     ]
    },
    {
     "name": "stdout",
     "output_type": "stream",
     "text": [
      "2022-03-03 09:57:38,548 - root - INFO - Building CompareDocs model using 48 documents. \n"
     ]
    },
    {
     "name": "stderr",
     "output_type": "stream",
     "text": [
      " 65%|██████▌   | 32/49 [01:56<01:01,  3.63s/it]"
     ]
    },
    {
     "name": "stdout",
     "output_type": "stream",
     "text": [
      "2022-03-03 09:57:42,097 - root - INFO - Building CompareDocs model using 48 documents. \n"
     ]
    },
    {
     "name": "stderr",
     "output_type": "stream",
     "text": [
      " 67%|██████▋   | 33/49 [02:00<00:58,  3.63s/it]"
     ]
    },
    {
     "name": "stdout",
     "output_type": "stream",
     "text": [
      "2022-03-03 09:57:45,730 - root - INFO - Building CompareDocs model using 48 documents. \n"
     ]
    },
    {
     "name": "stderr",
     "output_type": "stream",
     "text": [
      " 69%|██████▉   | 34/49 [02:03<00:54,  3.61s/it]"
     ]
    },
    {
     "name": "stdout",
     "output_type": "stream",
     "text": [
      "2022-03-03 09:57:49,285 - root - INFO - Building CompareDocs model using 48 documents. \n"
     ]
    },
    {
     "name": "stderr",
     "output_type": "stream",
     "text": [
      " 71%|███████▏  | 35/49 [02:07<00:50,  3.60s/it]"
     ]
    },
    {
     "name": "stdout",
     "output_type": "stream",
     "text": [
      "2022-03-03 09:57:52,856 - root - INFO - Building CompareDocs model using 48 documents. \n"
     ]
    },
    {
     "name": "stderr",
     "output_type": "stream",
     "text": [
      " 73%|███████▎  | 36/49 [02:10<00:47,  3.62s/it]"
     ]
    },
    {
     "name": "stdout",
     "output_type": "stream",
     "text": [
      "2022-03-03 09:57:56,526 - root - INFO - Building CompareDocs model using 48 documents. \n"
     ]
    },
    {
     "name": "stderr",
     "output_type": "stream",
     "text": [
      " 76%|███████▌  | 37/49 [02:14<00:43,  3.65s/it]"
     ]
    },
    {
     "name": "stdout",
     "output_type": "stream",
     "text": [
      "2022-03-03 09:58:00,258 - root - INFO - Building CompareDocs model using 48 documents. \n"
     ]
    },
    {
     "name": "stderr",
     "output_type": "stream",
     "text": [
      " 78%|███████▊  | 38/49 [02:18<00:39,  3.61s/it]"
     ]
    },
    {
     "name": "stdout",
     "output_type": "stream",
     "text": [
      "2022-03-03 09:58:03,780 - root - INFO - Building CompareDocs model using 48 documents. \n"
     ]
    },
    {
     "name": "stderr",
     "output_type": "stream",
     "text": [
      " 80%|███████▉  | 39/49 [02:21<00:35,  3.60s/it]"
     ]
    },
    {
     "name": "stdout",
     "output_type": "stream",
     "text": [
      "2022-03-03 09:58:07,339 - root - INFO - Building CompareDocs model using 48 documents. \n"
     ]
    },
    {
     "name": "stderr",
     "output_type": "stream",
     "text": [
      " 82%|████████▏ | 40/49 [02:25<00:32,  3.60s/it]"
     ]
    },
    {
     "name": "stdout",
     "output_type": "stream",
     "text": [
      "2022-03-03 09:58:10,950 - root - INFO - Building CompareDocs model using 48 documents. \n"
     ]
    },
    {
     "name": "stderr",
     "output_type": "stream",
     "text": [
      " 84%|████████▎ | 41/49 [02:29<00:29,  3.64s/it]"
     ]
    },
    {
     "name": "stdout",
     "output_type": "stream",
     "text": [
      "2022-03-03 09:58:14,670 - root - INFO - Building CompareDocs model using 48 documents. \n"
     ]
    },
    {
     "name": "stderr",
     "output_type": "stream",
     "text": [
      " 86%|████████▌ | 42/49 [02:32<00:25,  3.63s/it]"
     ]
    },
    {
     "name": "stdout",
     "output_type": "stream",
     "text": [
      "2022-03-03 09:58:18,293 - root - INFO - Building CompareDocs model using 48 documents. \n"
     ]
    },
    {
     "name": "stderr",
     "output_type": "stream",
     "text": [
      " 88%|████████▊ | 43/49 [02:36<00:21,  3.61s/it]"
     ]
    },
    {
     "name": "stdout",
     "output_type": "stream",
     "text": [
      "2022-03-03 09:58:21,845 - root - INFO - Building CompareDocs model using 48 documents. \n"
     ]
    },
    {
     "name": "stderr",
     "output_type": "stream",
     "text": [
      " 90%|████████▉ | 44/49 [02:39<00:17,  3.59s/it]"
     ]
    },
    {
     "name": "stdout",
     "output_type": "stream",
     "text": [
      "2022-03-03 09:58:25,389 - root - INFO - Building CompareDocs model using 48 documents. \n"
     ]
    },
    {
     "name": "stderr",
     "output_type": "stream",
     "text": [
      " 92%|█████████▏| 45/49 [02:43<00:14,  3.61s/it]"
     ]
    },
    {
     "name": "stdout",
     "output_type": "stream",
     "text": [
      "2022-03-03 09:58:29,060 - root - INFO - Building CompareDocs model using 48 documents. \n"
     ]
    },
    {
     "name": "stderr",
     "output_type": "stream",
     "text": [
      " 94%|█████████▍| 46/49 [02:46<00:10,  3.60s/it]"
     ]
    },
    {
     "name": "stdout",
     "output_type": "stream",
     "text": [
      "2022-03-03 09:58:32,628 - root - INFO - Building CompareDocs model using 48 documents. \n"
     ]
    },
    {
     "name": "stderr",
     "output_type": "stream",
     "text": [
      " 96%|█████████▌| 47/49 [02:50<00:07,  3.60s/it]"
     ]
    },
    {
     "name": "stdout",
     "output_type": "stream",
     "text": [
      "2022-03-03 09:58:36,242 - root - INFO - Building CompareDocs model using 48 documents. \n"
     ]
    },
    {
     "name": "stderr",
     "output_type": "stream",
     "text": [
      " 98%|█████████▊| 48/49 [02:54<00:03,  3.60s/it]"
     ]
    },
    {
     "name": "stdout",
     "output_type": "stream",
     "text": [
      "2022-03-03 09:58:39,818 - root - INFO - Building CompareDocs model using 48 documents. \n"
     ]
    },
    {
     "name": "stderr",
     "output_type": "stream",
     "text": [
      "100%|██████████| 49/49 [02:57<00:00,  3.63s/it]\n"
     ]
    }
   ],
   "source": [
    "def arrange_training_data(data):\n",
    "    X = []\n",
    "    y = []\n",
    "    lo_authors = data.author.unique()\n",
    "    for auth in lo_authors:\n",
    "        ds_auth = data[data.author == auth]\n",
    "        lo_docs = ds_auth.doc_id.unique()\n",
    "        Xauth = [c[1] for c in ds_auth.groupby('doc_id')]\n",
    "        X += Xauth\n",
    "        y += [auth] * len(Xauth)\n",
    "    return X, y\n",
    "\n",
    "\n",
    "df_res = pd.DataFrame()\n",
    "for doc in tqdm(lo_docs): # leave-one-out\n",
    "    ds1 = data_known[data_known.doc_id == doc]\n",
    "    data_train = data_known.drop(ds1.index)\n",
    "    md, vocab = build_model(data_train, vocab, params['model'])\n",
    "    cdrr = CompareDocsRelativeResponse(md, discrepancy_type=params['discrepancy_type'])\n",
    "    \n",
    "    X, y = arrange_training_data(data_train)\n",
    "    anova_cls = AnovaClassifier()\n",
    "    anova_cls.fit(cdrr, X, y)\n",
    "    \n",
    "    res = anova_cls.predict_many(ds1)\n",
    "    res['doc_tested'] = doc\n",
    "    res['len'] = len(ds1)\n",
    "    df_res = df_res.append(res, ignore_index=True)"
   ]
  },
  {
   "cell_type": "code",
   "execution_count": 19,
   "id": "f90a445a",
   "metadata": {},
   "outputs": [
    {
     "name": "stdout",
     "output_type": "stream",
     "text": [
      "Accuracy with pval_2smp = 0.5102040816326531\n",
      "Accuracy with pval_bartlett = 0.4489795918367347\n",
      "Accuracy with pval_f = 0.6938775510204082\n",
      "Accuracy with pval_levene = 0.22448979591836735\n",
      "Accuracy with pval_t = 0.8367346938775511\n",
      "Accuracy with pval_tLDA = 0.8571428571428571\n",
      "Accuracy with raw = 0.08163265306122448\n",
      "Accuracy with raw_org = 0.6938775510204082\n",
      "Accuracy with org_raw = 0.08163265306122448\n"
     ]
    }
   ],
   "source": [
    "df_res.loc[: ,'true_class'] = df_res.doc_tested.apply(lambda x : x.split('|')[0])\n",
    "df_res.loc[:, 'org_raw'] = df_res['raw']\n",
    "df_res.loc[:, 'raw'] = -df_res['raw_org']\n",
    "\n",
    "for value in df_res.columns[df_res.columns.str.contains(r'pval|raw')]:        \n",
    "    idx = df_res.groupby('doc_tested')[value].idxmax(axis=1)\n",
    "    acc = np.mean(df_res.loc[idx, 'cls'] == df_res.loc[idx, 'true_class'])\n",
    "    print(f\"Accuracy with {value} = {acc}\")\n",
    "    #df_res['predicted_class'] = df_res[['Dtr', 'DtrH', 'P']].idxmin(axis=1)\n",
    "    #print(\"Accuracy: \", np.mean(df_res.predicted_class == df_res.true_class))"
   ]
  },
  {
   "cell_type": "code",
   "execution_count": 14,
   "id": "06663af6",
   "metadata": {},
   "outputs": [],
   "source": [
    "dfr = df_res.filter(regex=r'(pval_|raw|cls|doc_tested|true_class)').pivot(columns = 'cls', index='doc_tested')"
   ]
  },
  {
   "cell_type": "code",
   "execution_count": 20,
   "id": "4447c2d5",
   "metadata": {},
   "outputs": [
    {
     "data": {
      "image/png": "[encoded data removed]",
      "text/plain": [
       "<Figure size 432x288 with 1 Axes>"
      ]
     },
     "metadata": {
      "needs_background": "light"
     },
     "output_type": "display_data"
    },
    {
     "data": {
      "image/png": "[encoded data removed]",
      "text/plain": [
       "<Figure size 432x288 with 1 Axes>"
      ]
     },
     "metadata": {
      "needs_background": "light"
     },
     "output_type": "display_data"
    },
    {
     "data": {
      "image/png": "[encoded data removed]",
      "text/plain": [
       "<Figure size 432x288 with 1 Axes>"
      ]
     },
     "metadata": {
      "needs_background": "light"
     },
     "output_type": "display_data"
    }
   ],
   "source": [
    "value = 'raw'\n",
    "for cls1 in ['Dtr', 'DtrH', 'P'] :\n",
    "    for cls2 in ['Dtr', 'DtrH', 'P']:\n",
    "        if cls1 < cls2:\n",
    "            dfr.plot.scatter(x=(value, cls1), y=(value, cls2),\n",
    "                             color=pd.util.hash_array(dfr['true_class']['Dtr']))\n",
    "            plt.xlabel(cls1)\n",
    "            plt.ylabel(cls2)\n",
    "            plt.show()"
   ]
  },
  {
   "cell_type": "code",
   "execution_count": null,
   "id": "591a7e37",
   "metadata": {},
   "outputs": [],
   "source": []
  },
  {
   "cell_type": "code",
   "execution_count": 12,
   "id": "c13c4ca7",
   "metadata": {},
   "outputs": [
    {
     "ename": "KeyError",
     "evalue": "'Dtr'",
     "output_type": "error",
     "traceback": [
      "\u001b[0;31m---------------------------------------------------------------------------\u001b[0m",
      "\u001b[0;31mKeyError\u001b[0m                                  Traceback (most recent call last)",
      "\u001b[0;32m/usr/local/lib/python3.8/site-packages/pandas/core/indexes/base.py\u001b[0m in \u001b[0;36mget_loc\u001b[0;34m(self, key, method, tolerance)\u001b[0m\n\u001b[1;32m   3079\u001b[0m             \u001b[0;32mtry\u001b[0m\u001b[0;34m:\u001b[0m\u001b[0;34m\u001b[0m\u001b[0;34m\u001b[0m\u001b[0m\n\u001b[0;32m-> 3080\u001b[0;31m                 \u001b[0;32mreturn\u001b[0m \u001b[0mself\u001b[0m\u001b[0;34m.\u001b[0m\u001b[0m_engine\u001b[0m\u001b[0;34m.\u001b[0m\u001b[0mget_loc\u001b[0m\u001b[0;34m(\u001b[0m\u001b[0mcasted_key\u001b[0m\u001b[0;34m)\u001b[0m\u001b[0;34m\u001b[0m\u001b[0;34m\u001b[0m\u001b[0m\n\u001b[0m\u001b[1;32m   3081\u001b[0m             \u001b[0;32mexcept\u001b[0m \u001b[0mKeyError\u001b[0m \u001b[0;32mas\u001b[0m \u001b[0merr\u001b[0m\u001b[0;34m:\u001b[0m\u001b[0;34m\u001b[0m\u001b[0;34m\u001b[0m\u001b[0m\n",
      "\u001b[0;32mpandas/_libs/index.pyx\u001b[0m in \u001b[0;36mpandas._libs.index.IndexEngine.get_loc\u001b[0;34m()\u001b[0m\n",
      "\u001b[0;32mpandas/_libs/index.pyx\u001b[0m in \u001b[0;36mpandas._libs.index.IndexEngine.get_loc\u001b[0;34m()\u001b[0m\n",
      "\u001b[0;32mpandas/_libs/hashtable_class_helper.pxi\u001b[0m in \u001b[0;36mpandas._libs.hashtable.PyObjectHashTable.get_item\u001b[0;34m()\u001b[0m\n",
      "\u001b[0;32mpandas/_libs/hashtable_class_helper.pxi\u001b[0m in \u001b[0;36mpandas._libs.hashtable.PyObjectHashTable.get_item\u001b[0;34m()\u001b[0m\n",
      "\u001b[0;31mKeyError\u001b[0m: 'Dtr'",
      "\nThe above exception was the direct cause of the following exception:\n",
      "\u001b[0;31mKeyError\u001b[0m                                  Traceback (most recent call last)",
      "\u001b[0;32m<ipython-input-12-066aae8532bc>\u001b[0m in \u001b[0;36m<module>\u001b[0;34m\u001b[0m\n\u001b[0;32m----> 1\u001b[0;31m \u001b[0mdf_res\u001b[0m\u001b[0;34m.\u001b[0m\u001b[0mplot\u001b[0m\u001b[0;34m.\u001b[0m\u001b[0mscatter\u001b[0m\u001b[0;34m(\u001b[0m\u001b[0mx\u001b[0m\u001b[0;34m=\u001b[0m\u001b[0;34m'Dtr'\u001b[0m\u001b[0;34m,\u001b[0m \u001b[0my\u001b[0m\u001b[0;34m=\u001b[0m\u001b[0;34m'P'\u001b[0m\u001b[0;34m,\u001b[0m \u001b[0mcolor\u001b[0m\u001b[0;34m=\u001b[0m\u001b[0mpd\u001b[0m\u001b[0;34m.\u001b[0m\u001b[0mutil\u001b[0m\u001b[0;34m.\u001b[0m\u001b[0mhash_array\u001b[0m\u001b[0;34m(\u001b[0m\u001b[0mdf_res\u001b[0m\u001b[0;34m[\u001b[0m\u001b[0;34m'true_class'\u001b[0m\u001b[0;34m]\u001b[0m\u001b[0;34m)\u001b[0m \u001b[0;34m)\u001b[0m\u001b[0;34m;\u001b[0m \u001b[0mplt\u001b[0m\u001b[0;34m.\u001b[0m\u001b[0mshow\u001b[0m\u001b[0;34m(\u001b[0m\u001b[0;34m)\u001b[0m\u001b[0;34m\u001b[0m\u001b[0;34m\u001b[0m\u001b[0m\n\u001b[0m\u001b[1;32m      2\u001b[0m \u001b[0mdf_res\u001b[0m\u001b[0;34m.\u001b[0m\u001b[0mplot\u001b[0m\u001b[0;34m.\u001b[0m\u001b[0mscatter\u001b[0m\u001b[0;34m(\u001b[0m\u001b[0mx\u001b[0m\u001b[0;34m=\u001b[0m\u001b[0;34m'Dtr'\u001b[0m\u001b[0;34m,\u001b[0m \u001b[0my\u001b[0m\u001b[0;34m=\u001b[0m\u001b[0;34m'DtrH'\u001b[0m\u001b[0;34m,\u001b[0m \u001b[0mcolor\u001b[0m\u001b[0;34m=\u001b[0m\u001b[0mpd\u001b[0m\u001b[0;34m.\u001b[0m\u001b[0mutil\u001b[0m\u001b[0;34m.\u001b[0m\u001b[0mhash_array\u001b[0m\u001b[0;34m(\u001b[0m\u001b[0mdf_res\u001b[0m\u001b[0;34m[\u001b[0m\u001b[0;34m'true_class'\u001b[0m\u001b[0;34m]\u001b[0m\u001b[0;34m)\u001b[0m \u001b[0;34m)\u001b[0m\u001b[0;34m;\u001b[0m \u001b[0mplt\u001b[0m\u001b[0;34m.\u001b[0m\u001b[0mshow\u001b[0m\u001b[0;34m(\u001b[0m\u001b[0;34m)\u001b[0m\u001b[0;34m\u001b[0m\u001b[0;34m\u001b[0m\u001b[0m\n\u001b[1;32m      3\u001b[0m \u001b[0mdf_res\u001b[0m\u001b[0;34m.\u001b[0m\u001b[0mplot\u001b[0m\u001b[0;34m.\u001b[0m\u001b[0mscatter\u001b[0m\u001b[0;34m(\u001b[0m\u001b[0mx\u001b[0m\u001b[0;34m=\u001b[0m\u001b[0;34m'P'\u001b[0m\u001b[0;34m,\u001b[0m \u001b[0my\u001b[0m\u001b[0;34m=\u001b[0m\u001b[0;34m'DtrH'\u001b[0m\u001b[0;34m,\u001b[0m \u001b[0mcolor\u001b[0m\u001b[0;34m=\u001b[0m\u001b[0mpd\u001b[0m\u001b[0;34m.\u001b[0m\u001b[0mutil\u001b[0m\u001b[0;34m.\u001b[0m\u001b[0mhash_array\u001b[0m\u001b[0;34m(\u001b[0m\u001b[0mdf_res\u001b[0m\u001b[0;34m[\u001b[0m\u001b[0;34m'true_class'\u001b[0m\u001b[0;34m]\u001b[0m\u001b[0;34m)\u001b[0m \u001b[0;34m)\u001b[0m\u001b[0;34m;\u001b[0m \u001b[0mplt\u001b[0m\u001b[0;34m.\u001b[0m\u001b[0mshow\u001b[0m\u001b[0;34m(\u001b[0m\u001b[0;34m)\u001b[0m\u001b[0;34m\u001b[0m\u001b[0;34m\u001b[0m\u001b[0m\n",
      "\u001b[0;32m/usr/local/lib/python3.8/site-packages/pandas/plotting/_core.py\u001b[0m in \u001b[0;36mscatter\u001b[0;34m(self, x, y, s, c, **kwargs)\u001b[0m\n\u001b[1;32m   1617\u001b[0m             ...                       colormap='viridis')\n\u001b[1;32m   1618\u001b[0m         \"\"\"\n\u001b[0;32m-> 1619\u001b[0;31m         \u001b[0;32mreturn\u001b[0m \u001b[0mself\u001b[0m\u001b[0;34m(\u001b[0m\u001b[0mkind\u001b[0m\u001b[0;34m=\u001b[0m\u001b[0;34m\"scatter\"\u001b[0m\u001b[0;34m,\u001b[0m \u001b[0mx\u001b[0m\u001b[0;34m=\u001b[0m\u001b[0mx\u001b[0m\u001b[0;34m,\u001b[0m \u001b[0my\u001b[0m\u001b[0;34m=\u001b[0m\u001b[0my\u001b[0m\u001b[0;34m,\u001b[0m \u001b[0ms\u001b[0m\u001b[0;34m=\u001b[0m\u001b[0ms\u001b[0m\u001b[0;34m,\u001b[0m \u001b[0mc\u001b[0m\u001b[0;34m=\u001b[0m\u001b[0mc\u001b[0m\u001b[0;34m,\u001b[0m \u001b[0;34m**\u001b[0m\u001b[0mkwargs\u001b[0m\u001b[0;34m)\u001b[0m\u001b[0;34m\u001b[0m\u001b[0;34m\u001b[0m\u001b[0m\n\u001b[0m\u001b[1;32m   1620\u001b[0m \u001b[0;34m\u001b[0m\u001b[0m\n\u001b[1;32m   1621\u001b[0m     \u001b[0;32mdef\u001b[0m \u001b[0mhexbin\u001b[0m\u001b[0;34m(\u001b[0m\u001b[0mself\u001b[0m\u001b[0;34m,\u001b[0m \u001b[0mx\u001b[0m\u001b[0;34m,\u001b[0m \u001b[0my\u001b[0m\u001b[0;34m,\u001b[0m \u001b[0mC\u001b[0m\u001b[0;34m=\u001b[0m\u001b[0;32mNone\u001b[0m\u001b[0;34m,\u001b[0m \u001b[0mreduce_C_function\u001b[0m\u001b[0;34m=\u001b[0m\u001b[0;32mNone\u001b[0m\u001b[0;34m,\u001b[0m \u001b[0mgridsize\u001b[0m\u001b[0;34m=\u001b[0m\u001b[0;32mNone\u001b[0m\u001b[0;34m,\u001b[0m \u001b[0;34m**\u001b[0m\u001b[0mkwargs\u001b[0m\u001b[0;34m)\u001b[0m\u001b[0;34m:\u001b[0m\u001b[0;34m\u001b[0m\u001b[0;34m\u001b[0m\u001b[0m\n",
      "\u001b[0;32m/usr/local/lib/python3.8/site-packages/pandas/plotting/_core.py\u001b[0m in \u001b[0;36m__call__\u001b[0;34m(self, *args, **kwargs)\u001b[0m\n\u001b[1;32m    898\u001b[0m         \u001b[0;32mif\u001b[0m \u001b[0mkind\u001b[0m \u001b[0;32min\u001b[0m \u001b[0mself\u001b[0m\u001b[0;34m.\u001b[0m\u001b[0m_dataframe_kinds\u001b[0m\u001b[0;34m:\u001b[0m\u001b[0;34m\u001b[0m\u001b[0;34m\u001b[0m\u001b[0m\n\u001b[1;32m    899\u001b[0m             \u001b[0;32mif\u001b[0m \u001b[0misinstance\u001b[0m\u001b[0;34m(\u001b[0m\u001b[0mdata\u001b[0m\u001b[0;34m,\u001b[0m \u001b[0mABCDataFrame\u001b[0m\u001b[0;34m)\u001b[0m\u001b[0;34m:\u001b[0m\u001b[0;34m\u001b[0m\u001b[0;34m\u001b[0m\u001b[0m\n\u001b[0;32m--> 900\u001b[0;31m                 \u001b[0;32mreturn\u001b[0m \u001b[0mplot_backend\u001b[0m\u001b[0;34m.\u001b[0m\u001b[0mplot\u001b[0m\u001b[0;34m(\u001b[0m\u001b[0mdata\u001b[0m\u001b[0;34m,\u001b[0m \u001b[0mx\u001b[0m\u001b[0;34m=\u001b[0m\u001b[0mx\u001b[0m\u001b[0;34m,\u001b[0m \u001b[0my\u001b[0m\u001b[0;34m=\u001b[0m\u001b[0my\u001b[0m\u001b[0;34m,\u001b[0m \u001b[0mkind\u001b[0m\u001b[0;34m=\u001b[0m\u001b[0mkind\u001b[0m\u001b[0;34m,\u001b[0m \u001b[0;34m**\u001b[0m\u001b[0mkwargs\u001b[0m\u001b[0;34m)\u001b[0m\u001b[0;34m\u001b[0m\u001b[0;34m\u001b[0m\u001b[0m\n\u001b[0m\u001b[1;32m    901\u001b[0m             \u001b[0;32melse\u001b[0m\u001b[0;34m:\u001b[0m\u001b[0;34m\u001b[0m\u001b[0;34m\u001b[0m\u001b[0m\n\u001b[1;32m    902\u001b[0m                 \u001b[0;32mraise\u001b[0m \u001b[0mValueError\u001b[0m\u001b[0;34m(\u001b[0m\u001b[0;34mf\"plot kind {kind} can only be used for data frames\"\u001b[0m\u001b[0;34m)\u001b[0m\u001b[0;34m\u001b[0m\u001b[0;34m\u001b[0m\u001b[0m\n",
      "\u001b[0;32m/usr/local/lib/python3.8/site-packages/pandas/plotting/_matplotlib/__init__.py\u001b[0m in \u001b[0;36mplot\u001b[0;34m(data, kind, **kwargs)\u001b[0m\n\u001b[1;32m     59\u001b[0m             \u001b[0mkwargs\u001b[0m\u001b[0;34m[\u001b[0m\u001b[0;34m\"ax\"\u001b[0m\u001b[0;34m]\u001b[0m \u001b[0;34m=\u001b[0m \u001b[0mgetattr\u001b[0m\u001b[0;34m(\u001b[0m\u001b[0max\u001b[0m\u001b[0;34m,\u001b[0m \u001b[0;34m\"left_ax\"\u001b[0m\u001b[0;34m,\u001b[0m \u001b[0max\u001b[0m\u001b[0;34m)\u001b[0m\u001b[0;34m\u001b[0m\u001b[0;34m\u001b[0m\u001b[0m\n\u001b[1;32m     60\u001b[0m     \u001b[0mplot_obj\u001b[0m \u001b[0;34m=\u001b[0m \u001b[0mPLOT_CLASSES\u001b[0m\u001b[0;34m[\u001b[0m\u001b[0mkind\u001b[0m\u001b[0;34m]\u001b[0m\u001b[0;34m(\u001b[0m\u001b[0mdata\u001b[0m\u001b[0;34m,\u001b[0m \u001b[0;34m**\u001b[0m\u001b[0mkwargs\u001b[0m\u001b[0;34m)\u001b[0m\u001b[0;34m\u001b[0m\u001b[0;34m\u001b[0m\u001b[0m\n\u001b[0;32m---> 61\u001b[0;31m     \u001b[0mplot_obj\u001b[0m\u001b[0;34m.\u001b[0m\u001b[0mgenerate\u001b[0m\u001b[0;34m(\u001b[0m\u001b[0;34m)\u001b[0m\u001b[0;34m\u001b[0m\u001b[0;34m\u001b[0m\u001b[0m\n\u001b[0m\u001b[1;32m     62\u001b[0m     \u001b[0mplot_obj\u001b[0m\u001b[0;34m.\u001b[0m\u001b[0mdraw\u001b[0m\u001b[0;34m(\u001b[0m\u001b[0;34m)\u001b[0m\u001b[0;34m\u001b[0m\u001b[0;34m\u001b[0m\u001b[0m\n\u001b[1;32m     63\u001b[0m     \u001b[0;32mreturn\u001b[0m \u001b[0mplot_obj\u001b[0m\u001b[0;34m.\u001b[0m\u001b[0mresult\u001b[0m\u001b[0;34m\u001b[0m\u001b[0;34m\u001b[0m\u001b[0m\n",
      "\u001b[0;32m/usr/local/lib/python3.8/site-packages/pandas/plotting/_matplotlib/core.py\u001b[0m in \u001b[0;36mgenerate\u001b[0;34m(self)\u001b[0m\n\u001b[1;32m    278\u001b[0m         \u001b[0mself\u001b[0m\u001b[0;34m.\u001b[0m\u001b[0m_compute_plot_data\u001b[0m\u001b[0;34m(\u001b[0m\u001b[0;34m)\u001b[0m\u001b[0;34m\u001b[0m\u001b[0;34m\u001b[0m\u001b[0m\n\u001b[1;32m    279\u001b[0m         \u001b[0mself\u001b[0m\u001b[0;34m.\u001b[0m\u001b[0m_setup_subplots\u001b[0m\u001b[0;34m(\u001b[0m\u001b[0;34m)\u001b[0m\u001b[0;34m\u001b[0m\u001b[0;34m\u001b[0m\u001b[0m\n\u001b[0;32m--> 280\u001b[0;31m         \u001b[0mself\u001b[0m\u001b[0;34m.\u001b[0m\u001b[0m_make_plot\u001b[0m\u001b[0;34m(\u001b[0m\u001b[0;34m)\u001b[0m\u001b[0;34m\u001b[0m\u001b[0;34m\u001b[0m\u001b[0m\n\u001b[0m\u001b[1;32m    281\u001b[0m         \u001b[0mself\u001b[0m\u001b[0;34m.\u001b[0m\u001b[0m_add_table\u001b[0m\u001b[0;34m(\u001b[0m\u001b[0;34m)\u001b[0m\u001b[0;34m\u001b[0m\u001b[0;34m\u001b[0m\u001b[0m\n\u001b[1;32m    282\u001b[0m         \u001b[0mself\u001b[0m\u001b[0;34m.\u001b[0m\u001b[0m_make_legend\u001b[0m\u001b[0;34m(\u001b[0m\u001b[0;34m)\u001b[0m\u001b[0;34m\u001b[0m\u001b[0;34m\u001b[0m\u001b[0m\n",
      "\u001b[0;32m/usr/local/lib/python3.8/site-packages/pandas/plotting/_matplotlib/core.py\u001b[0m in \u001b[0;36m_make_plot\u001b[0;34m(self)\u001b[0m\n\u001b[1;32m   1040\u001b[0m             \u001b[0mlabel\u001b[0m \u001b[0;34m=\u001b[0m \u001b[0;32mNone\u001b[0m\u001b[0;34m\u001b[0m\u001b[0;34m\u001b[0m\u001b[0m\n\u001b[1;32m   1041\u001b[0m         scatter = ax.scatter(\n\u001b[0;32m-> 1042\u001b[0;31m             \u001b[0mdata\u001b[0m\u001b[0;34m[\u001b[0m\u001b[0mx\u001b[0m\u001b[0;34m]\u001b[0m\u001b[0;34m.\u001b[0m\u001b[0mvalues\u001b[0m\u001b[0;34m,\u001b[0m\u001b[0;34m\u001b[0m\u001b[0;34m\u001b[0m\u001b[0m\n\u001b[0m\u001b[1;32m   1043\u001b[0m             \u001b[0mdata\u001b[0m\u001b[0;34m[\u001b[0m\u001b[0my\u001b[0m\u001b[0;34m]\u001b[0m\u001b[0;34m.\u001b[0m\u001b[0mvalues\u001b[0m\u001b[0;34m,\u001b[0m\u001b[0;34m\u001b[0m\u001b[0;34m\u001b[0m\u001b[0m\n\u001b[1;32m   1044\u001b[0m             \u001b[0mc\u001b[0m\u001b[0;34m=\u001b[0m\u001b[0mc_values\u001b[0m\u001b[0;34m,\u001b[0m\u001b[0;34m\u001b[0m\u001b[0;34m\u001b[0m\u001b[0m\n",
      "\u001b[0;32m/usr/local/lib/python3.8/site-packages/pandas/core/frame.py\u001b[0m in \u001b[0;36m__getitem__\u001b[0;34m(self, key)\u001b[0m\n\u001b[1;32m   3022\u001b[0m             \u001b[0;32mif\u001b[0m \u001b[0mself\u001b[0m\u001b[0;34m.\u001b[0m\u001b[0mcolumns\u001b[0m\u001b[0;34m.\u001b[0m\u001b[0mnlevels\u001b[0m \u001b[0;34m>\u001b[0m \u001b[0;36m1\u001b[0m\u001b[0;34m:\u001b[0m\u001b[0;34m\u001b[0m\u001b[0;34m\u001b[0m\u001b[0m\n\u001b[1;32m   3023\u001b[0m                 \u001b[0;32mreturn\u001b[0m \u001b[0mself\u001b[0m\u001b[0;34m.\u001b[0m\u001b[0m_getitem_multilevel\u001b[0m\u001b[0;34m(\u001b[0m\u001b[0mkey\u001b[0m\u001b[0;34m)\u001b[0m\u001b[0;34m\u001b[0m\u001b[0;34m\u001b[0m\u001b[0m\n\u001b[0;32m-> 3024\u001b[0;31m             \u001b[0mindexer\u001b[0m \u001b[0;34m=\u001b[0m \u001b[0mself\u001b[0m\u001b[0;34m.\u001b[0m\u001b[0mcolumns\u001b[0m\u001b[0;34m.\u001b[0m\u001b[0mget_loc\u001b[0m\u001b[0;34m(\u001b[0m\u001b[0mkey\u001b[0m\u001b[0;34m)\u001b[0m\u001b[0;34m\u001b[0m\u001b[0;34m\u001b[0m\u001b[0m\n\u001b[0m\u001b[1;32m   3025\u001b[0m             \u001b[0;32mif\u001b[0m \u001b[0mis_integer\u001b[0m\u001b[0;34m(\u001b[0m\u001b[0mindexer\u001b[0m\u001b[0;34m)\u001b[0m\u001b[0;34m:\u001b[0m\u001b[0;34m\u001b[0m\u001b[0;34m\u001b[0m\u001b[0m\n\u001b[1;32m   3026\u001b[0m                 \u001b[0mindexer\u001b[0m \u001b[0;34m=\u001b[0m \u001b[0;34m[\u001b[0m\u001b[0mindexer\u001b[0m\u001b[0;34m]\u001b[0m\u001b[0;34m\u001b[0m\u001b[0;34m\u001b[0m\u001b[0m\n",
      "\u001b[0;32m/usr/local/lib/python3.8/site-packages/pandas/core/indexes/base.py\u001b[0m in \u001b[0;36mget_loc\u001b[0;34m(self, key, method, tolerance)\u001b[0m\n\u001b[1;32m   3080\u001b[0m                 \u001b[0;32mreturn\u001b[0m \u001b[0mself\u001b[0m\u001b[0;34m.\u001b[0m\u001b[0m_engine\u001b[0m\u001b[0;34m.\u001b[0m\u001b[0mget_loc\u001b[0m\u001b[0;34m(\u001b[0m\u001b[0mcasted_key\u001b[0m\u001b[0;34m)\u001b[0m\u001b[0;34m\u001b[0m\u001b[0;34m\u001b[0m\u001b[0m\n\u001b[1;32m   3081\u001b[0m             \u001b[0;32mexcept\u001b[0m \u001b[0mKeyError\u001b[0m \u001b[0;32mas\u001b[0m \u001b[0merr\u001b[0m\u001b[0;34m:\u001b[0m\u001b[0;34m\u001b[0m\u001b[0;34m\u001b[0m\u001b[0m\n\u001b[0;32m-> 3082\u001b[0;31m                 \u001b[0;32mraise\u001b[0m \u001b[0mKeyError\u001b[0m\u001b[0;34m(\u001b[0m\u001b[0mkey\u001b[0m\u001b[0;34m)\u001b[0m \u001b[0;32mfrom\u001b[0m \u001b[0merr\u001b[0m\u001b[0;34m\u001b[0m\u001b[0;34m\u001b[0m\u001b[0m\n\u001b[0m\u001b[1;32m   3083\u001b[0m \u001b[0;34m\u001b[0m\u001b[0m\n\u001b[1;32m   3084\u001b[0m         \u001b[0;32mif\u001b[0m \u001b[0mtolerance\u001b[0m \u001b[0;32mis\u001b[0m \u001b[0;32mnot\u001b[0m \u001b[0;32mNone\u001b[0m\u001b[0;34m:\u001b[0m\u001b[0;34m\u001b[0m\u001b[0;34m\u001b[0m\u001b[0m\n",
      "\u001b[0;31mKeyError\u001b[0m: 'Dtr'"
     ]
    },
    {
     "data": {
      "image/png": "[encoded data removed]",
      "text/plain": [
       "<Figure size 432x288 with 1 Axes>"
      ]
     },
     "metadata": {
      "needs_background": "light"
     },
     "output_type": "display_data"
    }
   ],
   "source": [
    "df_res.plot.scatter(x='Dtr', y='P', color=pd.util.hash_array(df_res['true_class']) ); plt.show()\n",
    "df_res.plot.scatter(x='Dtr', y='DtrH', color=pd.util.hash_array(df_res['true_class']) ); plt.show() \n",
    "df_res.plot.scatter(x='P', y='DtrH', color=pd.util.hash_array(df_res['true_class']) ); plt.show() "
   ]
  },
  {
   "cell_type": "code",
   "execution_count": 67,
   "id": "0c830c47",
   "metadata": {},
   "outputs": [
    {
     "data": {
      "text/html": [
       "<div>\n",
       "<style scoped>\n",
       "    .dataframe tbody tr th:only-of-type {\n",
       "        vertical-align: middle;\n",
       "    }\n",
       "\n",
       "    .dataframe tbody tr th {\n",
       "        vertical-align: top;\n",
       "    }\n",
       "\n",
       "    .dataframe thead th {\n",
       "        text-align: right;\n",
       "    }\n",
       "</style>\n",
       "<table border=\"1\" class=\"dataframe\">\n",
       "  <thead>\n",
       "    <tr style=\"text-align: right;\">\n",
       "      <th></th>\n",
       "      <th>cls</th>\n",
       "      <th>n1</th>\n",
       "      <th>n2</th>\n",
       "      <th>pval_2smp</th>\n",
       "      <th>pval_bartlett</th>\n",
       "      <th>pval_f</th>\n",
       "      <th>pval_levene</th>\n",
       "      <th>pval_t</th>\n",
       "      <th>pval_tLDA</th>\n",
       "      <th>doc_tested</th>\n",
       "      <th>len</th>\n",
       "      <th>true_class</th>\n",
       "    </tr>\n",
       "  </thead>\n",
       "  <tbody>\n",
       "    <tr>\n",
       "      <th>0</th>\n",
       "      <td>Dtr</td>\n",
       "      <td>7.0</td>\n",
       "      <td>8.0</td>\n",
       "      <td>0.896193</td>\n",
       "      <td>0.998586</td>\n",
       "      <td>0.434164</td>\n",
       "      <td>0.948027</td>\n",
       "      <td>0.279647</td>\n",
       "      <td>0.271533</td>\n",
       "      <td>Dtr|Deut.12</td>\n",
       "      <td>824</td>\n",
       "      <td>Dtr</td>\n",
       "    </tr>\n",
       "    <tr>\n",
       "      <th>1</th>\n",
       "      <td>DtrH</td>\n",
       "      <td>19.0</td>\n",
       "      <td>20.0</td>\n",
       "      <td>0.565393</td>\n",
       "      <td>0.538336</td>\n",
       "      <td>0.693224</td>\n",
       "      <td>0.367876</td>\n",
       "      <td>0.354733</td>\n",
       "      <td>0.312754</td>\n",
       "      <td>Dtr|Deut.12</td>\n",
       "      <td>824</td>\n",
       "      <td>Dtr</td>\n",
       "    </tr>\n",
       "    <tr>\n",
       "      <th>2</th>\n",
       "      <td>P</td>\n",
       "      <td>22.0</td>\n",
       "      <td>23.0</td>\n",
       "      <td>0.566215</td>\n",
       "      <td>0.404383</td>\n",
       "      <td>0.174723</td>\n",
       "      <td>0.610349</td>\n",
       "      <td>0.002233</td>\n",
       "      <td>0.001654</td>\n",
       "      <td>Dtr|Deut.12</td>\n",
       "      <td>824</td>\n",
       "      <td>Dtr</td>\n",
       "    </tr>\n",
       "    <tr>\n",
       "      <th>3</th>\n",
       "      <td>Dtr</td>\n",
       "      <td>7.0</td>\n",
       "      <td>8.0</td>\n",
       "      <td>0.481921</td>\n",
       "      <td>0.805077</td>\n",
       "      <td>0.531136</td>\n",
       "      <td>0.751533</td>\n",
       "      <td>0.149619</td>\n",
       "      <td>0.123025</td>\n",
       "      <td>Dtr|Deut.13</td>\n",
       "      <td>519</td>\n",
       "      <td>Dtr</td>\n",
       "    </tr>\n",
       "    <tr>\n",
       "      <th>4</th>\n",
       "      <td>DtrH</td>\n",
       "      <td>19.0</td>\n",
       "      <td>20.0</td>\n",
       "      <td>0.937944</td>\n",
       "      <td>0.842027</td>\n",
       "      <td>0.535372</td>\n",
       "      <td>0.788162</td>\n",
       "      <td>0.419803</td>\n",
       "      <td>0.415621</td>\n",
       "      <td>Dtr|Deut.13</td>\n",
       "      <td>519</td>\n",
       "      <td>Dtr</td>\n",
       "    </tr>\n",
       "    <tr>\n",
       "      <th>...</th>\n",
       "      <td>...</td>\n",
       "      <td>...</td>\n",
       "      <td>...</td>\n",
       "      <td>...</td>\n",
       "      <td>...</td>\n",
       "      <td>...</td>\n",
       "      <td>...</td>\n",
       "      <td>...</td>\n",
       "      <td>...</td>\n",
       "      <td>...</td>\n",
       "      <td>...</td>\n",
       "      <td>...</td>\n",
       "    </tr>\n",
       "    <tr>\n",
       "      <th>142</th>\n",
       "      <td>DtrH</td>\n",
       "      <td>19.0</td>\n",
       "      <td>20.0</td>\n",
       "      <td>0.216506</td>\n",
       "      <td>0.339120</td>\n",
       "      <td>0.143620</td>\n",
       "      <td>0.712078</td>\n",
       "      <td>0.000127</td>\n",
       "      <td>0.000184</td>\n",
       "      <td>P|Lev.8</td>\n",
       "      <td>866</td>\n",
       "      <td>P</td>\n",
       "    </tr>\n",
       "    <tr>\n",
       "      <th>143</th>\n",
       "      <td>P</td>\n",
       "      <td>21.0</td>\n",
       "      <td>22.0</td>\n",
       "      <td>0.882875</td>\n",
       "      <td>0.909075</td>\n",
       "      <td>0.413111</td>\n",
       "      <td>0.961778</td>\n",
       "      <td>0.411597</td>\n",
       "      <td>0.393498</td>\n",
       "      <td>P|Lev.8</td>\n",
       "      <td>866</td>\n",
       "      <td>P</td>\n",
       "    </tr>\n",
       "    <tr>\n",
       "      <th>144</th>\n",
       "      <td>Dtr</td>\n",
       "      <td>8.0</td>\n",
       "      <td>9.0</td>\n",
       "      <td>0.552988</td>\n",
       "      <td>0.473816</td>\n",
       "      <td>0.192220</td>\n",
       "      <td>0.954449</td>\n",
       "      <td>0.105361</td>\n",
       "      <td>0.047010</td>\n",
       "      <td>P|Lev.9</td>\n",
       "      <td>503</td>\n",
       "      <td>P</td>\n",
       "    </tr>\n",
       "    <tr>\n",
       "      <th>145</th>\n",
       "      <td>DtrH</td>\n",
       "      <td>19.0</td>\n",
       "      <td>20.0</td>\n",
       "      <td>0.530283</td>\n",
       "      <td>0.661812</td>\n",
       "      <td>0.292128</td>\n",
       "      <td>0.860605</td>\n",
       "      <td>0.010586</td>\n",
       "      <td>0.009048</td>\n",
       "      <td>P|Lev.9</td>\n",
       "      <td>503</td>\n",
       "      <td>P</td>\n",
       "    </tr>\n",
       "    <tr>\n",
       "      <th>146</th>\n",
       "      <td>P</td>\n",
       "      <td>21.0</td>\n",
       "      <td>22.0</td>\n",
       "      <td>0.897852</td>\n",
       "      <td>0.688581</td>\n",
       "      <td>0.306520</td>\n",
       "      <td>0.915301</td>\n",
       "      <td>0.328210</td>\n",
       "      <td>0.332827</td>\n",
       "      <td>P|Lev.9</td>\n",
       "      <td>503</td>\n",
       "      <td>P</td>\n",
       "    </tr>\n",
       "  </tbody>\n",
       "</table>\n",
       "<p>147 rows × 12 columns</p>\n",
       "</div>"
      ],
      "text/plain": [
       "      cls    n1    n2  pval_2smp  pval_bartlett    pval_f  pval_levene  \\\n",
       "0     Dtr   7.0   8.0   0.896193       0.998586  0.434164     0.948027   \n",
       "1    DtrH  19.0  20.0   0.565393       0.538336  0.693224     0.367876   \n",
       "2       P  22.0  23.0   0.566215       0.404383  0.174723     0.610349   \n",
       "3     Dtr   7.0   8.0   0.481921       0.805077  0.531136     0.751533   \n",
       "4    DtrH  19.0  20.0   0.937944       0.842027  0.535372     0.788162   \n",
       "..    ...   ...   ...        ...            ...       ...          ...   \n",
       "142  DtrH  19.0  20.0   0.216506       0.339120  0.143620     0.712078   \n",
       "143     P  21.0  22.0   0.882875       0.909075  0.413111     0.961778   \n",
       "144   Dtr   8.0   9.0   0.552988       0.473816  0.192220     0.954449   \n",
       "145  DtrH  19.0  20.0   0.530283       0.661812  0.292128     0.860605   \n",
       "146     P  21.0  22.0   0.897852       0.688581  0.306520     0.915301   \n",
       "\n",
       "       pval_t  pval_tLDA   doc_tested  len true_class  \n",
       "0    0.279647   0.271533  Dtr|Deut.12  824        Dtr  \n",
       "1    0.354733   0.312754  Dtr|Deut.12  824        Dtr  \n",
       "2    0.002233   0.001654  Dtr|Deut.12  824        Dtr  \n",
       "3    0.149619   0.123025  Dtr|Deut.13  519        Dtr  \n",
       "4    0.419803   0.415621  Dtr|Deut.13  519        Dtr  \n",
       "..        ...        ...          ...  ...        ...  \n",
       "142  0.000127   0.000184      P|Lev.8  866          P  \n",
       "143  0.411597   0.393498      P|Lev.8  866          P  \n",
       "144  0.105361   0.047010      P|Lev.9  503          P  \n",
       "145  0.010586   0.009048      P|Lev.9  503          P  \n",
       "146  0.328210   0.332827      P|Lev.9  503          P  \n",
       "\n",
       "[147 rows x 12 columns]"
      ]
     },
     "execution_count": 67,
     "metadata": {},
     "output_type": "execute_result"
    }
   ],
   "source": [
    "df_res"
   ]
  },
  {
   "cell_type": "code",
   "execution_count": 37,
   "id": "e8b94a6c",
   "metadata": {},
   "outputs": [
    {
     "data": {
      "text/html": [
       "<div>\n",
       "<style scoped>\n",
       "    .dataframe tbody tr th:only-of-type {\n",
       "        vertical-align: middle;\n",
       "    }\n",
       "\n",
       "    .dataframe tbody tr th {\n",
       "        vertical-align: top;\n",
       "    }\n",
       "\n",
       "    .dataframe thead th {\n",
       "        text-align: right;\n",
       "    }\n",
       "</style>\n",
       "<table border=\"1\" class=\"dataframe\">\n",
       "  <thead>\n",
       "    <tr style=\"text-align: right;\">\n",
       "      <th></th>\n",
       "      <th>Dtr</th>\n",
       "      <th>DtrH</th>\n",
       "      <th>P</th>\n",
       "      <th>doc_tested</th>\n",
       "      <th>len</th>\n",
       "      <th>true_class</th>\n",
       "      <th>predicted_class</th>\n",
       "    </tr>\n",
       "  </thead>\n",
       "  <tbody>\n",
       "    <tr>\n",
       "      <th>0</th>\n",
       "      <td>1.274227</td>\n",
       "      <td>1.036390</td>\n",
       "      <td>6.104557</td>\n",
       "      <td>Dtr|Deut.12</td>\n",
       "      <td>824.0</td>\n",
       "      <td>Dtr</td>\n",
       "      <td>DtrH</td>\n",
       "    </tr>\n",
       "    <tr>\n",
       "      <th>1</th>\n",
       "      <td>1.899661</td>\n",
       "      <td>0.867971</td>\n",
       "      <td>2.653439</td>\n",
       "      <td>Dtr|Deut.13</td>\n",
       "      <td>519.0</td>\n",
       "      <td>Dtr</td>\n",
       "      <td>DtrH</td>\n",
       "    </tr>\n",
       "    <tr>\n",
       "      <th>2</th>\n",
       "      <td>0.003518</td>\n",
       "      <td>1.122781</td>\n",
       "      <td>3.198606</td>\n",
       "      <td>Dtr|Deut.15</td>\n",
       "      <td>567.0</td>\n",
       "      <td>Dtr</td>\n",
       "      <td>Dtr</td>\n",
       "    </tr>\n",
       "    <tr>\n",
       "      <th>3</th>\n",
       "      <td>1.174786</td>\n",
       "      <td>3.150986</td>\n",
       "      <td>2.940416</td>\n",
       "      <td>Dtr|Deut.16</td>\n",
       "      <td>514.0</td>\n",
       "      <td>Dtr</td>\n",
       "      <td>Dtr</td>\n",
       "    </tr>\n",
       "    <tr>\n",
       "      <th>4</th>\n",
       "      <td>0.287107</td>\n",
       "      <td>0.272530</td>\n",
       "      <td>4.895184</td>\n",
       "      <td>Dtr|Deut.18</td>\n",
       "      <td>458.0</td>\n",
       "      <td>Dtr</td>\n",
       "      <td>DtrH</td>\n",
       "    </tr>\n",
       "    <tr>\n",
       "      <th>5</th>\n",
       "      <td>1.271815</td>\n",
       "      <td>1.983998</td>\n",
       "      <td>4.308268</td>\n",
       "      <td>Dtr|Deut.19</td>\n",
       "      <td>523.0</td>\n",
       "      <td>Dtr</td>\n",
       "      <td>Dtr</td>\n",
       "    </tr>\n",
       "    <tr>\n",
       "      <th>6</th>\n",
       "      <td>0.306119</td>\n",
       "      <td>1.242663</td>\n",
       "      <td>3.866526</td>\n",
       "      <td>Dtr|Deut.26</td>\n",
       "      <td>549.0</td>\n",
       "      <td>Dtr</td>\n",
       "      <td>Dtr</td>\n",
       "    </tr>\n",
       "    <tr>\n",
       "      <th>7</th>\n",
       "      <td>1.640469</td>\n",
       "      <td>1.773175</td>\n",
       "      <td>4.529676</td>\n",
       "      <td>Dtr|Deut.6</td>\n",
       "      <td>515.0</td>\n",
       "      <td>Dtr</td>\n",
       "      <td>Dtr</td>\n",
       "    </tr>\n",
       "    <tr>\n",
       "      <th>8</th>\n",
       "      <td>2.629495</td>\n",
       "      <td>2.010008</td>\n",
       "      <td>6.186513</td>\n",
       "      <td>DtrH|1Kgs.8</td>\n",
       "      <td>1731.0</td>\n",
       "      <td>DtrH</td>\n",
       "      <td>DtrH</td>\n",
       "    </tr>\n",
       "    <tr>\n",
       "      <th>9</th>\n",
       "      <td>2.322208</td>\n",
       "      <td>2.435022</td>\n",
       "      <td>2.420678</td>\n",
       "      <td>DtrH|2Kgs.17</td>\n",
       "      <td>509.0</td>\n",
       "      <td>DtrH</td>\n",
       "      <td>Dtr</td>\n",
       "    </tr>\n",
       "    <tr>\n",
       "      <th>10</th>\n",
       "      <td>2.247303</td>\n",
       "      <td>0.951564</td>\n",
       "      <td>3.115463</td>\n",
       "      <td>DtrH|2Kgs.22</td>\n",
       "      <td>554.0</td>\n",
       "      <td>DtrH</td>\n",
       "      <td>DtrH</td>\n",
       "    </tr>\n",
       "    <tr>\n",
       "      <th>11</th>\n",
       "      <td>3.717358</td>\n",
       "      <td>2.045068</td>\n",
       "      <td>5.243019</td>\n",
       "      <td>DtrH|2Kgs.23</td>\n",
       "      <td>1140.0</td>\n",
       "      <td>DtrH</td>\n",
       "      <td>DtrH</td>\n",
       "    </tr>\n",
       "    <tr>\n",
       "      <th>12</th>\n",
       "      <td>2.457004</td>\n",
       "      <td>1.606766</td>\n",
       "      <td>3.199497</td>\n",
       "      <td>DtrH|2Kgs.24</td>\n",
       "      <td>446.0</td>\n",
       "      <td>DtrH</td>\n",
       "      <td>DtrH</td>\n",
       "    </tr>\n",
       "    <tr>\n",
       "      <th>13</th>\n",
       "      <td>2.907652</td>\n",
       "      <td>0.997853</td>\n",
       "      <td>2.402124</td>\n",
       "      <td>DtrH|2Kgs.25</td>\n",
       "      <td>747.0</td>\n",
       "      <td>DtrH</td>\n",
       "      <td>DtrH</td>\n",
       "    </tr>\n",
       "    <tr>\n",
       "      <th>14</th>\n",
       "      <td>2.035624</td>\n",
       "      <td>0.703471</td>\n",
       "      <td>3.648587</td>\n",
       "      <td>DtrH|2Sam.7</td>\n",
       "      <td>716.0</td>\n",
       "      <td>DtrH</td>\n",
       "      <td>DtrH</td>\n",
       "    </tr>\n",
       "    <tr>\n",
       "      <th>15</th>\n",
       "      <td>1.416381</td>\n",
       "      <td>0.010187</td>\n",
       "      <td>4.340256</td>\n",
       "      <td>DtrH|Deut.10</td>\n",
       "      <td>508.0</td>\n",
       "      <td>DtrH</td>\n",
       "      <td>DtrH</td>\n",
       "    </tr>\n",
       "    <tr>\n",
       "      <th>16</th>\n",
       "      <td>1.865010</td>\n",
       "      <td>2.757177</td>\n",
       "      <td>5.212487</td>\n",
       "      <td>DtrH|Deut.11</td>\n",
       "      <td>805.0</td>\n",
       "      <td>DtrH</td>\n",
       "      <td>Dtr</td>\n",
       "    </tr>\n",
       "    <tr>\n",
       "      <th>17</th>\n",
       "      <td>1.604007</td>\n",
       "      <td>1.413251</td>\n",
       "      <td>6.055195</td>\n",
       "      <td>DtrH|Deut.27</td>\n",
       "      <td>457.0</td>\n",
       "      <td>DtrH</td>\n",
       "      <td>DtrH</td>\n",
       "    </tr>\n",
       "    <tr>\n",
       "      <th>18</th>\n",
       "      <td>0.889267</td>\n",
       "      <td>0.293334</td>\n",
       "      <td>3.179824</td>\n",
       "      <td>DtrH|Deut.8</td>\n",
       "      <td>454.0</td>\n",
       "      <td>DtrH</td>\n",
       "      <td>DtrH</td>\n",
       "    </tr>\n",
       "    <tr>\n",
       "      <th>19</th>\n",
       "      <td>1.122068</td>\n",
       "      <td>0.275914</td>\n",
       "      <td>5.563018</td>\n",
       "      <td>DtrH|Deut.9</td>\n",
       "      <td>781.0</td>\n",
       "      <td>DtrH</td>\n",
       "      <td>DtrH</td>\n",
       "    </tr>\n",
       "    <tr>\n",
       "      <th>20</th>\n",
       "      <td>2.192297</td>\n",
       "      <td>1.658337</td>\n",
       "      <td>5.609384</td>\n",
       "      <td>DtrH|Josh.1</td>\n",
       "      <td>476.0</td>\n",
       "      <td>DtrH</td>\n",
       "      <td>DtrH</td>\n",
       "    </tr>\n",
       "    <tr>\n",
       "      <th>21</th>\n",
       "      <td>2.471989</td>\n",
       "      <td>1.018768</td>\n",
       "      <td>3.524544</td>\n",
       "      <td>DtrH|Josh.12</td>\n",
       "      <td>325.0</td>\n",
       "      <td>DtrH</td>\n",
       "      <td>DtrH</td>\n",
       "    </tr>\n",
       "    <tr>\n",
       "      <th>22</th>\n",
       "      <td>0.382386</td>\n",
       "      <td>0.121681</td>\n",
       "      <td>5.148887</td>\n",
       "      <td>DtrH|Josh.23</td>\n",
       "      <td>502.0</td>\n",
       "      <td>DtrH</td>\n",
       "      <td>DtrH</td>\n",
       "    </tr>\n",
       "    <tr>\n",
       "      <th>23</th>\n",
       "      <td>2.452891</td>\n",
       "      <td>0.403304</td>\n",
       "      <td>6.248640</td>\n",
       "      <td>DtrH|Josh.5</td>\n",
       "      <td>433.0</td>\n",
       "      <td>DtrH</td>\n",
       "      <td>DtrH</td>\n",
       "    </tr>\n",
       "    <tr>\n",
       "      <th>24</th>\n",
       "      <td>2.170083</td>\n",
       "      <td>0.190210</td>\n",
       "      <td>2.014396</td>\n",
       "      <td>DtrH|Josh.6</td>\n",
       "      <td>727.0</td>\n",
       "      <td>DtrH</td>\n",
       "      <td>DtrH</td>\n",
       "    </tr>\n",
       "    <tr>\n",
       "      <th>25</th>\n",
       "      <td>1.603288</td>\n",
       "      <td>0.095395</td>\n",
       "      <td>4.794507</td>\n",
       "      <td>DtrH|Judg.2</td>\n",
       "      <td>551.0</td>\n",
       "      <td>DtrH</td>\n",
       "      <td>DtrH</td>\n",
       "    </tr>\n",
       "    <tr>\n",
       "      <th>26</th>\n",
       "      <td>2.179308</td>\n",
       "      <td>0.165477</td>\n",
       "      <td>5.016189</td>\n",
       "      <td>DtrH|Judg.6</td>\n",
       "      <td>1033.0</td>\n",
       "      <td>DtrH</td>\n",
       "      <td>DtrH</td>\n",
       "    </tr>\n",
       "    <tr>\n",
       "      <th>27</th>\n",
       "      <td>1.460688</td>\n",
       "      <td>0.793252</td>\n",
       "      <td>1.853516</td>\n",
       "      <td>P|Exod.16</td>\n",
       "      <td>789.0</td>\n",
       "      <td>P</td>\n",
       "      <td>DtrH</td>\n",
       "    </tr>\n",
       "    <tr>\n",
       "      <th>28</th>\n",
       "      <td>2.996153</td>\n",
       "      <td>7.232278</td>\n",
       "      <td>1.232695</td>\n",
       "      <td>P|Exod.25</td>\n",
       "      <td>670.0</td>\n",
       "      <td>P</td>\n",
       "      <td>P</td>\n",
       "    </tr>\n",
       "    <tr>\n",
       "      <th>29</th>\n",
       "      <td>3.285202</td>\n",
       "      <td>8.297444</td>\n",
       "      <td>1.268219</td>\n",
       "      <td>P|Exod.26</td>\n",
       "      <td>704.0</td>\n",
       "      <td>P</td>\n",
       "      <td>P</td>\n",
       "    </tr>\n",
       "    <tr>\n",
       "      <th>30</th>\n",
       "      <td>2.611935</td>\n",
       "      <td>4.908203</td>\n",
       "      <td>0.077552</td>\n",
       "      <td>P|Exod.27</td>\n",
       "      <td>390.0</td>\n",
       "      <td>P</td>\n",
       "      <td>P</td>\n",
       "    </tr>\n",
       "    <tr>\n",
       "      <th>31</th>\n",
       "      <td>3.536136</td>\n",
       "      <td>6.894393</td>\n",
       "      <td>1.453811</td>\n",
       "      <td>P|Exod.28</td>\n",
       "      <td>870.0</td>\n",
       "      <td>P</td>\n",
       "      <td>P</td>\n",
       "    </tr>\n",
       "    <tr>\n",
       "      <th>32</th>\n",
       "      <td>3.040639</td>\n",
       "      <td>7.161996</td>\n",
       "      <td>0.309161</td>\n",
       "      <td>P|Exod.29</td>\n",
       "      <td>1025.0</td>\n",
       "      <td>P</td>\n",
       "      <td>P</td>\n",
       "    </tr>\n",
       "    <tr>\n",
       "      <th>33</th>\n",
       "      <td>2.411317</td>\n",
       "      <td>3.685200</td>\n",
       "      <td>0.008182</td>\n",
       "      <td>P|Exod.30</td>\n",
       "      <td>702.0</td>\n",
       "      <td>P</td>\n",
       "      <td>P</td>\n",
       "    </tr>\n",
       "    <tr>\n",
       "      <th>34</th>\n",
       "      <td>1.661291</td>\n",
       "      <td>1.765724</td>\n",
       "      <td>0.231646</td>\n",
       "      <td>P|Exod.31</td>\n",
       "      <td>344.0</td>\n",
       "      <td>P</td>\n",
       "      <td>P</td>\n",
       "    </tr>\n",
       "    <tr>\n",
       "      <th>35</th>\n",
       "      <td>2.846744</td>\n",
       "      <td>5.186029</td>\n",
       "      <td>0.250754</td>\n",
       "      <td>P|Exod.35</td>\n",
       "      <td>661.0</td>\n",
       "      <td>P</td>\n",
       "      <td>P</td>\n",
       "    </tr>\n",
       "    <tr>\n",
       "      <th>36</th>\n",
       "      <td>3.520416</td>\n",
       "      <td>9.234865</td>\n",
       "      <td>3.098439</td>\n",
       "      <td>P|Exod.36</td>\n",
       "      <td>741.0</td>\n",
       "      <td>P</td>\n",
       "      <td>P</td>\n",
       "    </tr>\n",
       "    <tr>\n",
       "      <th>37</th>\n",
       "      <td>2.852987</td>\n",
       "      <td>6.339310</td>\n",
       "      <td>1.768165</td>\n",
       "      <td>P|Exod.37</td>\n",
       "      <td>561.0</td>\n",
       "      <td>P</td>\n",
       "      <td>P</td>\n",
       "    </tr>\n",
       "    <tr>\n",
       "      <th>38</th>\n",
       "      <td>2.948655</td>\n",
       "      <td>4.743237</td>\n",
       "      <td>0.236458</td>\n",
       "      <td>P|Exod.38</td>\n",
       "      <td>614.0</td>\n",
       "      <td>P</td>\n",
       "      <td>P</td>\n",
       "    </tr>\n",
       "    <tr>\n",
       "      <th>39</th>\n",
       "      <td>4.194972</td>\n",
       "      <td>8.621755</td>\n",
       "      <td>2.242979</td>\n",
       "      <td>P|Exod.39</td>\n",
       "      <td>812.0</td>\n",
       "      <td>P</td>\n",
       "      <td>P</td>\n",
       "    </tr>\n",
       "    <tr>\n",
       "      <th>40</th>\n",
       "      <td>3.219615</td>\n",
       "      <td>5.696877</td>\n",
       "      <td>0.744430</td>\n",
       "      <td>P|Exod.40</td>\n",
       "      <td>648.0</td>\n",
       "      <td>P</td>\n",
       "      <td>P</td>\n",
       "    </tr>\n",
       "    <tr>\n",
       "      <th>41</th>\n",
       "      <td>0.932918</td>\n",
       "      <td>0.146371</td>\n",
       "      <td>1.620979</td>\n",
       "      <td>P|Exod.6</td>\n",
       "      <td>568.0</td>\n",
       "      <td>P</td>\n",
       "      <td>DtrH</td>\n",
       "    </tr>\n",
       "    <tr>\n",
       "      <th>42</th>\n",
       "      <td>1.977672</td>\n",
       "      <td>0.537100</td>\n",
       "      <td>0.295336</td>\n",
       "      <td>P|Gen.17</td>\n",
       "      <td>548.0</td>\n",
       "      <td>P</td>\n",
       "      <td>P</td>\n",
       "    </tr>\n",
       "    <tr>\n",
       "      <th>43</th>\n",
       "      <td>1.976112</td>\n",
       "      <td>3.085030</td>\n",
       "      <td>0.679865</td>\n",
       "      <td>P|Lev.1</td>\n",
       "      <td>382.0</td>\n",
       "      <td>P</td>\n",
       "      <td>P</td>\n",
       "    </tr>\n",
       "    <tr>\n",
       "      <th>44</th>\n",
       "      <td>1.835098</td>\n",
       "      <td>2.468037</td>\n",
       "      <td>0.027557</td>\n",
       "      <td>P|Lev.2</td>\n",
       "      <td>291.0</td>\n",
       "      <td>P</td>\n",
       "      <td>P</td>\n",
       "    </tr>\n",
       "    <tr>\n",
       "      <th>45</th>\n",
       "      <td>2.398836</td>\n",
       "      <td>4.614920</td>\n",
       "      <td>0.640983</td>\n",
       "      <td>P|Lev.3</td>\n",
       "      <td>371.0</td>\n",
       "      <td>P</td>\n",
       "      <td>P</td>\n",
       "    </tr>\n",
       "    <tr>\n",
       "      <th>46</th>\n",
       "      <td>2.739514</td>\n",
       "      <td>5.907759</td>\n",
       "      <td>1.895447</td>\n",
       "      <td>P|Lev.4</td>\n",
       "      <td>805.0</td>\n",
       "      <td>P</td>\n",
       "      <td>P</td>\n",
       "    </tr>\n",
       "    <tr>\n",
       "      <th>47</th>\n",
       "      <td>3.996584</td>\n",
       "      <td>8.973772</td>\n",
       "      <td>0.887711</td>\n",
       "      <td>P|Lev.8</td>\n",
       "      <td>866.0</td>\n",
       "      <td>P</td>\n",
       "      <td>P</td>\n",
       "    </tr>\n",
       "    <tr>\n",
       "      <th>48</th>\n",
       "      <td>2.250360</td>\n",
       "      <td>4.548209</td>\n",
       "      <td>1.114103</td>\n",
       "      <td>P|Lev.9</td>\n",
       "      <td>503.0</td>\n",
       "      <td>P</td>\n",
       "      <td>P</td>\n",
       "    </tr>\n",
       "  </tbody>\n",
       "</table>\n",
       "</div>"
      ],
      "text/plain": [
       "         Dtr      DtrH         P    doc_tested     len true_class  \\\n",
       "0   1.274227  1.036390  6.104557   Dtr|Deut.12   824.0        Dtr   \n",
       "1   1.899661  0.867971  2.653439   Dtr|Deut.13   519.0        Dtr   \n",
       "2   0.003518  1.122781  3.198606   Dtr|Deut.15   567.0        Dtr   \n",
       "3   1.174786  3.150986  2.940416   Dtr|Deut.16   514.0        Dtr   \n",
       "4   0.287107  0.272530  4.895184   Dtr|Deut.18   458.0        Dtr   \n",
       "5   1.271815  1.983998  4.308268   Dtr|Deut.19   523.0        Dtr   \n",
       "6   0.306119  1.242663  3.866526   Dtr|Deut.26   549.0        Dtr   \n",
       "7   1.640469  1.773175  4.529676    Dtr|Deut.6   515.0        Dtr   \n",
       "8   2.629495  2.010008  6.186513   DtrH|1Kgs.8  1731.0       DtrH   \n",
       "9   2.322208  2.435022  2.420678  DtrH|2Kgs.17   509.0       DtrH   \n",
       "10  2.247303  0.951564  3.115463  DtrH|2Kgs.22   554.0       DtrH   \n",
       "11  3.717358  2.045068  5.243019  DtrH|2Kgs.23  1140.0       DtrH   \n",
       "12  2.457004  1.606766  3.199497  DtrH|2Kgs.24   446.0       DtrH   \n",
       "13  2.907652  0.997853  2.402124  DtrH|2Kgs.25   747.0       DtrH   \n",
       "14  2.035624  0.703471  3.648587   DtrH|2Sam.7   716.0       DtrH   \n",
       "15  1.416381  0.010187  4.340256  DtrH|Deut.10   508.0       DtrH   \n",
       "16  1.865010  2.757177  5.212487  DtrH|Deut.11   805.0       DtrH   \n",
       "17  1.604007  1.413251  6.055195  DtrH|Deut.27   457.0       DtrH   \n",
       "18  0.889267  0.293334  3.179824   DtrH|Deut.8   454.0       DtrH   \n",
       "19  1.122068  0.275914  5.563018   DtrH|Deut.9   781.0       DtrH   \n",
       "20  2.192297  1.658337  5.609384   DtrH|Josh.1   476.0       DtrH   \n",
       "21  2.471989  1.018768  3.524544  DtrH|Josh.12   325.0       DtrH   \n",
       "22  0.382386  0.121681  5.148887  DtrH|Josh.23   502.0       DtrH   \n",
       "23  2.452891  0.403304  6.248640   DtrH|Josh.5   433.0       DtrH   \n",
       "24  2.170083  0.190210  2.014396   DtrH|Josh.6   727.0       DtrH   \n",
       "25  1.603288  0.095395  4.794507   DtrH|Judg.2   551.0       DtrH   \n",
       "26  2.179308  0.165477  5.016189   DtrH|Judg.6  1033.0       DtrH   \n",
       "27  1.460688  0.793252  1.853516     P|Exod.16   789.0          P   \n",
       "28  2.996153  7.232278  1.232695     P|Exod.25   670.0          P   \n",
       "29  3.285202  8.297444  1.268219     P|Exod.26   704.0          P   \n",
       "30  2.611935  4.908203  0.077552     P|Exod.27   390.0          P   \n",
       "31  3.536136  6.894393  1.453811     P|Exod.28   870.0          P   \n",
       "32  3.040639  7.161996  0.309161     P|Exod.29  1025.0          P   \n",
       "33  2.411317  3.685200  0.008182     P|Exod.30   702.0          P   \n",
       "34  1.661291  1.765724  0.231646     P|Exod.31   344.0          P   \n",
       "35  2.846744  5.186029  0.250754     P|Exod.35   661.0          P   \n",
       "36  3.520416  9.234865  3.098439     P|Exod.36   741.0          P   \n",
       "37  2.852987  6.339310  1.768165     P|Exod.37   561.0          P   \n",
       "38  2.948655  4.743237  0.236458     P|Exod.38   614.0          P   \n",
       "39  4.194972  8.621755  2.242979     P|Exod.39   812.0          P   \n",
       "40  3.219615  5.696877  0.744430     P|Exod.40   648.0          P   \n",
       "41  0.932918  0.146371  1.620979      P|Exod.6   568.0          P   \n",
       "42  1.977672  0.537100  0.295336      P|Gen.17   548.0          P   \n",
       "43  1.976112  3.085030  0.679865       P|Lev.1   382.0          P   \n",
       "44  1.835098  2.468037  0.027557       P|Lev.2   291.0          P   \n",
       "45  2.398836  4.614920  0.640983       P|Lev.3   371.0          P   \n",
       "46  2.739514  5.907759  1.895447       P|Lev.4   805.0          P   \n",
       "47  3.996584  8.973772  0.887711       P|Lev.8   866.0          P   \n",
       "48  2.250360  4.548209  1.114103       P|Lev.9   503.0          P   \n",
       "\n",
       "   predicted_class  \n",
       "0             DtrH  \n",
       "1             DtrH  \n",
       "2              Dtr  \n",
       "3              Dtr  \n",
       "4             DtrH  \n",
       "5              Dtr  \n",
       "6              Dtr  \n",
       "7              Dtr  \n",
       "8             DtrH  \n",
       "9              Dtr  \n",
       "10            DtrH  \n",
       "11            DtrH  \n",
       "12            DtrH  \n",
       "13            DtrH  \n",
       "14            DtrH  \n",
       "15            DtrH  \n",
       "16             Dtr  \n",
       "17            DtrH  \n",
       "18            DtrH  \n",
       "19            DtrH  \n",
       "20            DtrH  \n",
       "21            DtrH  \n",
       "22            DtrH  \n",
       "23            DtrH  \n",
       "24            DtrH  \n",
       "25            DtrH  \n",
       "26            DtrH  \n",
       "27            DtrH  \n",
       "28               P  \n",
       "29               P  \n",
       "30               P  \n",
       "31               P  \n",
       "32               P  \n",
       "33               P  \n",
       "34               P  \n",
       "35               P  \n",
       "36               P  \n",
       "37               P  \n",
       "38               P  \n",
       "39               P  \n",
       "40               P  \n",
       "41            DtrH  \n",
       "42               P  \n",
       "43               P  \n",
       "44               P  \n",
       "45               P  \n",
       "46               P  \n",
       "47               P  \n",
       "48               P  "
      ]
     },
     "execution_count": 37,
     "metadata": {},
     "output_type": "execute_result"
    }
   ],
   "source": [
    "df_res"
   ]
  },
  {
   "cell_type": "code",
   "execution_count": 34,
   "id": "a3d0e00e",
   "metadata": {},
   "outputs": [
    {
     "data": {
      "image/png": "[encoded data removed]",
      "text/plain": [
       "<Figure size 432x288 with 1 Axes>"
      ]
     },
     "metadata": {
      "needs_background": "light"
     },
     "output_type": "display_data"
    }
   ],
   "source": []
  },
  {
   "cell_type": "code",
   "execution_count": null,
   "id": "56be86d2",
   "metadata": {},
   "outputs": [],
   "source": []
  },
  {
   "cell_type": "code",
   "execution_count": null,
   "id": "3f17d490",
   "metadata": {},
   "outputs": [],
   "source": []
  }
 ],
 "metadata": {
  "kernelspec": {
   "display_name": "BiblicalScripts",
   "language": "python",
   "name": "python3"
  },
  "language_info": {
   "codemirror_mode": {
    "name": "ipython",
    "version": 3
   },
   "file_extension": ".py",
   "mimetype": "text/x-python",
   "name": "python",
   "nbconvert_exporter": "python",
   "pygments_lexer": "ipython3",
   "version": "3.8.5"
  }
 },
 "nbformat": 4,
 "nbformat_minor": 5
}
