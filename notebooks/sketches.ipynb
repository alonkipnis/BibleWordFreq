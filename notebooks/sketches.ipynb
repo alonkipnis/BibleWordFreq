{
 "cells": [
  {
   "cell_type": "code",
   "execution_count": 168,
   "id": "copyrighted-jackson",
   "metadata": {},
   "outputs": [],
   "source": [
    "import pandas as pd\n",
    "import numpy as np\n",
    "import re\n",
    "\n",
    "import sys\n",
    "\n",
    "sys.path.append(\"../src/biblical_scripts/pipelines/data_science\")\n",
    "sys.path.append(\"/Users/kipnisal/DS/BiblicalScripts/bib-scripts/src\")\n",
    "\n",
    "from AuthorshipAttribution.AuthAttLib import *\n",
    "\n",
    "from tqdm import tqdm\n",
    "\n",
    "import logging\n",
    "logging.basicConfig(level=logging.DEBUG)\n"
   ]
  },
  {
   "cell_type": "code",
   "execution_count": 169,
   "id": "manufactured-collins",
   "metadata": {},
   "outputs": [],
   "source": [
    "path = \"/Users/kipnisal/DS/BiblicalScripts/bib-scripts\""
   ]
  },
  {
   "cell_type": "code",
   "execution_count": 23,
   "id": "married-seating",
   "metadata": {},
   "outputs": [
    {
     "name": "stderr",
     "output_type": "stream",
     "text": [
      "INFO:anyconfig:Loading: /Users/kipnisal/DS/BiblicalScripts/bib-scripts/pyproject.toml\n"
     ]
    }
   ],
   "source": [
    "from kedro.framework.context import load_context\n",
    "cnx = load_context('/Users/kipnisal/DS/BiblicalScripts/bib-scripts')"
   ]
  },
  {
   "cell_type": "code",
   "execution_count": 170,
   "id": "obvious-tourist",
   "metadata": {},
   "outputs": [
    {
     "name": "stderr",
     "output_type": "stream",
     "text": [
      "INFO:anyconfig:Loading: /Users/kipnisal/DS/BiblicalScripts/bib-scripts/conf/base/catalog.yml\n",
      "INFO:anyconfig:Loading: /Users/kipnisal/DS/BiblicalScripts/bib-scripts/conf/base/parameters.yml\n"
     ]
    }
   ],
   "source": [
    "from kedro.config import ConfigLoader\n",
    "\n",
    "conf_paths = [path +'/'+ \"conf/base\",path +'/'+ \"conf/local\"]\n",
    "conf_loader = ConfigLoader(conf_paths)\n",
    "conf_catalog = conf_loader.get(\"catalog*\", \"catalog*/**\")\n",
    "\n",
    "conf_paths = [path + '/' + \"conf/base\",path + '/' + \"conf/local\"]\n",
    "conf_loader = ConfigLoader(conf_paths)\n",
    "parameters = conf_loader.get(\"parameters*\", \"parameters*/**\")\n"
   ]
  },
  {
   "cell_type": "code",
   "execution_count": 216,
   "id": "premium-reflection",
   "metadata": {},
   "outputs": [],
   "source": []
  },
  {
   "cell_type": "markdown",
   "id": "solid-orchestra",
   "metadata": {},
   "source": [
    "# Text Processing"
   ]
  },
  {
   "cell_type": "code",
   "execution_count": 233,
   "id": "flush-master",
   "metadata": {},
   "outputs": [
    {
     "name": "stderr",
     "output_type": "stream",
     "text": [
      "INFO:root:Extracting prefixes and suffixes\n",
      "/usr/local/lib/python3.8/site-packages/pandas/core/indexing.py:1676: SettingWithCopyWarning: \n",
      "A value is trying to be set on a copy of a slice from a DataFrame.\n",
      "Try using .loc[row_indexer,col_indexer] = value instead\n",
      "\n",
      "See the caveats in the documentation: https://pandas.pydata.org/pandas-docs/stable/user_guide/indexing.html#returning-a-view-versus-a-copy\n",
      "  self._setitem_single_column(ilocs[0], value, pi)\n",
      "/usr/local/lib/python3.8/site-packages/pandas/core/indexing.py:1597: SettingWithCopyWarning: \n",
      "A value is trying to be set on a copy of a slice from a DataFrame.\n",
      "Try using .loc[row_indexer,col_indexer] = value instead\n",
      "\n",
      "See the caveats in the documentation: https://pandas.pydata.org/pandas-docs/stable/user_guide/indexing.html#returning-a-view-versus-a-copy\n",
      "  self.obj[key] = value\n",
      "/usr/local/lib/python3.8/site-packages/pandas/core/indexing.py:1720: SettingWithCopyWarning: \n",
      "A value is trying to be set on a copy of a slice from a DataFrame.\n",
      "Try using .loc[row_indexer,col_indexer] = value instead\n",
      "\n",
      "See the caveats in the documentation: https://pandas.pydata.org/pandas-docs/stable/user_guide/indexing.html#returning-a-view-versus-a-copy\n",
      "  self._setitem_single_column(loc, value, pi)\n"
     ]
    },
    {
     "data": {
      "text/html": [
       "<div>\n",
       "<style scoped>\n",
       "    .dataframe tbody tr th:only-of-type {\n",
       "        vertical-align: middle;\n",
       "    }\n",
       "\n",
       "    .dataframe tbody tr th {\n",
       "        vertical-align: top;\n",
       "    }\n",
       "\n",
       "    .dataframe thead th {\n",
       "        text-align: right;\n",
       "    }\n",
       "</style>\n",
       "<table border=\"1\" class=\"dataframe\">\n",
       "  <thead>\n",
       "    <tr style=\"text-align: right;\">\n",
       "      <th></th>\n",
       "      <th>author</th>\n",
       "      <th>chapter</th>\n",
       "      <th>verse</th>\n",
       "      <th>feature</th>\n",
       "      <th>token_id</th>\n",
       "    </tr>\n",
       "  </thead>\n",
       "  <tbody>\n",
       "    <tr>\n",
       "      <th>0</th>\n",
       "      <td>1, 1 Chron 10</td>\n",
       "      <td>1Chr.10</td>\n",
       "      <td>1Chr.10.1</td>\n",
       "      <td>(c, 6430)</td>\n",
       "      <td>(0, 0)</td>\n",
       "    </tr>\n",
       "    <tr>\n",
       "      <th>1</th>\n",
       "      <td>1, 1 Chron 10</td>\n",
       "      <td>1Chr.10</td>\n",
       "      <td>1Chr.10.1</td>\n",
       "      <td>(6430, 3898)</td>\n",
       "      <td>(0, 1)</td>\n",
       "    </tr>\n",
       "    <tr>\n",
       "      <th>2</th>\n",
       "      <td>1, 1 Chron 10</td>\n",
       "      <td>1Chr.10</td>\n",
       "      <td>1Chr.10.1</td>\n",
       "      <td>(3898, b)</td>\n",
       "      <td>(1, 2)</td>\n",
       "    </tr>\n",
       "    <tr>\n",
       "      <th>3</th>\n",
       "      <td>1, 1 Chron 10</td>\n",
       "      <td>1Chr.10</td>\n",
       "      <td>1Chr.10.1</td>\n",
       "      <td>(b, 3478)</td>\n",
       "      <td>(2, 2)</td>\n",
       "    </tr>\n",
       "    <tr>\n",
       "      <th>4</th>\n",
       "      <td>1, 1 Chron 10</td>\n",
       "      <td>1Chr.10</td>\n",
       "      <td>1Chr.10.1</td>\n",
       "      <td>(3478, c)</td>\n",
       "      <td>(2, 3)</td>\n",
       "    </tr>\n",
       "    <tr>\n",
       "      <th>...</th>\n",
       "      <td>...</td>\n",
       "      <td>...</td>\n",
       "      <td>...</td>\n",
       "      <td>...</td>\n",
       "      <td>...</td>\n",
       "    </tr>\n",
       "    <tr>\n",
       "      <th>91720</th>\n",
       "      <td>Prov</td>\n",
       "      <td>Prov.31</td>\n",
       "      <td>Prov.31.9</td>\n",
       "      <td>(6664, 1777)</td>\n",
       "      <td>(63196, 63197)</td>\n",
       "    </tr>\n",
       "    <tr>\n",
       "      <th>91721</th>\n",
       "      <td>Prov</td>\n",
       "      <td>Prov.31</td>\n",
       "      <td>Prov.31.9</td>\n",
       "      <td>(1777, c)</td>\n",
       "      <td>(63197, 63197)</td>\n",
       "    </tr>\n",
       "    <tr>\n",
       "      <th>91722</th>\n",
       "      <td>Prov</td>\n",
       "      <td>Prov.31</td>\n",
       "      <td>Prov.31.9</td>\n",
       "      <td>(c, 6041)</td>\n",
       "      <td>(63197, 63198)</td>\n",
       "    </tr>\n",
       "    <tr>\n",
       "      <th>91723</th>\n",
       "      <td>Prov</td>\n",
       "      <td>Prov.31</td>\n",
       "      <td>Prov.31.9</td>\n",
       "      <td>(6041, c)</td>\n",
       "      <td>(63198, 63199)</td>\n",
       "    </tr>\n",
       "    <tr>\n",
       "      <th>91724</th>\n",
       "      <td>Prov</td>\n",
       "      <td>Prov.31</td>\n",
       "      <td>Prov.31.9</td>\n",
       "      <td>(c, 34)</td>\n",
       "      <td>(63199, 63199)</td>\n",
       "    </tr>\n",
       "  </tbody>\n",
       "</table>\n",
       "<p>91725 rows × 5 columns</p>\n",
       "</div>"
      ],
      "text/plain": [
       "              author  chapter      verse       feature        token_id\n",
       "0      1, 1 Chron 10  1Chr.10  1Chr.10.1     (c, 6430)          (0, 0)\n",
       "1      1, 1 Chron 10  1Chr.10  1Chr.10.1  (6430, 3898)          (0, 1)\n",
       "2      1, 1 Chron 10  1Chr.10  1Chr.10.1     (3898, b)          (1, 2)\n",
       "3      1, 1 Chron 10  1Chr.10  1Chr.10.1     (b, 3478)          (2, 2)\n",
       "4      1, 1 Chron 10  1Chr.10  1Chr.10.1     (3478, c)          (2, 3)\n",
       "...              ...      ...        ...           ...             ...\n",
       "91720           Prov  Prov.31  Prov.31.9  (6664, 1777)  (63196, 63197)\n",
       "91721           Prov  Prov.31  Prov.31.9     (1777, c)  (63197, 63197)\n",
       "91722           Prov  Prov.31  Prov.31.9     (c, 6041)  (63197, 63198)\n",
       "91723           Prov  Prov.31  Prov.31.9     (6041, c)  (63198, 63199)\n",
       "91724           Prov  Prov.31  Prov.31.9       (c, 34)  (63199, 63199)\n",
       "\n",
       "[91725 rows x 5 columns]"
      ]
     },
     "execution_count": 233,
     "metadata": {},
     "output_type": "execute_result"
    }
   ],
   "source": [
    "data = pd.read_csv(path + '/' + 'data/02_intermediate/oshd_parsed.csv')\n",
    "from biblical_scripts.pipelines.data_engineering.TextProcessing import TextProcessing\n",
    "tp = TextProcessing(extract_prefix=True, ng_range=(2,2))\n",
    "data_proc = tp.proc_ng(data)\n",
    "data_proc"
   ]
  },
  {
   "cell_type": "markdown",
   "id": "pregnant-affiliation",
   "metadata": {},
   "source": [
    "# Conversion"
   ]
  },
  {
   "cell_type": "code",
   "execution_count": 257,
   "id": "color-monte",
   "metadata": {},
   "outputs": [],
   "source": [
    "from biblical_scripts.extras.Convert import Convert\n",
    "convert = Convert(data)"
   ]
  },
  {
   "cell_type": "code",
   "execution_count": 263,
   "id": "indonesian-landscape",
   "metadata": {},
   "outputs": [
    {
     "data": {
      "text/plain": [
       "['אָדָ֣ם', 'גֵּהָ֑ה']"
      ]
     },
     "execution_count": 263,
     "metadata": {},
     "output_type": "execute_result"
    }
   ],
   "source": [
    "convert.ng2term(ngram = ('120', '1456'))"
   ]
  },
  {
   "cell_type": "markdown",
   "id": "african-situation",
   "metadata": {},
   "source": [
    "# BS"
   ]
  },
  {
   "cell_type": "code",
   "execution_count": null,
   "id": "blank-xerox",
   "metadata": {},
   "outputs": [],
   "source": []
  },
  {
   "cell_type": "markdown",
   "id": "smooth-livestock",
   "metadata": {},
   "source": [
    "# Models"
   ]
  },
  {
   "cell_type": "code",
   "execution_count": null,
   "id": "seeing-asthma",
   "metadata": {},
   "outputs": [],
   "source": [
    "data_proc = pd.read_csv(path + '/' + 'data/04_feature/data_proc.csv')"
   ]
  },
  {
   "cell_type": "code",
   "execution_count": null,
   "id": "behavioral-supplement",
   "metadata": {},
   "outputs": [],
   "source": []
  },
  {
   "cell_type": "code",
   "execution_count": 243,
   "id": "focal-subscription",
   "metadata": {},
   "outputs": [],
   "source": [
    "import pandas as pd\n",
    "import numpy as np\n",
    "import logging\n",
    "from biblical_scripts.pipelines.data_science.AuthorshipAttribution.AuthAttLib import AuthorshipAttributionDTM\n",
    "from biblical_scripts.pipelines.data_science.AuthorshipAttribution.MultiDoc import CompareDocs\n",
    "\n",
    "from biblical_scripts.pipelines.data_science.nodes import (build_vocab, compute_sim)"
   ]
  },
  {
   "cell_type": "code",
   "execution_count": 48,
   "id": "vanilla-medium",
   "metadata": {},
   "outputs": [],
   "source": [
    "def compute_sim(data, vocabulary, params, known_authors) :\n",
    "    ds = data.rename(columns = {'feature' : 'term', 'chapter' : 'doc_id'}).dropna()\n",
    "    model = AuthorshipAttributionDTM(ds, params, vocab=list(vocabulary.feature.values))\n",
    "    return model.compute_inter_similarity(LOO = True, wrt_authors=known_authors)"
   ]
  },
  {
   "cell_type": "code",
   "execution_count": 53,
   "id": "mineral-glasgow",
   "metadata": {},
   "outputs": [],
   "source": [
    "vocab = pd.read_csv(path + '/' + 'data/05_model_input/vocabulary.csv')\n",
    "data = pd.read_csv(path + '/' + 'data/04_feature/data_proc.csv')\n",
    "\n",
    "params = {}\n",
    "[params.update(p) for p in parameters['HC']]\n",
    "\n",
    "ds = data.rename(columns = {'feature' : 'term', 'chapter' : 'doc_id'}).dropna()\n",
    "model = AuthorshipAttributionDTM(ds, **params, vocab=list(vocab.feature.values))"
   ]
  }
 ],
 "metadata": {
  "kernelspec": {
   "display_name": "Python 3",
   "language": "python",
   "name": "python3"
  },
  "language_info": {
   "codemirror_mode": {
    "name": "ipython",
    "version": 3
   },
   "file_extension": ".py",
   "mimetype": "text/x-python",
   "name": "python",
   "nbconvert_exporter": "python",
   "pygments_lexer": "ipython3",
   "version": "3.8.5"
  }
 },
 "nbformat": 4,
 "nbformat_minor": 5
}
