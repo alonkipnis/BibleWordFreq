{
 "cells": [
  {
   "cell_type": "code",
   "execution_count": 508,
   "id": "amateur-length",
   "metadata": {},
   "outputs": [],
   "source": [
    "import pandas as pd\n",
    "import numpy as np\n",
    "import re\n",
    "\n",
    "import sys\n",
    "\n",
    "sys.path.append(\"../src/biblical_scripts/pipelines/data_science\")\n",
    "sys.path.append(\"/Users/kipnisal/DS/BiblicalScripts/bib-scripts/src\")\n",
    "\n",
    "from AuthorshipAttribution.AuthAttLib import *\n",
    "\n",
    "from tqdm import tqdm\n",
    "\n",
    "import logging\n",
    "logging.basicConfig(level=logging.INFO)"
   ]
  },
  {
   "cell_type": "markdown",
   "id": "subsequent-indian",
   "metadata": {},
   "source": [
    "### Load Context"
   ]
  },
  {
   "cell_type": "code",
   "execution_count": 509,
   "id": "going-church",
   "metadata": {},
   "outputs": [
    {
     "name": "stdout",
     "output_type": "stream",
     "text": [
      "2021-04-19 13:05:42,897 - kedro.framework.session.store - INFO - `read()` not implemented for `BaseSessionStore`. Assuming empty store.\n",
      "2021-04-19 13:05:43,235 - kedro.framework.session.store - INFO - `save()` not implemented for `BaseSessionStore`. Skipping the step.\n"
     ]
    }
   ],
   "source": [
    "project_dir = \"/Users/kipnisal/DS/BiblicalScripts/bib-scripts\"\n",
    "from kedro.framework.session import KedroSession\n",
    "with KedroSession.create(\"biblical_scripts\", project_path=project_dir) as session:\n",
    "    ctx = session.load_context()\n",
    "params = ctx.params"
   ]
  },
  {
   "cell_type": "markdown",
   "id": "configured-stability",
   "metadata": {},
   "source": [
    "# Distributed\n",
    "\n",
    "### To Do:\n",
    " - Use cross-val pipeline\n",
    " - Correct sim_full so that doc-corp comparison is based all data (for the case that we apply feature reduction)\n",
    " - ~~Use sim_only pipeline~~\n",
    " - Report rank test pval in table\n",
    " - Report t-test pval in table\n"
   ]
  },
  {
   "cell_type": "code",
   "execution_count": 481,
   "id": "legislative-audio",
   "metadata": {},
   "outputs": [],
   "source": [
    "from dask.distributed import Client"
   ]
  },
  {
   "cell_type": "code",
   "execution_count": 482,
   "id": "sought-butler",
   "metadata": {},
   "outputs": [],
   "source": [
    "client = Client()"
   ]
  },
  {
   "cell_type": "markdown",
   "id": "blessed-average",
   "metadata": {},
   "source": [
    "# Text Processing"
   ]
  },
  {
   "cell_type": "code",
   "execution_count": 483,
   "id": "several-beauty",
   "metadata": {},
   "outputs": [
    {
     "name": "stdout",
     "output_type": "stream",
     "text": [
      "2021-04-19 12:27:33,154 - kedro.io.data_catalog - INFO - Loading data from `oshb_parsed` (CSVDataSet)...\n"
     ]
    }
   ],
   "source": [
    "data = ctx.catalog.load('oshb_parsed')"
   ]
  },
  {
   "cell_type": "markdown",
   "id": "searching-leave",
   "metadata": {},
   "source": [
    "# Accuracy"
   ]
  },
  {
   "cell_type": "code",
   "execution_count": 484,
   "id": "supposed-evening",
   "metadata": {},
   "outputs": [],
   "source": [
    "from biblical_scripts.pipelines.data_science.nodes import report_table\n",
    "\n",
    "sim_res = pd.read_csv(\"/Users/kipnisal/DS/BiblicalScripts/bib-scripts/data/07_sim_output/sim_res.csv\")"
   ]
  },
  {
   "cell_type": "code",
   "execution_count": 68,
   "id": "geological-aaron",
   "metadata": {},
   "outputs": [
    {
     "data": {
      "text/html": [
       "<div>\n",
       "<style scoped>\n",
       "    .dataframe tbody tr th:only-of-type {\n",
       "        vertical-align: middle;\n",
       "    }\n",
       "\n",
       "    .dataframe tbody tr th {\n",
       "        vertical-align: top;\n",
       "    }\n",
       "\n",
       "    .dataframe thead th {\n",
       "        text-align: right;\n",
       "    }\n",
       "</style>\n",
       "<table border=\"1\" class=\"dataframe\">\n",
       "  <thead>\n",
       "    <tr style=\"text-align: right;\">\n",
       "      <th>doc</th>\n",
       "      <th>1Chr.12 by Chr1</th>\n",
       "      <th>1Chr.22 by Chr1</th>\n",
       "      <th>1Chr.23 by Chr1</th>\n",
       "      <th>1Chr.24 by Chr1</th>\n",
       "      <th>1Chr.25 by Chr1</th>\n",
       "      <th>1Chr.26 by Chr1</th>\n",
       "      <th>1Chr.27 by Chr1</th>\n",
       "      <th>1Chr.28 by Chr1</th>\n",
       "      <th>1Chr.29 by Chr1</th>\n",
       "      <th>1Kgs.8 by 12, 1 Kings 8-10; 11:41-43</th>\n",
       "      <th>...</th>\n",
       "      <th>Prov.23 by Prov</th>\n",
       "      <th>Prov.24 by Prov</th>\n",
       "      <th>Prov.25 by Prov</th>\n",
       "      <th>Prov.26 by Prov</th>\n",
       "      <th>Prov.27 by Prov</th>\n",
       "      <th>Prov.28 by Prov</th>\n",
       "      <th>Prov.29 by Prov</th>\n",
       "      <th>Prov.30 by Prov</th>\n",
       "      <th>Prov.31 by Prov</th>\n",
       "      <th>mean</th>\n",
       "    </tr>\n",
       "    <tr>\n",
       "      <th>corpus</th>\n",
       "      <th></th>\n",
       "      <th></th>\n",
       "      <th></th>\n",
       "      <th></th>\n",
       "      <th></th>\n",
       "      <th></th>\n",
       "      <th></th>\n",
       "      <th></th>\n",
       "      <th></th>\n",
       "      <th></th>\n",
       "      <th></th>\n",
       "      <th></th>\n",
       "      <th></th>\n",
       "      <th></th>\n",
       "      <th></th>\n",
       "      <th></th>\n",
       "      <th></th>\n",
       "      <th></th>\n",
       "      <th></th>\n",
       "      <th></th>\n",
       "      <th></th>\n",
       "    </tr>\n",
       "  </thead>\n",
       "  <tbody>\n",
       "    <tr>\n",
       "      <th>Dtr</th>\n",
       "      <td>0.672217</td>\n",
       "      <td>1.699666</td>\n",
       "      <td>2.439353</td>\n",
       "      <td>1.800035</td>\n",
       "      <td>1.670793</td>\n",
       "      <td>2.945656</td>\n",
       "      <td>-0.123985</td>\n",
       "      <td>2.904817</td>\n",
       "      <td>2.282725</td>\n",
       "      <td>3.522975</td>\n",
       "      <td>...</td>\n",
       "      <td>-0.763573</td>\n",
       "      <td>0.504632</td>\n",
       "      <td>1.47913</td>\n",
       "      <td>-3.623939</td>\n",
       "      <td>0.547239</td>\n",
       "      <td>-2.993312</td>\n",
       "      <td>-1.250881</td>\n",
       "      <td>-0.196337</td>\n",
       "      <td>-0.402459</td>\n",
       "      <td>0.985860</td>\n",
       "    </tr>\n",
       "    <tr>\n",
       "      <th>DtrH</th>\n",
       "      <td>0.163331</td>\n",
       "      <td>2.172532</td>\n",
       "      <td>1.885906</td>\n",
       "      <td>1.079523</td>\n",
       "      <td>0.550403</td>\n",
       "      <td>2.314226</td>\n",
       "      <td>1.181041</td>\n",
       "      <td>2.298424</td>\n",
       "      <td>2.137941</td>\n",
       "      <td>1.184169</td>\n",
       "      <td>...</td>\n",
       "      <td>0.656064</td>\n",
       "      <td>-0.087345</td>\n",
       "      <td>0.954954</td>\n",
       "      <td>-1.280491</td>\n",
       "      <td>0.879631</td>\n",
       "      <td>-2.084898</td>\n",
       "      <td>0.248653</td>\n",
       "      <td>-1.427404</td>\n",
       "      <td>-0.1738</td>\n",
       "      <td>0.745624</td>\n",
       "    </tr>\n",
       "    <tr>\n",
       "      <th>P</th>\n",
       "      <td>0.530626</td>\n",
       "      <td>2.371737</td>\n",
       "      <td>2.17593</td>\n",
       "      <td>1.34056</td>\n",
       "      <td>1.673176</td>\n",
       "      <td>1.636214</td>\n",
       "      <td>2.19497</td>\n",
       "      <td>2.635918</td>\n",
       "      <td>3.239808</td>\n",
       "      <td>5.659863</td>\n",
       "      <td>...</td>\n",
       "      <td>1.487273</td>\n",
       "      <td>1.241925</td>\n",
       "      <td>1.258142</td>\n",
       "      <td>0.830113</td>\n",
       "      <td>1.432819</td>\n",
       "      <td>1.368299</td>\n",
       "      <td>0.585248</td>\n",
       "      <td>1.459047</td>\n",
       "      <td>-0.59781</td>\n",
       "      <td>1.836922</td>\n",
       "    </tr>\n",
       "    <tr>\n",
       "      <th>min_corpus</th>\n",
       "      <td>DtrH</td>\n",
       "      <td>Dtr</td>\n",
       "      <td>DtrH</td>\n",
       "      <td>DtrH</td>\n",
       "      <td>DtrH</td>\n",
       "      <td>P</td>\n",
       "      <td>Dtr</td>\n",
       "      <td>DtrH</td>\n",
       "      <td>DtrH</td>\n",
       "      <td>DtrH</td>\n",
       "      <td>...</td>\n",
       "      <td>Dtr</td>\n",
       "      <td>DtrH</td>\n",
       "      <td>DtrH</td>\n",
       "      <td>Dtr</td>\n",
       "      <td>Dtr</td>\n",
       "      <td>Dtr</td>\n",
       "      <td>Dtr</td>\n",
       "      <td>DtrH</td>\n",
       "      <td>P</td>\n",
       "      <td>NaN</td>\n",
       "    </tr>\n",
       "    <tr>\n",
       "      <th>author</th>\n",
       "      <td>Chr1</td>\n",
       "      <td>Chr1</td>\n",
       "      <td>Chr1</td>\n",
       "      <td>Chr1</td>\n",
       "      <td>Chr1</td>\n",
       "      <td>Chr1</td>\n",
       "      <td>Chr1</td>\n",
       "      <td>Chr1</td>\n",
       "      <td>Chr1</td>\n",
       "      <td>12, 1 Kings 8-10; 11:41-43</td>\n",
       "      <td>...</td>\n",
       "      <td>Prov</td>\n",
       "      <td>Prov</td>\n",
       "      <td>Prov</td>\n",
       "      <td>Prov</td>\n",
       "      <td>Prov</td>\n",
       "      <td>Prov</td>\n",
       "      <td>Prov</td>\n",
       "      <td>Prov</td>\n",
       "      <td>Prov</td>\n",
       "      <td>NaN</td>\n",
       "    </tr>\n",
       "    <tr>\n",
       "      <th>succ</th>\n",
       "      <td>False</td>\n",
       "      <td>False</td>\n",
       "      <td>False</td>\n",
       "      <td>False</td>\n",
       "      <td>False</td>\n",
       "      <td>False</td>\n",
       "      <td>False</td>\n",
       "      <td>False</td>\n",
       "      <td>False</td>\n",
       "      <td>False</td>\n",
       "      <td>...</td>\n",
       "      <td>False</td>\n",
       "      <td>False</td>\n",
       "      <td>False</td>\n",
       "      <td>False</td>\n",
       "      <td>False</td>\n",
       "      <td>False</td>\n",
       "      <td>False</td>\n",
       "      <td>False</td>\n",
       "      <td>False</td>\n",
       "      <td>0.341667</td>\n",
       "    </tr>\n",
       "  </tbody>\n",
       "</table>\n",
       "<p>6 rows × 121 columns</p>\n",
       "</div>"
      ],
      "text/plain": [
       "doc        1Chr.12 by Chr1 1Chr.22 by Chr1 1Chr.23 by Chr1 1Chr.24 by Chr1  \\\n",
       "corpus                                                                       \n",
       "Dtr               0.672217        1.699666        2.439353        1.800035   \n",
       "DtrH              0.163331        2.172532        1.885906        1.079523   \n",
       "P                 0.530626        2.371737         2.17593         1.34056   \n",
       "min_corpus            DtrH             Dtr            DtrH            DtrH   \n",
       "author                Chr1            Chr1            Chr1            Chr1   \n",
       "succ                 False           False           False           False   \n",
       "\n",
       "doc        1Chr.25 by Chr1 1Chr.26 by Chr1 1Chr.27 by Chr1 1Chr.28 by Chr1  \\\n",
       "corpus                                                                       \n",
       "Dtr               1.670793        2.945656       -0.123985        2.904817   \n",
       "DtrH              0.550403        2.314226        1.181041        2.298424   \n",
       "P                 1.673176        1.636214         2.19497        2.635918   \n",
       "min_corpus            DtrH               P             Dtr            DtrH   \n",
       "author                Chr1            Chr1            Chr1            Chr1   \n",
       "succ                 False           False           False           False   \n",
       "\n",
       "doc        1Chr.29 by Chr1 1Kgs.8 by 12, 1 Kings 8-10; 11:41-43  ...  \\\n",
       "corpus                                                           ...   \n",
       "Dtr               2.282725                             3.522975  ...   \n",
       "DtrH              2.137941                             1.184169  ...   \n",
       "P                 3.239808                             5.659863  ...   \n",
       "min_corpus            DtrH                                 DtrH  ...   \n",
       "author                Chr1           12, 1 Kings 8-10; 11:41-43  ...   \n",
       "succ                 False                                False  ...   \n",
       "\n",
       "doc        Prov.23 by Prov Prov.24 by Prov Prov.25 by Prov Prov.26 by Prov  \\\n",
       "corpus                                                                       \n",
       "Dtr              -0.763573        0.504632         1.47913       -3.623939   \n",
       "DtrH              0.656064       -0.087345        0.954954       -1.280491   \n",
       "P                 1.487273        1.241925        1.258142        0.830113   \n",
       "min_corpus             Dtr            DtrH            DtrH             Dtr   \n",
       "author                Prov            Prov            Prov            Prov   \n",
       "succ                 False           False           False           False   \n",
       "\n",
       "doc        Prov.27 by Prov Prov.28 by Prov Prov.29 by Prov Prov.30 by Prov  \\\n",
       "corpus                                                                       \n",
       "Dtr               0.547239       -2.993312       -1.250881       -0.196337   \n",
       "DtrH              0.879631       -2.084898        0.248653       -1.427404   \n",
       "P                 1.432819        1.368299        0.585248        1.459047   \n",
       "min_corpus             Dtr             Dtr             Dtr            DtrH   \n",
       "author                Prov            Prov            Prov            Prov   \n",
       "succ                 False           False           False           False   \n",
       "\n",
       "doc        Prov.31 by Prov      mean  \n",
       "corpus                                \n",
       "Dtr              -0.402459  0.985860  \n",
       "DtrH               -0.1738  0.745624  \n",
       "P                 -0.59781  1.836922  \n",
       "min_corpus               P       NaN  \n",
       "author                Prov       NaN  \n",
       "succ                 False  0.341667  \n",
       "\n",
       "[6 rows x 121 columns]"
      ]
     },
     "execution_count": 68,
     "metadata": {},
     "output_type": "execute_result"
    }
   ],
   "source": [
    "df = sim_res.copy().rename(columns={'true_author' : 'author'})\n",
    "df['corpus'] = sim_res['variable'].str.extract(r'([^:]+):')\n",
    "\n",
    "\n",
    "res_tbl = df.pivot('corpus','doc','value')\n",
    "lo_corpora = df.corpus.unique().tolist()\n",
    "cmin = res_tbl.idxmin().rename('min_corpus')\n",
    "res_tbl = res_tbl.append(cmin)\n",
    "res_tbl.loc['author', :] = [r[1] for r in res_tbl.columns.str.split(' by ')]\n",
    "res_tbl.loc['succ', :] = res_tbl.loc['min_corpus',:] == res_tbl.loc['author',:]\n",
    "\n",
    "res_tbl['mean'] = rp.loc[lo_corpora + ['succ'],:].mean(1)\n",
    "res_tbl"
   ]
  },
  {
   "cell_type": "markdown",
   "id": "essential-salem",
   "metadata": {},
   "source": [
    "# Conversion"
   ]
  },
  {
   "cell_type": "code",
   "execution_count": 85,
   "id": "anticipated-rally",
   "metadata": {},
   "outputs": [
    {
     "name": "stdout",
     "output_type": "stream",
     "text": [
      "2021-04-15 23:53:03,617 - kedro.io.data_catalog - INFO - Loading data from `oshb_parsed` (CSVDataSet)...\n"
     ]
    }
   ],
   "source": [
    "data = ctx.catalog.load('oshb_parsed')\n",
    "from biblical_scripts.extras.Convert import Convert\n",
    "convert = Convert(data)"
   ]
  },
  {
   "cell_type": "code",
   "execution_count": 86,
   "id": "hispanic-horizontal",
   "metadata": {},
   "outputs": [
    {
     "data": {
      "text/plain": [
       "'7628'"
      ]
     },
     "execution_count": 86,
     "metadata": {},
     "output_type": "execute_result"
    }
   ],
   "source": [
    "convert.to_term('7628')"
   ]
  },
  {
   "cell_type": "code",
   "execution_count": 93,
   "id": "eligible-transportation",
   "metadata": {},
   "outputs": [
    {
     "data": {
      "text/html": [
       "<div>\n",
       "<style scoped>\n",
       "    .dataframe tbody tr th:only-of-type {\n",
       "        vertical-align: middle;\n",
       "    }\n",
       "\n",
       "    .dataframe tbody tr th {\n",
       "        vertical-align: top;\n",
       "    }\n",
       "\n",
       "    .dataframe thead th {\n",
       "        text-align: right;\n",
       "    }\n",
       "</style>\n",
       "<table border=\"1\" class=\"dataframe\">\n",
       "  <thead>\n",
       "    <tr style=\"text-align: right;\">\n",
       "      <th></th>\n",
       "      <th>chapter</th>\n",
       "      <th>lemma</th>\n",
       "      <th>morph</th>\n",
       "      <th>term</th>\n",
       "      <th>verse</th>\n",
       "      <th>author</th>\n",
       "    </tr>\n",
       "  </thead>\n",
       "  <tbody>\n",
       "    <tr>\n",
       "      <th>10493</th>\n",
       "      <td>2Kgs.9</td>\n",
       "      <td>c/5137 a</td>\n",
       "      <td>HC/Vqw3ms</td>\n",
       "      <td>וַ/יִּ֨ז</td>\n",
       "      <td>2Kgs.9.33</td>\n",
       "      <td>18, 2 Kings 8:25-11:3</td>\n",
       "    </tr>\n",
       "    <tr>\n",
       "      <th>49550</th>\n",
       "      <td>Exod.29</td>\n",
       "      <td>c/5137 a</td>\n",
       "      <td>HC/Vhq2ms</td>\n",
       "      <td>וְ/הִזֵּיתָ֤</td>\n",
       "      <td>Exod.29.21</td>\n",
       "      <td>P</td>\n",
       "    </tr>\n",
       "    <tr>\n",
       "      <th>56872</th>\n",
       "      <td>Lev.4</td>\n",
       "      <td>c/5137 a</td>\n",
       "      <td>HC/Vhq3ms</td>\n",
       "      <td>וְ/הִזָּ֨ה</td>\n",
       "      <td>Lev.4.6</td>\n",
       "      <td>P</td>\n",
       "    </tr>\n",
       "    <tr>\n",
       "      <th>57051</th>\n",
       "      <td>Lev.4</td>\n",
       "      <td>c/5137 a</td>\n",
       "      <td>HC/Vhq3ms</td>\n",
       "      <td>וְ/הִזָּ֞ה</td>\n",
       "      <td>Lev.4.17</td>\n",
       "      <td>P</td>\n",
       "    </tr>\n",
       "    <tr>\n",
       "      <th>57471</th>\n",
       "      <td>Lev.8</td>\n",
       "      <td>c/5137 a</td>\n",
       "      <td>HC/Vhw3ms</td>\n",
       "      <td>וַ/יַּ֥ז</td>\n",
       "      <td>Lev.8.11</td>\n",
       "      <td>P</td>\n",
       "    </tr>\n",
       "    <tr>\n",
       "      <th>57801</th>\n",
       "      <td>Lev.8</td>\n",
       "      <td>c/5137 a</td>\n",
       "      <td>HC/Vhw3ms</td>\n",
       "      <td>וַ/יַּ֤ז</td>\n",
       "      <td>Lev.8.30</td>\n",
       "      <td>P</td>\n",
       "    </tr>\n",
       "  </tbody>\n",
       "</table>\n",
       "</div>"
      ],
      "text/plain": [
       "       chapter     lemma      morph          term       verse  \\\n",
       "10493   2Kgs.9  c/5137 a  HC/Vqw3ms      וַ/יִּ֨ז   2Kgs.9.33   \n",
       "49550  Exod.29  c/5137 a  HC/Vhq2ms  וְ/הִזֵּיתָ֤  Exod.29.21   \n",
       "56872    Lev.4  c/5137 a  HC/Vhq3ms    וְ/הִזָּ֨ה     Lev.4.6   \n",
       "57051    Lev.4  c/5137 a  HC/Vhq3ms    וְ/הִזָּ֞ה    Lev.4.17   \n",
       "57471    Lev.8  c/5137 a  HC/Vhw3ms      וַ/יַּ֥ז    Lev.8.11   \n",
       "57801    Lev.8  c/5137 a  HC/Vhw3ms      וַ/יַּ֤ז    Lev.8.30   \n",
       "\n",
       "                      author  \n",
       "10493  18, 2 Kings 8:25-11:3  \n",
       "49550                      P  \n",
       "56872                      P  \n",
       "57051                      P  \n",
       "57471                      P  \n",
       "57801                      P  "
      ]
     },
     "execution_count": 93,
     "metadata": {},
     "output_type": "execute_result"
    }
   ],
   "source": [
    "data[data.lemma.str.contains(\"5137\")]"
   ]
  },
  {
   "cell_type": "code",
   "execution_count": 939,
   "id": "informative-broadway",
   "metadata": {},
   "outputs": [],
   "source": [
    "vocab = pd.read_csv(\"/Users/kipnisal/DS/BiblicalScripts/bib-scripts/data/05_model_input/vocabulary.csv\")"
   ]
  },
  {
   "cell_type": "code",
   "execution_count": 1025,
   "id": "hindu-comment",
   "metadata": {},
   "outputs": [],
   "source": [
    "from sklearn.model_selection import KFold"
   ]
  },
  {
   "cell_type": "code",
   "execution_count": 961,
   "id": "biblical-metropolitan",
   "metadata": {},
   "outputs": [
    {
     "data": {
      "text/plain": [
       "\"('c', '<Np>')\""
      ]
     },
     "execution_count": 961,
     "metadata": {},
     "output_type": "execute_result"
    }
   ],
   "source": [
    "vocab.loc[1,'feature']"
   ]
  },
  {
   "cell_type": "markdown",
   "id": "everyday-blanket",
   "metadata": {},
   "source": [
    "# Sim full  "
   ]
  },
  {
   "cell_type": "code",
   "execution_count": 127,
   "id": "infinite-aberdeen",
   "metadata": {},
   "outputs": [],
   "source": [
    "sim_full_res_large = pd.read_csv(project_dir + \"/data/07_sim_output/sim_full_res_large.csv\")"
   ]
  },
  {
   "cell_type": "code",
   "execution_count": 524,
   "id": "hundred-edwards",
   "metadata": {},
   "outputs": [
    {
     "name": "stdout",
     "output_type": "stream",
     "text": [
      "2021-04-19 13:07:24,380 - kedro.io.data_catalog - INFO - Loading data from `sim_full_res` (CSVDataSet)...\n",
      "len res =  6342\n"
     ]
    }
   ],
   "source": [
    "sim_full_res = cnx.catalog.load(\"sim_full_res\")\n",
    "print(\"len res = \",len(sim_full_res))"
   ]
  },
  {
   "cell_type": "markdown",
   "id": "confused-overall",
   "metadata": {},
   "source": [
    "## Results:"
   ]
  },
  {
   "cell_type": "code",
   "execution_count": 511,
   "id": "registered-bikini",
   "metadata": {},
   "outputs": [],
   "source": [
    "import plotnine\n",
    "plotnine.options.figure_size = (10, 6)\n",
    "from plotnine import *\n",
    "logging.basicConfig(level=logging.INFO)"
   ]
  },
  {
   "cell_type": "code",
   "execution_count": 512,
   "id": "serious-stable",
   "metadata": {},
   "outputs": [],
   "source": [
    "from biblical_scripts.pipelines.report.nodes import (_prepare_res, report_table_full,\n",
    "                                                     report_sim)\n"
   ]
  },
  {
   "cell_type": "code",
   "execution_count": 649,
   "id": "apart-circus",
   "metadata": {},
   "outputs": [],
   "source": [
    "def _arrange_metadata(df, value) :\n",
    "    \"\"\"\n",
    "    adds 'corpus' and 'author' column to evaluation results\n",
    "    \"\"\"\n",
    "    \n",
    "    df = df[df.variable.str.contains(value)]\n",
    "    df.loc[:,'corpus'] = sim_full_res.variable.str.extract(rf\"(^[A-Za-z0-9 ]+)(-ext)?:([A-Za-z]+)\")[0]\n",
    "    df.loc[:,'author'] = df.doc_tested.str.extract(r\"by (.+)\")[0]\n",
    "    return df\n"
   ]
  },
  {
   "cell_type": "code",
   "execution_count": 657,
   "id": "played-quantum",
   "metadata": {},
   "outputs": [],
   "source": [
    "def _comp_probs(sim_full_res : pd.DataFrame, by) -> pd.DataFrame :\n",
    "    \"\"\"\n",
    "    mean, std and CI's over many iterations.\n",
    "    \"\"\"\n",
    "    \n",
    "    df.loc[:,'rank'] = np.floor(df.groupby(by)['value'].transform('rank'))\n",
    "\n",
    "    df0 = df[df.kind == 'org']\n",
    "    df1 = df[df.kind != 'org']\n",
    "\n",
    "    #df1['corpus'] = df1['corpus'].str.extract(r'([A-Za-z0-9 ]+)-ext')[0]\n",
    "    grp = df1.groupby(by)\n",
    "    res = grp.agg({value : ['mean', 'std', 'count', \n",
    "                               lambda x : pd.Series.quantile(x, q=.05),\n",
    "                               lambda x : pd.Series.quantile(x, q=.95)\n",
    "                              ]}, as_index=False).reset_index()\\\n",
    "        .rename(columns = {'<lambda_0>' : 'CI05', '<lambda_1>' : 'CI95'})\n",
    "\n",
    "    dfm = df0.merge(res[['doc_tested', 'corpus', 'value']],\n",
    "                      on=['doc_tested', 'corpus'], how='right')\n",
    "\n",
    "    mu = dfm[(value, 'mean')]\n",
    "    std = dfm[(value ,'std')]\n",
    "    n = dfm[(value, 'count')]\n",
    "\n",
    "    dfm.loc[:,'prob'] = 1 - (np.floor(dfm['rank'])-1) / n\n",
    "    dfm.loc[:,'t-score'] = np.abs(dfm[value] - mu) / (std * np.sqrt(n/(n-1)))\n",
    "    dfm.loc[:,'t-test'] = scipy.stats.t.sf(dfm['t-score'], df=n-1)\n",
    "    return dfm\n",
    "\n",
    "def comp_probs(sim_full_res, params_report) :\n",
    "    df = _arrange_metadata(sim_full_res, value=params_report['value'])\n",
    "    dfm = _comp_probs(df, by = ['author', 'doc_tested', 'corpus'])\n",
    "    return dfm\n",
    "    \n",
    "def report_probs(dfm)\n",
    "    return dfm.pivot('corpus', 'doc_tested', ['value', 'prob', 't-test', 'rank', 't-score'])"
   ]
  },
  {
   "cell_type": "code",
   "execution_count": 671,
   "id": "promotional-tactics",
   "metadata": {},
   "outputs": [
    {
     "name": "stderr",
     "output_type": "stream",
     "text": [
      "/usr/local/lib/python3.8/site-packages/pandas/core/reshape/merge.py:648: UserWarning: merging between different levels can give an unintended result (1 levels on the left,2 on the right)\n",
      "/usr/local/lib/python3.8/site-packages/pandas/core/generic.py:4152: PerformanceWarning: dropping on a non-lexsorted multi-index without a level parameter may impact performance.\n"
     ]
    }
   ],
   "source": [
    "res = comp_probs(sim_full_res, params_report = params['report'])\n",
    "res.to_csv('temp.csv')"
   ]
  },
  {
   "cell_type": "code",
   "execution_count": 656,
   "id": "working-motor",
   "metadata": {},
   "outputs": [
    {
     "data": {
      "image/png": "[encoded data removed]",
      "text/plain": [
       "<Figure size 432x288 with 1 Axes>"
      ]
     },
     "metadata": {
      "needs_background": "light"
     },
     "output_type": "display_data"
    }
   ],
   "source": [
    "plt.scatter(dfm['t-score'], dfm['prob'])\n",
    "plt.scatter(dfm['t-score'], dfm['t-test'])\n",
    "plt.show()"
   ]
  },
  {
   "cell_type": "code",
   "execution_count": 1537,
   "id": "based-catalog",
   "metadata": {},
   "outputs": [
    {
     "name": "stderr",
     "output_type": "stream",
     "text": [
      "/usr/local/lib/python3.8/site-packages/plotnine/utils.py:1246: FutureWarning: is_categorical is deprecated and will be removed in a future version.  Use is_categorical_dtype instead\n",
      "/usr/local/lib/python3.8/site-packages/plotnine/utils.py:1246: FutureWarning: is_categorical is deprecated and will be removed in a future version.  Use is_categorical_dtype instead\n",
      "/usr/local/lib/python3.8/site-packages/plotnine/utils.py:1246: FutureWarning: is_categorical is deprecated and will be removed in a future version.  Use is_categorical_dtype instead\n",
      "/usr/local/lib/python3.8/site-packages/plotnine/guides/guide_legend.py:302: DeprecationWarning: `np.float` is a deprecated alias for the builtin `float`. To silence this warning, use `float` by itself. Doing this will not modify any behavior and is safe. If you specifically wanted the numpy scalar type, use `np.float64` here.\n",
      "Deprecated in NumPy 1.20; for more details and guidance: https://numpy.org/devdocs/release/1.20.0-notes.html#deprecations\n",
      "/usr/local/lib/python3.8/site-packages/plotnine/guides/guide_legend.py:302: DeprecationWarning: `np.float` is a deprecated alias for the builtin `float`. To silence this warning, use `float` by itself. Doing this will not modify any behavior and is safe. If you specifically wanted the numpy scalar type, use `np.float64` here.\n",
      "Deprecated in NumPy 1.20; for more details and guidance: https://numpy.org/devdocs/release/1.20.0-notes.html#deprecations\n",
      "/usr/local/lib/python3.8/site-packages/plotnine/guides/guide_legend.py:302: DeprecationWarning: `np.float` is a deprecated alias for the builtin `float`. To silence this warning, use `float` by itself. Doing this will not modify any behavior and is safe. If you specifically wanted the numpy scalar type, use `np.float64` here.\n",
      "Deprecated in NumPy 1.20; for more details and guidance: https://numpy.org/devdocs/release/1.20.0-notes.html#deprecations\n"
     ]
    },
    {
     "data": {
      "image/png": "[encoded data removed]",
      "text/plain": [
       "<Figure size 1000x600 with 1 Axes>"
      ]
     },
     "metadata": {},
     "output_type": "display_data"
    },
    {
     "name": "stdout",
     "output_type": "stream",
     "text": [
      "<ggplot: (343879762)>\n"
     ]
    }
   ],
   "source": [
    "p = (ggplot(aes(x='value', fill = 'corpus', y='..density..',\n",
    "            color='corpus', label='corpus'), data = res1_null)\n",
    "         + geom_histogram(alpha=0.3,position='dodge', binwidth=.01) \n",
    "         #+ geom_density(alpha = 0.5)\n",
    "         + geom_vline(aes(xintercept='value', color='corpus'),\n",
    "                      data=res1_doc, size=2, linetype='dashed')\n",
    "         + geom_label(data=res1_doc,\n",
    "                          mapping=aes(x='value', y=0.5, label='prob', fill='corpus'),\n",
    "                          position=position_jitter(),\n",
    "                          size=10, colour = \"black\")\n",
    "         + ggtitle('{}'.format(doc_nm)) )\n",
    "\n",
    "#p.save('./Figs/simulated_null_{}_NG{}_temp.png'.format(auth,NG_RANGE))\n",
    "print(p)\n"
   ]
  },
  {
   "cell_type": "markdown",
   "id": "ready-floating",
   "metadata": {},
   "source": [
    "# Models"
   ]
  },
  {
   "cell_type": "code",
   "execution_count": 1092,
   "id": "vertical-luther",
   "metadata": {},
   "outputs": [],
   "source": [
    "data_proc = pd.read_csv(path + '/' + 'data/04_feature/data_proc.csv')"
   ]
  },
  {
   "cell_type": "code",
   "execution_count": 880,
   "id": "human-crowd",
   "metadata": {},
   "outputs": [
    {
     "name": "stderr",
     "output_type": "stream",
     "text": [
      "INFO:root:Constructed vocabulary with 960 features\n"
     ]
    }
   ],
   "source": [
    "import pandas as pd\n",
    "import numpy as np\n",
    "import logging\n",
    "%reload_ext autoreload\n",
    "from biblical_scripts.pipelines.data_science.AuthorshipAttribution.AuthAttLib import AuthorshipAttributionDTM\n",
    "from biblical_scripts.pipelines.data_science.AuthorshipAttribution.MultiDoc import CompareDocs\n",
    "from biblical_scripts.pipelines.data_science.nodes import (build_vocab, compute_sim)\n",
    "#%load_ext autoreload\n",
    "#%autoreload 2\n",
    "\n",
    "data_raw = pd.read_csv(path + '/' + 'data/02_intermediate/oshd_parsed.csv')\n",
    "data_proc = pd.read_csv(path + '/' + 'data/04_feature/data_proc.csv')\n",
    "#vocab = pd.read_csv(path + '/' + 'data/05_model_input/vocabulary.csv')\n",
    "vocab = build_vocab(data_proc, parameters['vocab'], parameters['known_authors'])"
   ]
  },
  {
   "cell_type": "code",
   "execution_count": 878,
   "id": "fantastic-cosmetic",
   "metadata": {},
   "outputs": [],
   "source": [
    "def compute_sim(data, vocabulary, params, known_authors) :\n",
    "    ds = data.rename(columns = {'feature' : 'term', 'chapter' : 'doc_id'}).dropna()\n",
    "    model = AuthorshipAttributionDTM(ds, params, vocab=listb(vocabulary.feature.values))\n",
    "    return model.compute_inter_similarity(LOO = True, wrt_authors=known_authors)"
   ]
  },
  {
   "cell_type": "code",
   "execution_count": null,
   "id": "explicit-christian",
   "metadata": {},
   "outputs": [],
   "source": [
    "params = {}; [params.update(p) for p in parameters['model']]\n",
    "\n",
    "md = CompareDocs(vocabulary=vocab.feature.tolist())\n",
    "#ds=data_proc[['author', 'feature', 'token_id']].groupby(['author', 'feature']).count().reset_index()\n",
    "ds=data_proc[['author', 'feature', 'token_id', 'chapter']]\n",
    "ds=ds.rename(columns = {'chapter' : 'doc_id'})\n",
    "ds['doc_id'] += ' by '\n",
    "ds['doc_id'] += ds['author'] #sometimes there are multiple authors per chapter\n",
    "    \n",
    "known_authors = parameters['known_authors']\n",
    "train_data = {}\n",
    "for auth in known_authors :\n",
    "    train_data[auth] = ds[ds.author==auth]\n",
    "\n",
    "md.fit(train_data)\n",
    "df_res1 = pd.DataFrame()\n",
    "for doc_id in ds.doc_id.unique() :\n",
    "    tested_doc = ds[ds.doc_id==doc_id]\n",
    "    auth = tested_doc.author.values[0]\n",
    "    df_rec = md.test_doc(tested_doc, of_cls = auth)\n",
    "    r = df_rec.iloc[:,df_rec.columns.str.contains(r'HC|Fisher|chisq')].mean()\n",
    "    r['doc_id'] = doc_id\n",
    "    r['author'] = auth\n",
    "    r['len'] = len(tested_doc)\n",
    "    df_res1 = df_res1.append(r, ignore_index=True)"
   ]
  },
  {
   "cell_type": "code",
   "execution_count": 932,
   "id": "southeast-rally",
   "metadata": {},
   "outputs": [],
   "source": [
    "df = df_res1.melt(['author', 'doc_id', 'len'])\n",
    "\n",
    "def _eval_succ(df) :\n",
    "    df['wrt_author'] = df['variable'].str.extract(r'([^:]+):')\n",
    "    idx_min = df.groupby(['doc_id', 'author'])['value'].idxmin()\n",
    "    res_min = df.loc[idx_min, :].rename(columns={'wrt_author' : 'most_sim'})\n",
    "    res_min.loc[:, 'succ'] = res_min.author == res_min.most_sim\n",
    "    return res_min\n",
    "\n",
    "value = report_params['value']\n",
    "df1 = df[df['variable'].str.contains(f\":{value}\")]\n",
    "df1 = df1[df1.author.isin(known_authors)].reset_index()\n",
    "\n",
    "res = _eval_succ(df1)\n",
    "res['acc'] = res.succ.mean()\n",
    "res['param'] = str(parameters)"
   ]
  },
  {
   "cell_type": "code",
   "execution_count": 935,
   "id": "caroline-balloon",
   "metadata": {},
   "outputs": [
    {
     "data": {
      "text/html": [
       "<div>\n",
       "<style scoped>\n",
       "    .dataframe tbody tr th:only-of-type {\n",
       "        vertical-align: middle;\n",
       "    }\n",
       "\n",
       "    .dataframe tbody tr th {\n",
       "        vertical-align: top;\n",
       "    }\n",
       "\n",
       "    .dataframe thead th {\n",
       "        text-align: right;\n",
       "    }\n",
       "</style>\n",
       "<table border=\"1\" class=\"dataframe\">\n",
       "  <thead>\n",
       "    <tr style=\"text-align: right;\">\n",
       "      <th></th>\n",
       "      <th>feature</th>\n",
       "    </tr>\n",
       "  </thead>\n",
       "  <tbody>\n",
       "    <tr>\n",
       "      <th>0</th>\n",
       "      <td>103</td>\n",
       "    </tr>\n",
       "    <tr>\n",
       "      <th>1</th>\n",
       "      <td>1086</td>\n",
       "    </tr>\n",
       "    <tr>\n",
       "      <th>2</th>\n",
       "      <td>1104</td>\n",
       "    </tr>\n",
       "    <tr>\n",
       "      <th>3</th>\n",
       "      <td>1115</td>\n",
       "    </tr>\n",
       "    <tr>\n",
       "      <th>4</th>\n",
       "      <td>1129</td>\n",
       "    </tr>\n",
       "    <tr>\n",
       "      <th>...</th>\n",
       "      <td>...</td>\n",
       "    </tr>\n",
       "    <tr>\n",
       "      <th>636</th>\n",
       "      <td>8484</td>\n",
       "    </tr>\n",
       "    <tr>\n",
       "      <th>637</th>\n",
       "      <td>8519</td>\n",
       "    </tr>\n",
       "    <tr>\n",
       "      <th>638</th>\n",
       "      <td>8535</td>\n",
       "    </tr>\n",
       "    <tr>\n",
       "      <th>639</th>\n",
       "      <td>887</td>\n",
       "    </tr>\n",
       "    <tr>\n",
       "      <th>640</th>\n",
       "      <td>943</td>\n",
       "    </tr>\n",
       "  </tbody>\n",
       "</table>\n",
       "<p>632 rows × 1 columns</p>\n",
       "</div>"
      ],
      "text/plain": [
       "    feature\n",
       "0       103\n",
       "1      1086\n",
       "2      1104\n",
       "3      1115\n",
       "4      1129\n",
       "..      ...\n",
       "636    8484\n",
       "637    8519\n",
       "638    8535\n",
       "639     887\n",
       "640     943\n",
       "\n",
       "[632 rows x 1 columns]"
      ]
     },
     "execution_count": 935,
     "metadata": {},
     "output_type": "execute_result"
    }
   ],
   "source": [
    "ds = pd.read_csv(\"../data/05_model_input/vocabulary.csv\")\n",
    "ds[~ds.feature.str.contains(r\"\\[[a-zA-Z0-9]+\\]\")]"
   ]
  },
  {
   "cell_type": "code",
   "execution_count": 876,
   "id": "acknowledged-departure",
   "metadata": {},
   "outputs": [
    {
     "data": {
      "text/plain": [
       "array(['21, 2 Kings 23 :21-30', 'DtrH'], dtype=object)"
      ]
     },
     "execution_count": 876,
     "metadata": {},
     "output_type": "execute_result"
    }
   ],
   "source": [
    "data_raw[data_raw.chapter == '2Kgs.23']"
   ]
  },
  {
   "cell_type": "markdown",
   "id": "light-dallas",
   "metadata": {},
   "source": [
    "# Feature Selection"
   ]
  },
  {
   "cell_type": "code",
   "execution_count": 763,
   "id": "civil-garage",
   "metadata": {},
   "outputs": [],
   "source": [
    "import pandas as pd\n",
    "import numpy as np\n",
    "import logging\n",
    "%reload_ext autoreload\n",
    "from biblical_scripts.pipelines.data_science.AuthorshipAttribution.AuthAttLib import AuthorshipAttributionDTM\n",
    "from biblical_scripts.pipelines.data_science.AuthorshipAttribution.MultiDoc import CompareDocs\n",
    "from biblical_scripts.pipelines.data_science.nodes import (build_vocab, compute_sim)\n",
    "#%load_ext autoreload\n",
    "#%autoreload 2"
   ]
  },
  {
   "cell_type": "code",
   "execution_count": 764,
   "id": "chinese-brunei",
   "metadata": {},
   "outputs": [
    {
     "name": "stderr",
     "output_type": "stream",
     "text": [
      "INFO:root:Constructed a vocabulary of 960 features\n"
     ]
    }
   ],
   "source": [
    "#data:\n",
    "data_proc = pd.read_csv(path + '/' + 'data/04_feature/data_proc.csv')\n",
    "vocab = build_vocab(data_proc, parameters['vocab'], parameters['known_authors'])"
   ]
  },
  {
   "cell_type": "code",
   "execution_count": null,
   "id": "interested-vehicle",
   "metadata": {},
   "outputs": [],
   "source": [
    "# using discriminating features\n",
    "\n",
    "md = CompareDocs(vocabulary=vocab.feature.to_list())\n",
    "#ds=data_proc[['author', 'feature', 'token_id']].groupby(['author', 'feature']).count().reset_index()\n",
    "ds=data_proc[['author', 'feature', 'token_id']]\n",
    "\n",
    "Dtr = ds[ds.author=='Dtr']\n",
    "DtrH = ds[ds.author=='DtrH']\n",
    "P = ds[ds.author=='P']\n",
    "\n",
    "md.fit({'Dtr' : Dtr, 'DtrH' : DtrH, 'P' : P})\n",
    "df_disc = md.HCT(stbl=True)\n",
    "feat = df_disc[df_disc.thresh].index.to_list()\n",
    "terms = [convert.to_term(f) for f in feat]"
   ]
  },
  {
   "cell_type": "code",
   "execution_count": null,
   "id": "fixed-thread",
   "metadata": {},
   "outputs": [],
   "source": [
    "ds = data_proc.drop('term', axis=1).rename(columns = {'chapter' : 'doc_id', 'feature' : 'term'}).dropna()\n",
    "ds_red = ds[ds.term.isin(feat)]\n",
    "ds_red[ds_red.groupby('doc_id').term.transform(pd.Series.count)>0]\n",
    "knwon_authors = parameters['known_authors']\n",
    "model = AuthorshipAttributionDTM(ds_red, **param, vocab=feat)\n",
    "df_res=model.compute_inter_similarity(LOO = True, wrt_authors=known_authors)"
   ]
  },
  {
   "cell_type": "code",
   "execution_count": 773,
   "id": "objective-green",
   "metadata": {},
   "outputs": [
    {
     "name": "stderr",
     "output_type": "stream",
     "text": [
      "DEBUG:root:Processing Dtr...\n",
      "DEBUG:root:Found 2048 terms.\n",
      "DEBUG:root:Processing DtrH...\n",
      "DEBUG:root:Found 2457 terms.\n",
      "DEBUG:root:Processing P...\n",
      "DEBUG:root:Found 4179 terms.\n",
      "DEBUG:root:Doc contains 49.0 terms.\n",
      "DEBUG:root:Doc contains 119.0 terms.\n",
      "DEBUG:root:Doc contains 68.0 terms.\n",
      "DEBUG:root:Doc contains 65.0 terms.\n",
      "DEBUG:root:Doc contains 60.0 terms.\n",
      "DEBUG:root:Doc contains 74.0 terms.\n",
      "DEBUG:root:Doc contains 109.0 terms.\n",
      "DEBUG:root:Doc contains 175.0 terms.\n",
      "DEBUG:root:Doc contains 71.0 terms.\n",
      "DEBUG:root:Doc contains 92.0 terms.\n",
      "DEBUG:root:Doc contains 175.0 terms.\n",
      "DEBUG:root:Doc contains 124.0 terms.\n",
      "DEBUG:root:Doc contains 93.0 terms.\n",
      "DEBUG:root:Doc contains 62.0 terms.\n",
      "DEBUG:root:Doc contains 57.0 terms.\n",
      "DEBUG:root:Doc contains 84.0 terms.\n",
      "DEBUG:root:Doc contains 91.0 terms.\n",
      "DEBUG:root:Doc contains 159.0 terms.\n",
      "DEBUG:root:Doc contains 115.0 terms.\n",
      "DEBUG:root:Doc contains 136.0 terms.\n",
      "DEBUG:root:Doc contains 16.0 terms.\n",
      "DEBUG:root:Doc contains 132.0 terms.\n",
      "DEBUG:root:Doc contains 59.0 terms.\n",
      "DEBUG:root:Doc contains 46.0 terms.\n",
      "DEBUG:root:Doc contains 257.0 terms.\n",
      "DEBUG:root:Doc contains 154.0 terms.\n",
      "DEBUG:root:Doc contains 169.0 terms.\n",
      "DEBUG:root:Doc contains 37.0 terms.\n",
      "DEBUG:root:Doc contains 868.0 terms.\n",
      "DEBUG:root:Doc contains 153.0 terms.\n",
      "DEBUG:root:Doc contains 50.0 terms.\n",
      "DEBUG:root:Doc contains 122.0 terms.\n",
      "DEBUG:root:Doc contains 68.0 terms.\n",
      "DEBUG:root:Doc contains 116.0 terms.\n",
      "DEBUG:root:Doc contains 124.0 terms.\n",
      "DEBUG:root:Doc contains 83.0 terms.\n",
      "DEBUG:root:Doc contains 116.0 terms.\n",
      "DEBUG:root:Doc contains 217.0 terms.\n",
      "DEBUG:root:Doc contains 70.0 terms.\n",
      "DEBUG:root:Doc contains 109.0 terms.\n",
      "DEBUG:root:Doc contains 146.0 terms.\n",
      "DEBUG:root:Doc contains 116.0 terms.\n",
      "DEBUG:root:Doc contains 70.0 terms.\n",
      "DEBUG:root:Doc contains 140.0 terms.\n",
      "DEBUG:root:Doc contains 46.0 terms.\n",
      "DEBUG:root:Doc contains 177.0 terms.\n",
      "DEBUG:root:Doc contains 82.0 terms.\n",
      "DEBUG:root:Doc contains 139.0 terms.\n",
      "DEBUG:root:Doc contains 99.0 terms.\n",
      "DEBUG:root:Doc contains 35.0 terms.\n",
      "DEBUG:root:Doc contains 21.0 terms.\n",
      "DEBUG:root:Doc contains 163.0 terms.\n",
      "DEBUG:root:Doc contains 18.0 terms.\n",
      "DEBUG:root:Doc contains 76.0 terms.\n",
      "DEBUG:root:Doc contains 282.0 terms.\n",
      "DEBUG:root:Doc contains 144.0 terms.\n",
      "DEBUG:root:Doc contains 101.0 terms.\n",
      "DEBUG:root:Doc contains 158.0 terms.\n",
      "DEBUG:root:Doc contains 230.0 terms.\n",
      "DEBUG:root:Doc contains 125.0 terms.\n",
      "DEBUG:root:Doc contains 41.0 terms.\n",
      "DEBUG:root:Doc contains 116.0 terms.\n",
      "DEBUG:root:Doc is of DtrH. Evaluating in Leave-out manner.\n",
      "DEBUG:root:Doc contains 164.0 terms.\n",
      "DEBUG:root:Doc is of DtrH. Evaluating in Leave-out manner.\n",
      "DEBUG:root:Doc contains 321.0 terms.\n",
      "DEBUG:root:Doc is of DtrH. Evaluating in Leave-out manner.\n",
      "/usr/local/lib/python3.8/site-packages/pandas/core/arraylike.py:358: RuntimeWarning: divide by zero encountered in log\n"
     ]
    },
    {
     "ename": "ValueError",
     "evalue": "All values in `observed` must be nonnegative.",
     "output_type": "error",
     "traceback": [
      "\u001b[0;31m---------------------------------------------------------------------------\u001b[0m",
      "\u001b[0;31mValueError\u001b[0m                                Traceback (most recent call last)",
      "\u001b[0;32m<ipython-input-773-101c3df127f0>\u001b[0m in \u001b[0;36m<module>\u001b[0;34m\u001b[0m\n\u001b[1;32m     14\u001b[0m     \u001b[0mtested_doc\u001b[0m \u001b[0;34m=\u001b[0m \u001b[0mds\u001b[0m\u001b[0;34m[\u001b[0m\u001b[0mds\u001b[0m\u001b[0;34m.\u001b[0m\u001b[0mdoc_id\u001b[0m\u001b[0;34m==\u001b[0m\u001b[0mdoc_id\u001b[0m\u001b[0;34m]\u001b[0m\u001b[0;34m\u001b[0m\u001b[0;34m\u001b[0m\u001b[0m\n\u001b[1;32m     15\u001b[0m     \u001b[0mauth\u001b[0m \u001b[0;34m=\u001b[0m \u001b[0mtested_doc\u001b[0m\u001b[0;34m.\u001b[0m\u001b[0mauthor\u001b[0m\u001b[0;34m.\u001b[0m\u001b[0mvalues\u001b[0m\u001b[0;34m[\u001b[0m\u001b[0;36m0\u001b[0m\u001b[0;34m]\u001b[0m\u001b[0;34m\u001b[0m\u001b[0;34m\u001b[0m\u001b[0m\n\u001b[0;32m---> 16\u001b[0;31m     \u001b[0mdf_rec\u001b[0m \u001b[0;34m=\u001b[0m \u001b[0mmd\u001b[0m\u001b[0;34m.\u001b[0m\u001b[0mtest_doc\u001b[0m\u001b[0;34m(\u001b[0m\u001b[0mtested_doc\u001b[0m\u001b[0;34m,\u001b[0m \u001b[0mof_cls\u001b[0m \u001b[0;34m=\u001b[0m \u001b[0mauth\u001b[0m\u001b[0;34m)\u001b[0m\u001b[0;34m\u001b[0m\u001b[0;34m\u001b[0m\u001b[0m\n\u001b[0m\u001b[1;32m     17\u001b[0m     \u001b[0mr\u001b[0m \u001b[0;34m=\u001b[0m \u001b[0mdf_rec\u001b[0m\u001b[0;34m.\u001b[0m\u001b[0miloc\u001b[0m\u001b[0;34m[\u001b[0m\u001b[0;34m:\u001b[0m\u001b[0;34m,\u001b[0m\u001b[0mdf_rec\u001b[0m\u001b[0;34m.\u001b[0m\u001b[0mcolumns\u001b[0m\u001b[0;34m.\u001b[0m\u001b[0mstr\u001b[0m\u001b[0;34m.\u001b[0m\u001b[0mcontains\u001b[0m\u001b[0;34m(\u001b[0m\u001b[0;34mr'HC|Fisher|chisq'\u001b[0m\u001b[0;34m)\u001b[0m\u001b[0;34m]\u001b[0m\u001b[0;34m.\u001b[0m\u001b[0mmean\u001b[0m\u001b[0;34m(\u001b[0m\u001b[0;34m)\u001b[0m\u001b[0;34m\u001b[0m\u001b[0;34m\u001b[0m\u001b[0m\n\u001b[1;32m     18\u001b[0m     \u001b[0mr\u001b[0m\u001b[0;34m[\u001b[0m\u001b[0;34m'doc_id'\u001b[0m\u001b[0;34m]\u001b[0m \u001b[0;34m=\u001b[0m \u001b[0mdoc_id\u001b[0m\u001b[0;34m\u001b[0m\u001b[0;34m\u001b[0m\u001b[0m\n",
      "\u001b[0;32m~/DS/BiblicalScripts/bib-scripts/src/biblical_scripts/pipelines/data_science/AuthorshipAttribution/MultiDoc.py\u001b[0m in \u001b[0;36mtest_doc\u001b[0;34m(self, doc, of_cls, stbl, gamma)\u001b[0m\n\u001b[1;32m    111\u001b[0m             \u001b[0mdf\u001b[0m\u001b[0;34m[\u001b[0m\u001b[0;34mf'{cls}:Fisher'\u001b[0m\u001b[0;34m]\u001b[0m \u001b[0;34m=\u001b[0m \u001b[0mdf\u001b[0m\u001b[0;34m[\u001b[0m\u001b[0;34mf'{cls}:score'\u001b[0m\u001b[0;34m]\u001b[0m\u001b[0;34m.\u001b[0m\u001b[0msum\u001b[0m\u001b[0;34m(\u001b[0m\u001b[0;34m)\u001b[0m\u001b[0;34m\u001b[0m\u001b[0;34m\u001b[0m\u001b[0m\n\u001b[1;32m    112\u001b[0m             \u001b[0mdf\u001b[0m\u001b[0;34m[\u001b[0m\u001b[0;34mf'{cls}:HC'\u001b[0m\u001b[0;34m]\u001b[0m\u001b[0;34m,\u001b[0m \u001b[0mpth\u001b[0m \u001b[0;34m=\u001b[0m \u001b[0mHC\u001b[0m\u001b[0;34m(\u001b[0m\u001b[0mpv\u001b[0m\u001b[0;34m,\u001b[0m \u001b[0mstbl\u001b[0m\u001b[0;34m=\u001b[0m\u001b[0mstbl\u001b[0m\u001b[0;34m)\u001b[0m\u001b[0;34m.\u001b[0m\u001b[0mHCstar\u001b[0m\u001b[0;34m(\u001b[0m\u001b[0mgamma\u001b[0m\u001b[0;34m=\u001b[0m\u001b[0mgamma\u001b[0m\u001b[0;34m)\u001b[0m\u001b[0;34m\u001b[0m\u001b[0;34m\u001b[0m\u001b[0m\n\u001b[0;32m--> 113\u001b[0;31m             \u001b[0mdf\u001b[0m\u001b[0;34m[\u001b[0m\u001b[0;34mf'{cls}:chisq'\u001b[0m\u001b[0;34m]\u001b[0m \u001b[0;34m=\u001b[0m \u001b[0mtwo_sample_chi_square\u001b[0m\u001b[0;34m(\u001b[0m\u001b[0mcnt1\u001b[0m\u001b[0;34m,\u001b[0m \u001b[0mcnt2\u001b[0m\u001b[0;34m)\u001b[0m\u001b[0;34m[\u001b[0m\u001b[0;36m0\u001b[0m\u001b[0;34m]\u001b[0m\u001b[0;34m\u001b[0m\u001b[0;34m\u001b[0m\u001b[0m\n\u001b[0m\u001b[1;32m    114\u001b[0m             \u001b[0mmore\u001b[0m \u001b[0;34m=\u001b[0m \u001b[0;34m-\u001b[0m\u001b[0mnp\u001b[0m\u001b[0;34m.\u001b[0m\u001b[0msign\u001b[0m\u001b[0;34m(\u001b[0m\u001b[0mcnt1\u001b[0m \u001b[0;34m-\u001b[0m \u001b[0;34m(\u001b[0m\u001b[0mcnt1\u001b[0m \u001b[0;34m+\u001b[0m \u001b[0mcnt2\u001b[0m\u001b[0;34m)\u001b[0m \u001b[0;34m*\u001b[0m \u001b[0mp\u001b[0m\u001b[0;34m)\u001b[0m\u001b[0;34m\u001b[0m\u001b[0;34m\u001b[0m\u001b[0m\n\u001b[1;32m    115\u001b[0m             \u001b[0mthresh\u001b[0m \u001b[0;34m=\u001b[0m \u001b[0mpv\u001b[0m \u001b[0;34m<\u001b[0m \u001b[0mpth\u001b[0m\u001b[0;34m\u001b[0m\u001b[0;34m\u001b[0m\u001b[0m\n",
      "\u001b[0;32m~/DS/BiblicalScripts/bib-scripts/src/biblical_scripts/pipelines/data_science/AuthorshipAttribution/goodness_of_fit_tests.py\u001b[0m in \u001b[0;36mtwo_sample_chi_square\u001b[0;34m(c1, c2, lambda_)\u001b[0m\n\u001b[1;32m     95\u001b[0m             \u001b[0mobs_nz\u001b[0m \u001b[0;34m=\u001b[0m \u001b[0mobs\u001b[0m\u001b[0;34m[\u001b[0m\u001b[0;34m:\u001b[0m\u001b[0;34m,\u001b[0m \u001b[0;34m(\u001b[0m\u001b[0mobs\u001b[0m\u001b[0;34m[\u001b[0m\u001b[0;36m0\u001b[0m\u001b[0;34m]\u001b[0m\u001b[0;34m!=\u001b[0m\u001b[0;36m0\u001b[0m\u001b[0;34m)\u001b[0m \u001b[0;34m|\u001b[0m \u001b[0;34m(\u001b[0m\u001b[0mobs\u001b[0m\u001b[0;34m[\u001b[0m\u001b[0;36m1\u001b[0m\u001b[0;34m]\u001b[0m\u001b[0;34m!=\u001b[0m\u001b[0;36m0\u001b[0m\u001b[0;34m)\u001b[0m\u001b[0;34m]\u001b[0m\u001b[0;34m\u001b[0m\u001b[0;34m\u001b[0m\u001b[0m\n\u001b[1;32m     96\u001b[0m \u001b[0;34m\u001b[0m\u001b[0m\n\u001b[0;32m---> 97\u001b[0;31m         chisq, pval, dof, exp = chi2_contingency(\n\u001b[0m\u001b[1;32m     98\u001b[0m                                     obs_nz, lambda_=lambda_)\n\u001b[1;32m     99\u001b[0m         \u001b[0;32mif\u001b[0m \u001b[0mpval\u001b[0m \u001b[0;34m==\u001b[0m \u001b[0;36m0\u001b[0m\u001b[0;34m:\u001b[0m\u001b[0;34m\u001b[0m\u001b[0;34m\u001b[0m\u001b[0m\n",
      "\u001b[0;32m/usr/local/lib/python3.8/site-packages/scipy/stats/contingency.py\u001b[0m in \u001b[0;36mchi2_contingency\u001b[0;34m(observed, correction, lambda_)\u001b[0m\n\u001b[1;32m    241\u001b[0m     \u001b[0mobserved\u001b[0m \u001b[0;34m=\u001b[0m \u001b[0mnp\u001b[0m\u001b[0;34m.\u001b[0m\u001b[0masarray\u001b[0m\u001b[0;34m(\u001b[0m\u001b[0mobserved\u001b[0m\u001b[0;34m)\u001b[0m\u001b[0;34m\u001b[0m\u001b[0;34m\u001b[0m\u001b[0m\n\u001b[1;32m    242\u001b[0m     \u001b[0;32mif\u001b[0m \u001b[0mnp\u001b[0m\u001b[0;34m.\u001b[0m\u001b[0many\u001b[0m\u001b[0;34m(\u001b[0m\u001b[0mobserved\u001b[0m \u001b[0;34m<\u001b[0m \u001b[0;36m0\u001b[0m\u001b[0;34m)\u001b[0m\u001b[0;34m:\u001b[0m\u001b[0;34m\u001b[0m\u001b[0;34m\u001b[0m\u001b[0m\n\u001b[0;32m--> 243\u001b[0;31m         \u001b[0;32mraise\u001b[0m \u001b[0mValueError\u001b[0m\u001b[0;34m(\u001b[0m\u001b[0;34m\"All values in `observed` must be nonnegative.\"\u001b[0m\u001b[0;34m)\u001b[0m\u001b[0;34m\u001b[0m\u001b[0;34m\u001b[0m\u001b[0m\n\u001b[0m\u001b[1;32m    244\u001b[0m     \u001b[0;32mif\u001b[0m \u001b[0mobserved\u001b[0m\u001b[0;34m.\u001b[0m\u001b[0msize\u001b[0m \u001b[0;34m==\u001b[0m \u001b[0;36m0\u001b[0m\u001b[0;34m:\u001b[0m\u001b[0;34m\u001b[0m\u001b[0;34m\u001b[0m\u001b[0m\n\u001b[1;32m    245\u001b[0m         \u001b[0;32mraise\u001b[0m \u001b[0mValueError\u001b[0m\u001b[0;34m(\u001b[0m\u001b[0;34m\"No data; `observed` has size 0.\"\u001b[0m\u001b[0;34m)\u001b[0m\u001b[0;34m\u001b[0m\u001b[0;34m\u001b[0m\u001b[0m\n",
      "\u001b[0;31mValueError\u001b[0m: All values in `observed` must be nonnegative."
     ]
    }
   ],
   "source": [
    "md = CompareDocs(vocabulary=feat)\n",
    "#ds=data_proc[['author', 'feature', 'token_id']].groupby(['author', 'feature']).count().reset_index()\n",
    "ds=data_proc[['author', 'feature', 'token_id', 'chapter']]\n",
    "ds=ds.rename(columns = {'chapter' : 'doc_id'})\n",
    "\n",
    "known_authors = parameters['known_authors']\n",
    "train_data = {}\n",
    "for auth in known_authors :\n",
    "    train_data[auth] = ds[ds.author==auth]\n",
    "\n",
    "md.fit(train_data)\n",
    "df_res1 = pd.DataFrame()\n",
    "for doc_id in ds.doc_id.unique() :\n",
    "    tested_doc = ds[ds.doc_id==doc_id]\n",
    "    auth = tested_doc.author.values[0]\n",
    "    df_rec = md.test_doc(tested_doc, of_cls = auth)\n",
    "    r = df_rec.iloc[:,df_rec.columns.str.contains(r'HC|Fisher|chisq')].mean()\n",
    "    r['doc_id'] = doc_id\n",
    "    r['author'] = auth\n",
    "    r['len'] = len(tested_doc)\n",
    "    df_res1 = df_res1.append(r, ignore_index=True)"
   ]
  },
  {
   "cell_type": "code",
   "execution_count": 793,
   "id": "given-truth",
   "metadata": {},
   "outputs": [
    {
     "data": {
      "text/html": [
       "<div>\n",
       "<style scoped>\n",
       "    .dataframe tbody tr th:only-of-type {\n",
       "        vertical-align: middle;\n",
       "    }\n",
       "\n",
       "    .dataframe tbody tr th {\n",
       "        vertical-align: top;\n",
       "    }\n",
       "\n",
       "    .dataframe thead th {\n",
       "        text-align: right;\n",
       "    }\n",
       "</style>\n",
       "<table border=\"1\" class=\"dataframe\">\n",
       "  <thead>\n",
       "    <tr style=\"text-align: right;\">\n",
       "      <th></th>\n",
       "      <th>author</th>\n",
       "      <th>doc_id</th>\n",
       "      <th>len</th>\n",
       "      <th>variable</th>\n",
       "      <th>value</th>\n",
       "    </tr>\n",
       "  </thead>\n",
       "  <tbody>\n",
       "    <tr>\n",
       "      <th>0</th>\n",
       "      <td>1, 1 Chron 10</td>\n",
       "      <td>1Chr.10</td>\n",
       "      <td>315.0</td>\n",
       "      <td>Dtr:Fisher</td>\n",
       "      <td>140.932326</td>\n",
       "    </tr>\n",
       "    <tr>\n",
       "      <th>1</th>\n",
       "      <td>2, 1 Chron 11</td>\n",
       "      <td>1Chr.11</td>\n",
       "      <td>761.0</td>\n",
       "      <td>Dtr:Fisher</td>\n",
       "      <td>266.941973</td>\n",
       "    </tr>\n",
       "    <tr>\n",
       "      <th>2</th>\n",
       "      <td>Chr1</td>\n",
       "      <td>1Chr.12</td>\n",
       "      <td>387.0</td>\n",
       "      <td>Dtr:Fisher</td>\n",
       "      <td>227.374529</td>\n",
       "    </tr>\n",
       "  </tbody>\n",
       "</table>\n",
       "</div>"
      ],
      "text/plain": [
       "          author   doc_id    len    variable       value\n",
       "0  1, 1 Chron 10  1Chr.10  315.0  Dtr:Fisher  140.932326\n",
       "1  2, 1 Chron 11  1Chr.11  761.0  Dtr:Fisher  266.941973\n",
       "2           Chr1  1Chr.12  387.0  Dtr:Fisher  227.374529"
      ]
     },
     "execution_count": 793,
     "metadata": {},
     "output_type": "execute_result"
    }
   ],
   "source": [
    "df_eval = df_res1.melt(['author', 'doc_id', 'len'])\n",
    "df_eval.head(3)"
   ]
  },
  {
   "cell_type": "code",
   "execution_count": 792,
   "id": "antique-method",
   "metadata": {},
   "outputs": [
    {
     "data": {
      "text/html": [
       "<div>\n",
       "<style scoped>\n",
       "    .dataframe tbody tr th:only-of-type {\n",
       "        vertical-align: middle;\n",
       "    }\n",
       "\n",
       "    .dataframe tbody tr th {\n",
       "        vertical-align: top;\n",
       "    }\n",
       "\n",
       "    .dataframe thead th {\n",
       "        text-align: right;\n",
       "    }\n",
       "</style>\n",
       "<table border=\"1\" class=\"dataframe\">\n",
       "  <thead>\n",
       "    <tr style=\"text-align: right;\">\n",
       "      <th></th>\n",
       "      <th>author</th>\n",
       "      <th>doc_id</th>\n",
       "      <th>len</th>\n",
       "      <th>variable</th>\n",
       "      <th>value</th>\n",
       "      <th>wrt_author</th>\n",
       "    </tr>\n",
       "  </thead>\n",
       "  <tbody>\n",
       "    <tr>\n",
       "      <th>63</th>\n",
       "      <td>1, 1 Chron 10</td>\n",
       "      <td>1Chr.10</td>\n",
       "      <td>315.0</td>\n",
       "      <td>Dtr:HC</td>\n",
       "      <td>1.161644</td>\n",
       "      <td>Dtr</td>\n",
       "    </tr>\n",
       "    <tr>\n",
       "      <th>64</th>\n",
       "      <td>2, 1 Chron 11</td>\n",
       "      <td>1Chr.11</td>\n",
       "      <td>761.0</td>\n",
       "      <td>Dtr:HC</td>\n",
       "      <td>1.367914</td>\n",
       "      <td>Dtr</td>\n",
       "    </tr>\n",
       "    <tr>\n",
       "      <th>65</th>\n",
       "      <td>Chr1</td>\n",
       "      <td>1Chr.12</td>\n",
       "      <td>387.0</td>\n",
       "      <td>Dtr:HC</td>\n",
       "      <td>1.858160</td>\n",
       "      <td>Dtr</td>\n",
       "    </tr>\n",
       "  </tbody>\n",
       "</table>\n",
       "</div>"
      ],
      "text/plain": [
       "           author   doc_id    len variable     value wrt_author\n",
       "63  1, 1 Chron 10  1Chr.10  315.0   Dtr:HC  1.161644        Dtr\n",
       "64  2, 1 Chron 11  1Chr.11  761.0   Dtr:HC  1.367914        Dtr\n",
       "65           Chr1  1Chr.12  387.0   Dtr:HC  1.858160        Dtr"
      ]
     },
     "execution_count": 792,
     "metadata": {},
     "output_type": "execute_result"
    }
   ],
   "source": [
    "df1 = df[df['variable'].str.contains(f\":{value}\")]\n",
    "df1.head(3)"
   ]
  },
  {
   "cell_type": "code",
   "execution_count": 832,
   "id": "partial-carolina",
   "metadata": {},
   "outputs": [
    {
     "name": "stdout",
     "output_type": "stream",
     "text": [
      "                                                         acc\n",
      "{'preprocessing': {'extract_prefix': True, 'ext...  0.638554\n"
     ]
    }
   ],
   "source": [
    "known_authors = parameters['known_authors']\n",
    "report_params = parameters['report']\n",
    "value = report_params['value']\n",
    "df = df_eval\n",
    "\n",
    "#def evaluate_accuracy(df : pd.DataFrame, known_authors : List, report_params, parameters) -> float :\n",
    "def _eval_acc(df) :\n",
    "    df['wrt_author'] = df['variable'].str.extract(r'([^:]+):')\n",
    "    idx_min = res1.groupby(['doc_id', 'author'])['value'].idxmin()\n",
    "    res_min = res1.loc[idx_min, :]\n",
    "    res_min.loc[:, 'succ'] = res_min.author == res_min.wrt_author\n",
    "    succ_per_doc = res_min.groupby('doc_id').succ.mean()\n",
    "    return succ_per_doc.mean()\n",
    "\n",
    "value = report_params['value']\n",
    "df1 = df[df['variable'].str.contains(f\":{value}\")]\n",
    "df1 = df1[df1.author.isin(known_authors)].reset_index()\n",
    "\n",
    "acc = _eval_acc(df1)\n",
    "\n",
    "#rep['param'] = parameters\n",
    "return pd.DataFrame({'acc' : acc}, index=[parameters])\n"
   ]
  },
  {
   "cell_type": "code",
   "execution_count": 830,
   "id": "bronze-italic",
   "metadata": {},
   "outputs": [
    {
     "data": {
      "text/html": [
       "<div>\n",
       "<style scoped>\n",
       "    .dataframe tbody tr th:only-of-type {\n",
       "        vertical-align: middle;\n",
       "    }\n",
       "\n",
       "    .dataframe tbody tr th {\n",
       "        vertical-align: top;\n",
       "    }\n",
       "\n",
       "    .dataframe thead th {\n",
       "        text-align: right;\n",
       "    }\n",
       "</style>\n",
       "<table border=\"1\" class=\"dataframe\">\n",
       "  <thead>\n",
       "    <tr style=\"text-align: right;\">\n",
       "      <th></th>\n",
       "      <th>index</th>\n",
       "      <th>author</th>\n",
       "      <th>doc_id</th>\n",
       "      <th>len</th>\n",
       "      <th>variable</th>\n",
       "      <th>value</th>\n",
       "      <th>wrt_author</th>\n",
       "    </tr>\n",
       "  </thead>\n",
       "  <tbody>\n",
       "    <tr>\n",
       "      <th>0</th>\n",
       "      <td>124</td>\n",
       "      <td>DtrH</td>\n",
       "      <td>2Kgs.17</td>\n",
       "      <td>520.0</td>\n",
       "      <td>Dtr:HC</td>\n",
       "      <td>2.220364</td>\n",
       "      <td>Dtr</td>\n",
       "    </tr>\n",
       "    <tr>\n",
       "      <th>1</th>\n",
       "      <td>125</td>\n",
       "      <td>DtrH</td>\n",
       "      <td>2Kgs.22</td>\n",
       "      <td>568.0</td>\n",
       "      <td>Dtr:HC</td>\n",
       "      <td>3.010700</td>\n",
       "      <td>Dtr</td>\n",
       "    </tr>\n",
       "    <tr>\n",
       "      <th>2</th>\n",
       "      <td>313</td>\n",
       "      <td>DtrH</td>\n",
       "      <td>2Kgs.17</td>\n",
       "      <td>520.0</td>\n",
       "      <td>DtrH:HC</td>\n",
       "      <td>0.643856</td>\n",
       "      <td>DtrH</td>\n",
       "    </tr>\n",
       "    <tr>\n",
       "      <th>3</th>\n",
       "      <td>314</td>\n",
       "      <td>DtrH</td>\n",
       "      <td>2Kgs.22</td>\n",
       "      <td>568.0</td>\n",
       "      <td>DtrH:HC</td>\n",
       "      <td>1.272487</td>\n",
       "      <td>DtrH</td>\n",
       "    </tr>\n",
       "    <tr>\n",
       "      <th>4</th>\n",
       "      <td>502</td>\n",
       "      <td>DtrH</td>\n",
       "      <td>2Kgs.17</td>\n",
       "      <td>520.0</td>\n",
       "      <td>P:HC</td>\n",
       "      <td>3.731762</td>\n",
       "      <td>P</td>\n",
       "    </tr>\n",
       "    <tr>\n",
       "      <th>5</th>\n",
       "      <td>503</td>\n",
       "      <td>DtrH</td>\n",
       "      <td>2Kgs.22</td>\n",
       "      <td>568.0</td>\n",
       "      <td>P:HC</td>\n",
       "      <td>3.273535</td>\n",
       "      <td>P</td>\n",
       "    </tr>\n",
       "  </tbody>\n",
       "</table>\n",
       "</div>"
      ],
      "text/plain": [
       "   index author   doc_id    len variable     value wrt_author\n",
       "0    124   DtrH  2Kgs.17  520.0   Dtr:HC  2.220364        Dtr\n",
       "1    125   DtrH  2Kgs.22  568.0   Dtr:HC  3.010700        Dtr\n",
       "2    313   DtrH  2Kgs.17  520.0  DtrH:HC  0.643856       DtrH\n",
       "3    314   DtrH  2Kgs.22  568.0  DtrH:HC  1.272487       DtrH\n",
       "4    502   DtrH  2Kgs.17  520.0     P:HC  3.731762          P\n",
       "5    503   DtrH  2Kgs.22  568.0     P:HC  3.273535          P"
      ]
     },
     "execution_count": 830,
     "metadata": {},
     "output_type": "execute_result"
    }
   ],
   "source": [
    "df1"
   ]
  },
  {
   "cell_type": "code",
   "execution_count": 742,
   "id": "continent-factor",
   "metadata": {},
   "outputs": [
    {
     "ename": "TypeError",
     "evalue": "reduction operation 'argmin' not allowed for this dtype",
     "output_type": "error",
     "traceback": [
      "\u001b[0;31m---------------------------------------------------------------------------\u001b[0m",
      "\u001b[0;31mTypeError\u001b[0m                                 Traceback (most recent call last)",
      "\u001b[0;32m<ipython-input-742-1f444a0bad2d>\u001b[0m in \u001b[0;36m<module>\u001b[0;34m\u001b[0m\n\u001b[1;32m     12\u001b[0m \u001b[0mdf\u001b[0m\u001b[0;34m[\u001b[0m\u001b[0;34m'wrt_author'\u001b[0m\u001b[0;34m]\u001b[0m \u001b[0;34m=\u001b[0m \u001b[0mdf\u001b[0m\u001b[0;34m[\u001b[0m\u001b[0;34m'variable'\u001b[0m\u001b[0;34m]\u001b[0m\u001b[0;34m.\u001b[0m\u001b[0mstr\u001b[0m\u001b[0;34m.\u001b[0m\u001b[0mextract\u001b[0m\u001b[0;34m(\u001b[0m\u001b[0;34mr'{} \\((.+)\\)'\u001b[0m\u001b[0;34m.\u001b[0m\u001b[0mformat\u001b[0m\u001b[0;34m(\u001b[0m\u001b[0mvalue\u001b[0m\u001b[0;34m)\u001b[0m\u001b[0;34m)\u001b[0m\u001b[0;34m\u001b[0m\u001b[0;34m\u001b[0m\u001b[0m\n\u001b[1;32m     13\u001b[0m \u001b[0;34m\u001b[0m\u001b[0m\n\u001b[0;32m---> 14\u001b[0;31m \u001b[0macc\u001b[0m \u001b[0;34m=\u001b[0m \u001b[0m_eval_acc\u001b[0m\u001b[0;34m(\u001b[0m\u001b[0mdf\u001b[0m\u001b[0;34m,\u001b[0m \u001b[0;34m'variable'\u001b[0m\u001b[0;34m,\u001b[0m \u001b[0mknown_authors\u001b[0m\u001b[0;34m)\u001b[0m\u001b[0;34m\u001b[0m\u001b[0;34m\u001b[0m\u001b[0m\n\u001b[0m\u001b[1;32m     15\u001b[0m \u001b[0;34m\u001b[0m\u001b[0m\n\u001b[1;32m     16\u001b[0m \u001b[0mrep\u001b[0m \u001b[0;34m=\u001b[0m \u001b[0mpd\u001b[0m\u001b[0;34m.\u001b[0m\u001b[0mDataFrame\u001b[0m\u001b[0;34m(\u001b[0m\u001b[0;34m)\u001b[0m\u001b[0;34m\u001b[0m\u001b[0;34m\u001b[0m\u001b[0m\n",
      "\u001b[0;32m<ipython-input-742-1f444a0bad2d>\u001b[0m in \u001b[0;36m_eval_acc\u001b[0;34m(df, value, known_authors)\u001b[0m\n\u001b[1;32m      1\u001b[0m \u001b[0;32mdef\u001b[0m \u001b[0m_eval_acc\u001b[0m\u001b[0;34m(\u001b[0m\u001b[0mdf\u001b[0m\u001b[0;34m,\u001b[0m \u001b[0mvalue\u001b[0m\u001b[0;34m,\u001b[0m \u001b[0mknown_authors\u001b[0m\u001b[0;34m)\u001b[0m \u001b[0;34m:\u001b[0m\u001b[0;34m\u001b[0m\u001b[0;34m\u001b[0m\u001b[0m\n\u001b[1;32m      2\u001b[0m     \u001b[0mres1\u001b[0m \u001b[0;34m=\u001b[0m \u001b[0mdf\u001b[0m\u001b[0;34m[\u001b[0m\u001b[0mdf\u001b[0m\u001b[0;34m.\u001b[0m\u001b[0mauthor\u001b[0m\u001b[0;34m.\u001b[0m\u001b[0misin\u001b[0m\u001b[0;34m(\u001b[0m\u001b[0mknown_authors\u001b[0m\u001b[0;34m)\u001b[0m \u001b[0;34m&\u001b[0m \u001b[0mdf\u001b[0m\u001b[0;34m.\u001b[0m\u001b[0mwrt_author\u001b[0m\u001b[0;34m.\u001b[0m\u001b[0misin\u001b[0m\u001b[0;34m(\u001b[0m\u001b[0mknown_authors\u001b[0m\u001b[0;34m)\u001b[0m\u001b[0;34m]\u001b[0m\u001b[0;34m.\u001b[0m\u001b[0mreset_index\u001b[0m\u001b[0;34m(\u001b[0m\u001b[0;34m)\u001b[0m\u001b[0;34m\u001b[0m\u001b[0;34m\u001b[0m\u001b[0m\n\u001b[0;32m----> 3\u001b[0;31m     \u001b[0midx_min\u001b[0m \u001b[0;34m=\u001b[0m \u001b[0mres1\u001b[0m\u001b[0;34m.\u001b[0m\u001b[0mgroupby\u001b[0m\u001b[0;34m(\u001b[0m\u001b[0;34m[\u001b[0m\u001b[0;34m'doc_id'\u001b[0m\u001b[0;34m,\u001b[0m \u001b[0;34m'author'\u001b[0m\u001b[0;34m]\u001b[0m\u001b[0;34m)\u001b[0m\u001b[0;34m[\u001b[0m\u001b[0mvalue\u001b[0m\u001b[0;34m]\u001b[0m\u001b[0;34m.\u001b[0m\u001b[0midxmin\u001b[0m\u001b[0;34m(\u001b[0m\u001b[0;34m)\u001b[0m\u001b[0;34m\u001b[0m\u001b[0;34m\u001b[0m\u001b[0m\n\u001b[0m\u001b[1;32m      4\u001b[0m     \u001b[0mres_min\u001b[0m \u001b[0;34m=\u001b[0m \u001b[0mres1\u001b[0m\u001b[0;34m.\u001b[0m\u001b[0mloc\u001b[0m\u001b[0;34m[\u001b[0m\u001b[0midx_min\u001b[0m\u001b[0;34m,\u001b[0m \u001b[0;34m:\u001b[0m\u001b[0;34m]\u001b[0m\u001b[0;34m\u001b[0m\u001b[0;34m\u001b[0m\u001b[0m\n\u001b[1;32m      5\u001b[0m     \u001b[0mres_min\u001b[0m\u001b[0;34m.\u001b[0m\u001b[0mloc\u001b[0m\u001b[0;34m[\u001b[0m\u001b[0;34m:\u001b[0m\u001b[0;34m,\u001b[0m \u001b[0;34m'succ'\u001b[0m\u001b[0;34m]\u001b[0m \u001b[0;34m=\u001b[0m \u001b[0mres_min\u001b[0m\u001b[0;34m.\u001b[0m\u001b[0mauthor\u001b[0m \u001b[0;34m==\u001b[0m \u001b[0mres_min\u001b[0m\u001b[0;34m.\u001b[0m\u001b[0mwrt_author\u001b[0m\u001b[0;34m\u001b[0m\u001b[0;34m\u001b[0m\u001b[0m\n",
      "\u001b[0;32m/usr/local/lib/python3.8/site-packages/pandas/core/groupby/groupby.py\u001b[0m in \u001b[0;36mwrapper\u001b[0;34m(*args, **kwargs)\u001b[0m\n\u001b[1;32m    815\u001b[0m                 \u001b[0;32mreturn\u001b[0m \u001b[0mself\u001b[0m\u001b[0;34m.\u001b[0m\u001b[0mapply\u001b[0m\u001b[0;34m(\u001b[0m\u001b[0mcurried\u001b[0m\u001b[0;34m)\u001b[0m\u001b[0;34m\u001b[0m\u001b[0;34m\u001b[0m\u001b[0m\n\u001b[1;32m    816\u001b[0m \u001b[0;34m\u001b[0m\u001b[0m\n\u001b[0;32m--> 817\u001b[0;31m             \u001b[0;32mreturn\u001b[0m \u001b[0mself\u001b[0m\u001b[0;34m.\u001b[0m\u001b[0m_python_apply_general\u001b[0m\u001b[0;34m(\u001b[0m\u001b[0mcurried\u001b[0m\u001b[0;34m,\u001b[0m \u001b[0mself\u001b[0m\u001b[0;34m.\u001b[0m\u001b[0m_obj_with_exclusions\u001b[0m\u001b[0;34m)\u001b[0m\u001b[0;34m\u001b[0m\u001b[0;34m\u001b[0m\u001b[0m\n\u001b[0m\u001b[1;32m    818\u001b[0m \u001b[0;34m\u001b[0m\u001b[0m\n\u001b[1;32m    819\u001b[0m         \u001b[0mwrapper\u001b[0m\u001b[0;34m.\u001b[0m\u001b[0m__name__\u001b[0m \u001b[0;34m=\u001b[0m \u001b[0mname\u001b[0m\u001b[0;34m\u001b[0m\u001b[0;34m\u001b[0m\u001b[0m\n",
      "\u001b[0;32m/usr/local/lib/python3.8/site-packages/pandas/core/groupby/groupby.py\u001b[0m in \u001b[0;36m_python_apply_general\u001b[0;34m(self, f, data)\u001b[0m\n\u001b[1;32m    926\u001b[0m             \u001b[0mdata\u001b[0m \u001b[0mafter\u001b[0m \u001b[0mapplying\u001b[0m \u001b[0mf\u001b[0m\u001b[0;34m\u001b[0m\u001b[0;34m\u001b[0m\u001b[0m\n\u001b[1;32m    927\u001b[0m         \"\"\"\n\u001b[0;32m--> 928\u001b[0;31m         \u001b[0mkeys\u001b[0m\u001b[0;34m,\u001b[0m \u001b[0mvalues\u001b[0m\u001b[0;34m,\u001b[0m \u001b[0mmutated\u001b[0m \u001b[0;34m=\u001b[0m \u001b[0mself\u001b[0m\u001b[0;34m.\u001b[0m\u001b[0mgrouper\u001b[0m\u001b[0;34m.\u001b[0m\u001b[0mapply\u001b[0m\u001b[0;34m(\u001b[0m\u001b[0mf\u001b[0m\u001b[0;34m,\u001b[0m \u001b[0mdata\u001b[0m\u001b[0;34m,\u001b[0m \u001b[0mself\u001b[0m\u001b[0;34m.\u001b[0m\u001b[0maxis\u001b[0m\u001b[0;34m)\u001b[0m\u001b[0;34m\u001b[0m\u001b[0;34m\u001b[0m\u001b[0m\n\u001b[0m\u001b[1;32m    929\u001b[0m \u001b[0;34m\u001b[0m\u001b[0m\n\u001b[1;32m    930\u001b[0m         return self._wrap_applied_output(\n",
      "\u001b[0;32m/usr/local/lib/python3.8/site-packages/pandas/core/groupby/ops.py\u001b[0m in \u001b[0;36mapply\u001b[0;34m(self, f, data, axis)\u001b[0m\n\u001b[1;32m    236\u001b[0m             \u001b[0;31m# group might be modified\u001b[0m\u001b[0;34m\u001b[0m\u001b[0;34m\u001b[0m\u001b[0;34m\u001b[0m\u001b[0m\n\u001b[1;32m    237\u001b[0m             \u001b[0mgroup_axes\u001b[0m \u001b[0;34m=\u001b[0m \u001b[0mgroup\u001b[0m\u001b[0;34m.\u001b[0m\u001b[0maxes\u001b[0m\u001b[0;34m\u001b[0m\u001b[0;34m\u001b[0m\u001b[0m\n\u001b[0;32m--> 238\u001b[0;31m             \u001b[0mres\u001b[0m \u001b[0;34m=\u001b[0m \u001b[0mf\u001b[0m\u001b[0;34m(\u001b[0m\u001b[0mgroup\u001b[0m\u001b[0;34m)\u001b[0m\u001b[0;34m\u001b[0m\u001b[0;34m\u001b[0m\u001b[0m\n\u001b[0m\u001b[1;32m    239\u001b[0m             \u001b[0;32mif\u001b[0m \u001b[0;32mnot\u001b[0m \u001b[0m_is_indexed_like\u001b[0m\u001b[0;34m(\u001b[0m\u001b[0mres\u001b[0m\u001b[0;34m,\u001b[0m \u001b[0mgroup_axes\u001b[0m\u001b[0;34m,\u001b[0m \u001b[0maxis\u001b[0m\u001b[0;34m)\u001b[0m\u001b[0;34m:\u001b[0m\u001b[0;34m\u001b[0m\u001b[0;34m\u001b[0m\u001b[0m\n\u001b[1;32m    240\u001b[0m                 \u001b[0mmutated\u001b[0m \u001b[0;34m=\u001b[0m \u001b[0;32mTrue\u001b[0m\u001b[0;34m\u001b[0m\u001b[0;34m\u001b[0m\u001b[0m\n",
      "\u001b[0;32m/usr/local/lib/python3.8/site-packages/pandas/core/groupby/groupby.py\u001b[0m in \u001b[0;36mcurried\u001b[0;34m(x)\u001b[0m\n\u001b[1;32m    804\u001b[0m \u001b[0;34m\u001b[0m\u001b[0m\n\u001b[1;32m    805\u001b[0m             \u001b[0;32mdef\u001b[0m \u001b[0mcurried\u001b[0m\u001b[0;34m(\u001b[0m\u001b[0mx\u001b[0m\u001b[0;34m)\u001b[0m\u001b[0;34m:\u001b[0m\u001b[0;34m\u001b[0m\u001b[0;34m\u001b[0m\u001b[0m\n\u001b[0;32m--> 806\u001b[0;31m                 \u001b[0;32mreturn\u001b[0m \u001b[0mf\u001b[0m\u001b[0;34m(\u001b[0m\u001b[0mx\u001b[0m\u001b[0;34m,\u001b[0m \u001b[0;34m*\u001b[0m\u001b[0margs\u001b[0m\u001b[0;34m,\u001b[0m \u001b[0;34m**\u001b[0m\u001b[0mkwargs\u001b[0m\u001b[0;34m)\u001b[0m\u001b[0;34m\u001b[0m\u001b[0;34m\u001b[0m\u001b[0m\n\u001b[0m\u001b[1;32m    807\u001b[0m \u001b[0;34m\u001b[0m\u001b[0m\n\u001b[1;32m    808\u001b[0m             \u001b[0;31m# preserve the name so we can detect it when calling plot methods,\u001b[0m\u001b[0;34m\u001b[0m\u001b[0;34m\u001b[0m\u001b[0;34m\u001b[0m\u001b[0m\n",
      "\u001b[0;32m/usr/local/lib/python3.8/site-packages/pandas/core/series.py\u001b[0m in \u001b[0;36midxmin\u001b[0;34m(self, axis, skipna, *args, **kwargs)\u001b[0m\n\u001b[1;32m   2072\u001b[0m         \"\"\"\n\u001b[1;32m   2073\u001b[0m         \u001b[0mskipna\u001b[0m \u001b[0;34m=\u001b[0m \u001b[0mnv\u001b[0m\u001b[0;34m.\u001b[0m\u001b[0mvalidate_argmin_with_skipna\u001b[0m\u001b[0;34m(\u001b[0m\u001b[0mskipna\u001b[0m\u001b[0;34m,\u001b[0m \u001b[0margs\u001b[0m\u001b[0;34m,\u001b[0m \u001b[0mkwargs\u001b[0m\u001b[0;34m)\u001b[0m\u001b[0;34m\u001b[0m\u001b[0;34m\u001b[0m\u001b[0m\n\u001b[0;32m-> 2074\u001b[0;31m         \u001b[0mi\u001b[0m \u001b[0;34m=\u001b[0m \u001b[0mnanops\u001b[0m\u001b[0;34m.\u001b[0m\u001b[0mnanargmin\u001b[0m\u001b[0;34m(\u001b[0m\u001b[0mself\u001b[0m\u001b[0;34m.\u001b[0m\u001b[0m_values\u001b[0m\u001b[0;34m,\u001b[0m \u001b[0mskipna\u001b[0m\u001b[0;34m=\u001b[0m\u001b[0mskipna\u001b[0m\u001b[0;34m)\u001b[0m\u001b[0;34m\u001b[0m\u001b[0;34m\u001b[0m\u001b[0m\n\u001b[0m\u001b[1;32m   2075\u001b[0m         \u001b[0;32mif\u001b[0m \u001b[0mi\u001b[0m \u001b[0;34m==\u001b[0m \u001b[0;34m-\u001b[0m\u001b[0;36m1\u001b[0m\u001b[0;34m:\u001b[0m\u001b[0;34m\u001b[0m\u001b[0;34m\u001b[0m\u001b[0m\n\u001b[1;32m   2076\u001b[0m             \u001b[0;32mreturn\u001b[0m \u001b[0mnp\u001b[0m\u001b[0;34m.\u001b[0m\u001b[0mnan\u001b[0m\u001b[0;34m\u001b[0m\u001b[0;34m\u001b[0m\u001b[0m\n",
      "\u001b[0;32m/usr/local/lib/python3.8/site-packages/pandas/core/nanops.py\u001b[0m in \u001b[0;36m_f\u001b[0;34m(*args, **kwargs)\u001b[0m\n\u001b[1;32m     64\u001b[0m             \u001b[0;32mif\u001b[0m \u001b[0many\u001b[0m\u001b[0;34m(\u001b[0m\u001b[0mself\u001b[0m\u001b[0;34m.\u001b[0m\u001b[0mcheck\u001b[0m\u001b[0;34m(\u001b[0m\u001b[0mobj\u001b[0m\u001b[0;34m)\u001b[0m \u001b[0;32mfor\u001b[0m \u001b[0mobj\u001b[0m \u001b[0;32min\u001b[0m \u001b[0mobj_iter\u001b[0m\u001b[0;34m)\u001b[0m\u001b[0;34m:\u001b[0m\u001b[0;34m\u001b[0m\u001b[0;34m\u001b[0m\u001b[0m\n\u001b[1;32m     65\u001b[0m                 \u001b[0mf_name\u001b[0m \u001b[0;34m=\u001b[0m \u001b[0mf\u001b[0m\u001b[0;34m.\u001b[0m\u001b[0m__name__\u001b[0m\u001b[0;34m.\u001b[0m\u001b[0mreplace\u001b[0m\u001b[0;34m(\u001b[0m\u001b[0;34m\"nan\"\u001b[0m\u001b[0;34m,\u001b[0m \u001b[0;34m\"\"\u001b[0m\u001b[0;34m)\u001b[0m\u001b[0;34m\u001b[0m\u001b[0;34m\u001b[0m\u001b[0m\n\u001b[0;32m---> 66\u001b[0;31m                 raise TypeError(\n\u001b[0m\u001b[1;32m     67\u001b[0m                     \u001b[0;34mf\"reduction operation '{f_name}' not allowed for this dtype\"\u001b[0m\u001b[0;34m\u001b[0m\u001b[0;34m\u001b[0m\u001b[0m\n\u001b[1;32m     68\u001b[0m                 )\n",
      "\u001b[0;31mTypeError\u001b[0m: reduction operation 'argmin' not allowed for this dtype"
     ]
    }
   ],
   "source": [
    "\n"
   ]
  },
  {
   "cell_type": "code",
   "execution_count": 741,
   "id": "cardiac-marriage",
   "metadata": {},
   "outputs": [
    {
     "data": {
      "text/html": [
       "<div>\n",
       "<style scoped>\n",
       "    .dataframe tbody tr th:only-of-type {\n",
       "        vertical-align: middle;\n",
       "    }\n",
       "\n",
       "    .dataframe tbody tr th {\n",
       "        vertical-align: top;\n",
       "    }\n",
       "\n",
       "    .dataframe thead th {\n",
       "        text-align: right;\n",
       "    }\n",
       "</style>\n",
       "<table border=\"1\" class=\"dataframe\">\n",
       "  <thead>\n",
       "    <tr style=\"text-align: right;\">\n",
       "      <th></th>\n",
       "      <th>author</th>\n",
       "      <th>doc_id</th>\n",
       "      <th>len</th>\n",
       "      <th>variable</th>\n",
       "      <th>value</th>\n",
       "      <th>wrt_author</th>\n",
       "    </tr>\n",
       "  </thead>\n",
       "  <tbody>\n",
       "    <tr>\n",
       "      <th>0</th>\n",
       "      <td>1, 1 Chron 10</td>\n",
       "      <td>1Chr.10</td>\n",
       "      <td>315.0</td>\n",
       "      <td>HC (Dtr)</td>\n",
       "      <td>1.161644</td>\n",
       "      <td>Dtr</td>\n",
       "    </tr>\n",
       "    <tr>\n",
       "      <th>1</th>\n",
       "      <td>2, 1 Chron 11</td>\n",
       "      <td>1Chr.11</td>\n",
       "      <td>761.0</td>\n",
       "      <td>HC (Dtr)</td>\n",
       "      <td>1.367914</td>\n",
       "      <td>Dtr</td>\n",
       "    </tr>\n",
       "    <tr>\n",
       "      <th>2</th>\n",
       "      <td>Chr1</td>\n",
       "      <td>1Chr.12</td>\n",
       "      <td>387.0</td>\n",
       "      <td>HC (Dtr)</td>\n",
       "      <td>1.858160</td>\n",
       "      <td>Dtr</td>\n",
       "    </tr>\n",
       "    <tr>\n",
       "      <th>3</th>\n",
       "      <td>3, 1 Chron 13</td>\n",
       "      <td>1Chr.13</td>\n",
       "      <td>314.0</td>\n",
       "      <td>HC (Dtr)</td>\n",
       "      <td>-0.623731</td>\n",
       "      <td>Dtr</td>\n",
       "    </tr>\n",
       "    <tr>\n",
       "      <th>4</th>\n",
       "      <td>4, 1 Chron 14</td>\n",
       "      <td>1Chr.14</td>\n",
       "      <td>309.0</td>\n",
       "      <td>HC (Dtr)</td>\n",
       "      <td>1.358312</td>\n",
       "      <td>Dtr</td>\n",
       "    </tr>\n",
       "    <tr>\n",
       "      <th>...</th>\n",
       "      <td>...</td>\n",
       "      <td>...</td>\n",
       "      <td>...</td>\n",
       "      <td>...</td>\n",
       "      <td>...</td>\n",
       "      <td>...</td>\n",
       "    </tr>\n",
       "    <tr>\n",
       "      <th>577</th>\n",
       "      <td>Prov</td>\n",
       "      <td>Prov.27</td>\n",
       "      <td>316.0</td>\n",
       "      <td>HC (P)</td>\n",
       "      <td>2.561318</td>\n",
       "      <td>P</td>\n",
       "    </tr>\n",
       "    <tr>\n",
       "      <th>578</th>\n",
       "      <td>Prov</td>\n",
       "      <td>Prov.28</td>\n",
       "      <td>304.0</td>\n",
       "      <td>HC (P)</td>\n",
       "      <td>2.202612</td>\n",
       "      <td>P</td>\n",
       "    </tr>\n",
       "    <tr>\n",
       "      <th>579</th>\n",
       "      <td>Prov</td>\n",
       "      <td>Prov.29</td>\n",
       "      <td>269.0</td>\n",
       "      <td>HC (P)</td>\n",
       "      <td>2.896388</td>\n",
       "      <td>P</td>\n",
       "    </tr>\n",
       "    <tr>\n",
       "      <th>580</th>\n",
       "      <td>Prov</td>\n",
       "      <td>Prov.30</td>\n",
       "      <td>412.0</td>\n",
       "      <td>HC (P)</td>\n",
       "      <td>3.781481</td>\n",
       "      <td>P</td>\n",
       "    </tr>\n",
       "    <tr>\n",
       "      <th>581</th>\n",
       "      <td>Prov</td>\n",
       "      <td>Prov.31</td>\n",
       "      <td>338.0</td>\n",
       "      <td>HC (P)</td>\n",
       "      <td>2.064066</td>\n",
       "      <td>P</td>\n",
       "    </tr>\n",
       "  </tbody>\n",
       "</table>\n",
       "<p>582 rows × 6 columns</p>\n",
       "</div>"
      ],
      "text/plain": [
       "            author   doc_id    len  variable     value wrt_author\n",
       "0    1, 1 Chron 10  1Chr.10  315.0  HC (Dtr)  1.161644        Dtr\n",
       "1    2, 1 Chron 11  1Chr.11  761.0  HC (Dtr)  1.367914        Dtr\n",
       "2             Chr1  1Chr.12  387.0  HC (Dtr)  1.858160        Dtr\n",
       "3    3, 1 Chron 13  1Chr.13  314.0  HC (Dtr) -0.623731        Dtr\n",
       "4    4, 1 Chron 14  1Chr.14  309.0  HC (Dtr)  1.358312        Dtr\n",
       "..             ...      ...    ...       ...       ...        ...\n",
       "577           Prov  Prov.27  316.0    HC (P)  2.561318          P\n",
       "578           Prov  Prov.28  304.0    HC (P)  2.202612          P\n",
       "579           Prov  Prov.29  269.0    HC (P)  2.896388          P\n",
       "580           Prov  Prov.30  412.0    HC (P)  3.781481          P\n",
       "581           Prov  Prov.31  338.0    HC (P)  2.064066          P\n",
       "\n",
       "[582 rows x 6 columns]"
      ]
     },
     "execution_count": 741,
     "metadata": {},
     "output_type": "execute_result"
    }
   ],
   "source": [
    "df"
   ]
  },
  {
   "cell_type": "code",
   "execution_count": 687,
   "id": "smooth-highlight",
   "metadata": {},
   "outputs": [
    {
     "data": {
      "text/plain": [
       "0.6385542168674698"
      ]
     },
     "execution_count": 687,
     "metadata": {},
     "output_type": "execute_result"
    }
   ],
   "source": [
    "def eval_accuracy(df, known_authors) :\n",
    "    res1 = df[df.author.isin(known_authors) & df.wrt_author.isin(known_authors)].reset_index()\n",
    "    idx_min = res1.groupby(['doc_id', 'author'])['value'].idxmin()\n",
    "    res_min = res1.loc[idx_min, :]\n",
    "    res_min.loc[:, 'succ'] = res_min.author == res_min.wrt_author\n",
    "\n",
    "    succ_per_doc = res_min.groupby('doc_id').succ.mean()\n",
    "    return succ_per_doc.mean()\n",
    "\n",
    "df_eval = df_res1.melt(['author', 'doc_id'])\n",
    "df_eval['wrt_author'] = df_eval['variable'].str.extract(r'HC \\((.+)\\)')\n",
    "eval_accuracy(df_eval, known_authors)"
   ]
  },
  {
   "cell_type": "code",
   "execution_count": 691,
   "id": "victorian-python",
   "metadata": {},
   "outputs": [
    {
     "data": {
      "text/plain": [
       "0.5471698113207547"
      ]
     },
     "execution_count": 691,
     "metadata": {},
     "output_type": "execute_result"
    }
   ],
   "source": [
    "eval_accuracy(df_res.rename(columns={'HC' : 'value'}), known_authors)"
   ]
  },
  {
   "cell_type": "code",
   "execution_count": 680,
   "id": "coated-chamber",
   "metadata": {},
   "outputs": [
    {
     "ename": "TypeError",
     "evalue": "Invalid comparison between dtype=int64 and str",
     "output_type": "error",
     "traceback": [
      "\u001b[0;31m---------------------------------------------------------------------------\u001b[0m",
      "\u001b[0;31mTypeError\u001b[0m                                 Traceback (most recent call last)",
      "\u001b[0;32m<ipython-input-680-00075829246b>\u001b[0m in \u001b[0;36m<module>\u001b[0;34m\u001b[0m\n\u001b[1;32m      1\u001b[0m \u001b[0mdf_res\u001b[0m\u001b[0;34m[\u001b[0m\u001b[0;34m'len'\u001b[0m\u001b[0;34m]\u001b[0m \u001b[0;34m=\u001b[0m \u001b[0;36m1000\u001b[0m\u001b[0;34m\u001b[0m\u001b[0;34m\u001b[0m\u001b[0m\n\u001b[0;32m----> 2\u001b[0;31m \u001b[0mevaluate_accuracy\u001b[0m\u001b[0;34m(\u001b[0m\u001b[0mdf_res\u001b[0m\u001b[0;34m,\u001b[0m \u001b[0mknown_authors\u001b[0m\u001b[0;34m,\u001b[0m \u001b[0;34m'HC'\u001b[0m\u001b[0;34m,\u001b[0m \u001b[0;34m\"\"\u001b[0m\u001b[0;34m)\u001b[0m\u001b[0;34m\u001b[0m\u001b[0;34m\u001b[0m\u001b[0m\n\u001b[0m",
      "\u001b[0;32m<ipython-input-677-3f7db912540d>\u001b[0m in \u001b[0;36mevaluate_accuracy\u001b[0;34m(df_res, known_authors, min_length_to_report, params)\u001b[0m\n\u001b[1;32m     23\u001b[0m     \u001b[0mres\u001b[0m \u001b[0;34m=\u001b[0m \u001b[0;34m{\u001b[0m\u001b[0;34m}\u001b[0m\u001b[0;34m\u001b[0m\u001b[0;34m\u001b[0m\u001b[0m\n\u001b[1;32m     24\u001b[0m     \u001b[0;32mfor\u001b[0m \u001b[0mv\u001b[0m \u001b[0;32min\u001b[0m \u001b[0;34m[\u001b[0m\u001b[0;34m'HC'\u001b[0m\u001b[0;34m,\u001b[0m \u001b[0;34m'HC_rank'\u001b[0m\u001b[0;34m,\u001b[0m \u001b[0;34m'chisq'\u001b[0m\u001b[0;34m,\u001b[0m \u001b[0;34m'chisq_rank'\u001b[0m\u001b[0;34m,\u001b[0m \u001b[0;34m'log-likelihood'\u001b[0m\u001b[0;34m,\u001b[0m\u001b[0;34m'log-likelihood_rank'\u001b[0m\u001b[0;34m,\u001b[0m \u001b[0;34m'Fisher'\u001b[0m\u001b[0;34m]\u001b[0m  \u001b[0;34m:\u001b[0m\u001b[0;34m\u001b[0m\u001b[0;34m\u001b[0m\u001b[0m\n\u001b[0;32m---> 25\u001b[0;31m         \u001b[0mres\u001b[0m\u001b[0;34m[\u001b[0m\u001b[0mv\u001b[0m\u001b[0;34m]\u001b[0m \u001b[0;34m=\u001b[0m \u001b[0mprob_of_succ\u001b[0m\u001b[0;34m(\u001b[0m\u001b[0mdf_res\u001b[0m\u001b[0;34m,\u001b[0m \u001b[0mvalue\u001b[0m \u001b[0;34m=\u001b[0m \u001b[0mv\u001b[0m\u001b[0;34m,\u001b[0m \u001b[0mknown_authors\u001b[0m\u001b[0;34m=\u001b[0m\u001b[0mknown_authors\u001b[0m\u001b[0;34m)\u001b[0m\u001b[0;34m\u001b[0m\u001b[0;34m\u001b[0m\u001b[0m\n\u001b[0m\u001b[1;32m     26\u001b[0m \u001b[0;34m\u001b[0m\u001b[0m\n\u001b[1;32m     27\u001b[0m     \u001b[0mres\u001b[0m\u001b[0;34m[\u001b[0m\u001b[0;34m'params'\u001b[0m\u001b[0;34m]\u001b[0m \u001b[0;34m=\u001b[0m \u001b[0mstr\u001b[0m\u001b[0;34m(\u001b[0m\u001b[0mparams\u001b[0m\u001b[0;34m)\u001b[0m\u001b[0;34m\u001b[0m\u001b[0;34m\u001b[0m\u001b[0m\n",
      "\u001b[0;32m<ipython-input-677-3f7db912540d>\u001b[0m in \u001b[0;36mprob_of_succ\u001b[0;34m(df, value, known_authors, min_length, plot)\u001b[0m\n\u001b[1;32m     11\u001b[0m     \"\"\"\n\u001b[1;32m     12\u001b[0m     \u001b[0;32mdef\u001b[0m \u001b[0mprob_of_succ\u001b[0m\u001b[0;34m(\u001b[0m\u001b[0mdf\u001b[0m\u001b[0;34m,\u001b[0m \u001b[0mvalue\u001b[0m\u001b[0;34m,\u001b[0m \u001b[0mknown_authors\u001b[0m\u001b[0;34m,\u001b[0m \u001b[0mmin_length\u001b[0m\u001b[0;34m=\u001b[0m\u001b[0mmin_length_to_report\u001b[0m\u001b[0;34m,\u001b[0m \u001b[0mplot\u001b[0m\u001b[0;34m=\u001b[0m\u001b[0;32mFalse\u001b[0m\u001b[0;34m)\u001b[0m \u001b[0;34m:\u001b[0m\u001b[0;34m\u001b[0m\u001b[0;34m\u001b[0m\u001b[0m\n\u001b[0;32m---> 13\u001b[0;31m         \u001b[0mdf\u001b[0m \u001b[0;34m=\u001b[0m \u001b[0mdf\u001b[0m\u001b[0;34m[\u001b[0m\u001b[0mdf\u001b[0m\u001b[0;34m.\u001b[0m\u001b[0mlen\u001b[0m \u001b[0;34m>=\u001b[0m \u001b[0mmin_length\u001b[0m\u001b[0;34m]\u001b[0m\u001b[0;34m\u001b[0m\u001b[0;34m\u001b[0m\u001b[0m\n\u001b[0m\u001b[1;32m     14\u001b[0m         \u001b[0mdf\u001b[0m\u001b[0;34m.\u001b[0m\u001b[0mloc\u001b[0m\u001b[0;34m[\u001b[0m\u001b[0;34m:\u001b[0m\u001b[0;34m,\u001b[0m\u001b[0mvalue\u001b[0m\u001b[0;34m]\u001b[0m \u001b[0;34m=\u001b[0m \u001b[0mdf\u001b[0m\u001b[0;34m[\u001b[0m\u001b[0mvalue\u001b[0m\u001b[0;34m]\u001b[0m\u001b[0;34m.\u001b[0m\u001b[0mastype\u001b[0m\u001b[0;34m(\u001b[0m\u001b[0mfloat\u001b[0m\u001b[0;34m)\u001b[0m\u001b[0;34m\u001b[0m\u001b[0;34m\u001b[0m\u001b[0m\n\u001b[1;32m     15\u001b[0m         \u001b[0mres1\u001b[0m \u001b[0;34m=\u001b[0m \u001b[0mdf\u001b[0m\u001b[0;34m[\u001b[0m\u001b[0mdf\u001b[0m\u001b[0;34m.\u001b[0m\u001b[0mauthor\u001b[0m\u001b[0;34m.\u001b[0m\u001b[0misin\u001b[0m\u001b[0;34m(\u001b[0m\u001b[0mknown_authors\u001b[0m\u001b[0;34m)\u001b[0m \u001b[0;34m&\u001b[0m \u001b[0mdf\u001b[0m\u001b[0;34m.\u001b[0m\u001b[0mwrt_author\u001b[0m\u001b[0;34m.\u001b[0m\u001b[0misin\u001b[0m\u001b[0;34m(\u001b[0m\u001b[0mknown_authors\u001b[0m\u001b[0;34m)\u001b[0m\u001b[0;34m]\u001b[0m\u001b[0;34m.\u001b[0m\u001b[0mreset_index\u001b[0m\u001b[0;34m(\u001b[0m\u001b[0;34m)\u001b[0m\u001b[0;34m\u001b[0m\u001b[0;34m\u001b[0m\u001b[0m\n",
      "\u001b[0;32m/usr/local/lib/python3.8/site-packages/pandas/core/ops/common.py\u001b[0m in \u001b[0;36mnew_method\u001b[0;34m(self, other)\u001b[0m\n\u001b[1;32m     63\u001b[0m         \u001b[0mother\u001b[0m \u001b[0;34m=\u001b[0m \u001b[0mitem_from_zerodim\u001b[0m\u001b[0;34m(\u001b[0m\u001b[0mother\u001b[0m\u001b[0;34m)\u001b[0m\u001b[0;34m\u001b[0m\u001b[0;34m\u001b[0m\u001b[0m\n\u001b[1;32m     64\u001b[0m \u001b[0;34m\u001b[0m\u001b[0m\n\u001b[0;32m---> 65\u001b[0;31m         \u001b[0;32mreturn\u001b[0m \u001b[0mmethod\u001b[0m\u001b[0;34m(\u001b[0m\u001b[0mself\u001b[0m\u001b[0;34m,\u001b[0m \u001b[0mother\u001b[0m\u001b[0;34m)\u001b[0m\u001b[0;34m\u001b[0m\u001b[0;34m\u001b[0m\u001b[0m\n\u001b[0m\u001b[1;32m     66\u001b[0m \u001b[0;34m\u001b[0m\u001b[0m\n\u001b[1;32m     67\u001b[0m     \u001b[0;32mreturn\u001b[0m \u001b[0mnew_method\u001b[0m\u001b[0;34m\u001b[0m\u001b[0;34m\u001b[0m\u001b[0m\n",
      "\u001b[0;32m/usr/local/lib/python3.8/site-packages/pandas/core/arraylike.py\u001b[0m in \u001b[0;36m__ge__\u001b[0;34m(self, other)\u001b[0m\n\u001b[1;32m     47\u001b[0m     \u001b[0;34m@\u001b[0m\u001b[0munpack_zerodim_and_defer\u001b[0m\u001b[0;34m(\u001b[0m\u001b[0;34m\"__ge__\"\u001b[0m\u001b[0;34m)\u001b[0m\u001b[0;34m\u001b[0m\u001b[0;34m\u001b[0m\u001b[0m\n\u001b[1;32m     48\u001b[0m     \u001b[0;32mdef\u001b[0m \u001b[0m__ge__\u001b[0m\u001b[0;34m(\u001b[0m\u001b[0mself\u001b[0m\u001b[0;34m,\u001b[0m \u001b[0mother\u001b[0m\u001b[0;34m)\u001b[0m\u001b[0;34m:\u001b[0m\u001b[0;34m\u001b[0m\u001b[0;34m\u001b[0m\u001b[0m\n\u001b[0;32m---> 49\u001b[0;31m         \u001b[0;32mreturn\u001b[0m \u001b[0mself\u001b[0m\u001b[0;34m.\u001b[0m\u001b[0m_cmp_method\u001b[0m\u001b[0;34m(\u001b[0m\u001b[0mother\u001b[0m\u001b[0;34m,\u001b[0m \u001b[0moperator\u001b[0m\u001b[0;34m.\u001b[0m\u001b[0mge\u001b[0m\u001b[0;34m)\u001b[0m\u001b[0;34m\u001b[0m\u001b[0;34m\u001b[0m\u001b[0m\n\u001b[0m\u001b[1;32m     50\u001b[0m \u001b[0;34m\u001b[0m\u001b[0m\n\u001b[1;32m     51\u001b[0m     \u001b[0;31m# -------------------------------------------------------------\u001b[0m\u001b[0;34m\u001b[0m\u001b[0;34m\u001b[0m\u001b[0;34m\u001b[0m\u001b[0m\n",
      "\u001b[0;32m/usr/local/lib/python3.8/site-packages/pandas/core/series.py\u001b[0m in \u001b[0;36m_cmp_method\u001b[0;34m(self, other, op)\u001b[0m\n\u001b[1;32m   4946\u001b[0m         \u001b[0mrvalues\u001b[0m \u001b[0;34m=\u001b[0m \u001b[0mextract_array\u001b[0m\u001b[0;34m(\u001b[0m\u001b[0mother\u001b[0m\u001b[0;34m,\u001b[0m \u001b[0mextract_numpy\u001b[0m\u001b[0;34m=\u001b[0m\u001b[0;32mTrue\u001b[0m\u001b[0;34m)\u001b[0m\u001b[0;34m\u001b[0m\u001b[0;34m\u001b[0m\u001b[0m\n\u001b[1;32m   4947\u001b[0m \u001b[0;34m\u001b[0m\u001b[0m\n\u001b[0;32m-> 4948\u001b[0;31m         \u001b[0mres_values\u001b[0m \u001b[0;34m=\u001b[0m \u001b[0mops\u001b[0m\u001b[0;34m.\u001b[0m\u001b[0mcomparison_op\u001b[0m\u001b[0;34m(\u001b[0m\u001b[0mlvalues\u001b[0m\u001b[0;34m,\u001b[0m \u001b[0mrvalues\u001b[0m\u001b[0;34m,\u001b[0m \u001b[0mop\u001b[0m\u001b[0;34m)\u001b[0m\u001b[0;34m\u001b[0m\u001b[0;34m\u001b[0m\u001b[0m\n\u001b[0m\u001b[1;32m   4949\u001b[0m \u001b[0;34m\u001b[0m\u001b[0m\n\u001b[1;32m   4950\u001b[0m         \u001b[0;32mreturn\u001b[0m \u001b[0mself\u001b[0m\u001b[0;34m.\u001b[0m\u001b[0m_construct_result\u001b[0m\u001b[0;34m(\u001b[0m\u001b[0mres_values\u001b[0m\u001b[0;34m,\u001b[0m \u001b[0mname\u001b[0m\u001b[0;34m=\u001b[0m\u001b[0mres_name\u001b[0m\u001b[0;34m)\u001b[0m\u001b[0;34m\u001b[0m\u001b[0;34m\u001b[0m\u001b[0m\n",
      "\u001b[0;32m/usr/local/lib/python3.8/site-packages/pandas/core/ops/array_ops.py\u001b[0m in \u001b[0;36mcomparison_op\u001b[0;34m(left, right, op)\u001b[0m\n\u001b[1;32m    238\u001b[0m     \u001b[0;32melif\u001b[0m \u001b[0mis_numeric_v_string_like\u001b[0m\u001b[0;34m(\u001b[0m\u001b[0mlvalues\u001b[0m\u001b[0;34m,\u001b[0m \u001b[0mrvalues\u001b[0m\u001b[0;34m)\u001b[0m\u001b[0;34m:\u001b[0m\u001b[0;34m\u001b[0m\u001b[0;34m\u001b[0m\u001b[0m\n\u001b[1;32m    239\u001b[0m         \u001b[0;31m# GH#36377 going through the numexpr path would incorrectly raise\u001b[0m\u001b[0;34m\u001b[0m\u001b[0;34m\u001b[0m\u001b[0;34m\u001b[0m\u001b[0m\n\u001b[0;32m--> 240\u001b[0;31m         \u001b[0;32mreturn\u001b[0m \u001b[0minvalid_comparison\u001b[0m\u001b[0;34m(\u001b[0m\u001b[0mlvalues\u001b[0m\u001b[0;34m,\u001b[0m \u001b[0mrvalues\u001b[0m\u001b[0;34m,\u001b[0m \u001b[0mop\u001b[0m\u001b[0;34m)\u001b[0m\u001b[0;34m\u001b[0m\u001b[0;34m\u001b[0m\u001b[0m\n\u001b[0m\u001b[1;32m    241\u001b[0m \u001b[0;34m\u001b[0m\u001b[0m\n\u001b[1;32m    242\u001b[0m     \u001b[0;32melif\u001b[0m \u001b[0mis_object_dtype\u001b[0m\u001b[0;34m(\u001b[0m\u001b[0mlvalues\u001b[0m\u001b[0;34m.\u001b[0m\u001b[0mdtype\u001b[0m\u001b[0;34m)\u001b[0m\u001b[0;34m:\u001b[0m\u001b[0;34m\u001b[0m\u001b[0;34m\u001b[0m\u001b[0m\n",
      "\u001b[0;32m/usr/local/lib/python3.8/site-packages/pandas/core/ops/invalid.py\u001b[0m in \u001b[0;36minvalid_comparison\u001b[0;34m(left, right, op)\u001b[0m\n\u001b[1;32m     32\u001b[0m     \u001b[0;32melse\u001b[0m\u001b[0;34m:\u001b[0m\u001b[0;34m\u001b[0m\u001b[0;34m\u001b[0m\u001b[0m\n\u001b[1;32m     33\u001b[0m         \u001b[0mtyp\u001b[0m \u001b[0;34m=\u001b[0m \u001b[0mtype\u001b[0m\u001b[0;34m(\u001b[0m\u001b[0mright\u001b[0m\u001b[0;34m)\u001b[0m\u001b[0;34m.\u001b[0m\u001b[0m__name__\u001b[0m\u001b[0;34m\u001b[0m\u001b[0;34m\u001b[0m\u001b[0m\n\u001b[0;32m---> 34\u001b[0;31m         \u001b[0;32mraise\u001b[0m \u001b[0mTypeError\u001b[0m\u001b[0;34m(\u001b[0m\u001b[0;34mf\"Invalid comparison between dtype={left.dtype} and {typ}\"\u001b[0m\u001b[0;34m)\u001b[0m\u001b[0;34m\u001b[0m\u001b[0;34m\u001b[0m\u001b[0m\n\u001b[0m\u001b[1;32m     35\u001b[0m     \u001b[0;32mreturn\u001b[0m \u001b[0mres_values\u001b[0m\u001b[0;34m\u001b[0m\u001b[0;34m\u001b[0m\u001b[0m\n\u001b[1;32m     36\u001b[0m \u001b[0;34m\u001b[0m\u001b[0m\n",
      "\u001b[0;31mTypeError\u001b[0m: Invalid comparison between dtype=int64 and str"
     ]
    }
   ],
   "source": [
    "df_res['len'] = 1000\n",
    "evaluate_accuracy(df_res, known_authors, 'HC', \"\")"
   ]
  },
  {
   "cell_type": "code",
   "execution_count": 677,
   "id": "humanitarian-message",
   "metadata": {},
   "outputs": [],
   "source": [
    "def evaluate_accuracy(df_res: pd.DataFrame, known_authors, min_length_to_report : int, params) -> pd.DataFrame :\n",
    "    \"\"\"\n",
    "    Evaluate accuracy of attribution in min discrepancy manner\n",
    "    \n",
    "    Args:\n",
    "    min_length_to_report    only try to attribute docs of length larger than that\n",
    "    known_authors           only compare against corpora from this list\n",
    "    \n",
    "    Returns:\n",
    "    average accuracy for each similarity measure\n",
    "    \"\"\"\n",
    "    def prob_of_succ(df, value, known_authors, min_length=min_length_to_report, plot=False) :\n",
    "        df = df[df.len >= min_length]\n",
    "        df.loc[:,value] = df[value].astype(float)\n",
    "        res1 = df[df.author.isin(known_authors) & df.wrt_author.isin(known_authors)].reset_index()\n",
    "        idx_min = res1.groupby(['doc_id', 'author'])[value].idxmin()\n",
    "        res_min = res1.loc[idx_min, :]\n",
    "        res_min.loc[:, 'succ'] = res_min.author == res_min.wrt_author\n",
    "\n",
    "        succ_per_doc = res_min.groupby('doc_id').succ.mean()\n",
    "        return succ_per_doc.mean()\n",
    "\n",
    "    res = {}\n",
    "    for v in ['HC', 'HC_rank', 'chisq', 'chisq_rank', 'log-likelihood','log-likelihood_rank', 'Fisher']  :\n",
    "        res[v] = prob_of_succ(df_res, value = v, known_authors=known_authors)\n",
    "        \n",
    "    res['params'] = str(params)\n",
    "    return pd.DataFrame(res, index=[0])\n"
   ]
  },
  {
   "cell_type": "code",
   "execution_count": null,
   "id": "bottom-metropolitan",
   "metadata": {},
   "outputs": [],
   "source": []
  },
  {
   "cell_type": "code",
   "execution_count": null,
   "id": "settled-elder",
   "metadata": {},
   "outputs": [],
   "source": []
  }
 ],
 "metadata": {
  "kernelspec": {
   "display_name": "Python 3",
   "language": "python",
   "name": "python3"
  },
  "language_info": {
   "codemirror_mode": {
    "name": "ipython",
    "version": 3
   },
   "file_extension": ".py",
   "mimetype": "text/x-python",
   "name": "python",
   "nbconvert_exporter": "python",
   "pygments_lexer": "ipython3",
   "version": "3.8.5"
  }
 },
 "nbformat": 4,
 "nbformat_minor": 5
}
