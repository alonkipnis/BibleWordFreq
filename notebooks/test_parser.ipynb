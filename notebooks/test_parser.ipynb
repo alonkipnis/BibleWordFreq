{
 "cells": [
  {
   "cell_type": "markdown",
   "id": "1ad67b7c",
   "metadata": {},
   "source": [
    "### Load Context"
   ]
  },
  {
   "cell_type": "code",
   "execution_count": 1,
   "id": "a74c62bc",
   "metadata": {},
   "outputs": [
    {
     "name": "stderr",
     "output_type": "stream",
     "text": [
      "/usr/local/lib/python3.8/site-packages/patsy/constraint.py:13: DeprecationWarning: Using or importing the ABCs from 'collections' instead of from 'collections.abc' is deprecated since Python 3.3, and in 3.9 it will stop working\n",
      "  from collections import Mapping\n",
      "/usr/local/lib/python3.8/site-packages/statsmodels/iolib/foreign.py:651: DeprecationWarning: `np.long` is a deprecated alias for `np.compat.long`. To silence this warning, use `np.compat.long` by itself. In the likely event your code does not need to work on Python 2 you can use the builtin `int` for which `np.compat.long` is itself an alias. Doing this will not modify any behaviour and is safe. When replacing `np.long`, you may wish to use e.g. `np.int64` or `np.int32` to specify the precision. If you wish to review your current use, check the release note link for additional information.\n",
      "Deprecated in NumPy 1.20; for more details and guidance: https://numpy.org/devdocs/release/1.20.0-notes.html#deprecations\n",
      "/usr/local/lib/python3.8/site-packages/statsmodels/stats/_lilliefors.py:163: DeprecationWarning: `np.float` is a deprecated alias for the builtin `float`. To silence this warning, use `float` by itself. Doing this will not modify any behavior and is safe. If you specifically wanted the numpy scalar type, use `np.float64` here.\n",
      "Deprecated in NumPy 1.20; for more details and guidance: https://numpy.org/devdocs/release/1.20.0-notes.html#deprecations\n"
     ]
    },
    {
     "name": "stdout",
     "output_type": "stream",
     "text": [
      "2021-11-18 13:19:36,334 - kedro.framework.session.store - INFO - `save()` not implemented for `BaseSessionStore`. Skipping the step.\n"
     ]
    }
   ],
   "source": [
    "import os\n",
    "import sys\n",
    "os.chdir(\"/Users/kipnisal/DS/BiblicalScripts/bib-scripts/\")\n",
    "sys.path.append(\"/Users/kipnisal/DS/BiblicalScripts/bib-scripts/src\")\n",
    "\n",
    "from kedro.framework.session import KedroSession\n",
    "\n",
    "with KedroSession.create(\"biblical_scripts\") as session:\n",
    "    ctx = session.load_context()\n",
    "\n",
    "params = ctx.params\n",
    "\n",
    "from biblical_scripts.pipelines.data_engineering.TextProcessing import TextProcessing\n",
    "from biblical_scripts.extras.Convert import Convert"
   ]
  },
  {
   "cell_type": "markdown",
   "id": "d498efb2",
   "metadata": {},
   "source": [
    "# Text Processing"
   ]
  },
  {
   "cell_type": "code",
   "execution_count": 2,
   "id": "a9f8a106",
   "metadata": {},
   "outputs": [
    {
     "name": "stdout",
     "output_type": "stream",
     "text": [
      "2021-11-18 13:19:36,709 - kedro.io.data_catalog - INFO - Loading data from `oshb_parsed` (CSVDataSet)...\n"
     ]
    }
   ],
   "source": [
    "data_raw = ctx.catalog.load('oshb_parsed')"
   ]
  },
  {
   "cell_type": "code",
   "execution_count": 7,
   "id": "676947c8",
   "metadata": {},
   "outputs": [],
   "source": [
    "from biblical_scripts.extras.Convert import Convert"
   ]
  },
  {
   "cell_type": "code",
   "execution_count": 8,
   "id": "d1ff85be",
   "metadata": {},
   "outputs": [
    {
     "ename": "AttributeError",
     "evalue": "'Convert' object has no attribute '_lemma2term'",
     "output_type": "error",
     "traceback": [
      "\u001b[0;31m---------------------------------------------------------------------------\u001b[0m",
      "\u001b[0;31mAttributeError\u001b[0m                            Traceback (most recent call last)",
      "\u001b[0;32m<ipython-input-8-e1605080b133>\u001b[0m in \u001b[0;36m<module>\u001b[0;34m\u001b[0m\n\u001b[1;32m      3\u001b[0m \u001b[0mcvr\u001b[0m \u001b[0;34m=\u001b[0m \u001b[0mConvert\u001b[0m\u001b[0;34m(\u001b[0m\u001b[0mdata_raw\u001b[0m\u001b[0;34m)\u001b[0m\u001b[0;34m\u001b[0m\u001b[0;34m\u001b[0m\u001b[0m\n\u001b[1;32m      4\u001b[0m \u001b[0;34m\u001b[0m\u001b[0m\n\u001b[0;32m----> 5\u001b[0;31m \u001b[0mdf\u001b[0m\u001b[0;34m.\u001b[0m\u001b[0mlemma\u001b[0m\u001b[0;34m.\u001b[0m\u001b[0mapply\u001b[0m\u001b[0;34m(\u001b[0m\u001b[0mcvr\u001b[0m\u001b[0;34m.\u001b[0m\u001b[0m_lemma2term\u001b[0m\u001b[0;34m)\u001b[0m\u001b[0;34m\u001b[0m\u001b[0;34m\u001b[0m\u001b[0m\n\u001b[0m",
      "\u001b[0;31mAttributeError\u001b[0m: 'Convert' object has no attribute '_lemma2term'"
     ]
    }
   ],
   "source": [
    "df = data_raw[data_raw.lemma.str.contains(r\"552\")] #6767 #552\n",
    "\n",
    "cvr = Convert(data_raw)\n",
    "\n",
    "df.lemma.apply(cvr._lem2term)"
   ]
  },
  {
   "cell_type": "code",
   "execution_count": 4,
   "id": "74df6086",
   "metadata": {},
   "outputs": [
    {
     "name": "stdout",
     "output_type": "stream",
     "text": [
      "2021-11-09 10:00:58,961 - root - INFO - Extracting prefixes and suffixes\n"
     ]
    },
    {
     "name": "stderr",
     "output_type": "stream",
     "text": [
      "/usr/local/lib/python3.8/site-packages/ipykernel/ipkernel.py:283: DeprecationWarning: `should_run_async` will not call `transform_cell` automatically in the future. Please pass the result to `transformed_cell` argument and any exception that happen during thetransform in `preprocessing_exc_tuple` in IPython 7.17 and above.\n"
     ]
    },
    {
     "name": "stdout",
     "output_type": "stream",
     "text": [
      "2021-11-09 10:00:59,395 - numexpr.utils - INFO - NumExpr defaulting to 8 threads.\n",
      "2021-11-09 10:00:59,504 - root - INFO - Removing FFF\n",
      "2021-11-09 10:00:59,544 - root - INFO - Replacing Ac\n",
      "2021-11-09 10:00:59,587 - root - INFO - Replacing Ng\n",
      "2021-11-09 10:00:59,631 - root - INFO - Replacing Np\n"
     ]
    },
    {
     "name": "stderr",
     "output_type": "stream",
     "text": [
      "/usr/local/lib/python3.8/site-packages/pandas/core/strings/accessor.py:101: UserWarning: This pattern has match groups. To actually get the groups, use str.extract.\n"
     ]
    },
    {
     "data": {
      "text/html": [
       "<div>\n",
       "<style scoped>\n",
       "    .dataframe tbody tr th:only-of-type {\n",
       "        vertical-align: middle;\n",
       "    }\n",
       "\n",
       "    .dataframe tbody tr th {\n",
       "        vertical-align: top;\n",
       "    }\n",
       "\n",
       "    .dataframe thead th {\n",
       "        text-align: right;\n",
       "    }\n",
       "</style>\n",
       "<table border=\"1\" class=\"dataframe\">\n",
       "  <thead>\n",
       "    <tr style=\"text-align: right;\">\n",
       "      <th></th>\n",
       "      <th>token_id</th>\n",
       "      <th>author</th>\n",
       "      <th>chapter</th>\n",
       "      <th>verse</th>\n",
       "      <th>feature</th>\n",
       "      <th>feature (org)</th>\n",
       "      <th>morph</th>\n",
       "      <th>term</th>\n",
       "      <th>lemma</th>\n",
       "      <th>POW</th>\n",
       "    </tr>\n",
       "  </thead>\n",
       "  <tbody>\n",
       "    <tr>\n",
       "      <th>0</th>\n",
       "      <td>0</td>\n",
       "      <td>1, 1 Chron 10</td>\n",
       "      <td>1Chr.10</td>\n",
       "      <td>1Chr.10.1</td>\n",
       "      <td>c</td>\n",
       "      <td>c</td>\n",
       "      <td>HC</td>\n",
       "      <td>וּ/פְלִשְׁתִּ֖ים</td>\n",
       "      <td>c/6430</td>\n",
       "      <td>prefix</td>\n",
       "    </tr>\n",
       "    <tr>\n",
       "      <th>0</th>\n",
       "      <td>0</td>\n",
       "      <td>1, 1 Chron 10</td>\n",
       "      <td>1Chr.10</td>\n",
       "      <td>1Chr.10.1</td>\n",
       "      <td>&lt;Ng&gt;</td>\n",
       "      <td>6430</td>\n",
       "      <td>Ngmpa</td>\n",
       "      <td>וּ/פְלִשְׁתִּ֖ים</td>\n",
       "      <td>c/6430</td>\n",
       "      <td>main</td>\n",
       "    </tr>\n",
       "    <tr>\n",
       "      <th>1</th>\n",
       "      <td>1</td>\n",
       "      <td>1, 1 Chron 10</td>\n",
       "      <td>1Chr.10</td>\n",
       "      <td>1Chr.10.1</td>\n",
       "      <td>3898</td>\n",
       "      <td>3898</td>\n",
       "      <td>HVNp3cp</td>\n",
       "      <td>נִלְחֲמ֣וּ</td>\n",
       "      <td>3898</td>\n",
       "      <td>main</td>\n",
       "    </tr>\n",
       "    <tr>\n",
       "      <th>2</th>\n",
       "      <td>2</td>\n",
       "      <td>1, 1 Chron 10</td>\n",
       "      <td>1Chr.10</td>\n",
       "      <td>1Chr.10.1</td>\n",
       "      <td>b</td>\n",
       "      <td>b</td>\n",
       "      <td>HR</td>\n",
       "      <td>בְ/יִשְׂרָאֵ֑ל</td>\n",
       "      <td>b/3478</td>\n",
       "      <td>prefix</td>\n",
       "    </tr>\n",
       "    <tr>\n",
       "      <th>2</th>\n",
       "      <td>2</td>\n",
       "      <td>1, 1 Chron 10</td>\n",
       "      <td>1Chr.10</td>\n",
       "      <td>1Chr.10.1</td>\n",
       "      <td>&lt;Np&gt;</td>\n",
       "      <td>3478</td>\n",
       "      <td>Np</td>\n",
       "      <td>בְ/יִשְׂרָאֵ֑ל</td>\n",
       "      <td>b/3478</td>\n",
       "      <td>main</td>\n",
       "    </tr>\n",
       "    <tr>\n",
       "      <th>...</th>\n",
       "      <td>...</td>\n",
       "      <td>...</td>\n",
       "      <td>...</td>\n",
       "      <td>...</td>\n",
       "      <td>...</td>\n",
       "      <td>...</td>\n",
       "      <td>...</td>\n",
       "      <td>...</td>\n",
       "      <td>...</td>\n",
       "      <td>...</td>\n",
       "    </tr>\n",
       "    <tr>\n",
       "      <th>63349</th>\n",
       "      <td>63349</td>\n",
       "      <td>Prov</td>\n",
       "      <td>Prov.31</td>\n",
       "      <td>Prov.31.31</td>\n",
       "      <td>[Sp3fs]</td>\n",
       "      <td>[Sp3fs]</td>\n",
       "      <td>Sp3fs</td>\n",
       "      <td>וִֽ/יהַלְל֖וּ/הָ</td>\n",
       "      <td>c/1984 b</td>\n",
       "      <td>suffix</td>\n",
       "    </tr>\n",
       "    <tr>\n",
       "      <th>63350</th>\n",
       "      <td>63350</td>\n",
       "      <td>Prov</td>\n",
       "      <td>Prov.31</td>\n",
       "      <td>Prov.31.31</td>\n",
       "      <td>8179</td>\n",
       "      <td>8179</td>\n",
       "      <td>Ncmpa</td>\n",
       "      <td>בַ/שְּׁעָרִ֣ים</td>\n",
       "      <td>b/8179</td>\n",
       "      <td>main</td>\n",
       "    </tr>\n",
       "    <tr>\n",
       "      <th>63350</th>\n",
       "      <td>63350</td>\n",
       "      <td>Prov</td>\n",
       "      <td>Prov.31</td>\n",
       "      <td>Prov.31.31</td>\n",
       "      <td>b</td>\n",
       "      <td>b</td>\n",
       "      <td>HRd</td>\n",
       "      <td>בַ/שְּׁעָרִ֣ים</td>\n",
       "      <td>b/8179</td>\n",
       "      <td>prefix</td>\n",
       "    </tr>\n",
       "    <tr>\n",
       "      <th>63351</th>\n",
       "      <td>63351</td>\n",
       "      <td>Prov</td>\n",
       "      <td>Prov.31</td>\n",
       "      <td>Prov.31.31</td>\n",
       "      <td>4639</td>\n",
       "      <td>4639</td>\n",
       "      <td>HNcmpc</td>\n",
       "      <td>מַעֲשֶֽׂי/הָ</td>\n",
       "      <td>4639</td>\n",
       "      <td>main</td>\n",
       "    </tr>\n",
       "    <tr>\n",
       "      <th>63351</th>\n",
       "      <td>63351</td>\n",
       "      <td>Prov</td>\n",
       "      <td>Prov.31</td>\n",
       "      <td>Prov.31.31</td>\n",
       "      <td>[Sp3fs]</td>\n",
       "      <td>[Sp3fs]</td>\n",
       "      <td>Sp3fs</td>\n",
       "      <td>מַעֲשֶֽׂי/הָ</td>\n",
       "      <td>4639</td>\n",
       "      <td>suffix</td>\n",
       "    </tr>\n",
       "  </tbody>\n",
       "</table>\n",
       "<p>98660 rows × 10 columns</p>\n",
       "</div>"
      ],
      "text/plain": [
       "       token_id         author  chapter       verse  feature feature (org)  \\\n",
       "0             0  1, 1 Chron 10  1Chr.10   1Chr.10.1        c             c   \n",
       "0             0  1, 1 Chron 10  1Chr.10   1Chr.10.1     <Ng>          6430   \n",
       "1             1  1, 1 Chron 10  1Chr.10   1Chr.10.1     3898          3898   \n",
       "2             2  1, 1 Chron 10  1Chr.10   1Chr.10.1        b             b   \n",
       "2             2  1, 1 Chron 10  1Chr.10   1Chr.10.1     <Np>          3478   \n",
       "...         ...            ...      ...         ...      ...           ...   \n",
       "63349     63349           Prov  Prov.31  Prov.31.31  [Sp3fs]       [Sp3fs]   \n",
       "63350     63350           Prov  Prov.31  Prov.31.31     8179          8179   \n",
       "63350     63350           Prov  Prov.31  Prov.31.31        b             b   \n",
       "63351     63351           Prov  Prov.31  Prov.31.31     4639          4639   \n",
       "63351     63351           Prov  Prov.31  Prov.31.31  [Sp3fs]       [Sp3fs]   \n",
       "\n",
       "         morph              term     lemma     POW  \n",
       "0           HC  וּ/פְלִשְׁתִּ֖ים    c/6430  prefix  \n",
       "0        Ngmpa  וּ/פְלִשְׁתִּ֖ים    c/6430    main  \n",
       "1      HVNp3cp        נִלְחֲמ֣וּ      3898    main  \n",
       "2           HR    בְ/יִשְׂרָאֵ֑ל    b/3478  prefix  \n",
       "2           Np    בְ/יִשְׂרָאֵ֑ל    b/3478    main  \n",
       "...        ...               ...       ...     ...  \n",
       "63349    Sp3fs  וִֽ/יהַלְל֖וּ/הָ  c/1984 b  suffix  \n",
       "63350    Ncmpa    בַ/שְּׁעָרִ֣ים    b/8179    main  \n",
       "63350      HRd    בַ/שְּׁעָרִ֣ים    b/8179  prefix  \n",
       "63351   HNcmpc      מַעֲשֶֽׂי/הָ      4639    main  \n",
       "63351    Sp3fs      מַעֲשֶֽׂי/הָ      4639  suffix  \n",
       "\n",
       "[98660 rows x 10 columns]"
      ]
     },
     "execution_count": 4,
     "metadata": {},
     "output_type": "execute_result"
    }
   ],
   "source": [
    "tp = TextProcessing(**params['preprocessing'])\n",
    "tp.proc(data_raw)"
   ]
  },
  {
   "cell_type": "code",
   "execution_count": null,
   "id": "0a913515",
   "metadata": {},
   "outputs": [],
   "source": []
  }
 ],
 "metadata": {
  "kernelspec": {
   "display_name": "Python 3",
   "language": "python",
   "name": "python3"
  },
  "language_info": {
   "codemirror_mode": {
    "name": "ipython",
    "version": 3
   },
   "file_extension": ".py",
   "mimetype": "text/x-python",
   "name": "python",
   "nbconvert_exporter": "python",
   "pygments_lexer": "ipython3",
   "version": "3.8.5"
  }
 },
 "nbformat": 4,
 "nbformat_minor": 5
}
