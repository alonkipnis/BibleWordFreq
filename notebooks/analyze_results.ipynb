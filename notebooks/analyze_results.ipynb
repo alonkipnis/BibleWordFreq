{
 "cells": [
  {
   "cell_type": "markdown",
   "id": "713285a3",
   "metadata": {},
   "source": [
    "# Evaluate False Detections"
   ]
  },
  {
   "cell_type": "code",
   "execution_count": 1,
   "id": "7ad09a90",
   "metadata": {},
   "outputs": [
    {
     "name": "stdout",
     "output_type": "stream",
     "text": [
      "2021-12-07 13:16:55,912 - kedro.io.data_catalog - INFO - Loading data from `probs` (CSVDataSet)...\n",
      "2021-12-07 13:16:55,925 - kedro.io.data_catalog - INFO - Loading data from `chapters_to_report` (CSVDataSet)...\n",
      "2021-12-07 13:16:55,928 - kedro.io.data_catalog - INFO - Loading data from `parameters` (MemoryDataSet)...\n",
      "2021-12-07 13:16:55,934 - numexpr.utils - INFO - NumExpr defaulting to 8 threads.\n",
      "2021-12-07 13:16:55,940 - root - INFO - Reporting on the reduced list of 50 chapters\n"
     ]
    },
    {
     "data": {
      "text/html": [
       "<div>\n",
       "<style scoped>\n",
       "    .dataframe tbody tr th:only-of-type {\n",
       "        vertical-align: middle;\n",
       "    }\n",
       "\n",
       "    .dataframe tbody tr th {\n",
       "        vertical-align: top;\n",
       "    }\n",
       "\n",
       "    .dataframe thead th {\n",
       "        text-align: right;\n",
       "    }\n",
       "</style>\n",
       "<table border=\"1\" class=\"dataframe\">\n",
       "  <thead>\n",
       "    <tr style=\"text-align: right;\">\n",
       "      <th></th>\n",
       "      <th>FNR-t</th>\n",
       "      <th>FNR-rank</th>\n",
       "    </tr>\n",
       "    <tr>\n",
       "      <th>variable</th>\n",
       "      <th></th>\n",
       "      <th></th>\n",
       "    </tr>\n",
       "  </thead>\n",
       "  <tbody>\n",
       "    <tr>\n",
       "      <th>HC</th>\n",
       "      <td>0.02</td>\n",
       "      <td>0.0</td>\n",
       "    </tr>\n",
       "  </tbody>\n",
       "</table>\n",
       "</div>"
      ],
      "text/plain": [
       "          FNR-t  FNR-rank\n",
       "variable                 \n",
       "HC         0.02       0.0"
      ]
     },
     "execution_count": 1,
     "metadata": {},
     "output_type": "execute_result"
    }
   ],
   "source": [
    "from biblical_scripts.pipelines.reporting.nodes import _filter_to_certain_chapters\n",
    "dfm = catalog.load('probs')\n",
    "chapters_to_report = catalog.load('chapters_to_report')\n",
    "\n",
    "params = catalog.load('parameters')['report']\n",
    "\n",
    "if not chapters_to_report.empty:\n",
    "    dfm = _filter_to_certain_chapters(dfm, chapters_to_report)\n",
    "\n",
    "dfm.loc[:, 'sig_t'] = dfm['t_pval'] < params['sig_level']\n",
    "dfm.loc[:, 'sig_rank'] = dfm['rank_pval'] < params['sig_level']\n",
    "\n",
    "dfr = dfm[dfm.author == dfm.corpus]\n",
    "dfr[dfr.author.isin(params['known_authors'])]\\\n",
    ".groupby(['variable'])\\\n",
    ".mean()\\\n",
    ".filter(['sig_t', 'sig_rank'])\\\n",
    ".rename(columns={'sig_t' : 'FNR-t', 'sig_rank' : 'FNR-rank'})"
   ]
  },
  {
   "cell_type": "code",
   "execution_count": 2,
   "id": "eb3eb91c",
   "metadata": {},
   "outputs": [
    {
     "data": {
      "text/html": [
       "<div>\n",
       "<style scoped>\n",
       "    .dataframe tbody tr th:only-of-type {\n",
       "        vertical-align: middle;\n",
       "    }\n",
       "\n",
       "    .dataframe tbody tr th {\n",
       "        vertical-align: top;\n",
       "    }\n",
       "\n",
       "    .dataframe thead th {\n",
       "        text-align: right;\n",
       "    }\n",
       "</style>\n",
       "<table border=\"1\" class=\"dataframe\">\n",
       "  <thead>\n",
       "    <tr style=\"text-align: right;\">\n",
       "      <th></th>\n",
       "      <th>FNR-t</th>\n",
       "      <th>FNR-rank</th>\n",
       "    </tr>\n",
       "    <tr>\n",
       "      <th>variable</th>\n",
       "      <th></th>\n",
       "      <th></th>\n",
       "    </tr>\n",
       "  </thead>\n",
       "  <tbody>\n",
       "    <tr>\n",
       "      <th>HC</th>\n",
       "      <td>0.02</td>\n",
       "      <td>0.0</td>\n",
       "    </tr>\n",
       "  </tbody>\n",
       "</table>\n",
       "</div>"
      ],
      "text/plain": [
       "          FNR-t  FNR-rank\n",
       "variable                 \n",
       "HC         0.02       0.0"
      ]
     },
     "execution_count": 2,
     "metadata": {},
     "output_type": "execute_result"
    }
   ],
   "source": [
    "dfr = dfm[(dfm.author == dfm.corpus)]\n",
    "dfr[dfr.author.isin(params['known_authors'])]\\\n",
    ".groupby(['variable'])\\\n",
    ".mean()\\\n",
    ".filter(['sig_t', 'sig_rank'])\\\n",
    ".rename(columns={'sig_t' : 'FNR-t', 'sig_rank' : 'FNR-rank'})"
   ]
  },
  {
   "cell_type": "code",
   "execution_count": 4,
   "id": "1b46484f",
   "metadata": {},
   "outputs": [
    {
     "data": {
      "text/plain": [
       "0.0"
      ]
     },
     "execution_count": 4,
     "metadata": {},
     "output_type": "execute_result"
    }
   ],
   "source": [
    "dfm[(dfm.author == \"P\") & (dfm.corpus == \"Dtr\")].sig_rank.mean()"
   ]
  },
  {
   "cell_type": "code",
   "execution_count": 7,
   "id": "4e3c3b03",
   "metadata": {},
   "outputs": [
    {
     "data": {
      "text/plain": [
       "12     0.733333\n",
       "13     0.562500\n",
       "14     0.394737\n",
       "15     0.866667\n",
       "16     0.437500\n",
       "         ...   \n",
       "280    0.062500\n",
       "281    0.756757\n",
       "282    0.062500\n",
       "283    0.062500\n",
       "284    0.621622\n",
       "Name: rank_pval, Length: 150, dtype: float64"
      ]
     },
     "execution_count": 7,
     "metadata": {},
     "output_type": "execute_result"
    }
   ],
   "source": [
    "dfm.rank_pval"
   ]
  },
  {
   "cell_type": "code",
   "execution_count": 80,
   "id": "985d0541",
   "metadata": {},
   "outputs": [
    {
     "data": {
      "text/html": [
       "<div>\n",
       "<style scoped>\n",
       "    .dataframe tbody tr th:only-of-type {\n",
       "        vertical-align: middle;\n",
       "    }\n",
       "\n",
       "    .dataframe tbody tr th {\n",
       "        vertical-align: top;\n",
       "    }\n",
       "\n",
       "    .dataframe thead th {\n",
       "        text-align: right;\n",
       "    }\n",
       "</style>\n",
       "<table border=\"1\" class=\"dataframe\">\n",
       "  <thead>\n",
       "    <tr style=\"text-align: right;\">\n",
       "      <th></th>\n",
       "      <th>author</th>\n",
       "      <th>doc_id</th>\n",
       "      <th>len</th>\n",
       "      <th>variable</th>\n",
       "      <th>value</th>\n",
       "      <th>doc_tested</th>\n",
       "      <th>itr</th>\n",
       "      <th>smp_len</th>\n",
       "      <th>kind</th>\n",
       "      <th>len_doc_tested</th>\n",
       "      <th>...</th>\n",
       "      <th>('value', 'mean')</th>\n",
       "      <th>('value', 'std')</th>\n",
       "      <th>('value', 'count')</th>\n",
       "      <th>('value', 'CI05')</th>\n",
       "      <th>('value', 'CI95')</th>\n",
       "      <th>rank_pval</th>\n",
       "      <th>t-score</th>\n",
       "      <th>t_pval</th>\n",
       "      <th>sig_t</th>\n",
       "      <th>sig_rank</th>\n",
       "    </tr>\n",
       "  </thead>\n",
       "  <tbody>\n",
       "    <tr>\n",
       "      <th>12</th>\n",
       "      <td>Dtr</td>\n",
       "      <td>Deut.10 by Dtr</td>\n",
       "      <td>530.0</td>\n",
       "      <td>HC</td>\n",
       "      <td>0.853181</td>\n",
       "      <td>Deut.10 by Dtr</td>\n",
       "      <td>0</td>\n",
       "      <td>530</td>\n",
       "      <td>generic</td>\n",
       "      <td>530</td>\n",
       "      <td>...</td>\n",
       "      <td>1.169424</td>\n",
       "      <td>1.447198</td>\n",
       "      <td>14</td>\n",
       "      <td>-1.379194</td>\n",
       "      <td>2.402472</td>\n",
       "      <td>0.733333</td>\n",
       "      <td>0.074514</td>\n",
       "      <td>0.470868</td>\n",
       "      <td>False</td>\n",
       "      <td>False</td>\n",
       "    </tr>\n",
       "    <tr>\n",
       "      <th>13</th>\n",
       "      <td>Dtr</td>\n",
       "      <td>Deut.10 by Dtr</td>\n",
       "      <td>530.0</td>\n",
       "      <td>HC</td>\n",
       "      <td>1.678682</td>\n",
       "      <td>Deut.10 by Dtr</td>\n",
       "      <td>0</td>\n",
       "      <td>530</td>\n",
       "      <td>generic</td>\n",
       "      <td>530</td>\n",
       "      <td>...</td>\n",
       "      <td>2.102621</td>\n",
       "      <td>0.929893</td>\n",
       "      <td>15</td>\n",
       "      <td>1.032536</td>\n",
       "      <td>3.615467</td>\n",
       "      <td>0.562500</td>\n",
       "      <td>-0.505790</td>\n",
       "      <td>0.689563</td>\n",
       "      <td>False</td>\n",
       "      <td>False</td>\n",
       "    </tr>\n",
       "    <tr>\n",
       "      <th>14</th>\n",
       "      <td>Dtr</td>\n",
       "      <td>Deut.10 by Dtr</td>\n",
       "      <td>530.0</td>\n",
       "      <td>HC</td>\n",
       "      <td>3.619981</td>\n",
       "      <td>Deut.10 by Dtr</td>\n",
       "      <td>0</td>\n",
       "      <td>530</td>\n",
       "      <td>generic</td>\n",
       "      <td>530</td>\n",
       "      <td>...</td>\n",
       "      <td>3.283661</td>\n",
       "      <td>1.156103</td>\n",
       "      <td>37</td>\n",
       "      <td>1.151222</td>\n",
       "      <td>5.054994</td>\n",
       "      <td>0.394737</td>\n",
       "      <td>0.818340</td>\n",
       "      <td>0.209273</td>\n",
       "      <td>False</td>\n",
       "      <td>False</td>\n",
       "    </tr>\n",
       "    <tr>\n",
       "      <th>15</th>\n",
       "      <td>Dtr</td>\n",
       "      <td>Deut.11 by Dtr</td>\n",
       "      <td>837.0</td>\n",
       "      <td>HC</td>\n",
       "      <td>-1.280020</td>\n",
       "      <td>Deut.11 by Dtr</td>\n",
       "      <td>0</td>\n",
       "      <td>837</td>\n",
       "      <td>generic</td>\n",
       "      <td>837</td>\n",
       "      <td>...</td>\n",
       "      <td>1.169424</td>\n",
       "      <td>1.447198</td>\n",
       "      <td>14</td>\n",
       "      <td>-1.379194</td>\n",
       "      <td>2.402472</td>\n",
       "      <td>0.866667</td>\n",
       "      <td>-2.058687</td>\n",
       "      <td>0.969927</td>\n",
       "      <td>False</td>\n",
       "      <td>False</td>\n",
       "    </tr>\n",
       "    <tr>\n",
       "      <th>16</th>\n",
       "      <td>Dtr</td>\n",
       "      <td>Deut.11 by Dtr</td>\n",
       "      <td>837.0</td>\n",
       "      <td>HC</td>\n",
       "      <td>2.239180</td>\n",
       "      <td>Deut.11 by Dtr</td>\n",
       "      <td>0</td>\n",
       "      <td>837</td>\n",
       "      <td>generic</td>\n",
       "      <td>837</td>\n",
       "      <td>...</td>\n",
       "      <td>2.125926</td>\n",
       "      <td>0.987452</td>\n",
       "      <td>15</td>\n",
       "      <td>0.811236</td>\n",
       "      <td>3.602174</td>\n",
       "      <td>0.437500</td>\n",
       "      <td>0.159241</td>\n",
       "      <td>0.437877</td>\n",
       "      <td>False</td>\n",
       "      <td>False</td>\n",
       "    </tr>\n",
       "    <tr>\n",
       "      <th>...</th>\n",
       "      <td>...</td>\n",
       "      <td>...</td>\n",
       "      <td>...</td>\n",
       "      <td>...</td>\n",
       "      <td>...</td>\n",
       "      <td>...</td>\n",
       "      <td>...</td>\n",
       "      <td>...</td>\n",
       "      <td>...</td>\n",
       "      <td>...</td>\n",
       "      <td>...</td>\n",
       "      <td>...</td>\n",
       "      <td>...</td>\n",
       "      <td>...</td>\n",
       "      <td>...</td>\n",
       "      <td>...</td>\n",
       "      <td>...</td>\n",
       "      <td>...</td>\n",
       "      <td>...</td>\n",
       "      <td>...</td>\n",
       "      <td>...</td>\n",
       "    </tr>\n",
       "    <tr>\n",
       "      <th>280</th>\n",
       "      <td>P</td>\n",
       "      <td>Lev.8 by P</td>\n",
       "      <td>902.0</td>\n",
       "      <td>HC</td>\n",
       "      <td>6.331965</td>\n",
       "      <td>Lev.8 by P</td>\n",
       "      <td>0</td>\n",
       "      <td>902</td>\n",
       "      <td>generic</td>\n",
       "      <td>902</td>\n",
       "      <td>...</td>\n",
       "      <td>2.424461</td>\n",
       "      <td>1.433551</td>\n",
       "      <td>15</td>\n",
       "      <td>1.101784</td>\n",
       "      <td>4.895318</td>\n",
       "      <td>0.062500</td>\n",
       "      <td>4.698084</td>\n",
       "      <td>0.000171</td>\n",
       "      <td>True</td>\n",
       "      <td>False</td>\n",
       "    </tr>\n",
       "    <tr>\n",
       "      <th>281</th>\n",
       "      <td>P</td>\n",
       "      <td>Lev.8 by P</td>\n",
       "      <td>902.0</td>\n",
       "      <td>HC</td>\n",
       "      <td>2.534615</td>\n",
       "      <td>Lev.8 by P</td>\n",
       "      <td>0</td>\n",
       "      <td>902</td>\n",
       "      <td>generic</td>\n",
       "      <td>902</td>\n",
       "      <td>...</td>\n",
       "      <td>3.230276</td>\n",
       "      <td>1.188189</td>\n",
       "      <td>36</td>\n",
       "      <td>1.234665</td>\n",
       "      <td>5.051483</td>\n",
       "      <td>0.756757</td>\n",
       "      <td>-0.146015</td>\n",
       "      <td>0.557626</td>\n",
       "      <td>False</td>\n",
       "      <td>False</td>\n",
       "    </tr>\n",
       "    <tr>\n",
       "      <th>282</th>\n",
       "      <td>P</td>\n",
       "      <td>Lev.9 by P</td>\n",
       "      <td>527.0</td>\n",
       "      <td>HC</td>\n",
       "      <td>4.507026</td>\n",
       "      <td>Lev.9 by P</td>\n",
       "      <td>0</td>\n",
       "      <td>527</td>\n",
       "      <td>generic</td>\n",
       "      <td>527</td>\n",
       "      <td>...</td>\n",
       "      <td>1.498208</td>\n",
       "      <td>1.475372</td>\n",
       "      <td>15</td>\n",
       "      <td>-0.940308</td>\n",
       "      <td>3.066739</td>\n",
       "      <td>0.062500</td>\n",
       "      <td>3.525981</td>\n",
       "      <td>0.001679</td>\n",
       "      <td>True</td>\n",
       "      <td>False</td>\n",
       "    </tr>\n",
       "    <tr>\n",
       "      <th>283</th>\n",
       "      <td>P</td>\n",
       "      <td>Lev.9 by P</td>\n",
       "      <td>527.0</td>\n",
       "      <td>HC</td>\n",
       "      <td>4.307213</td>\n",
       "      <td>Lev.9 by P</td>\n",
       "      <td>0</td>\n",
       "      <td>527</td>\n",
       "      <td>generic</td>\n",
       "      <td>527</td>\n",
       "      <td>...</td>\n",
       "      <td>2.277328</td>\n",
       "      <td>1.028208</td>\n",
       "      <td>15</td>\n",
       "      <td>1.244332</td>\n",
       "      <td>3.981234</td>\n",
       "      <td>0.062500</td>\n",
       "      <td>2.167462</td>\n",
       "      <td>0.023965</td>\n",
       "      <td>True</td>\n",
       "      <td>False</td>\n",
       "    </tr>\n",
       "    <tr>\n",
       "      <th>284</th>\n",
       "      <td>P</td>\n",
       "      <td>Lev.9 by P</td>\n",
       "      <td>527.0</td>\n",
       "      <td>HC</td>\n",
       "      <td>2.870423</td>\n",
       "      <td>Lev.9 by P</td>\n",
       "      <td>0</td>\n",
       "      <td>527</td>\n",
       "      <td>generic</td>\n",
       "      <td>527</td>\n",
       "      <td>...</td>\n",
       "      <td>3.230276</td>\n",
       "      <td>1.188189</td>\n",
       "      <td>36</td>\n",
       "      <td>1.234665</td>\n",
       "      <td>5.051483</td>\n",
       "      <td>0.621622</td>\n",
       "      <td>0.189793</td>\n",
       "      <td>0.425284</td>\n",
       "      <td>False</td>\n",
       "      <td>False</td>\n",
       "    </tr>\n",
       "  </tbody>\n",
       "</table>\n",
       "<p>150 rows × 22 columns</p>\n",
       "</div>"
      ],
      "text/plain": [
       "    author          doc_id    len variable     value      doc_tested  itr  \\\n",
       "12     Dtr  Deut.10 by Dtr  530.0       HC  0.853181  Deut.10 by Dtr    0   \n",
       "13     Dtr  Deut.10 by Dtr  530.0       HC  1.678682  Deut.10 by Dtr    0   \n",
       "14     Dtr  Deut.10 by Dtr  530.0       HC  3.619981  Deut.10 by Dtr    0   \n",
       "15     Dtr  Deut.11 by Dtr  837.0       HC -1.280020  Deut.11 by Dtr    0   \n",
       "16     Dtr  Deut.11 by Dtr  837.0       HC  2.239180  Deut.11 by Dtr    0   \n",
       "..     ...             ...    ...      ...       ...             ...  ...   \n",
       "280      P      Lev.8 by P  902.0       HC  6.331965      Lev.8 by P    0   \n",
       "281      P      Lev.8 by P  902.0       HC  2.534615      Lev.8 by P    0   \n",
       "282      P      Lev.9 by P  527.0       HC  4.507026      Lev.9 by P    0   \n",
       "283      P      Lev.9 by P  527.0       HC  4.307213      Lev.9 by P    0   \n",
       "284      P      Lev.9 by P  527.0       HC  2.870423      Lev.9 by P    0   \n",
       "\n",
       "     smp_len     kind  len_doc_tested  ... ('value', 'mean')  \\\n",
       "12       530  generic             530  ...          1.169424   \n",
       "13       530  generic             530  ...          2.102621   \n",
       "14       530  generic             530  ...          3.283661   \n",
       "15       837  generic             837  ...          1.169424   \n",
       "16       837  generic             837  ...          2.125926   \n",
       "..       ...      ...             ...  ...               ...   \n",
       "280      902  generic             902  ...          2.424461   \n",
       "281      902  generic             902  ...          3.230276   \n",
       "282      527  generic             527  ...          1.498208   \n",
       "283      527  generic             527  ...          2.277328   \n",
       "284      527  generic             527  ...          3.230276   \n",
       "\n",
       "     ('value', 'std')  ('value', 'count')  ('value', 'CI05')  \\\n",
       "12           1.447198                  14          -1.379194   \n",
       "13           0.929893                  15           1.032536   \n",
       "14           1.156103                  37           1.151222   \n",
       "15           1.447198                  14          -1.379194   \n",
       "16           0.987452                  15           0.811236   \n",
       "..                ...                 ...                ...   \n",
       "280          1.433551                  15           1.101784   \n",
       "281          1.188189                  36           1.234665   \n",
       "282          1.475372                  15          -0.940308   \n",
       "283          1.028208                  15           1.244332   \n",
       "284          1.188189                  36           1.234665   \n",
       "\n",
       "     ('value', 'CI95')  rank_pval   t-score    t_pval  sig_t  sig_rank  \n",
       "12            2.402472   0.733333  0.074514  0.470868  False     False  \n",
       "13            3.615467   0.562500 -0.505790  0.689563  False     False  \n",
       "14            5.054994   0.394737  0.818340  0.209273  False     False  \n",
       "15            2.402472   0.866667 -2.058687  0.969927  False     False  \n",
       "16            3.602174   0.437500  0.159241  0.437877  False     False  \n",
       "..                 ...        ...       ...       ...    ...       ...  \n",
       "280           4.895318   0.062500  4.698084  0.000171   True     False  \n",
       "281           5.051483   0.756757 -0.146015  0.557626  False     False  \n",
       "282           3.066739   0.062500  3.525981  0.001679   True     False  \n",
       "283           3.981234   0.062500  2.167462  0.023965   True     False  \n",
       "284           5.051483   0.621622  0.189793  0.425284  False     False  \n",
       "\n",
       "[150 rows x 22 columns]"
      ]
     },
     "execution_count": 80,
     "metadata": {},
     "output_type": "execute_result"
    }
   ],
   "source": [
    "dfm"
   ]
  },
  {
   "cell_type": "markdown",
   "id": "476087b1",
   "metadata": {},
   "source": [
    "# Distributed\n",
    "\n",
    "### To Do:\n",
    " - Use cross-val pipeline\n",
    " - Correct sim_full so that doc-corp comparison is based all data (for the case that we apply feature reduction)"
   ]
  },
  {
   "cell_type": "markdown",
   "id": "458184fd",
   "metadata": {},
   "source": [
    "# Text Processing"
   ]
  },
  {
   "cell_type": "code",
   "execution_count": 105,
   "id": "5a1f1e4b",
   "metadata": {},
   "outputs": [
    {
     "name": "stdout",
     "output_type": "stream",
     "text": [
      "2021-04-26 16:19:41,178 - kedro.io.data_catalog - INFO - Loading data from `oshb_parsed` (CSVDataSet)...\n"
     ]
    }
   ],
   "source": [
    "data = ctx.catalog.load('oshb_parsed')"
   ]
  },
  {
   "cell_type": "markdown",
   "id": "71a8c50a",
   "metadata": {},
   "source": [
    "# Accuracy"
   ]
  },
  {
   "cell_type": "code",
   "execution_count": 106,
   "id": "6c3ee4f2",
   "metadata": {},
   "outputs": [
    {
     "name": "stdout",
     "output_type": "stream",
     "text": [
      "2021-04-26 16:19:42,389 - kedro.io.data_catalog - INFO - Loading data from `probs` (CSVDataSet)...\n"
     ]
    }
   ],
   "source": [
    "probs = ctx.catalog.load('probs')\n",
    "probs['author'] = probs.doc_tested.str.extract(r\"by ([a-zA-Z0-9 ]+)\")\n",
    "\n",
    "probs['author'] = probs.doc_tested.str.extract(r\"by ([a-zA-Z0-9 ]+)\")\n"
   ]
  },
  {
   "cell_type": "code",
   "execution_count": 107,
   "id": "38972d8c",
   "metadata": {},
   "outputs": [],
   "source": [
    "df = probs[probs.variable == 'HC'][probs.author.isin(['P', 'Dtr', 'DtrH'])]"
   ]
  },
  {
   "cell_type": "code",
   "execution_count": 109,
   "id": "9b4dc006",
   "metadata": {},
   "outputs": [
    {
     "data": {
      "text/plain": [
       "(0.0, 0.2)"
      ]
     },
     "execution_count": 109,
     "metadata": {},
     "output_type": "execute_result"
    },
    {
     "data": {
      "image/png": "[encoded data removed]",
      "text/plain": [
       "<Figure size 432x288 with 1 Axes>"
      ]
     },
     "metadata": {
      "needs_background": "light"
     },
     "output_type": "display_data"
    }
   ],
   "source": [
    "from matplotlib import pyplot as plt\n",
    "plt.scatter(df['prob'], df['t-test'])\n",
    "plt.xlim((0,.2))\n",
    "plt.ylim((0,.2))"
   ]
  },
  {
   "cell_type": "code",
   "execution_count": 104,
   "id": "004d6f1b",
   "metadata": {},
   "outputs": [
    {
     "ename": "NameError",
     "evalue": "name 'sim_res' is not defined",
     "output_type": "error",
     "traceback": [
      "\u001b[0;31m---------------------------------------------------------------------------\u001b[0m",
      "\u001b[0;31mNameError\u001b[0m                                 Traceback (most recent call last)",
      "\u001b[0;32m<ipython-input-104-a311892d4d1f>\u001b[0m in \u001b[0;36m<module>\u001b[0;34m\u001b[0m\n\u001b[0;32m----> 1\u001b[0;31m \u001b[0mdf\u001b[0m \u001b[0;34m=\u001b[0m \u001b[0msim_res\u001b[0m\u001b[0;34m.\u001b[0m\u001b[0mcopy\u001b[0m\u001b[0;34m(\u001b[0m\u001b[0;34m)\u001b[0m\u001b[0;34m.\u001b[0m\u001b[0mrename\u001b[0m\u001b[0;34m(\u001b[0m\u001b[0mcolumns\u001b[0m\u001b[0;34m=\u001b[0m\u001b[0;34m{\u001b[0m\u001b[0;34m'true_author'\u001b[0m \u001b[0;34m:\u001b[0m \u001b[0;34m'author'\u001b[0m\u001b[0;34m}\u001b[0m\u001b[0;34m)\u001b[0m\u001b[0;34m\u001b[0m\u001b[0;34m\u001b[0m\u001b[0m\n\u001b[0m\u001b[1;32m      2\u001b[0m \u001b[0mdf\u001b[0m\u001b[0;34m[\u001b[0m\u001b[0;34m'corpus'\u001b[0m\u001b[0;34m]\u001b[0m \u001b[0;34m=\u001b[0m \u001b[0msim_res\u001b[0m\u001b[0;34m[\u001b[0m\u001b[0;34m'variable'\u001b[0m\u001b[0;34m]\u001b[0m\u001b[0;34m.\u001b[0m\u001b[0mstr\u001b[0m\u001b[0;34m.\u001b[0m\u001b[0mextract\u001b[0m\u001b[0;34m(\u001b[0m\u001b[0;34mr'([^:]+):'\u001b[0m\u001b[0;34m)\u001b[0m\u001b[0;34m\u001b[0m\u001b[0;34m\u001b[0m\u001b[0m\n\u001b[1;32m      3\u001b[0m \u001b[0;34m\u001b[0m\u001b[0m\n\u001b[1;32m      4\u001b[0m \u001b[0;34m\u001b[0m\u001b[0m\n\u001b[1;32m      5\u001b[0m \u001b[0mres_tbl\u001b[0m \u001b[0;34m=\u001b[0m \u001b[0mdf\u001b[0m\u001b[0;34m.\u001b[0m\u001b[0mpivot\u001b[0m\u001b[0;34m(\u001b[0m\u001b[0;34m'corpus'\u001b[0m\u001b[0;34m,\u001b[0m\u001b[0;34m'doc'\u001b[0m\u001b[0;34m,\u001b[0m\u001b[0;34m'value'\u001b[0m\u001b[0;34m)\u001b[0m\u001b[0;34m\u001b[0m\u001b[0;34m\u001b[0m\u001b[0m\n",
      "\u001b[0;31mNameError\u001b[0m: name 'sim_res' is not defined"
     ]
    }
   ],
   "source": [
    "df = sim_res.copy().rename(columns={'true_author' : 'author'})\n",
    "df['corpus'] = sim_res['variable'].str.extract(r'([^:]+):')\n",
    "\n",
    "\n",
    "res_tbl = df.pivot('corpus','doc','value')\n",
    "lo_corpora = df.corpus.unique().tolist()\n",
    "cmin = res_tbl.idxmin().rename('min_corpus')\n",
    "res_tbl = res_tbl.append(cmin)\n",
    "res_tbl.loc['author', :] = [r[1] for r in res_tbl.columns.str.split(' by ')]\n",
    "res_tbl.loc['succ', :] = res_tbl.loc['min_corpus',:] == res_tbl.loc['author',:]\n",
    "\n",
    "res_tbl['mean'] = rp.loc[lo_corpora + ['succ'],:].mean(1)\n",
    "res_tbl"
   ]
  },
  {
   "cell_type": "code",
   "execution_count": null,
   "id": "2e6246d9",
   "metadata": {},
   "outputs": [],
   "source": []
  },
  {
   "cell_type": "markdown",
   "id": "d1f7590e",
   "metadata": {},
   "source": [
    "# Conversion"
   ]
  },
  {
   "cell_type": "code",
   "execution_count": 110,
   "id": "0bc86c4f",
   "metadata": {},
   "outputs": [
    {
     "name": "stdout",
     "output_type": "stream",
     "text": [
      "2021-04-26 16:21:25,783 - kedro.io.data_catalog - INFO - Loading data from `oshb_parsed` (CSVDataSet)...\n"
     ]
    }
   ],
   "source": [
    "data = ctx.catalog.load('oshb_parsed')\n",
    "from biblical_scripts.extras.Convert import Convert\n",
    "convert = Convert(data)"
   ]
  },
  {
   "cell_type": "code",
   "execution_count": 111,
   "id": "6d4ede7f",
   "metadata": {},
   "outputs": [
    {
     "data": {
      "text/plain": [
       "'s'"
      ]
     },
     "execution_count": 111,
     "metadata": {},
     "output_type": "execute_result"
    }
   ],
   "source": [
    "convert.to_term('s')"
   ]
  },
  {
   "cell_type": "code",
   "execution_count": 113,
   "id": "4f6d9f93",
   "metadata": {},
   "outputs": [
    {
     "name": "stderr",
     "output_type": "stream",
     "text": [
      "/usr/local/lib/python3.8/site-packages/ipykernel/ipkernel.py:283: DeprecationWarning: `should_run_async` will not call `transform_cell` automatically in the future. Please pass the result to `transformed_cell` argument and any exception that happen during thetransform in `preprocessing_exc_tuple` in IPython 7.17 and above.\n"
     ]
    },
    {
     "data": {
      "text/html": [
       "<div>\n",
       "<style scoped>\n",
       "    .dataframe tbody tr th:only-of-type {\n",
       "        vertical-align: middle;\n",
       "    }\n",
       "\n",
       "    .dataframe tbody tr th {\n",
       "        vertical-align: top;\n",
       "    }\n",
       "\n",
       "    .dataframe thead th {\n",
       "        text-align: right;\n",
       "    }\n",
       "</style>\n",
       "<table border=\"1\" class=\"dataframe\">\n",
       "  <thead>\n",
       "    <tr style=\"text-align: right;\">\n",
       "      <th></th>\n",
       "      <th>chapter</th>\n",
       "      <th>lemma</th>\n",
       "      <th>morph</th>\n",
       "      <th>term</th>\n",
       "      <th>verse</th>\n",
       "      <th>author</th>\n",
       "    </tr>\n",
       "  </thead>\n",
       "  <tbody>\n",
       "    <tr>\n",
       "      <th>22089</th>\n",
       "      <td>1Chr.27</td>\n",
       "      <td>s/b/3754</td>\n",
       "      <td>HTr/Rd/Ncbpa</td>\n",
       "      <td>שֶׁ/בַּ/כְּרָמִים֙</td>\n",
       "      <td>1Chr.27.27</td>\n",
       "      <td>Chr1</td>\n",
       "    </tr>\n",
       "    <tr>\n",
       "      <th>37851</th>\n",
       "      <td>Judg.6</td>\n",
       "      <td>s/859 a</td>\n",
       "      <td>HTr/Pp2ms</td>\n",
       "      <td>שָׁ/אַתָּ֖ה</td>\n",
       "      <td>Judg.6.17</td>\n",
       "      <td>DtrH</td>\n",
       "    </tr>\n",
       "  </tbody>\n",
       "</table>\n",
       "</div>"
      ],
      "text/plain": [
       "       chapter     lemma         morph                term       verse author\n",
       "22089  1Chr.27  s/b/3754  HTr/Rd/Ncbpa  שֶׁ/בַּ/כְּרָמִים֙  1Chr.27.27   Chr1\n",
       "37851   Judg.6   s/859 a     HTr/Pp2ms         שָׁ/אַתָּ֖ה   Judg.6.17   DtrH"
      ]
     },
     "execution_count": 113,
     "metadata": {},
     "output_type": "execute_result"
    }
   ],
   "source": [
    "data[data.lemma.str.contains(\"s/\")]"
   ]
  },
  {
   "cell_type": "code",
   "execution_count": 939,
   "id": "954818be",
   "metadata": {},
   "outputs": [],
   "source": [
    "vocab = pd.read_csv(\"/Users/kipnisal/DS/BiblicalScripts/bib-scripts/data/05_model_input/vocabulary.csv\")"
   ]
  },
  {
   "cell_type": "code",
   "execution_count": 1025,
   "id": "de5a1a66",
   "metadata": {},
   "outputs": [],
   "source": [
    "from sklearn.model_selection import KFold"
   ]
  },
  {
   "cell_type": "code",
   "execution_count": 961,
   "id": "833514f0",
   "metadata": {},
   "outputs": [
    {
     "data": {
      "text/plain": [
       "\"('c', '<Np>')\""
      ]
     },
     "execution_count": 961,
     "metadata": {},
     "output_type": "execute_result"
    }
   ],
   "source": [
    "vocab.loc[1,'feature']"
   ]
  },
  {
   "cell_type": "markdown",
   "id": "414553d2",
   "metadata": {},
   "source": [
    "# Sim full  "
   ]
  },
  {
   "cell_type": "code",
   "execution_count": 127,
   "id": "9fd5494f",
   "metadata": {},
   "outputs": [],
   "source": [
    "sim_full_res_large = pd.read_csv(project_dir + \"/data/07_sim_output/sim_full_res_large.csv\")"
   ]
  },
  {
   "cell_type": "code",
   "execution_count": 524,
   "id": "17643b5e",
   "metadata": {},
   "outputs": [
    {
     "name": "stdout",
     "output_type": "stream",
     "text": [
      "2021-04-19 13:07:24,380 - kedro.io.data_catalog - INFO - Loading data from `sim_full_res` (CSVDataSet)...\n",
      "len res =  6342\n"
     ]
    }
   ],
   "source": [
    "sim_full_res = cnx.catalog.load(\"sim_full_res\")\n",
    "print(\"len res = \",len(sim_full_res))"
   ]
  },
  {
   "cell_type": "markdown",
   "id": "27a063ef",
   "metadata": {},
   "source": [
    "## Results:"
   ]
  },
  {
   "cell_type": "code",
   "execution_count": 511,
   "id": "f1c86663",
   "metadata": {},
   "outputs": [],
   "source": [
    "import plotnine\n",
    "plotnine.options.figure_size = (10, 6)\n",
    "from plotnine import *\n",
    "logging.basicConfig(level=logging.INFO)"
   ]
  },
  {
   "cell_type": "code",
   "execution_count": 512,
   "id": "233f690b",
   "metadata": {},
   "outputs": [],
   "source": [
    "from biblical_scripts.pipelines.report.nodes import (_prepare_res, report_table_full,\n",
    "                                                     report_sim)\n"
   ]
  },
  {
   "cell_type": "code",
   "execution_count": 649,
   "id": "9d0c74d4",
   "metadata": {},
   "outputs": [],
   "source": [
    "def _arrange_metadata(df, value) :\n",
    "    \"\"\"\n",
    "    adds 'corpus' and 'author' column to evaluation results\n",
    "    \"\"\"\n",
    "    \n",
    "    df = df[df.variable.str.contains(value)]\n",
    "    df.loc[:,'corpus'] = sim_full_res.variable.str.extract(rf\"(^[A-Za-z0-9 ]+)(-ext)?:([A-Za-z]+)\")[0]\n",
    "    df.loc[:,'author'] = df.doc_tested.str.extract(r\"by (.+)\")[0]\n",
    "    return df\n"
   ]
  },
  {
   "cell_type": "code",
   "execution_count": 657,
   "id": "62981b96",
   "metadata": {},
   "outputs": [],
   "source": [
    "def _comp_probs(sim_full_res : pd.DataFrame, by) -> pd.DataFrame :\n",
    "    \"\"\"\n",
    "    mean, std and CI's over many iterations.\n",
    "    \"\"\"\n",
    "    \n",
    "    df.loc[:,'rank'] = np.floor(df.groupby(by)['value'].transform('rank'))\n",
    "\n",
    "    df0 = df[df.kind == 'org']\n",
    "    df1 = df[df.kind != 'org']\n",
    "\n",
    "    #df1['corpus'] = df1['corpus'].str.extract(r'([A-Za-z0-9 ]+)-ext')[0]\n",
    "    grp = df1.groupby(by)\n",
    "    res = grp.agg({value : ['mean', 'std', 'count', \n",
    "                               lambda x : pd.Series.quantile(x, q=.05),\n",
    "                               lambda x : pd.Series.quantile(x, q=.95)\n",
    "                              ]}, as_index=False).reset_index()\\\n",
    "        .rename(columns = {'<lambda_0>' : 'CI05', '<lambda_1>' : 'CI95'})\n",
    "\n",
    "    dfm = df0.merge(res[['doc_tested', 'corpus', 'value']],\n",
    "                      on=['doc_tested', 'corpus'], how='right')\n",
    "\n",
    "    mu = dfm[(value, 'mean')]\n",
    "    std = dfm[(value ,'std')]\n",
    "    n = dfm[(value, 'count')]\n",
    "\n",
    "    dfm.loc[:,'prob'] = 1 - (np.floor(dfm['rank'])-1) / n\n",
    "    dfm.loc[:,'t-score'] = np.abs(dfm[value] - mu) / (std * np.sqrt(n/(n-1)))\n",
    "    dfm.loc[:,'t-test'] = scipy.stats.t.sf(dfm['t-score'], df=n-1)\n",
    "    return dfm\n",
    "\n",
    "def comp_probs(sim_full_res, params_report) :\n",
    "    df = _arrange_metadata(sim_full_res, value=params_report['value'])\n",
    "    dfm = _comp_probs(df, by = ['author', 'doc_tested', 'corpus'])\n",
    "    return dfm\n",
    "    \n",
    "def report_probs(dfm)\n",
    "    return dfm.pivot('corpus', 'doc_tested', ['value', 'prob', 't-test', 'rank', 't-score'])"
   ]
  },
  {
   "cell_type": "code",
   "execution_count": 671,
   "id": "dfc02787",
   "metadata": {},
   "outputs": [
    {
     "name": "stderr",
     "output_type": "stream",
     "text": [
      "/usr/local/lib/python3.8/site-packages/pandas/core/reshape/merge.py:648: UserWarning: merging between different levels can give an unintended result (1 levels on the left,2 on the right)\n",
      "/usr/local/lib/python3.8/site-packages/pandas/core/generic.py:4152: PerformanceWarning: dropping on a non-lexsorted multi-index without a level parameter may impact performance.\n"
     ]
    }
   ],
   "source": [
    "res = comp_probs(sim_full_res, params_report = params['report'])\n",
    "res.to_csv('temp.csv')"
   ]
  },
  {
   "cell_type": "code",
   "execution_count": 656,
   "id": "92c3dbc1",
   "metadata": {},
   "outputs": [
    {
     "data": {
      "image/png": "[encoded data removed]",
      "text/plain": [
       "<Figure size 432x288 with 1 Axes>"
      ]
     },
     "metadata": {
      "needs_background": "light"
     },
     "output_type": "display_data"
    }
   ],
   "source": [
    "plt.scatter(dfm['t-score'], dfm['prob'])\n",
    "plt.scatter(dfm['t-score'], dfm['t-test'])\n",
    "plt.show()"
   ]
  },
  {
   "cell_type": "code",
   "execution_count": 1537,
   "id": "1e81091b",
   "metadata": {},
   "outputs": [
    {
     "name": "stderr",
     "output_type": "stream",
     "text": [
      "/usr/local/lib/python3.8/site-packages/plotnine/utils.py:1246: FutureWarning: is_categorical is deprecated and will be removed in a future version.  Use is_categorical_dtype instead\n",
      "/usr/local/lib/python3.8/site-packages/plotnine/utils.py:1246: FutureWarning: is_categorical is deprecated and will be removed in a future version.  Use is_categorical_dtype instead\n",
      "/usr/local/lib/python3.8/site-packages/plotnine/utils.py:1246: FutureWarning: is_categorical is deprecated and will be removed in a future version.  Use is_categorical_dtype instead\n",
      "/usr/local/lib/python3.8/site-packages/plotnine/guides/guide_legend.py:302: DeprecationWarning: `np.float` is a deprecated alias for the builtin `float`. To silence this warning, use `float` by itself. Doing this will not modify any behavior and is safe. If you specifically wanted the numpy scalar type, use `np.float64` here.\n",
      "Deprecated in NumPy 1.20; for more details and guidance: https://numpy.org/devdocs/release/1.20.0-notes.html#deprecations\n",
      "/usr/local/lib/python3.8/site-packages/plotnine/guides/guide_legend.py:302: DeprecationWarning: `np.float` is a deprecated alias for the builtin `float`. To silence this warning, use `float` by itself. Doing this will not modify any behavior and is safe. If you specifically wanted the numpy scalar type, use `np.float64` here.\n",
      "Deprecated in NumPy 1.20; for more details and guidance: https://numpy.org/devdocs/release/1.20.0-notes.html#deprecations\n",
      "/usr/local/lib/python3.8/site-packages/plotnine/guides/guide_legend.py:302: DeprecationWarning: `np.float` is a deprecated alias for the builtin `float`. To silence this warning, use `float` by itself. Doing this will not modify any behavior and is safe. If you specifically wanted the numpy scalar type, use `np.float64` here.\n",
      "Deprecated in NumPy 1.20; for more details and guidance: https://numpy.org/devdocs/release/1.20.0-notes.html#deprecations\n"
     ]
    },
    {
     "data": {
      "image/png": "[encoded data removed]",
      "text/plain": [
       "<Figure size 1000x600 with 1 Axes>"
      ]
     },
     "metadata": {},
     "output_type": "display_data"
    },
    {
     "name": "stdout",
     "output_type": "stream",
     "text": [
      "<ggplot: (343879762)>\n"
     ]
    }
   ],
   "source": [
    "p = (ggplot(aes(x='value', fill = 'corpus', y='..density..',\n",
    "            color='corpus', label='corpus'), data = res1_null)\n",
    "         + geom_histogram(alpha=0.3,position='dodge', binwidth=.01) \n",
    "         #+ geom_density(alpha = 0.5)\n",
    "         + geom_vline(aes(xintercept='value', color='corpus'),\n",
    "                      data=res1_doc, size=2, linetype='dashed')\n",
    "         + geom_label(data=res1_doc,\n",
    "                          mapping=aes(x='value', y=0.5, label='prob', fill='corpus'),\n",
    "                          position=position_jitter(),\n",
    "                          size=10, colour = \"black\")\n",
    "         + ggtitle('{}'.format(doc_nm)) )\n",
    "\n",
    "#p.save('./Figs/simulated_null_{}_NG{}_temp.png'.format(auth,NG_RANGE))\n",
    "print(p)\n"
   ]
  },
  {
   "cell_type": "markdown",
   "id": "1b32874b",
   "metadata": {},
   "source": [
    "# Models"
   ]
  },
  {
   "cell_type": "code",
   "execution_count": 1092,
   "id": "b6451834",
   "metadata": {},
   "outputs": [],
   "source": [
    "data_proc = pd.read_csv(path + '/' + 'data/04_feature/data_proc.csv')"
   ]
  },
  {
   "cell_type": "code",
   "execution_count": 880,
   "id": "78ecc849",
   "metadata": {},
   "outputs": [
    {
     "name": "stderr",
     "output_type": "stream",
     "text": [
      "INFO:root:Constructed vocabulary with 960 features\n"
     ]
    }
   ],
   "source": [
    "import pandas as pd\n",
    "import numpy as np\n",
    "import logging\n",
    "%reload_ext autoreload\n",
    "from biblical_scripts.pipelines.data_science.AuthorshipAttribution.AuthAttLib import AuthorshipAttributionDTM\n",
    "from biblical_scripts.pipelines.data_science.AuthorshipAttribution.MultiDoc import CompareDocs\n",
    "from biblical_scripts.pipelines.data_science.nodes import (build_vocab, compute_sim)\n",
    "#%load_ext autoreload\n",
    "#%autoreload 2\n",
    "\n",
    "data_raw = pd.read_csv(path + '/' + 'data/02_intermediate/oshd_parsed.csv')\n",
    "data_proc = pd.read_csv(path + '/' + 'data/04_feature/data_proc.csv')\n",
    "#vocab = pd.read_csv(path + '/' + 'data/05_model_input/vocabulary.csv')\n",
    "vocab = build_vocab(data_proc, parameters['vocab'], parameters['known_authors'])"
   ]
  },
  {
   "cell_type": "code",
   "execution_count": 878,
   "id": "924dd662",
   "metadata": {},
   "outputs": [],
   "source": [
    "def compute_sim(data, vocabulary, params, known_authors) :\n",
    "    ds = data.rename(columns = {'feature' : 'term', 'chapter' : 'doc_id'}).dropna()\n",
    "    model = AuthorshipAttributionDTM(ds, params, vocab=listb(vocabulary.feature.values))\n",
    "    return model.compute_inter_similarity(LOO = True, wrt_authors=known_authors)"
   ]
  },
  {
   "cell_type": "code",
   "execution_count": null,
   "id": "411187aa",
   "metadata": {},
   "outputs": [],
   "source": [
    "params = {}; [params.update(p) for p in parameters['model']]\n",
    "\n",
    "md = CompareDocs(vocabulary=vocab.feature.tolist())\n",
    "#ds=data_proc[['author', 'feature', 'token_id']].groupby(['author', 'feature']).count().reset_index()\n",
    "ds=data_proc[['author', 'feature', 'token_id', 'chapter']]\n",
    "ds=ds.rename(columns = {'chapter' : 'doc_id'})\n",
    "ds['doc_id'] += ' by '\n",
    "ds['doc_id'] += ds['author'] #sometimes there are multiple authors per chapter\n",
    "    \n",
    "known_authors = parameters['known_authors']\n",
    "train_data = {}\n",
    "for auth in known_authors :\n",
    "    train_data[auth] = ds[ds.author==auth]\n",
    "\n",
    "md.fit(train_data)\n",
    "df_res1 = pd.DataFrame()\n",
    "for doc_id in ds.doc_id.unique() :\n",
    "    tested_doc = ds[ds.doc_id==doc_id]\n",
    "    auth = tested_doc.author.values[0]\n",
    "    df_rec = md.test_doc(tested_doc, of_cls = auth)\n",
    "    r = df_rec.iloc[:,df_rec.columns.str.contains(r'HC|Fisher|chisq')].mean()\n",
    "    r['doc_id'] = doc_id\n",
    "    r['author'] = auth\n",
    "    r['len'] = len(tested_doc)\n",
    "    df_res1 = df_res1.append(r, ignore_index=True)"
   ]
  },
  {
   "cell_type": "code",
   "execution_count": 932,
   "id": "d8884903",
   "metadata": {},
   "outputs": [],
   "source": [
    "df = df_res1.melt(['author', 'doc_id', 'len'])\n",
    "\n",
    "def _eval_succ(df) :\n",
    "    df['wrt_author'] = df['variable'].str.extract(r'([^:]+):')\n",
    "    idx_min = df.groupby(['doc_id', 'author'])['value'].idxmin()\n",
    "    res_min = df.loc[idx_min, :].rename(columns={'wrt_author' : 'most_sim'})\n",
    "    res_min.loc[:, 'succ'] = res_min.author == res_min.most_sim\n",
    "    return res_min\n",
    "\n",
    "value = report_params['value']\n",
    "df1 = df[df['variable'].str.contains(f\":{value}\")]\n",
    "df1 = df1[df1.author.isin(known_authors)].reset_index()\n",
    "\n",
    "res = _eval_succ(df1)\n",
    "res['acc'] = res.succ.mean()\n",
    "res['param'] = str(parameters)"
   ]
  },
  {
   "cell_type": "code",
   "execution_count": 935,
   "id": "3915c3fa",
   "metadata": {},
   "outputs": [
    {
     "data": {
      "text/html": [
       "<div>\n",
       "<style scoped>\n",
       "    .dataframe tbody tr th:only-of-type {\n",
       "        vertical-align: middle;\n",
       "    }\n",
       "\n",
       "    .dataframe tbody tr th {\n",
       "        vertical-align: top;\n",
       "    }\n",
       "\n",
       "    .dataframe thead th {\n",
       "        text-align: right;\n",
       "    }\n",
       "</style>\n",
       "<table border=\"1\" class=\"dataframe\">\n",
       "  <thead>\n",
       "    <tr style=\"text-align: right;\">\n",
       "      <th></th>\n",
       "      <th>feature</th>\n",
       "    </tr>\n",
       "  </thead>\n",
       "  <tbody>\n",
       "    <tr>\n",
       "      <th>0</th>\n",
       "      <td>103</td>\n",
       "    </tr>\n",
       "    <tr>\n",
       "      <th>1</th>\n",
       "      <td>1086</td>\n",
       "    </tr>\n",
       "    <tr>\n",
       "      <th>2</th>\n",
       "      <td>1104</td>\n",
       "    </tr>\n",
       "    <tr>\n",
       "      <th>3</th>\n",
       "      <td>1115</td>\n",
       "    </tr>\n",
       "    <tr>\n",
       "      <th>4</th>\n",
       "      <td>1129</td>\n",
       "    </tr>\n",
       "    <tr>\n",
       "      <th>...</th>\n",
       "      <td>...</td>\n",
       "    </tr>\n",
       "    <tr>\n",
       "      <th>636</th>\n",
       "      <td>8484</td>\n",
       "    </tr>\n",
       "    <tr>\n",
       "      <th>637</th>\n",
       "      <td>8519</td>\n",
       "    </tr>\n",
       "    <tr>\n",
       "      <th>638</th>\n",
       "      <td>8535</td>\n",
       "    </tr>\n",
       "    <tr>\n",
       "      <th>639</th>\n",
       "      <td>887</td>\n",
       "    </tr>\n",
       "    <tr>\n",
       "      <th>640</th>\n",
       "      <td>943</td>\n",
       "    </tr>\n",
       "  </tbody>\n",
       "</table>\n",
       "<p>632 rows × 1 columns</p>\n",
       "</div>"
      ],
      "text/plain": [
       "    feature\n",
       "0       103\n",
       "1      1086\n",
       "2      1104\n",
       "3      1115\n",
       "4      1129\n",
       "..      ...\n",
       "636    8484\n",
       "637    8519\n",
       "638    8535\n",
       "639     887\n",
       "640     943\n",
       "\n",
       "[632 rows x 1 columns]"
      ]
     },
     "execution_count": 935,
     "metadata": {},
     "output_type": "execute_result"
    }
   ],
   "source": [
    "ds = pd.read_csv(\"../data/05_model_input/vocabulary.csv\")\n",
    "ds[~ds.feature.str.contains(r\"\\[[a-zA-Z0-9]+\\]\")]"
   ]
  },
  {
   "cell_type": "code",
   "execution_count": 876,
   "id": "3e2ce724",
   "metadata": {},
   "outputs": [
    {
     "data": {
      "text/plain": [
       "array(['21, 2 Kings 23 :21-30', 'DtrH'], dtype=object)"
      ]
     },
     "execution_count": 876,
     "metadata": {},
     "output_type": "execute_result"
    }
   ],
   "source": [
    "data_raw[data_raw.chapter == '2Kgs.23']"
   ]
  }
 ],
 "metadata": {
  "kernelspec": {
   "display_name": "BiblicalScripts",
   "language": "python",
   "name": "python3"
  },
  "language_info": {
   "codemirror_mode": {
    "name": "ipython",
    "version": 3
   },
   "file_extension": ".py",
   "mimetype": "text/x-python",
   "name": "python",
   "nbconvert_exporter": "python",
   "pygments_lexer": "ipython3",
   "version": "3.8.5"
  }
 },
 "nbformat": 4,
 "nbformat_minor": 5
}
