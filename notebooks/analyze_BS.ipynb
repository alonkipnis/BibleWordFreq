{
 "cells": [
  {
   "cell_type": "markdown",
   "id": "76ad68da",
   "metadata": {},
   "source": [
    "### Load Context"
   ]
  },
  {
   "cell_type": "code",
   "execution_count": 3,
   "id": "38506e16",
   "metadata": {},
   "outputs": [],
   "source": [
    "import os\n",
    "import sys\n",
    "import pandas as pd\n",
    "import numpy as np\n",
    "from matplotlib import pyplot as plt\n",
    "import glob"
   ]
  },
  {
   "cell_type": "markdown",
   "id": "aea41416",
   "metadata": {},
   "source": [
    "## Sim Full BS"
   ]
  },
  {
   "cell_type": "code",
   "execution_count": 30,
   "id": "e38a74ef",
   "metadata": {},
   "outputs": [],
   "source": [
    "path = \"../data/07_sim_output/sim_full_res_BS.csv/\"\n",
    "lo_files = glob.glob(path + \"*/sim_full_res_BS.csv\", recursive=True)\n",
    "\n",
    "df = pd.DataFrame()\n",
    "for fn in lo_files:\n",
    "    df = df.append(pd.read_csv(fn), ignore_index=True)"
   ]
  },
  {
   "cell_type": "code",
   "execution_count": 32,
   "id": "453b24c6",
   "metadata": {},
   "outputs": [
    {
     "data": {
      "text/html": [
       "<div>\n",
       "<style scoped>\n",
       "    .dataframe tbody tr th:only-of-type {\n",
       "        vertical-align: middle;\n",
       "    }\n",
       "\n",
       "    .dataframe tbody tr th {\n",
       "        vertical-align: top;\n",
       "    }\n",
       "\n",
       "    .dataframe thead th {\n",
       "        text-align: right;\n",
       "    }\n",
       "</style>\n",
       "<table border=\"1\" class=\"dataframe\">\n",
       "  <thead>\n",
       "    <tr style=\"text-align: right;\">\n",
       "      <th></th>\n",
       "      <th>acc_value</th>\n",
       "      <th>acc_test</th>\n",
       "      <th>FNR</th>\n",
       "    </tr>\n",
       "  </thead>\n",
       "  <tbody>\n",
       "    <tr>\n",
       "      <th>mean</th>\n",
       "      <td>0.75700</td>\n",
       "      <td>0.814600</td>\n",
       "      <td>0.013000</td>\n",
       "    </tr>\n",
       "    <tr>\n",
       "      <th>std</th>\n",
       "      <td>0.03509</td>\n",
       "      <td>0.040587</td>\n",
       "      <td>0.012513</td>\n",
       "    </tr>\n",
       "    <tr>\n",
       "      <th>count</th>\n",
       "      <td>100.00000</td>\n",
       "      <td>100.000000</td>\n",
       "      <td>100.000000</td>\n",
       "    </tr>\n",
       "  </tbody>\n",
       "</table>\n",
       "</div>"
      ],
      "text/plain": [
       "       acc_value    acc_test         FNR\n",
       "mean     0.75700    0.814600    0.013000\n",
       "std      0.03509    0.040587    0.012513\n",
       "count  100.00000  100.000000  100.000000"
      ]
     },
     "execution_count": 32,
     "metadata": {},
     "output_type": "execute_result"
    }
   ],
   "source": [
    "df.agg(['mean', 'std', 'count']).drop('itr_BS', axis=1)"
   ]
  },
  {
   "cell_type": "markdown",
   "id": "f53e6f8b",
   "metadata": {},
   "source": [
    "57   DtrH|Deut.11    Dtr  0.243259\n",
    "168  DtrH|Josh.23    Dtr  0.010641\n",
    "172   Dtr|Deut.15   DtrH  0.799861\n",
    "1     Dtr|Deut.18   DtrH  0.450364\n",
    "133   Dtr|Deut.19   DtrH  0.378044\n",
    "61      P|Exod.16   DtrH  0.871127\n",
    "94       P|Exod.6   DtrH  0.397122\n",
    "142      P|Gen.17   DtrH  0.529305\n",
    "\n",
    "\n",
    "Misclassified with t_test:\n",
    "           doc_id corpus    t_test\n",
    "81    DtrH|1Kgs.8    Dtr  1.848974\n",
    "90   DtrH|Deut.11    Dtr  0.018318\n",
    "176  DtrH|Josh.12      P  0.173194\n",
    "69    DtrH|Judg.6    Dtr  0.849376\n",
    "160   Dtr|Deut.16   DtrH  0.542987\n",
    "40    Dtr|Deut.28   DtrH  1.622331\n",
    "30      P|Exod.16    Dtr  1.384730\n",
    "79       P|Exod.6   DtrH  0.292850\n",
    "157       P|Lev.2   DtrH  0.001914\n",
    "\n",
    "Misclassified with t_test:\n",
    "           doc_id corpus    t_test\n",
    "90   DtrH|Deut.11    Dtr  0.252438\n",
    "177   DtrH|Deut.8    Dtr  0.345648\n",
    "129  DtrH|Josh.23    Dtr  0.044067\n",
    "16    Dtr|Deut.12   DtrH  1.838722\n",
    "169   Dtr|Deut.13   DtrH  0.074671\n",
    "100   Dtr|Deut.16   DtrH  0.249995\n",
    "76    Dtr|Deut.18   DtrH  0.074824\n",
    "145   Dtr|Deut.19   DtrH  0.211408\n",
    "97      P|Exod.16   DtrH  0.699950\n",
    "157      P|Exod.6   DtrH  0.136798\n",
    "151      P|Gen.17   DtrH  0.820654"
   ]
  }
 ],
 "metadata": {
  "kernelspec": {
   "display_name": "Python 3",
   "language": "python",
   "name": "python3"
  },
  "language_info": {
   "codemirror_mode": {
    "name": "ipython",
    "version": 3
   },
   "file_extension": ".py",
   "mimetype": "text/x-python",
   "name": "python",
   "nbconvert_exporter": "python",
   "pygments_lexer": "ipython3",
   "version": "3.8.5"
  }
 },
 "nbformat": 4,
 "nbformat_minor": 5
}
