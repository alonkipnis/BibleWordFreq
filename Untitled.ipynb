{
 "cells": [
  {
   "cell_type": "code",
   "execution_count": 2,
   "id": "2ce43711",
   "metadata": {},
   "outputs": [],
   "source": [
    "import kedro\n",
    "\n",
    "from kedro.framework import session"
   ]
  },
  {
   "cell_type": "code",
   "execution_count": 6,
   "id": "08c6106f",
   "metadata": {},
   "outputs": [
    {
     "data": {
      "text/plain": [
       "['Any',\n",
       " 'BaseSessionStore',\n",
       " 'Dict',\n",
       " 'Lock',\n",
       " 'Path',\n",
       " 'ShelveStore',\n",
       " 'UserDict',\n",
       " '__builtins__',\n",
       " '__cached__',\n",
       " '__doc__',\n",
       " '__file__',\n",
       " '__loader__',\n",
       " '__name__',\n",
       " '__package__',\n",
       " '__spec__',\n",
       " 'dbm',\n",
       " 'logging',\n",
       " 'shelve']"
      ]
     },
     "execution_count": 6,
     "metadata": {},
     "output_type": "execute_result"
    }
   ],
   "source": [
    "dir(session.store)"
   ]
  },
  {
   "cell_type": "code",
   "execution_count": 7,
   "id": "58cf1163",
   "metadata": {},
   "outputs": [
    {
     "ename": "TypeError",
     "evalue": "__init__() missing 2 required positional arguments: 'path' and 'session_id'",
     "output_type": "error",
     "traceback": [
      "\u001b[0;31m---------------------------------------------------------------------------\u001b[0m",
      "\u001b[0;31mTypeError\u001b[0m                                 Traceback (most recent call last)",
      "\u001b[0;32m<ipython-input-7-46250a56eeae>\u001b[0m in \u001b[0;36m<module>\u001b[0;34m\u001b[0m\n\u001b[0;32m----> 1\u001b[0;31m \u001b[0msession\u001b[0m\u001b[0;34m.\u001b[0m\u001b[0mstore\u001b[0m\u001b[0;34m.\u001b[0m\u001b[0mBaseSessionStore\u001b[0m\u001b[0;34m(\u001b[0m\u001b[0;34m)\u001b[0m\u001b[0;34m\u001b[0m\u001b[0;34m\u001b[0m\u001b[0m\n\u001b[0m",
      "\u001b[0;31mTypeError\u001b[0m: __init__() missing 2 required positional arguments: 'path' and 'session_id'"
     ]
    }
   ],
   "source": [
    "session.store.BaseSessionStore()"
   ]
  },
  {
   "cell_type": "code",
   "execution_count": null,
   "id": "d9ff1907",
   "metadata": {},
   "outputs": [],
   "source": []
  }
 ],
 "metadata": {
  "kernelspec": {
   "display_name": "BiblicalScripts",
   "language": "python",
   "name": "python3"
  },
  "language_info": {
   "codemirror_mode": {
    "name": "ipython",
    "version": 3
   },
   "file_extension": ".py",
   "mimetype": "text/x-python",
   "name": "python",
   "nbconvert_exporter": "python",
   "pygments_lexer": "ipython3",
   "version": "3.8.18"
  }
 },
 "nbformat": 4,
 "nbformat_minor": 5
}
